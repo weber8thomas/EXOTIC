{
 "cells": [
  {
   "cell_type": "code",
   "execution_count": 1,
   "metadata": {},
   "outputs": [],
   "source": [
    "import pandas as pd"
   ]
  },
  {
   "cell_type": "code",
   "execution_count": 49,
   "metadata": {},
   "outputs": [],
   "source": [
    "parquet_file = \"/gstock/biolo_datasets/variation/gnomAD/latest/gtex/gtex_gnomad.parquet\"\n",
    "rawdf = pd.read_parquet(parquet_file)"
   ]
  },
  {
   "cell_type": "code",
   "execution_count": 51,
   "metadata": {},
   "outputs": [
    {
     "output_type": "execute_result",
     "data": {
      "text/plain": "                     ensg chrom      pos symbol  Cells_Transformedfibroblasts  \\\n27320186  ENSG00000141510    17  7565257   TP53                       0.00000   \n27320187  ENSG00000141510    17  7565258   TP53                       0.00000   \n27320188  ENSG00000141510    17  7565259   TP53                       0.00000   \n27320189  ENSG00000141510    17  7565260   TP53                       0.00000   \n27320190  ENSG00000141510    17  7565261   TP53                       0.00000   \n...                   ...   ...      ...    ...                           ...   \n27321559  ENSG00000141510    17  7579908   TP53                       0.98272   \n27321560  ENSG00000141510    17  7579909   TP53                       0.98272   \n27321561  ENSG00000141510    17  7579910   TP53                       0.98272   \n27321562  ENSG00000141510    17  7579911   TP53                       0.98272   \n27321563  ENSG00000141510    17  7579912   TP53                       0.98272   \n\n          Prostate   Spleen  Brain_FrontalCortex_BA9_  \\\n27320186   0.00000  0.00000                   0.00000   \n27320187   0.00000  0.00000                   0.00000   \n27320188   0.00000  0.00000                   0.00000   \n27320189   0.00000  0.00000                   0.00000   \n27320190   0.00000  0.00000                   0.00000   \n...            ...      ...                       ...   \n27321559   0.98812  0.95151                   0.98312   \n27321560   0.98812  0.95151                   0.98312   \n27321561   0.98812  0.95151                   0.98312   \n27321562   0.98812  0.95151                   0.98312   \n27321563   0.98812  0.95151                   0.98312   \n\n          SmallIntestine_TerminalIleum  MinorSalivaryGland  ...  \\\n27320186                       0.00000              0.0000  ...   \n27320187                       0.00000              0.0000  ...   \n27320188                       0.00000              0.0000  ...   \n27320189                       0.00000              0.0000  ...   \n27320190                       0.00000              0.0000  ...   \n...                                ...                 ...  ...   \n27321559                       0.94236              0.9838  ...   \n27321560                       0.94236              0.9838  ...   \n27321561                       0.94236              0.9838  ...   \n27321562                       0.94236              0.9838  ...   \n27321563                       0.94236              0.9838  ...   \n\n          Brain_Anteriorcingulatecortex_BA24_  Brain_Putamen_basalganglia_  \\\n27320186                              0.00000                      0.00000   \n27320187                              0.00000                      0.00000   \n27320188                              0.00000                      0.00000   \n27320189                              0.00000                      0.00000   \n27320190                              0.00000                      0.00000   \n...                                       ...                          ...   \n27321559                              0.98113                      0.98974   \n27321560                              0.98113                      0.98974   \n27321561                              0.98113                      0.98974   \n27321562                              0.98113                      0.98974   \n27321563                              0.98113                      0.98974   \n\n          Brain_Caudate_basalganglia_  Colon_Sigmoid  Cervix_Endocervix  \\\n27320186                      0.00000        0.00000            0.00000   \n27320187                      0.00000        0.00000            0.00000   \n27320188                      0.00000        0.00000            0.00000   \n27320189                      0.00000        0.00000            0.00000   \n27320190                      0.00000        0.00000            0.00000   \n...                               ...            ...                ...   \n27321559                      0.98555        0.98968            0.99552   \n27321560                      0.98555        0.98968            0.99552   \n27321561                      0.98555        0.98968            0.99552   \n27321562                      0.98555        0.98968            0.99552   \n27321563                      0.98555        0.98968            0.99552   \n\n            Ovary  Esophagus_GastroesophagealJunction   Testis  \\\n27320186  0.00000                             0.00000  0.00000   \n27320187  0.00000                             0.00000  0.00000   \n27320188  0.00000                             0.00000  0.00000   \n27320189  0.00000                             0.00000  0.00000   \n27320190  0.00000                             0.00000  0.00000   \n...           ...                                 ...      ...   \n27321559  0.97557                             0.98807  0.98655   \n27321560  0.97557                             0.98807  0.98655   \n27321561  0.97557                             0.98807  0.98655   \n27321562  0.97557                             0.98807  0.98655   \n27321563  0.97557                             0.98807  0.98655   \n\n          Brain_Amygdala  mean_proportion  \n27320186         0.00000          0.00000  \n27320187         0.00000          0.00000  \n27320188         0.00000          0.00000  \n27320189         0.00000          0.00000  \n27320190         0.00000          0.00000  \n...                  ...              ...  \n27321559         0.98273          0.97545  \n27321560         0.98273          0.97545  \n27321561         0.98273          0.97545  \n27321562         0.98273          0.97545  \n27321563         0.98273          0.97545  \n\n[1378 rows x 58 columns]",
      "text/html": "<div>\n<style scoped>\n    .dataframe tbody tr th:only-of-type {\n        vertical-align: middle;\n    }\n\n    .dataframe tbody tr th {\n        vertical-align: top;\n    }\n\n    .dataframe thead th {\n        text-align: right;\n    }\n</style>\n<table border=\"1\" class=\"dataframe\">\n  <thead>\n    <tr style=\"text-align: right;\">\n      <th></th>\n      <th>ensg</th>\n      <th>chrom</th>\n      <th>pos</th>\n      <th>symbol</th>\n      <th>Cells_Transformedfibroblasts</th>\n      <th>Prostate</th>\n      <th>Spleen</th>\n      <th>Brain_FrontalCortex_BA9_</th>\n      <th>SmallIntestine_TerminalIleum</th>\n      <th>MinorSalivaryGland</th>\n      <th>...</th>\n      <th>Brain_Anteriorcingulatecortex_BA24_</th>\n      <th>Brain_Putamen_basalganglia_</th>\n      <th>Brain_Caudate_basalganglia_</th>\n      <th>Colon_Sigmoid</th>\n      <th>Cervix_Endocervix</th>\n      <th>Ovary</th>\n      <th>Esophagus_GastroesophagealJunction</th>\n      <th>Testis</th>\n      <th>Brain_Amygdala</th>\n      <th>mean_proportion</th>\n    </tr>\n  </thead>\n  <tbody>\n    <tr>\n      <th>27320186</th>\n      <td>ENSG00000141510</td>\n      <td>17</td>\n      <td>7565257</td>\n      <td>TP53</td>\n      <td>0.00000</td>\n      <td>0.00000</td>\n      <td>0.00000</td>\n      <td>0.00000</td>\n      <td>0.00000</td>\n      <td>0.0000</td>\n      <td>...</td>\n      <td>0.00000</td>\n      <td>0.00000</td>\n      <td>0.00000</td>\n      <td>0.00000</td>\n      <td>0.00000</td>\n      <td>0.00000</td>\n      <td>0.00000</td>\n      <td>0.00000</td>\n      <td>0.00000</td>\n      <td>0.00000</td>\n    </tr>\n    <tr>\n      <th>27320187</th>\n      <td>ENSG00000141510</td>\n      <td>17</td>\n      <td>7565258</td>\n      <td>TP53</td>\n      <td>0.00000</td>\n      <td>0.00000</td>\n      <td>0.00000</td>\n      <td>0.00000</td>\n      <td>0.00000</td>\n      <td>0.0000</td>\n      <td>...</td>\n      <td>0.00000</td>\n      <td>0.00000</td>\n      <td>0.00000</td>\n      <td>0.00000</td>\n      <td>0.00000</td>\n      <td>0.00000</td>\n      <td>0.00000</td>\n      <td>0.00000</td>\n      <td>0.00000</td>\n      <td>0.00000</td>\n    </tr>\n    <tr>\n      <th>27320188</th>\n      <td>ENSG00000141510</td>\n      <td>17</td>\n      <td>7565259</td>\n      <td>TP53</td>\n      <td>0.00000</td>\n      <td>0.00000</td>\n      <td>0.00000</td>\n      <td>0.00000</td>\n      <td>0.00000</td>\n      <td>0.0000</td>\n      <td>...</td>\n      <td>0.00000</td>\n      <td>0.00000</td>\n      <td>0.00000</td>\n      <td>0.00000</td>\n      <td>0.00000</td>\n      <td>0.00000</td>\n      <td>0.00000</td>\n      <td>0.00000</td>\n      <td>0.00000</td>\n      <td>0.00000</td>\n    </tr>\n    <tr>\n      <th>27320189</th>\n      <td>ENSG00000141510</td>\n      <td>17</td>\n      <td>7565260</td>\n      <td>TP53</td>\n      <td>0.00000</td>\n      <td>0.00000</td>\n      <td>0.00000</td>\n      <td>0.00000</td>\n      <td>0.00000</td>\n      <td>0.0000</td>\n      <td>...</td>\n      <td>0.00000</td>\n      <td>0.00000</td>\n      <td>0.00000</td>\n      <td>0.00000</td>\n      <td>0.00000</td>\n      <td>0.00000</td>\n      <td>0.00000</td>\n      <td>0.00000</td>\n      <td>0.00000</td>\n      <td>0.00000</td>\n    </tr>\n    <tr>\n      <th>27320190</th>\n      <td>ENSG00000141510</td>\n      <td>17</td>\n      <td>7565261</td>\n      <td>TP53</td>\n      <td>0.00000</td>\n      <td>0.00000</td>\n      <td>0.00000</td>\n      <td>0.00000</td>\n      <td>0.00000</td>\n      <td>0.0000</td>\n      <td>...</td>\n      <td>0.00000</td>\n      <td>0.00000</td>\n      <td>0.00000</td>\n      <td>0.00000</td>\n      <td>0.00000</td>\n      <td>0.00000</td>\n      <td>0.00000</td>\n      <td>0.00000</td>\n      <td>0.00000</td>\n      <td>0.00000</td>\n    </tr>\n    <tr>\n      <th>...</th>\n      <td>...</td>\n      <td>...</td>\n      <td>...</td>\n      <td>...</td>\n      <td>...</td>\n      <td>...</td>\n      <td>...</td>\n      <td>...</td>\n      <td>...</td>\n      <td>...</td>\n      <td>...</td>\n      <td>...</td>\n      <td>...</td>\n      <td>...</td>\n      <td>...</td>\n      <td>...</td>\n      <td>...</td>\n      <td>...</td>\n      <td>...</td>\n      <td>...</td>\n      <td>...</td>\n    </tr>\n    <tr>\n      <th>27321559</th>\n      <td>ENSG00000141510</td>\n      <td>17</td>\n      <td>7579908</td>\n      <td>TP53</td>\n      <td>0.98272</td>\n      <td>0.98812</td>\n      <td>0.95151</td>\n      <td>0.98312</td>\n      <td>0.94236</td>\n      <td>0.9838</td>\n      <td>...</td>\n      <td>0.98113</td>\n      <td>0.98974</td>\n      <td>0.98555</td>\n      <td>0.98968</td>\n      <td>0.99552</td>\n      <td>0.97557</td>\n      <td>0.98807</td>\n      <td>0.98655</td>\n      <td>0.98273</td>\n      <td>0.97545</td>\n    </tr>\n    <tr>\n      <th>27321560</th>\n      <td>ENSG00000141510</td>\n      <td>17</td>\n      <td>7579909</td>\n      <td>TP53</td>\n      <td>0.98272</td>\n      <td>0.98812</td>\n      <td>0.95151</td>\n      <td>0.98312</td>\n      <td>0.94236</td>\n      <td>0.9838</td>\n      <td>...</td>\n      <td>0.98113</td>\n      <td>0.98974</td>\n      <td>0.98555</td>\n      <td>0.98968</td>\n      <td>0.99552</td>\n      <td>0.97557</td>\n      <td>0.98807</td>\n      <td>0.98655</td>\n      <td>0.98273</td>\n      <td>0.97545</td>\n    </tr>\n    <tr>\n      <th>27321561</th>\n      <td>ENSG00000141510</td>\n      <td>17</td>\n      <td>7579910</td>\n      <td>TP53</td>\n      <td>0.98272</td>\n      <td>0.98812</td>\n      <td>0.95151</td>\n      <td>0.98312</td>\n      <td>0.94236</td>\n      <td>0.9838</td>\n      <td>...</td>\n      <td>0.98113</td>\n      <td>0.98974</td>\n      <td>0.98555</td>\n      <td>0.98968</td>\n      <td>0.99552</td>\n      <td>0.97557</td>\n      <td>0.98807</td>\n      <td>0.98655</td>\n      <td>0.98273</td>\n      <td>0.97545</td>\n    </tr>\n    <tr>\n      <th>27321562</th>\n      <td>ENSG00000141510</td>\n      <td>17</td>\n      <td>7579911</td>\n      <td>TP53</td>\n      <td>0.98272</td>\n      <td>0.98812</td>\n      <td>0.95151</td>\n      <td>0.98312</td>\n      <td>0.94236</td>\n      <td>0.9838</td>\n      <td>...</td>\n      <td>0.98113</td>\n      <td>0.98974</td>\n      <td>0.98555</td>\n      <td>0.98968</td>\n      <td>0.99552</td>\n      <td>0.97557</td>\n      <td>0.98807</td>\n      <td>0.98655</td>\n      <td>0.98273</td>\n      <td>0.97545</td>\n    </tr>\n    <tr>\n      <th>27321563</th>\n      <td>ENSG00000141510</td>\n      <td>17</td>\n      <td>7579912</td>\n      <td>TP53</td>\n      <td>0.98272</td>\n      <td>0.98812</td>\n      <td>0.95151</td>\n      <td>0.98312</td>\n      <td>0.94236</td>\n      <td>0.9838</td>\n      <td>...</td>\n      <td>0.98113</td>\n      <td>0.98974</td>\n      <td>0.98555</td>\n      <td>0.98968</td>\n      <td>0.99552</td>\n      <td>0.97557</td>\n      <td>0.98807</td>\n      <td>0.98655</td>\n      <td>0.98273</td>\n      <td>0.97545</td>\n    </tr>\n  </tbody>\n</table>\n<p>1378 rows × 58 columns</p>\n</div>"
     },
     "metadata": {},
     "execution_count": 51
    }
   ],
   "source": [
    "rawdf.loc[df['symbol'] == 'TP53']"
   ]
  },
  {
   "cell_type": "code",
   "execution_count": 47,
   "metadata": {},
   "outputs": [
    {
     "output_type": "execute_result",
     "data": {
      "text/plain": "                     ensg chrom      pos symbol mean_proportion\n27320186  ENSG00000141510    17  7565257   TP53               0\n27320301  ENSG00000141510    17  7572927   TP53         0.95611\n27320538  ENSG00000141510    17  7576625   TP53         0.01114\n27320571  ENSG00000141510    17  7576853   TP53         0.96725\n27320818  ENSG00000141510    17  7577535   TP53         0.96728\n27321114  ENSG00000141510    17  7578480   TP53         0.97545\n27321189  ENSG00000141510    17  7579312   TP53         0.97542",
      "text/html": "<div>\n<style scoped>\n    .dataframe tbody tr th:only-of-type {\n        vertical-align: middle;\n    }\n\n    .dataframe tbody tr th {\n        vertical-align: top;\n    }\n\n    .dataframe thead th {\n        text-align: right;\n    }\n</style>\n<table border=\"1\" class=\"dataframe\">\n  <thead>\n    <tr style=\"text-align: right;\">\n      <th></th>\n      <th>ensg</th>\n      <th>chrom</th>\n      <th>pos</th>\n      <th>symbol</th>\n      <th>mean_proportion</th>\n    </tr>\n  </thead>\n  <tbody>\n    <tr>\n      <th>27320186</th>\n      <td>ENSG00000141510</td>\n      <td>17</td>\n      <td>7565257</td>\n      <td>TP53</td>\n      <td>0</td>\n    </tr>\n    <tr>\n      <th>27320301</th>\n      <td>ENSG00000141510</td>\n      <td>17</td>\n      <td>7572927</td>\n      <td>TP53</td>\n      <td>0.95611</td>\n    </tr>\n    <tr>\n      <th>27320538</th>\n      <td>ENSG00000141510</td>\n      <td>17</td>\n      <td>7576625</td>\n      <td>TP53</td>\n      <td>0.01114</td>\n    </tr>\n    <tr>\n      <th>27320571</th>\n      <td>ENSG00000141510</td>\n      <td>17</td>\n      <td>7576853</td>\n      <td>TP53</td>\n      <td>0.96725</td>\n    </tr>\n    <tr>\n      <th>27320818</th>\n      <td>ENSG00000141510</td>\n      <td>17</td>\n      <td>7577535</td>\n      <td>TP53</td>\n      <td>0.96728</td>\n    </tr>\n    <tr>\n      <th>27321114</th>\n      <td>ENSG00000141510</td>\n      <td>17</td>\n      <td>7578480</td>\n      <td>TP53</td>\n      <td>0.97545</td>\n    </tr>\n    <tr>\n      <th>27321189</th>\n      <td>ENSG00000141510</td>\n      <td>17</td>\n      <td>7579312</td>\n      <td>TP53</td>\n      <td>0.97542</td>\n    </tr>\n  </tbody>\n</table>\n</div>"
     },
     "metadata": {},
     "execution_count": 47
    }
   ],
   "source": [
    "pd.concat([df.drop_duplicates(subset=list(df.columns)[4:])[list(df.columns)[:4] + [list(df.columns)[-1]]], pd.DataFrame(df.iloc[-1][list(df.columns)[:4] + [list(df.columns)[-1]]]).T])"
   ]
  },
  {
   "cell_type": "code",
   "execution_count": 55,
   "metadata": {},
   "outputs": [
    {
     "output_type": "execute_result",
     "data": {
      "text/plain": "                     ensg chrom      pos symbol  Cells_Transformedfibroblasts  \\\n27320186  ENSG00000141510    17  7565257   TP53                       0.00000   \n27320187  ENSG00000141510    17  7565258   TP53                       0.00000   \n27320188  ENSG00000141510    17  7565259   TP53                       0.00000   \n27320189  ENSG00000141510    17  7565260   TP53                       0.00000   \n27320190  ENSG00000141510    17  7565261   TP53                       0.00000   \n...                   ...   ...      ...    ...                           ...   \n27321559  ENSG00000141510    17  7579908   TP53                       0.98272   \n27321560  ENSG00000141510    17  7579909   TP53                       0.98272   \n27321561  ENSG00000141510    17  7579910   TP53                       0.98272   \n27321562  ENSG00000141510    17  7579911   TP53                       0.98272   \n27321563  ENSG00000141510    17  7579912   TP53                       0.98272   \n\n          Prostate   Spleen  Brain_FrontalCortex_BA9_  \\\n27320186   0.00000  0.00000                   0.00000   \n27320187   0.00000  0.00000                   0.00000   \n27320188   0.00000  0.00000                   0.00000   \n27320189   0.00000  0.00000                   0.00000   \n27320190   0.00000  0.00000                   0.00000   \n...            ...      ...                       ...   \n27321559   0.98812  0.95151                   0.98312   \n27321560   0.98812  0.95151                   0.98312   \n27321561   0.98812  0.95151                   0.98312   \n27321562   0.98812  0.95151                   0.98312   \n27321563   0.98812  0.95151                   0.98312   \n\n          SmallIntestine_TerminalIleum  MinorSalivaryGland  ...  \\\n27320186                       0.00000              0.0000  ...   \n27320187                       0.00000              0.0000  ...   \n27320188                       0.00000              0.0000  ...   \n27320189                       0.00000              0.0000  ...   \n27320190                       0.00000              0.0000  ...   \n...                                ...                 ...  ...   \n27321559                       0.94236              0.9838  ...   \n27321560                       0.94236              0.9838  ...   \n27321561                       0.94236              0.9838  ...   \n27321562                       0.94236              0.9838  ...   \n27321563                       0.94236              0.9838  ...   \n\n          Brain_Anteriorcingulatecortex_BA24_  Brain_Putamen_basalganglia_  \\\n27320186                              0.00000                      0.00000   \n27320187                              0.00000                      0.00000   \n27320188                              0.00000                      0.00000   \n27320189                              0.00000                      0.00000   \n27320190                              0.00000                      0.00000   \n...                                       ...                          ...   \n27321559                              0.98113                      0.98974   \n27321560                              0.98113                      0.98974   \n27321561                              0.98113                      0.98974   \n27321562                              0.98113                      0.98974   \n27321563                              0.98113                      0.98974   \n\n          Brain_Caudate_basalganglia_  Colon_Sigmoid  Cervix_Endocervix  \\\n27320186                      0.00000        0.00000            0.00000   \n27320187                      0.00000        0.00000            0.00000   \n27320188                      0.00000        0.00000            0.00000   \n27320189                      0.00000        0.00000            0.00000   \n27320190                      0.00000        0.00000            0.00000   \n...                               ...            ...                ...   \n27321559                      0.98555        0.98968            0.99552   \n27321560                      0.98555        0.98968            0.99552   \n27321561                      0.98555        0.98968            0.99552   \n27321562                      0.98555        0.98968            0.99552   \n27321563                      0.98555        0.98968            0.99552   \n\n            Ovary  Esophagus_GastroesophagealJunction   Testis  \\\n27320186  0.00000                             0.00000  0.00000   \n27320187  0.00000                             0.00000  0.00000   \n27320188  0.00000                             0.00000  0.00000   \n27320189  0.00000                             0.00000  0.00000   \n27320190  0.00000                             0.00000  0.00000   \n...           ...                                 ...      ...   \n27321559  0.97557                             0.98807  0.98655   \n27321560  0.97557                             0.98807  0.98655   \n27321561  0.97557                             0.98807  0.98655   \n27321562  0.97557                             0.98807  0.98655   \n27321563  0.97557                             0.98807  0.98655   \n\n          Brain_Amygdala  mean_proportion  \n27320186         0.00000          0.00000  \n27320187         0.00000          0.00000  \n27320188         0.00000          0.00000  \n27320189         0.00000          0.00000  \n27320190         0.00000          0.00000  \n...                  ...              ...  \n27321559         0.98273          0.97545  \n27321560         0.98273          0.97545  \n27321561         0.98273          0.97545  \n27321562         0.98273          0.97545  \n27321563         0.98273          0.97545  \n\n[1378 rows x 58 columns]",
      "text/html": "<div>\n<style scoped>\n    .dataframe tbody tr th:only-of-type {\n        vertical-align: middle;\n    }\n\n    .dataframe tbody tr th {\n        vertical-align: top;\n    }\n\n    .dataframe thead th {\n        text-align: right;\n    }\n</style>\n<table border=\"1\" class=\"dataframe\">\n  <thead>\n    <tr style=\"text-align: right;\">\n      <th></th>\n      <th>ensg</th>\n      <th>chrom</th>\n      <th>pos</th>\n      <th>symbol</th>\n      <th>Cells_Transformedfibroblasts</th>\n      <th>Prostate</th>\n      <th>Spleen</th>\n      <th>Brain_FrontalCortex_BA9_</th>\n      <th>SmallIntestine_TerminalIleum</th>\n      <th>MinorSalivaryGland</th>\n      <th>...</th>\n      <th>Brain_Anteriorcingulatecortex_BA24_</th>\n      <th>Brain_Putamen_basalganglia_</th>\n      <th>Brain_Caudate_basalganglia_</th>\n      <th>Colon_Sigmoid</th>\n      <th>Cervix_Endocervix</th>\n      <th>Ovary</th>\n      <th>Esophagus_GastroesophagealJunction</th>\n      <th>Testis</th>\n      <th>Brain_Amygdala</th>\n      <th>mean_proportion</th>\n    </tr>\n  </thead>\n  <tbody>\n    <tr>\n      <th>27320186</th>\n      <td>ENSG00000141510</td>\n      <td>17</td>\n      <td>7565257</td>\n      <td>TP53</td>\n      <td>0.00000</td>\n      <td>0.00000</td>\n      <td>0.00000</td>\n      <td>0.00000</td>\n      <td>0.00000</td>\n      <td>0.0000</td>\n      <td>...</td>\n      <td>0.00000</td>\n      <td>0.00000</td>\n      <td>0.00000</td>\n      <td>0.00000</td>\n      <td>0.00000</td>\n      <td>0.00000</td>\n      <td>0.00000</td>\n      <td>0.00000</td>\n      <td>0.00000</td>\n      <td>0.00000</td>\n    </tr>\n    <tr>\n      <th>27320187</th>\n      <td>ENSG00000141510</td>\n      <td>17</td>\n      <td>7565258</td>\n      <td>TP53</td>\n      <td>0.00000</td>\n      <td>0.00000</td>\n      <td>0.00000</td>\n      <td>0.00000</td>\n      <td>0.00000</td>\n      <td>0.0000</td>\n      <td>...</td>\n      <td>0.00000</td>\n      <td>0.00000</td>\n      <td>0.00000</td>\n      <td>0.00000</td>\n      <td>0.00000</td>\n      <td>0.00000</td>\n      <td>0.00000</td>\n      <td>0.00000</td>\n      <td>0.00000</td>\n      <td>0.00000</td>\n    </tr>\n    <tr>\n      <th>27320188</th>\n      <td>ENSG00000141510</td>\n      <td>17</td>\n      <td>7565259</td>\n      <td>TP53</td>\n      <td>0.00000</td>\n      <td>0.00000</td>\n      <td>0.00000</td>\n      <td>0.00000</td>\n      <td>0.00000</td>\n      <td>0.0000</td>\n      <td>...</td>\n      <td>0.00000</td>\n      <td>0.00000</td>\n      <td>0.00000</td>\n      <td>0.00000</td>\n      <td>0.00000</td>\n      <td>0.00000</td>\n      <td>0.00000</td>\n      <td>0.00000</td>\n      <td>0.00000</td>\n      <td>0.00000</td>\n    </tr>\n    <tr>\n      <th>27320189</th>\n      <td>ENSG00000141510</td>\n      <td>17</td>\n      <td>7565260</td>\n      <td>TP53</td>\n      <td>0.00000</td>\n      <td>0.00000</td>\n      <td>0.00000</td>\n      <td>0.00000</td>\n      <td>0.00000</td>\n      <td>0.0000</td>\n      <td>...</td>\n      <td>0.00000</td>\n      <td>0.00000</td>\n      <td>0.00000</td>\n      <td>0.00000</td>\n      <td>0.00000</td>\n      <td>0.00000</td>\n      <td>0.00000</td>\n      <td>0.00000</td>\n      <td>0.00000</td>\n      <td>0.00000</td>\n    </tr>\n    <tr>\n      <th>27320190</th>\n      <td>ENSG00000141510</td>\n      <td>17</td>\n      <td>7565261</td>\n      <td>TP53</td>\n      <td>0.00000</td>\n      <td>0.00000</td>\n      <td>0.00000</td>\n      <td>0.00000</td>\n      <td>0.00000</td>\n      <td>0.0000</td>\n      <td>...</td>\n      <td>0.00000</td>\n      <td>0.00000</td>\n      <td>0.00000</td>\n      <td>0.00000</td>\n      <td>0.00000</td>\n      <td>0.00000</td>\n      <td>0.00000</td>\n      <td>0.00000</td>\n      <td>0.00000</td>\n      <td>0.00000</td>\n    </tr>\n    <tr>\n      <th>...</th>\n      <td>...</td>\n      <td>...</td>\n      <td>...</td>\n      <td>...</td>\n      <td>...</td>\n      <td>...</td>\n      <td>...</td>\n      <td>...</td>\n      <td>...</td>\n      <td>...</td>\n      <td>...</td>\n      <td>...</td>\n      <td>...</td>\n      <td>...</td>\n      <td>...</td>\n      <td>...</td>\n      <td>...</td>\n      <td>...</td>\n      <td>...</td>\n      <td>...</td>\n      <td>...</td>\n    </tr>\n    <tr>\n      <th>27321559</th>\n      <td>ENSG00000141510</td>\n      <td>17</td>\n      <td>7579908</td>\n      <td>TP53</td>\n      <td>0.98272</td>\n      <td>0.98812</td>\n      <td>0.95151</td>\n      <td>0.98312</td>\n      <td>0.94236</td>\n      <td>0.9838</td>\n      <td>...</td>\n      <td>0.98113</td>\n      <td>0.98974</td>\n      <td>0.98555</td>\n      <td>0.98968</td>\n      <td>0.99552</td>\n      <td>0.97557</td>\n      <td>0.98807</td>\n      <td>0.98655</td>\n      <td>0.98273</td>\n      <td>0.97545</td>\n    </tr>\n    <tr>\n      <th>27321560</th>\n      <td>ENSG00000141510</td>\n      <td>17</td>\n      <td>7579909</td>\n      <td>TP53</td>\n      <td>0.98272</td>\n      <td>0.98812</td>\n      <td>0.95151</td>\n      <td>0.98312</td>\n      <td>0.94236</td>\n      <td>0.9838</td>\n      <td>...</td>\n      <td>0.98113</td>\n      <td>0.98974</td>\n      <td>0.98555</td>\n      <td>0.98968</td>\n      <td>0.99552</td>\n      <td>0.97557</td>\n      <td>0.98807</td>\n      <td>0.98655</td>\n      <td>0.98273</td>\n      <td>0.97545</td>\n    </tr>\n    <tr>\n      <th>27321561</th>\n      <td>ENSG00000141510</td>\n      <td>17</td>\n      <td>7579910</td>\n      <td>TP53</td>\n      <td>0.98272</td>\n      <td>0.98812</td>\n      <td>0.95151</td>\n      <td>0.98312</td>\n      <td>0.94236</td>\n      <td>0.9838</td>\n      <td>...</td>\n      <td>0.98113</td>\n      <td>0.98974</td>\n      <td>0.98555</td>\n      <td>0.98968</td>\n      <td>0.99552</td>\n      <td>0.97557</td>\n      <td>0.98807</td>\n      <td>0.98655</td>\n      <td>0.98273</td>\n      <td>0.97545</td>\n    </tr>\n    <tr>\n      <th>27321562</th>\n      <td>ENSG00000141510</td>\n      <td>17</td>\n      <td>7579911</td>\n      <td>TP53</td>\n      <td>0.98272</td>\n      <td>0.98812</td>\n      <td>0.95151</td>\n      <td>0.98312</td>\n      <td>0.94236</td>\n      <td>0.9838</td>\n      <td>...</td>\n      <td>0.98113</td>\n      <td>0.98974</td>\n      <td>0.98555</td>\n      <td>0.98968</td>\n      <td>0.99552</td>\n      <td>0.97557</td>\n      <td>0.98807</td>\n      <td>0.98655</td>\n      <td>0.98273</td>\n      <td>0.97545</td>\n    </tr>\n    <tr>\n      <th>27321563</th>\n      <td>ENSG00000141510</td>\n      <td>17</td>\n      <td>7579912</td>\n      <td>TP53</td>\n      <td>0.98272</td>\n      <td>0.98812</td>\n      <td>0.95151</td>\n      <td>0.98312</td>\n      <td>0.94236</td>\n      <td>0.9838</td>\n      <td>...</td>\n      <td>0.98113</td>\n      <td>0.98974</td>\n      <td>0.98555</td>\n      <td>0.98968</td>\n      <td>0.99552</td>\n      <td>0.97557</td>\n      <td>0.98807</td>\n      <td>0.98655</td>\n      <td>0.98273</td>\n      <td>0.97545</td>\n    </tr>\n  </tbody>\n</table>\n<p>1378 rows × 58 columns</p>\n</div>"
     },
     "metadata": {},
     "execution_count": 55
    }
   ],
   "source": [
    "df = rawdf.loc[rawdf['symbol'] == 'TP53']"
   ]
  },
  {
   "cell_type": "code",
   "execution_count": 80,
   "metadata": {},
   "outputs": [
    {
     "output_type": "execute_result",
     "data": {
      "text/plain": "Index(['ensg', 'chrom', 'pos', 'symbol', 'Cells_Transformedfibroblasts',\n       'Prostate', 'Spleen', 'Brain_FrontalCortex_BA9_',\n       'SmallIntestine_TerminalIleum', 'MinorSalivaryGland', 'Artery_Coronary',\n       'Skin_SunExposed_Lowerleg_', 'Cells_EBV_transformedlymphocytes',\n       'Brain_Hippocampus', 'Esophagus_Muscularis',\n       'Brain_Nucleusaccumbens_basalganglia_', 'Artery_Tibial',\n       'Brain_Hypothalamus', 'Adipose_Visceral_Omentum_', 'Cervix_Ectocervix',\n       'Brain_Spinalcord_cervicalc_1_', 'Brain_CerebellarHemisphere',\n       'Nerve_Tibial', 'Breast_MammaryTissue', 'Liver',\n       'Skin_NotSunExposed_Suprapubic_', 'AdrenalGland', 'Vagina', 'Pancreas',\n       'Lung', 'FallopianTube', 'Pituitary', 'Muscle_Skeletal',\n       'Colon_Transverse', 'Artery_Aorta', 'Heart_AtrialAppendage',\n       'Adipose_Subcutaneous', 'Esophagus_Mucosa', 'Heart_LeftVentricle',\n       'Brain_Cerebellum', 'Brain_Cortex', 'Thyroid', 'Brain_Substantianigra',\n       'Kidney_Cortex', 'Uterus', 'Stomach', 'WholeBlood', 'Bladder',\n       'Brain_Anteriorcingulatecortex_BA24_', 'Brain_Putamen_basalganglia_',\n       'Brain_Caudate_basalganglia_', 'Colon_Sigmoid', 'Cervix_Endocervix',\n       'Ovary', 'Esophagus_GastroesophagealJunction', 'Testis',\n       'Brain_Amygdala', 'mean_proportion'],\n      dtype='object')"
     },
     "metadata": {},
     "execution_count": 80
    }
   ],
   "source": [
    "df.columns"
   ]
  },
  {
   "cell_type": "code",
   "execution_count": 91,
   "metadata": {},
   "outputs": [
    {
     "output_type": "execute_result",
     "data": {
      "text/plain": "              ensg chrom symbol            Range  pext_mean_value\n0  ENSG00000141510    17   TP53  7565257-7572927          0.00000\n1  ENSG00000141510    17   TP53  7572927-7576537          0.95611\n2  ENSG00000141510    17   TP53  7576537-7576625          0.00000\n3  ENSG00000141510    17   TP53  7576625-7576853          0.01114\n4  ENSG00000141510    17   TP53  7576853-7577535          0.96725\n5  ENSG00000141510    17   TP53  7577535-7578480          0.96728\n6  ENSG00000141510    17   TP53  7578480-7578534          0.97545\n7  ENSG00000141510    17   TP53  7578534-7579312          0.96728\n8  ENSG00000141510    17   TP53  7579312-7579700          0.97542\n9  ENSG00000141510    17   TP53  7579700-7579912          0.97545",
      "text/html": "<div>\n<style scoped>\n    .dataframe tbody tr th:only-of-type {\n        vertical-align: middle;\n    }\n\n    .dataframe tbody tr th {\n        vertical-align: top;\n    }\n\n    .dataframe thead th {\n        text-align: right;\n    }\n</style>\n<table border=\"1\" class=\"dataframe\">\n  <thead>\n    <tr style=\"text-align: right;\">\n      <th></th>\n      <th>ensg</th>\n      <th>chrom</th>\n      <th>symbol</th>\n      <th>Range</th>\n      <th>pext_mean_value</th>\n    </tr>\n  </thead>\n  <tbody>\n    <tr>\n      <th>0</th>\n      <td>ENSG00000141510</td>\n      <td>17</td>\n      <td>TP53</td>\n      <td>7565257-7572927</td>\n      <td>0.00000</td>\n    </tr>\n    <tr>\n      <th>1</th>\n      <td>ENSG00000141510</td>\n      <td>17</td>\n      <td>TP53</td>\n      <td>7572927-7576537</td>\n      <td>0.95611</td>\n    </tr>\n    <tr>\n      <th>2</th>\n      <td>ENSG00000141510</td>\n      <td>17</td>\n      <td>TP53</td>\n      <td>7576537-7576625</td>\n      <td>0.00000</td>\n    </tr>\n    <tr>\n      <th>3</th>\n      <td>ENSG00000141510</td>\n      <td>17</td>\n      <td>TP53</td>\n      <td>7576625-7576853</td>\n      <td>0.01114</td>\n    </tr>\n    <tr>\n      <th>4</th>\n      <td>ENSG00000141510</td>\n      <td>17</td>\n      <td>TP53</td>\n      <td>7576853-7577535</td>\n      <td>0.96725</td>\n    </tr>\n    <tr>\n      <th>5</th>\n      <td>ENSG00000141510</td>\n      <td>17</td>\n      <td>TP53</td>\n      <td>7577535-7578480</td>\n      <td>0.96728</td>\n    </tr>\n    <tr>\n      <th>6</th>\n      <td>ENSG00000141510</td>\n      <td>17</td>\n      <td>TP53</td>\n      <td>7578480-7578534</td>\n      <td>0.97545</td>\n    </tr>\n    <tr>\n      <th>7</th>\n      <td>ENSG00000141510</td>\n      <td>17</td>\n      <td>TP53</td>\n      <td>7578534-7579312</td>\n      <td>0.96728</td>\n    </tr>\n    <tr>\n      <th>8</th>\n      <td>ENSG00000141510</td>\n      <td>17</td>\n      <td>TP53</td>\n      <td>7579312-7579700</td>\n      <td>0.97542</td>\n    </tr>\n    <tr>\n      <th>9</th>\n      <td>ENSG00000141510</td>\n      <td>17</td>\n      <td>TP53</td>\n      <td>7579700-7579912</td>\n      <td>0.97545</td>\n    </tr>\n  </tbody>\n</table>\n</div>"
     },
     "metadata": {},
     "execution_count": 91
    }
   ],
   "source": [
    "def apply_check_unique_pext(df):\n",
    "    return_list = list()\n",
    "\n",
    "    process_df = df[['ensg', 'chrom', 'symbol', 'pos', 'mean_proportion']].reset_index(drop=True)\n",
    "    for j, row in process_df.iterrows():\n",
    "        process_row = row.values.tolist()\n",
    "        if j == 0:\n",
    "            previous_pext = process_row[-1]\n",
    "            previous_position = process_row[-2]\n",
    "        elif 0 < j < process_df.shape[0]-1:\n",
    "            current_pext = process_row[-1]\n",
    "            current_position = process_row[-2]\n",
    "            if previous_pext != current_pext:\n",
    "                return_list.append(process_row[:3] + ['{}-{}'.format(str(previous_position), str(current_position)), previous_pext])\n",
    "                previous_position = current_position\n",
    "                previous_pext = current_pext\n",
    "        elif j == process_df.shape[0] - 1:\n",
    "            return_list.append(process_row[:3] + ['{}-{}'.format(str(previous_position), str(process_row[-2])), process_row[-1]])\n",
    "        \n",
    "    return return_list\n",
    "pd.DataFrame(apply_check_unique_pext(df), columns=list(df.columns)[:2] + [list(df.columns)[3], 'Range', 'pext_mean_value'])\n"
   ]
  },
  {
   "cell_type": "code",
   "execution_count": 53,
   "metadata": {},
   "outputs": [
    {
     "output_type": "execute_result",
     "data": {
      "text/plain": "[(7565257, 7572927),\n (7572927, 7576625),\n (7576625, 7576853),\n (7576853, 7577535),\n (7577535, 7578480),\n (7578480, 7579312),\n (7579312, 7579912)]"
     },
     "metadata": {},
     "execution_count": 53
    }
   ],
   "source": [
    "df = pd.concat([df.drop_duplicates(subset=list(df.columns)[4:])[list(df.columns)[:4] + [list(df.columns)[-1]]], pd.DataFrame(df.iloc[-1][list(df.columns)[:4] + [list(df.columns)[-1]]]).T])\n",
    "output_list = list()\n",
    "for j, value in enumerate(df.pos.values):\n",
    "    if j == 0:\n",
    "        elem = value\n",
    "    else:\n",
    "        output_list.append((elem, value))    \n",
    "        elem = value\n",
    "output_list"
   ]
  },
  {
   "cell_type": "code",
   "execution_count": 14,
   "metadata": {},
   "outputs": [
    {
     "output_type": "execute_result",
     "data": {
      "text/plain": "        RefSeq_ranges  RefSeq_Ratio\n2740  7572927-7573008      0.466667\n2761  7573927-7574033      0.466667\n2742  7576537-7576584      0.266667\n2778  7576625-7576657      0.266667\n2781  7576853-7576926      1.000000\n2901  7577019-7577155      1.000000\n2501  7577499-7577608      1.000000\n2478  7578177-7578289      1.000000\n2424  7578371-7578452      1.000000\n2442  7578452-7578533      0.800000\n2662  7578533-7578554      0.600000\n2583  7579312-7579569      0.600000\n2621  7579569-7579590      0.266667\n2647  7579700-7579721      0.266667\n2581  7579839-7579912      0.266667",
      "text/html": "<div>\n<style scoped>\n    .dataframe tbody tr th:only-of-type {\n        vertical-align: middle;\n    }\n\n    .dataframe tbody tr th {\n        vertical-align: top;\n    }\n\n    .dataframe thead th {\n        text-align: right;\n    }\n</style>\n<table border=\"1\" class=\"dataframe\">\n  <thead>\n    <tr style=\"text-align: right;\">\n      <th></th>\n      <th>RefSeq_ranges</th>\n      <th>RefSeq_Ratio</th>\n    </tr>\n  </thead>\n  <tbody>\n    <tr>\n      <th>2740</th>\n      <td>7572927-7573008</td>\n      <td>0.466667</td>\n    </tr>\n    <tr>\n      <th>2761</th>\n      <td>7573927-7574033</td>\n      <td>0.466667</td>\n    </tr>\n    <tr>\n      <th>2742</th>\n      <td>7576537-7576584</td>\n      <td>0.266667</td>\n    </tr>\n    <tr>\n      <th>2778</th>\n      <td>7576625-7576657</td>\n      <td>0.266667</td>\n    </tr>\n    <tr>\n      <th>2781</th>\n      <td>7576853-7576926</td>\n      <td>1.000000</td>\n    </tr>\n    <tr>\n      <th>2901</th>\n      <td>7577019-7577155</td>\n      <td>1.000000</td>\n    </tr>\n    <tr>\n      <th>2501</th>\n      <td>7577499-7577608</td>\n      <td>1.000000</td>\n    </tr>\n    <tr>\n      <th>2478</th>\n      <td>7578177-7578289</td>\n      <td>1.000000</td>\n    </tr>\n    <tr>\n      <th>2424</th>\n      <td>7578371-7578452</td>\n      <td>1.000000</td>\n    </tr>\n    <tr>\n      <th>2442</th>\n      <td>7578452-7578533</td>\n      <td>0.800000</td>\n    </tr>\n    <tr>\n      <th>2662</th>\n      <td>7578533-7578554</td>\n      <td>0.600000</td>\n    </tr>\n    <tr>\n      <th>2583</th>\n      <td>7579312-7579569</td>\n      <td>0.600000</td>\n    </tr>\n    <tr>\n      <th>2621</th>\n      <td>7579569-7579590</td>\n      <td>0.266667</td>\n    </tr>\n    <tr>\n      <th>2647</th>\n      <td>7579700-7579721</td>\n      <td>0.266667</td>\n    </tr>\n    <tr>\n      <th>2581</th>\n      <td>7579839-7579912</td>\n      <td>0.266667</td>\n    </tr>\n  </tbody>\n</table>\n</div>"
     },
     "metadata": {},
     "execution_count": 14
    }
   ],
   "source": [
    "tp53 = pd.read_csv(\"/home/weber/PycharmProjects/ExoCarto-Augusta/RefSeq_X_VCF_TP53-BRCA1.csv.gz\", compression='gzip', sep='\\t')\n",
    "tp53.loc[tp53['CCRS_Gene'] == 'TP53', ['RefSeq_ranges', 'RefSeq_Ratio']].drop_duplicates().sort_values(by='RefSeq_ranges')"
   ]
  }
 ],
 "metadata": {
  "language_info": {
   "codemirror_mode": {
    "name": "ipython",
    "version": 3
   },
   "file_extension": ".py",
   "mimetype": "text/x-python",
   "name": "python",
   "nbconvert_exporter": "python",
   "pygments_lexer": "ipython3",
   "version": "3.7.6-final"
  },
  "orig_nbformat": 2,
  "kernelspec": {
   "name": "python37664bitexocartoconda47cfe11889aa4008ba405d9d7b40c893",
   "display_name": "Python 3.7.6 64-bit ('ExoCarto': conda)"
  }
 },
 "nbformat": 4,
 "nbformat_minor": 2
}