{
 "cells": [
  {
   "cell_type": "code",
   "execution_count": null,
   "metadata": {},
   "outputs": [],
   "source": [
    "import pandas as pd\n",
    "from tqdm.notebook import tqdm\n",
    "import multiprocessing\n",
    "import parmap\n",
    "import numpy as np"
   ]
  },
  {
   "cell_type": "code",
   "execution_count": null,
   "metadata": {},
   "outputs": [],
   "source": [
    "biomart_ensembl = pd.read_csv('/home/weber/PycharmProjects/ExoCarto/data/0_external/BIOMART_HGNC_ENSEMBL.txt.gz', sep='\\t', compression='gzip')\n",
    "biomart_ensembl = biomart_ensembl.dropna(subset=['HGNC ID'])\n",
    "biomart_ensembl['HGNC ID'] = biomart_ensembl['HGNC ID'].astype(str)\n",
    "biomart_ensembl['HGNC ID'] = biomart_ensembl['HGNC ID'].str.replace('HGNC:', '')\n",
    "biomart_ensembl"
   ]
  },
  {
   "cell_type": "code",
   "execution_count": null,
   "metadata": {},
   "outputs": [],
   "source": [
    "ptex_file = \"/gstock/biolo_datasets/variation/gnomAD/latest/gtex/gtex_gnomad.parquet\"\n",
    "rawdf_ptex = pd.read_parquet(ptex_file)\n",
    "rawdf_ptex = pd.merge(rawdf_ptex, biomart_ensembl, right_on='HGNC symbol', left_on='symbol')\n",
    "rawdf_ptex = rawdf_ptex[['HGNC ID', 'symbol', 'ensg', 'chrom', 'pos'] + list(rawdf_ptex.columns)[4:-3]]\n",
    "rawdf_ptex['HGNC ID'] = rawdf_ptex['HGNC ID'].astype(int)\n",
    "rawdf_ptex"
   ]
  },
  {
   "cell_type": "code",
   "execution_count": null,
   "metadata": {},
   "outputs": [],
   "source": [
    "original_pext = pd.read_csv('/gstock/biolo_datasets/variation/gnomAD/latest/gtex/all.baselevel.021620.tsv.bgz', compression='gzip', sep='\\t', low_memory=False)\n",
    "pext_modified = original_pext.dropna(subset=[list(original_pext.columns)[-1]])\n",
    "pext_modified[['chrom', 'pos']] = pext_modified['locus'].str.split(':', expand=True)\n",
    "pext_modified = pd.merge(pext_modified, biomart_ensembl, right_on='HGNC symbol', left_on='symbol', how='left')\n",
    "pext_modified = pext_modified[['HGNC ID', 'symbol', 'ensg', 'chrom', 'pos'] + list(pext_modified.columns)[4:-3]]\n",
    "# original_pext['HGNC ID'] = original_pext['HGNC ID'].astype(int)\n",
    "pext_modified\n",
    "pext_modified.loc[:,~pext_modified.columns.duplicated()].to_parquet('/gstock/biolo_datasets/variation/gnomAD/latest/gtex/gtex_gnomad_corrected.parquet')"
   ]
  },
  {
   "cell_type": "code",
   "execution_count": null,
   "metadata": {},
   "outputs": [],
   "source": [
    "pext_modified = pd.read_parquet('/gstock/biolo_datasets/variation/gnomAD/latest/gtex/gtex_gnomad_corrected.parquet')\n",
    "pext_modified"
   ]
  },
  {
   "cell_type": "code",
   "execution_count": null,
   "metadata": {},
   "outputs": [],
   "source": [
    "pext_modified.columns"
   ]
  },
  {
   "cell_type": "code",
   "execution_count": null,
   "metadata": {},
   "outputs": [],
   "source": [
    "pext_modified = pext_modified.dropna(subset=['HGNC ID'])\n",
    "pext_modified['HGNC ID'] = pext_modified['HGNC ID'].astype(int)\n",
    "pext_modified['pos'] = pext_modified['pos'].astype(int)\n"
   ]
  },
  {
   "cell_type": "code",
   "execution_count": null,
   "metadata": {},
   "outputs": [],
   "source": [
    "refseq = pd.read_csv('/home/weber/PycharmProjects/ExoCarto/data/2_processed/DF_transformed.csv.gz', compression='gzip', sep='\\t').dropna(subset=['HGNC']).sort_values(by=['HGNC', 'Chrom', 'Start'], ascending=True)\n",
    "refseq['HGNC'] = refseq['HGNC'].astype(int)\n",
    "refseq"
   ]
  },
  {
   "cell_type": "code",
   "execution_count": null,
   "metadata": {},
   "outputs": [],
   "source": [
    "multi_mrna_genes = refseq.loc[refseq['mRNA_nb'] > 1, 'HGNC'].unique()\n",
    "multi_mrna_genes"
   ]
  },
  {
   "cell_type": "code",
   "execution_count": null,
   "metadata": {},
   "outputs": [],
   "source": [
    "\n",
    "\n",
    "\n",
    "def map_refseq_pext(gene, l):\n",
    "    tmp_l = list()\n",
    "    refseq_gene = refseq.loc[refseq['HGNC'] == gene].reset_index(drop=True)\n",
    "    pext_gene = pext_modified.loc[pext_modified['HGNC ID'] == gene].reset_index(drop=True)\n",
    "    for r in refseq_gene[['Start', 'End']].values:\n",
    "        start = r[0]\n",
    "        end = r[1]\n",
    "        pext_exon_values = pext_gene.loc[pext_gene['pos'].between(start, end)].groupby(['HGNC ID', 'symbol', 'ensg']).median().drop(['pos'], axis=1)\n",
    "        pext_exon_values['Exon'] = str(start) + '-' + str(end)\n",
    "        tmp_l.append(pext_exon_values)\n",
    "    if tmp_l:\n",
    "        concat_df_gene = pd.concat(tmp_l).reset_index()\n",
    "        concat_df_gene = concat_df_gene[list(concat_df_gene.columns[:3]) + ['Exon'] + sorted(list(concat_df_gene.columns[3:-2])) + ['mean_proportion']]\n",
    "        l.append(concat_df_gene)\n",
    "    \n",
    "    \n",
    "m = multiprocessing.Manager()\n",
    "l = m.list()\n",
    "parmap.starmap(map_refseq_pext, list(zip(sorted(refseq.HGNC.unique()))), l, pm_pbar=True, pm_processes=20)\n",
    "    \n",
    "output_df = pd.concat(list(l))\n",
    "output_df.to_parquet('/home/weber/PycharmProjects/ExoCarto/data/clean/2_expression/RefSeq_PEXT.parquet', index=False)\n",
    "output_df\n",
    "\n",
    "\n",
    "\n",
    "    # transposed = test.T\n",
    "    # percentile_df = list()\n",
    "    # for col in transposed:\n",
    "    #     percentile_df.append(transposed[col].rank(pct=True))\n",
    "    # pd.concat(percentile_df, axis=1).sort_index().T\n",
    "\n",
    "\n"
   ]
  },
  {
   "cell_type": "code",
   "execution_count": null,
   "metadata": {},
   "outputs": [],
   "source": []
  }
 ],
 "metadata": {
  "kernelspec": {
   "display_name": "Python 3.7.6 64-bit ('ExoCarto': conda)",
   "language": "python",
   "name": "python37664bitexocartoconda47cfe11889aa4008ba405d9d7b40c893"
  },
  "language_info": {
   "codemirror_mode": {
    "name": "ipython",
    "version": 3
   },
   "file_extension": ".py",
   "mimetype": "text/x-python",
   "name": "python",
   "nbconvert_exporter": "python",
   "pygments_lexer": "ipython3",
   "version": "3.7.6"
  }
 },
 "nbformat": 4,
 "nbformat_minor": 4
}
