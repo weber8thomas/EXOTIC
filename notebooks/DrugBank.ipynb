{
 "cells": [
  {
   "cell_type": "code",
   "execution_count": 2,
   "metadata": {},
   "outputs": [],
   "source": [
    "from lxml import etree\n"
   ]
  },
  {
   "cell_type": "code",
   "execution_count": 4,
   "metadata": {},
   "outputs": [
    {
     "name": "stdout",
     "output_type": "stream",
     "text": [
      "ERROR! Session/line number was not unique in database. History logging moved to new session 1402\n"
     ]
    }
   ],
   "source": [
    "xml_path = \"/gstock/biolo_datasets/DrugBank/full database.xml\"\n",
    "\n",
    "tree = etree.parse(xml_path)\n"
   ]
  },
  {
   "cell_type": "code",
   "execution_count": 12,
   "metadata": {},
   "outputs": [
    {
     "data": {
      "text/plain": [
       "[]"
      ]
     },
     "execution_count": 12,
     "metadata": {},
     "output_type": "execute_result"
    }
   ],
   "source": [
    "tree.findall('/drugbank')"
   ]
  },
  {
   "cell_type": "code",
   "execution_count": 21,
   "metadata": {},
   "outputs": [],
   "source": [
    "import xmltodict, json\n",
    "with open(xml_path) as fd:\n",
    "    doc = xmltodict.parse(fd.read())\n",
    "    "
   ]
  },
  {
   "cell_type": "code",
   "execution_count": 25,
   "metadata": {},
   "outputs": [
    {
     "data": {
      "text/plain": [
       "['drugbank']"
      ]
     },
     "execution_count": 25,
     "metadata": {},
     "output_type": "execute_result"
    }
   ],
   "source": [
    "list(doc.keys())"
   ]
  },
  {
   "cell_type": "code",
   "execution_count": 51,
   "metadata": {},
   "outputs": [
    {
     "data": {
      "text/plain": [
       "'Lepirudin'"
      ]
     },
     "execution_count": 51,
     "metadata": {},
     "output_type": "execute_result"
    }
   ],
   "source": [
    "doc['drugbank']['drug'][0]['name']"
   ]
  },
  {
   "cell_type": "code",
   "execution_count": 36,
   "metadata": {},
   "outputs": [
    {
     "data": {
      "text/plain": [
       "odict_keys(['@type', '@created', '@updated', 'drugbank-id', 'name', 'description', 'cas-number', 'unii', 'state', 'groups', 'general-references', 'synthesis-reference', 'indication', 'pharmacodynamics', 'mechanism-of-action', 'toxicity', 'metabolism', 'absorption', 'half-life', 'protein-binding', 'route-of-elimination', 'volume-of-distribution', 'clearance', 'classification', 'salts', 'synonyms', 'products', 'international-brands', 'mixtures', 'packagers', 'manufacturers', 'prices', 'categories', 'affected-organisms', 'dosages', 'atc-codes', 'ahfs-codes', 'pdb-entries', 'fda-label', 'msds', 'patents', 'food-interactions', 'drug-interactions', 'sequences', 'experimental-properties', 'external-identifiers', 'external-links', 'pathways', 'reactions', 'snp-effects', 'snp-adverse-drug-reactions', 'targets', 'enzymes', 'carriers', 'transporters'])"
      ]
     },
     "execution_count": 36,
     "metadata": {},
     "output_type": "execute_result"
    }
   ],
   "source": [
    "doc['drugbank']['drug'][0].keys()"
   ]
  },
  {
   "cell_type": "code",
   "execution_count": 50,
   "metadata": {},
   "outputs": [
    {
     "name": "stdout",
     "output_type": "stream",
     "text": [
      "[OrderedDict([('resource', 'UniProtKB'), ('identifier', 'P01050')])]\n"
     ]
    }
   ],
   "source": [
    "print([elem for elem in doc['drugbank']['drug'][0]['external-identifiers']['external-identifier'] if elem['resource'] == 'UniProtKB'])"
   ]
  },
  {
   "cell_type": "code",
   "execution_count": 95,
   "metadata": {},
   "outputs": [],
   "source": [
    "import pandas as pd\n",
    "l = list()\n",
    "for i in range(len(doc['drugbank']['drug'])):\n",
    "    uniprot_id = \"\"\n",
    "    drugname = doc['drugbank']['drug'][i]['name']\n",
    "#     print(doc['drugbank']['drug'][i]['external-identifiers'])\n",
    "    if 'external-identifiers' in doc['drugbank']['drug'][i]:\n",
    "        if doc['drugbank']['drug'][i]['external-identifiers']:\n",
    "#             print(type(doc['drugbank']['drug'][i]['external-identifiers']['external-identifier']), len(doc['drugbank']['drug'][i]['external-identifiers']['external-identifier']))\n",
    "#         try:\n",
    "            if type(doc['drugbank']['drug'][i]['external-identifiers']['external-identifier']).__name__ != 'OrderedDict':\n",
    "#                 print(doc['drugbank']['drug'][i]['external-identifiers']['external-identifier'])\n",
    "                uniprot_list = [elem for elem in doc['drugbank']['drug'][i]['external-identifiers']['external-identifier'] if elem['resource'] == 'UniProtKB']\n",
    "                if uniprot_list:\n",
    "#                     print(uniprot_list)\n",
    "                    uniprot_id = uniprot_list[0]['identifier']\n",
    "    else:\n",
    "        uniprot_id = \"\"\n",
    "\n",
    "\n",
    "    l.append({'Drug': drugname, 'Uniprot' :  uniprot_id})\n",
    "drug_df = pd.DataFrame(l)"
   ]
  },
  {
   "cell_type": "code",
   "execution_count": 96,
   "metadata": {},
   "outputs": [
    {
     "data": {
      "text/html": [
       "<div>\n",
       "<style scoped>\n",
       "    .dataframe tbody tr th:only-of-type {\n",
       "        vertical-align: middle;\n",
       "    }\n",
       "\n",
       "    .dataframe tbody tr th {\n",
       "        vertical-align: top;\n",
       "    }\n",
       "\n",
       "    .dataframe thead th {\n",
       "        text-align: right;\n",
       "    }\n",
       "</style>\n",
       "<table border=\"1\" class=\"dataframe\">\n",
       "  <thead>\n",
       "    <tr style=\"text-align: right;\">\n",
       "      <th></th>\n",
       "      <th>Drug</th>\n",
       "      <th>Uniprot</th>\n",
       "    </tr>\n",
       "  </thead>\n",
       "  <tbody>\n",
       "    <tr>\n",
       "      <th>0</th>\n",
       "      <td>Lepirudin</td>\n",
       "      <td>P01050</td>\n",
       "    </tr>\n",
       "    <tr>\n",
       "      <th>1</th>\n",
       "      <td>Cetuximab</td>\n",
       "      <td></td>\n",
       "    </tr>\n",
       "    <tr>\n",
       "      <th>2</th>\n",
       "      <td>Dornase alfa</td>\n",
       "      <td>P24855</td>\n",
       "    </tr>\n",
       "    <tr>\n",
       "      <th>3</th>\n",
       "      <td>Denileukin diftitox</td>\n",
       "      <td>P00587</td>\n",
       "    </tr>\n",
       "    <tr>\n",
       "      <th>4</th>\n",
       "      <td>Etanercept</td>\n",
       "      <td>P20333</td>\n",
       "    </tr>\n",
       "    <tr>\n",
       "      <th>...</th>\n",
       "      <td>...</td>\n",
       "      <td>...</td>\n",
       "    </tr>\n",
       "    <tr>\n",
       "      <th>14310</th>\n",
       "      <td>Vibostolimab</td>\n",
       "      <td></td>\n",
       "    </tr>\n",
       "    <tr>\n",
       "      <th>14311</th>\n",
       "      <td>Volagidemab</td>\n",
       "      <td></td>\n",
       "    </tr>\n",
       "    <tr>\n",
       "      <th>14312</th>\n",
       "      <td>Quavonlimab</td>\n",
       "      <td></td>\n",
       "    </tr>\n",
       "    <tr>\n",
       "      <th>14313</th>\n",
       "      <td>AK119</td>\n",
       "      <td></td>\n",
       "    </tr>\n",
       "    <tr>\n",
       "      <th>14314</th>\n",
       "      <td>Allocetra</td>\n",
       "      <td></td>\n",
       "    </tr>\n",
       "  </tbody>\n",
       "</table>\n",
       "<p>14315 rows × 2 columns</p>\n",
       "</div>"
      ],
      "text/plain": [
       "                      Drug Uniprot\n",
       "0                Lepirudin  P01050\n",
       "1                Cetuximab        \n",
       "2             Dornase alfa  P24855\n",
       "3      Denileukin diftitox  P00587\n",
       "4               Etanercept  P20333\n",
       "...                    ...     ...\n",
       "14310         Vibostolimab        \n",
       "14311          Volagidemab        \n",
       "14312          Quavonlimab        \n",
       "14313                AK119        \n",
       "14314            Allocetra        \n",
       "\n",
       "[14315 rows x 2 columns]"
      ]
     },
     "execution_count": 96,
     "metadata": {},
     "output_type": "execute_result"
    }
   ],
   "source": [
    "drug_df"
   ]
  },
  {
   "cell_type": "code",
   "execution_count": 98,
   "metadata": {},
   "outputs": [
    {
     "data": {
      "text/html": [
       "<div>\n",
       "<style scoped>\n",
       "    .dataframe tbody tr th:only-of-type {\n",
       "        vertical-align: middle;\n",
       "    }\n",
       "\n",
       "    .dataframe tbody tr th {\n",
       "        vertical-align: top;\n",
       "    }\n",
       "\n",
       "    .dataframe thead th {\n",
       "        text-align: right;\n",
       "    }\n",
       "</style>\n",
       "<table border=\"1\" class=\"dataframe\">\n",
       "  <thead>\n",
       "    <tr style=\"text-align: right;\">\n",
       "      <th></th>\n",
       "      <th>Drug</th>\n",
       "      <th>Uniprot</th>\n",
       "    </tr>\n",
       "  </thead>\n",
       "  <tbody>\n",
       "    <tr>\n",
       "      <th>0</th>\n",
       "      <td>Lepirudin</td>\n",
       "      <td>P01050</td>\n",
       "    </tr>\n",
       "    <tr>\n",
       "      <th>2</th>\n",
       "      <td>Dornase alfa</td>\n",
       "      <td>P24855</td>\n",
       "    </tr>\n",
       "    <tr>\n",
       "      <th>3</th>\n",
       "      <td>Denileukin diftitox</td>\n",
       "      <td>P00587</td>\n",
       "    </tr>\n",
       "    <tr>\n",
       "      <th>4</th>\n",
       "      <td>Etanercept</td>\n",
       "      <td>P20333</td>\n",
       "    </tr>\n",
       "    <tr>\n",
       "      <th>7</th>\n",
       "      <td>Peginterferon alfa-2a</td>\n",
       "      <td>P01563</td>\n",
       "    </tr>\n",
       "    <tr>\n",
       "      <th>...</th>\n",
       "      <td>...</td>\n",
       "      <td>...</td>\n",
       "    </tr>\n",
       "    <tr>\n",
       "      <th>8057</th>\n",
       "      <td>Elosulfase alfa</td>\n",
       "      <td>P34059</td>\n",
       "    </tr>\n",
       "    <tr>\n",
       "      <th>8228</th>\n",
       "      <td>Conestat alfa</td>\n",
       "      <td>P05155</td>\n",
       "    </tr>\n",
       "    <tr>\n",
       "      <th>9584</th>\n",
       "      <td>Sebelipase alfa</td>\n",
       "      <td>P38571</td>\n",
       "    </tr>\n",
       "    <tr>\n",
       "      <th>9656</th>\n",
       "      <td>Dibotermin alfa</td>\n",
       "      <td>P12643</td>\n",
       "    </tr>\n",
       "    <tr>\n",
       "      <th>13492</th>\n",
       "      <td>Atrial natriuretic peptide</td>\n",
       "      <td>P01160</td>\n",
       "    </tr>\n",
       "  </tbody>\n",
       "</table>\n",
       "<p>92 rows × 2 columns</p>\n",
       "</div>"
      ],
      "text/plain": [
       "                             Drug Uniprot\n",
       "0                       Lepirudin  P01050\n",
       "2                    Dornase alfa  P24855\n",
       "3             Denileukin diftitox  P00587\n",
       "4                      Etanercept  P20333\n",
       "7           Peginterferon alfa-2a  P01563\n",
       "...                           ...     ...\n",
       "8057              Elosulfase alfa  P34059\n",
       "8228                Conestat alfa  P05155\n",
       "9584              Sebelipase alfa  P38571\n",
       "9656              Dibotermin alfa  P12643\n",
       "13492  Atrial natriuretic peptide  P01160\n",
       "\n",
       "[92 rows x 2 columns]"
      ]
     },
     "execution_count": 98,
     "metadata": {},
     "output_type": "execute_result"
    }
   ],
   "source": [
    "drug_df.loc[drug_df['Uniprot'] != '']"
   ]
  }
 ],
 "metadata": {
  "kernelspec": {
   "display_name": "Python 3.7.6 64-bit ('ExoCarto': conda)",
   "language": "python",
   "name": "python37664bitexocartoconda47cfe11889aa4008ba405d9d7b40c893"
  },
  "language_info": {
   "codemirror_mode": {
    "name": "ipython",
    "version": 3
   },
   "file_extension": ".py",
   "mimetype": "text/x-python",
   "name": "python",
   "nbconvert_exporter": "python",
   "pygments_lexer": "ipython3",
   "version": "3.7.6"
  }
 },
 "nbformat": 4,
 "nbformat_minor": 4
}
