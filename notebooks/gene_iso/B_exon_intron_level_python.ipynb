{
 "cells": [
  {
   "cell_type": "markdown",
   "id": "jewish-kansas",
   "metadata": {},
   "source": [
    "# Imports"
   ]
  },
  {
   "cell_type": "code",
   "execution_count": 1,
   "id": "particular-heather",
   "metadata": {},
   "outputs": [
    {
     "name": "stderr",
     "output_type": "stream",
     "text": [
      "/home/weber/.conda/envs/ExoCarto/lib/python3.7/site-packages/tqdm/std.py:668: FutureWarning: The Panel class is removed from pandas. Accessing it from the top-level namespace will also be removed in the next version\n",
      "  from pandas import Panel\n"
     ]
    },
    {
     "name": "stdout",
     "output_type": "stream",
     "text": [
      "INFO: Pandarallel will run on 60 workers.\n",
      "INFO: Pandarallel will use Memory file system to transfer data between the main process and workers.\n"
     ]
    },
    {
     "name": "stderr",
     "output_type": "stream",
     "text": [
      "/home/weber/.conda/envs/ExoCarto/lib/python3.7/site-packages/ipykernel_launcher.py:52: MatplotlibDeprecationWarning: \n",
      "The createFontList function was deprecated in Matplotlib 3.2 and will be removed two minor releases later. Use FontManager.addfont instead.\n"
     ]
    }
   ],
   "source": [
    "# General imports\n",
    "import os\n",
    "import sys\n",
    "import pandas as pd\n",
    "\n",
    "pd.options.mode.chained_assignment = None  # default='warn'\n",
    "import numpy as np\n",
    "import subprocess\n",
    "\n",
    "from sklearn.cluster import KMeans\n",
    "\n",
    "from tqdm import tqdm\n",
    "# Other imports\n",
    "tqdm.pandas()\n",
    "\n",
    "import json\n",
    "\n",
    "from pprint import pprint\n",
    "\n",
    "# Custom utils\n",
    "sys.path.append(\"/home/weber/PycharmProjects/EXOTIC/src\")\n",
    "from utils.utils import load_config_file\n",
    "\n",
    "# Figures imports\n",
    "import matplotlib\n",
    "\n",
    "from matplotlib.lines import Line2D   \n",
    "import matplotlib.patches as mpatches\n",
    "\n",
    "import random \n",
    "\n",
    "import seaborn as sns\n",
    "import matplotlib.pyplot as plt\n",
    "import matplotlib.ticker as mtick\n",
    "from statannot import add_stat_annotation\n",
    "import matplotlib.font_manager as font_manager\n",
    "import string\n",
    "\n",
    "from pandarallel import pandarallel\n",
    "\n",
    "pandarallel.initialize(nb_workers=60, progress_bar=True)\n",
    "\n",
    "## YAML FILES CONFIG\n",
    "yaml = load_config_file(config_file=\"/home/weber/PycharmProjects/EXOTIC/clean/src/config_clean_clean.yaml\")\n",
    "\n",
    "dicts = json.load(open(\"/home/weber/PycharmProjects/EXOTIC/src/EXOTIC_config.json\"))\n",
    "\n",
    "\n",
    "# Font settings\n",
    "font_dirs = ['/home/weber/Fonts', ]\n",
    "font_files = font_manager.findSystemFonts(fontpaths=font_dirs)\n",
    "font_list = font_manager.createFontList(font_files)\n",
    "font_manager.fontManager.ttflist.extend(font_list)\n",
    "\n",
    "from matplotlib import rcParams\n",
    "rcParams['font.family'] = 'sans-serif'\n",
    "rcParams['font.sans-serif'] = ['Arial']\n",
    "rcParams['font.weight'] = 'light'\n",
    "rcParams['axes.facecolor'] = 'white'\n"
   ]
  },
  {
   "cell_type": "code",
   "execution_count": null,
   "id": "amended-making",
   "metadata": {},
   "outputs": [],
   "source": [
    "# plt.style.use('default')\n",
    "def show_values_on_bars(axs, i=0, fontsize=13, rotation=0, padding=1):\n",
    "    def _show_on_single_plot(ax):\n",
    "        for p in ax.patches:\n",
    "            print(p)\n",
    "            _x = p.get_x() + p.get_width() / 2\n",
    "            _y = p.get_y() + (p.get_height()) + padding\n",
    "            if i == 0:\n",
    "                value = \"{:,}\".format(int(p.get_height()))\n",
    "            if i == 2:\n",
    "                value = \"{:.2f}\".format(p.get_height())\n",
    "\n",
    "            if i == 3:\n",
    "                value = \"{:.3f}\".format(p.get_height())\n",
    "            ax.text(_x, _y, value, ha=\"center\", fontsize=fontsize, rotation=rotation, color='black')\n",
    "\n",
    "    if isinstance(axs, np.ndarray):\n",
    "        for idx, ax in np.ndenumerate(axs):\n",
    "            _show_on_single_plot(ax)\n",
    "    else:\n",
    "        _show_on_single_plot(axs)\n",
    "\n",
    "f, ax = plt.subplots(nrows=2, figsize=(18,10))\n",
    "\n",
    "sns.barplot(data=t.loc[t['CDS_count'] <= 30].groupby('CDS_count')['Intron_length_max'].mean().reset_index(), x='CDS_count', y='Intron_length_max', palette=['grey'], ax=ax[0])\n",
    "ax[0].plot([0, 8], [9,21], color='red', lw=2, marker='o')\n",
    "ax[0].plot([9,13], [22,22], color='red', lw=2, marker='o')\n",
    "ax[0].plot([14, 20], [27,27], color='red', lw=2, marker='o')\n",
    "ax[0].plot([21, 28], [35,35], color='red', lw=2, marker='o')\n",
    "\n",
    "ax[0].spines['right'].set_linewidth(0)\n",
    "ax[0].spines['top'].set_linewidth(0)\n",
    "ax[0].set_ylabel('Longest intron mean length (kbp)')\n",
    "ax[0].set_xlabel('')\n",
    "ax[0].set_xlim(-0.5,28.5)\n",
    "ax[0].set_axisbelow(True)\n",
    "ax[0].grid(axis='y')\n",
    "ax[0].set_title('Global')\n",
    "\n",
    "print(ax[0].get_xticks())\n",
    "show_values_on_bars(ax[0], fontsize=11)\n",
    "\n",
    "\n",
    "sns.barplot(data=t.loc[t['CDS_count'] <= 30].groupby(['Miso_siso', 'CDS_count'])['Intron_length_max'].mean().reset_index(), x='CDS_count', y='Intron_length_max', hue='Miso_siso', palette=palette, ax=ax[1])\n",
    "ax[1].spines['right'].set_linewidth(0)\n",
    "ax[1].spines['top'].set_linewidth(0)\n",
    "ax[1].set_ylabel('Longest intron mean length (kbp)')\n",
    "ax[1].set_xlabel('Number of exons in the gene')\n",
    "ax[1].set_axisbelow(True)\n",
    "ax[1].grid(axis='y')\n",
    "ax[1].legend(title='')\n",
    "ax[1].set_title('Miso & Siso')\n",
    "\n",
    "show_values_on_bars(ax[1], fontsize=11)\n",
    "\n",
    "\n",
    "\n",
    "i = 0\n",
    "for n, sub_a in enumerate(ax):\n",
    "    sub_a.text(-0.1, 1.05, string.ascii_uppercase[i], transform=sub_a.transAxes, size=35, weight='bold')\n",
    "    i += 1 \n",
    "plt.tight_layout()"
   ]
  },
  {
   "cell_type": "code",
   "execution_count": null,
   "id": "lovely-stage",
   "metadata": {},
   "outputs": [],
   "source": []
  }
 ],
 "metadata": {
  "kernelspec": {
   "display_name": "Python 3.7.6 64-bit ('ExoCarto': conda)",
   "language": "python",
   "name": "python37664bitexocartoconda47cfe11889aa4008ba405d9d7b40c893"
  },
  "language_info": {
   "codemirror_mode": {
    "name": "ipython",
    "version": 3
   },
   "file_extension": ".py",
   "mimetype": "text/x-python",
   "name": "python",
   "nbconvert_exporter": "python",
   "pygments_lexer": "ipython3",
   "version": "3.7.6"
  }
 },
 "nbformat": 4,
 "nbformat_minor": 5
}
