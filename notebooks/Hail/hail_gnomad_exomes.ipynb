{
 "cells": [
  {
   "cell_type": "code",
   "execution_count": null,
   "metadata": {},
   "outputs": [],
   "source": [
    "import hail as hl\n",
    "# !module load java/java-1.8\n",
    "gs = \"/gstock/biolo_datasets/variation/gnomAD/r2.1.1/vcf/exomes/gnomad.exomes.r2.1.1.sites.ht/\"\n",
    "data = hl.read_table(gs)\n",
    "data"
   ]
  },
  {
   "cell_type": "code",
   "execution_count": null,
   "metadata": {},
   "outputs": [],
   "source": [
    "bed_file = hl.import_bed('/gstock/EXOTIC/data/GENOMICS/BED_test.bed', reference_genome='GRCh38')\n",
    "bed_file.show()"
   ]
  },
  {
   "cell_type": "code",
   "execution_count": null,
   "metadata": {},
   "outputs": [],
   "source": [
    "bed_file = hl.import_table('/gstock/EXOTIC/data/GENOMICS/BED_test_h.bed')\n",
    "bed_file.show()\n"
   ]
  },
  {
   "cell_type": "code",
   "execution_count": null,
   "metadata": {},
   "outputs": [],
   "source": [
    "test = ['chr1:50799409-chr1:50885666']\n",
    "\n",
    "intervals = bed_file.annotate(interval_copy = bed_file.interval)\n",
    "intervals.show()\n",
    "\n",
    "intervals_raw = [hl.parse_locus_interval('{}'.format(e), reference_genome='GRCh38') for e in test] # or some other way to make a list of\n",
    "data_lite = hl.filter_intervals(data, intervals_raw)\n",
    "\n",
    "data_lite = data_lite.filter((data_lite.popmax.AC > 0))\n",
    "data_lite = data_lite.select(data_lite.popmax.AC, data_lite.popmax.AF, data_lite.vep, data_lite.cadd)\n",
    "\n",
    "print(data_lite.count())\n",
    "\n",
    "data_lite = data_lite.annotate(\n",
    "    interval = intervals[data_lite.locus].interval_copy,\n",
    "    gene = intervals[data_lite.locus].target,\n",
    ")\n",
    "data_lite.tail(1000).show()\n"
   ]
  },
  {
   "cell_type": "code",
   "execution_count": null,
   "metadata": {},
   "outputs": [],
   "source": [
    "data_lite = data_lite.filter((data_lite > 0))\n"
   ]
  },
  {
   "cell_type": "code",
   "execution_count": null,
   "metadata": {},
   "outputs": [],
   "source": [
    "import pandas as pd\n",
    "df = pd.read_parquet('/gstock/EXOTIC/data/VARIATIONS/clinvar_20210123_lite_table.parquet')\n",
    "df = df.loc[(df['Status'] == 'Benign') & (df['MC'].str.contains('synonymous'))]\n",
    "df = df.head(100)\n",
    "df['locus'] = 'chr' + df['CHROM'] + ':' + df.POS.astype(str)\n",
    "df['alleles'] = df.apply(lambda r: [r['REF'],eval(r['ALT'])[0]], axis=1)\n",
    "df\n"
   ]
  },
  {
   "cell_type": "code",
   "execution_count": null,
   "metadata": {},
   "outputs": [],
   "source": [
    "merge_biomart_refseq_38 = hl.import_table(\"/gstock/EXOTIC/data/GENOMICS/merge_biomart_refseq_38.csv\", impute=True, delimiter='\\t')\n",
    "merge_biomart_refseq_38.show()"
   ]
  },
  {
   "cell_type": "code",
   "execution_count": null,
   "metadata": {},
   "outputs": [],
   "source": [
    "data_lite = data_lite.annotate(biomart = merge_biomart_refseq_38[data_lite.].)\n"
   ]
  },
  {
   "cell_type": "code",
   "execution_count": null,
   "metadata": {},
   "outputs": [],
   "source": [
    "import pandas as pd\n",
    "# bed = pd.DataFrame([['chr1', 'chr11'], [10031,66510646],[10032,66510647]]).T\n",
    "bed = pd.DataFrame([['chr1'], [10031],[10031]]).T\n",
    "# bed = pd.DataFrame([['chr11'], [66510646],[66510647]]).T\n",
    "bed.to_csv('test2.bed', sep='\\t', header=False, index=False)\n",
    "interval_table = hl.import_bed('test2.bed', reference_genome='GRCh38')\n",
    "interval_table"
   ]
  },
  {
   "cell_type": "code",
   "execution_count": null,
   "metadata": {},
   "outputs": [],
   "source": []
  },
  {
   "cell_type": "code",
   "execution_count": null,
   "metadata": {},
   "outputs": [],
   "source": [
    "gnomad.utils.filtering.filter_to_autosomes(test)"
   ]
  },
  {
   "cell_type": "code",
   "execution_count": null,
   "metadata": {},
   "outputs": [],
   "source": [
    "test.show()"
   ]
  },
  {
   "cell_type": "code",
   "execution_count": null,
   "metadata": {},
   "outputs": [],
   "source": [
    "data_lite.filter(data_lite.popmax.AF > 1e-2).popmax.show()"
   ]
  },
  {
   "cell_type": "code",
   "execution_count": null,
   "metadata": {},
   "outputs": [],
   "source": [
    "\n",
    "ds_result.show()"
   ]
  },
  {
   "cell_type": "code",
   "execution_count": null,
   "metadata": {},
   "outputs": [],
   "source": [
    "interval = hl.parse_locus_interval('chr11:66510646-66510647', reference_genome='GRCh38')\n",
    "data_lite = data.filter(interval.contains(data.locus))\n",
    "data_lite.show()"
   ]
  },
  {
   "cell_type": "code",
   "execution_count": null,
   "metadata": {},
   "outputs": [],
   "source": [
    "filtered_mt = data_lite.filter(hl.is_defined(interval_table[data_lite.locus]))\n",
    "filtered_mt.show()"
   ]
  },
  {
   "cell_type": "code",
   "execution_count": null,
   "metadata": {},
   "outputs": [],
   "source": [
    "filtered_mt.filter(filtered_mt.popmax.AF > 2.5e-5).to_pandas()"
   ]
  }
 ],
 "metadata": {
  "kernelspec": {
   "display_name": "py36",
   "language": "python",
   "name": "py36"
  },
  "language_info": {
   "codemirror_mode": {
    "name": "ipython",
    "version": 3
   },
   "file_extension": ".py",
   "mimetype": "text/x-python",
   "name": "python",
   "nbconvert_exporter": "python",
   "pygments_lexer": "ipython3",
   "version": "3.7.6"
  }
 },
 "nbformat": 4,
 "nbformat_minor": 4
}
