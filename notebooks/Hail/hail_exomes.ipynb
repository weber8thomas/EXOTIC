{
 "cells": [
  {
   "cell_type": "markdown",
   "metadata": {},
   "source": [
    "# Before starting"
   ]
  },
  {
   "cell_type": "code",
   "execution_count": null,
   "metadata": {},
   "outputs": [],
   "source": [
    "import hail as hl\n",
    "import pandas as pd\n",
    "import numpy as np"
   ]
  },
  {
   "cell_type": "markdown",
   "metadata": {},
   "source": [
    "# Hail & gnomAD exomes v2.1"
   ]
  },
  {
   "cell_type": "markdown",
   "metadata": {},
   "source": [
    "## Option 1 : parser les synonymes dans une liste d'intervalles"
   ]
  },
  {
   "cell_type": "code",
   "execution_count": null,
   "metadata": {},
   "outputs": [],
   "source": [
    "gs = \"/gstock/biolo_datasets/variation/gnomAD/r2.1.1/vcf/exomes/gnomad.exomes.r2.1.1.sites.ht/\"\n",
    "data = hl.read_table(gs)\n",
    "\n",
    "test = ['X:149826276-X:149826529']\n",
    "\n",
    "intervals_raw = [hl.parse_locus_interval('{}'.format(e), reference_genome='GRCh37') for e in test] # or some other way to make a list of\n",
    "data_lite = hl.filter_intervals(data, intervals_raw)\n",
    "\n",
    "data_lite = data.filter((data.vep.most_severe_consequence == 'synonymous_variant'))\n",
    "\n",
    "data_lite.head(20).show()"
   ]
  },
  {
   "cell_type": "markdown",
   "metadata": {},
   "source": [
    "## Option 2 : parser les synonymes dans tout l'exome"
   ]
  },
  {
   "cell_type": "code",
   "execution_count": null,
   "metadata": {},
   "outputs": [],
   "source": [
    "gs = \"/gstock/biolo_datasets/variation/gnomAD/r2.1.1/vcf/exomes/gnomad.exomes.r2.1.1.sites.ht/\"\n",
    "data = hl.read_table(gs)\n",
    "\n",
    "data_lite = data.filter((data.vep.most_severe_consequence == 'synonymous_variant'))\n",
    "\n",
    "data_lite.head(20).show()"
   ]
  },
  {
   "cell_type": "code",
   "execution_count": null,
   "metadata": {},
   "outputs": [],
   "source": []
  },
  {
   "cell_type": "markdown",
   "metadata": {},
   "source": [
    "# Pandas ClinVar"
   ]
  },
  {
   "cell_type": "markdown",
   "metadata": {},
   "source": [
    "## Exemple avec ClinVar 01/21 en filtrant sur les synonymous Benign & Likely benign"
   ]
  },
  {
   "cell_type": "code",
   "execution_count": null,
   "metadata": {},
   "outputs": [],
   "source": [
    "df = pd.read_parquet('/gstock/EXOTIC/data/VARIATIONS/clinvar_20210123_lite_table.parquet')\n",
    "df = df.loc[(df['Status'] == 'Benign') & (df['MC'].str.contains('synonymous'))]\n",
    "df = df[['CHROM', 'POS', 'REF', 'ALT', 'Real_Status']]\n",
    "df"
   ]
  },
  {
   "cell_type": "markdown",
   "metadata": {},
   "source": [
    "# Convert pandas to hail, add key/index"
   ]
  },
  {
   "cell_type": "code",
   "execution_count": null,
   "metadata": {},
   "outputs": [],
   "source": [
    "t = hl.Table.from_pandas(df) \n",
    "t = t.key_by(\n",
    "    locus=hl.locus(t.CHROM, hl.int32(t.POS), reference_genome='GRCh37')) \n",
    "#     alleles=[t.REF, t.ALT])\n",
    "t.head(10).show()"
   ]
  },
  {
   "cell_type": "markdown",
   "metadata": {},
   "source": [
    "# Annotate & show"
   ]
  },
  {
   "cell_type": "code",
   "execution_count": null,
   "metadata": {},
   "outputs": [],
   "source": [
    "data_lite_annotated = data_lite.annotate(clinvar = t[data_lite.locus].Real_Status)\n",
    "data_lite_annotated.head(20).show()"
   ]
  },
  {
   "cell_type": "markdown",
   "metadata": {},
   "source": [
    "## Filtrer ceux qui ont forcément une conséquence Benign dans ClinVar"
   ]
  },
  {
   "cell_type": "code",
   "execution_count": null,
   "metadata": {},
   "outputs": [],
   "source": [
    "data_lite_annotated = data_lite_annotated.filter((data_lite_annotated.clinvar != 'NA'))\n",
    "data_lite_annotated.head(10).show()"
   ]
  }
 ],
 "metadata": {
  "kernelspec": {
   "display_name": "Python 3",
   "language": "python",
   "name": "python3"
  },
  "language_info": {
   "codemirror_mode": {
    "name": "ipython",
    "version": 3
   },
   "file_extension": ".py",
   "mimetype": "text/x-python",
   "name": "python",
   "nbconvert_exporter": "python",
   "pygments_lexer": "ipython3",
   "version": "3.7.6"
  }
 },
 "nbformat": 4,
 "nbformat_minor": 4
}
