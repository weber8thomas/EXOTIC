{
 "cells": [
  {
   "cell_type": "code",
   "execution_count": 134,
   "metadata": {},
   "outputs": [],
   "source": [
    "import math\n",
    "from scipy.stats import zscore, kstest, ttest_ind,median_abs_deviation\n",
    "import pandas as pd\n",
    "import numpy as np"
   ]
  },
  {
   "cell_type": "code",
   "execution_count": 149,
   "metadata": {},
   "outputs": [
    {
     "name": "stdout",
     "output_type": "stream",
     "text": [
      "[-0.00737852  0.01320367  0.03378586 -0.02796071 -0.0485429   0.03378586\n",
      " -0.00737852  0.01320367  0.03378586 -0.02796071 -0.0485429   0.03378586\n",
      " -0.00737852  0.01320367  0.03378586 -0.02796071 -0.0485429   0.03378586\n",
      " -0.00737852  0.01320367  0.03378586 -0.02796071 -0.0485429   0.03378586\n",
      " -0.00737852  0.01320367  0.03378586 -0.02796071 -0.0485429   0.03378586\n",
      " -0.00737852  0.01320367  0.03378586 -0.02796071 -0.0485429   0.03378586\n",
      " -0.00737852  0.01320367  0.03378586 -0.02796071 -0.0485429   0.03378586\n",
      " -0.00737852  0.01320367  0.03378586 -0.02796071 -0.0485429   0.03378586\n",
      " -0.00737852  0.01320367  0.03378586  5.13816912 -5.15292617]\n",
      "\n",
      "\n",
      "[-0.0, 0.0, 0.0, -0.0, -0.0, 0.0, -0.0, 0.0, 0.0, -0.0, -0.0, 0.0, -0.0, 0.0, 0.0, -0.0, -0.0, 0.0, -0.0, 0.0, 0.0, -0.0, -0.0, 0.0, -0.0, 0.0, 0.0, -0.0, -0.0, 0.0, -0.0, 0.0, 0.0, -0.0, -0.0, 0.0, -0.0, 0.0, 0.0, -0.0, -0.0, 0.0, -0.0, 0.0, 0.0, -0.0, -0.0, 0.0, -0.0, 0.0, 0.0, 1.282, -1.293]\n",
      "\n",
      "\n",
      "[0.5, 0.5, 0.5, 0.5, 0.5, 0.5, 0.5, 0.5, 0.5, 0.5, 0.5, 0.5, 0.5, 0.5, 0.5, 0.5, 0.5, 0.5, 0.5, 0.5, 0.5, 0.5, 0.5, 0.5, 0.5, 0.5, 0.5, 0.5, 0.5, 0.5, 0.5, 0.5, 0.5, 0.5, 0.5, 0.5, 0.5, 0.5, 0.5, 0.5, 0.5, 0.5, 0.5, 0.5, 0.5, 0.5, 0.5, 0.5, 0.5, 0.5, 0.5, 0.7827900283491315, 0.21534546256312365]\n",
      "\n",
      "\n",
      "[0.5021359223300971, 0.5021359223300971, 0.5021359223300971, 0.5021359223300971, 0.5021359223300971, 0.5021359223300971, 0.5021359223300971, 0.5021359223300971, 0.5021359223300971, 0.5021359223300971, 0.5021359223300971, 0.5021359223300971, 0.5021359223300971, 0.5021359223300971, 0.5021359223300971, 0.5021359223300971, 0.5021359223300971, 0.5021359223300971, 0.5021359223300971, 0.5021359223300971, 0.5021359223300971, 0.5021359223300971, 0.5021359223300971, 0.5021359223300971, 0.5021359223300971, 0.5021359223300971, 0.5021359223300971, 0.5021359223300971, 0.5021359223300971, 0.5021359223300971, 0.5021359223300971, 0.5021359223300971, 0.5021359223300971, 0.5021359223300971, 0.5021359223300971, 0.5021359223300971, 0.5021359223300971, 0.5021359223300971, 0.5021359223300971, 0.5021359223300971, 0.5021359223300971, 0.5021359223300971, 0.5021359223300971, 0.5021359223300971, 0.5021359223300971, 0.5021359223300971, 0.5021359223300971, 0.5021359223300971, 0.5021359223300971, 0.5021359223300971, 0.5021359223300971, 1.0, 0.0]\n"
     ]
    }
   ],
   "source": [
    "import math\n",
    "\n",
    "def sigmoid(x):\n",
    "  return 1 / (1 + math.exp(-x))\n",
    "\n",
    "def norm(x):\n",
    "    min_x = min(x)\n",
    "    max_x = max(x)\n",
    "    return [(e - min_x)/(max_x - min_x) for e in x]\n",
    "\n",
    "def std(x):\n",
    "    mean = np.mean(x)\n",
    "    std = np.std(x)\n",
    "    return [(e - std)/(mean) for e in x]\n",
    "\n",
    "def thomas(x):\n",
    "    return [round(e_z * np.abs(e_x - np.median([e for i,e in enumerate(x) if i != j])), 3) for (j, e_x), e_z in zip(enumerate(x), zscore(x))]\n",
    "    \n",
    "\n",
    "def thomas2(x):\n",
    "    return [round((0.6745 * (e - np.median(x)))/median_abs_deviation(x), 3) for e in x]\n",
    "\n",
    "def pct(x):\n",
    "    return pd.Series(x).rank(pct=True).values.tolist()\n",
    "\n",
    "def ks(x):\n",
    "    return kstest(x, 'norm', N=len(x))\n",
    "\n",
    "    \n",
    "c = [0.5,0.501,0.502,0.499,0.498,0.502, 0.5,0.501,0.502,0.499,0.498,0.502, 0.5,0.501,0.502,0.499,0.498,0.502,0.5,0.501,0.502,0.499,0.498,0.502, 0.5,0.501,0.502,0.499,0.498,0.502,0.5,0.501,0.502,0.499,0.498,0.502, 0.5,0.501,0.502,0.499,0.498,0.502, 0.5,0.501,0.502,0.499,0.498,0.502,0.5,0.501,0.502] + [0.75, 0.25]\n",
    "# c = [0.2]*50 + [0.5]\n",
    "\n",
    "for test in [c]:\n",
    "    print(zscore(test))\n",
    "    print('\\n')\n",
    "    print(thomas(test))\n",
    "    print('\\n')\n",
    "    print(list(map(sigmoid, thomas(test))))\n",
    "    print('\\n')\n",
    "    print(list(norm(thomas(test))))\n",
    "\n",
    "\n",
    "#     print('\\n')\n",
    "#     print(thomas2(test))  \n",
    "#     print('\\n')\n",
    "#     print(list(map(sigmoid, thomas2(test))))\n",
    "#     print(pct(test))\n",
    "#     print(ks(test))\n",
    "#     print(len(test))\n",
    "#     print(test)\n",
    "#     print(np.mean(test))\n",
    "#     print(np.std(test))\n",
    "#     print(list(map(sigmoid, zscore(test))))\n",
    "# #     print(luc(zscore(test)))\n",
    "#     print('\\n')\n"
   ]
  },
  {
   "cell_type": "code",
   "execution_count": 152,
   "metadata": {},
   "outputs": [
    {
     "data": {
      "text/plain": [
       "(0.0, 1.0)"
      ]
     },
     "execution_count": 152,
     "metadata": {},
     "output_type": "execute_result"
    },
    {
     "data": {
      "image/png": "[encoded data removed]",
      "text/plain": [
       "<Figure size 432x288 with 1 Axes>"
      ]
     },
     "metadata": {
      "needs_background": "light"
     },
     "output_type": "display_data"
    }
   ],
   "source": [
    "import matplotlib.pyplot as plt\n",
    "plt.scatter(x=[1,2,3], y=[0.1,0.5,0.1])\n",
    "plt.scatter(x=[1,2,3], y=[0.15,0.48,0.12])\n",
    "plt.ylim(0,1)"
   ]
  }
 ],
 "metadata": {
  "kernelspec": {
   "display_name": "Python 3.7.6 64-bit ('ExoCarto': conda)",
   "language": "python",
   "name": "python37664bitexocartoconda47cfe11889aa4008ba405d9d7b40c893"
  },
  "language_info": {
   "codemirror_mode": {
    "name": "ipython",
    "version": 3
   },
   "file_extension": ".py",
   "mimetype": "text/x-python",
   "name": "python",
   "nbconvert_exporter": "python",
   "pygments_lexer": "ipython3",
   "version": "3.7.6"
  }
 },
 "nbformat": 4,
 "nbformat_minor": 4
}
