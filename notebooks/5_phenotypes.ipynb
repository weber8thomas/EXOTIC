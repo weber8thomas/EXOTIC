{
 "cells": [
  {
   "cell_type": "code",
   "execution_count": null,
   "id": "subtle-integral",
   "metadata": {},
   "outputs": [],
   "source": [
    "# General imports\n",
    "import os\n",
    "import sys\n",
    "import pandas as pd\n",
    "\n",
    "pd.options.mode.chained_assignment = None  # default='warn'\n",
    "import numpy as np\n",
    "import subprocess\n",
    "\n",
    "# Other imports\n",
    "import multiprocessing\n",
    "import parmap\n",
    "import collections\n",
    "from tqdm import tqdm\n",
    "\n",
    "tqdm.pandas()\n",
    "\n",
    "import json\n",
    "from pandarallel import pandarallel\n",
    "\n",
    "pandarallel.initialize(nb_workers=60, progress_bar=True)\n",
    "from pprint import pprint\n",
    "\n",
    "# Custom utils\n",
    "sys.path.append(\"/home/weber/PycharmProjects/EXOTIC/src\")\n",
    "from utils.utils import load_config_file\n",
    "\n",
    "# Figures imports\n",
    "import matplotlib\n",
    "\n",
    "import seaborn as sns\n",
    "import matplotlib.pyplot as plt\n",
    "import matplotlib.ticker as mtick\n",
    "from statannot import add_stat_annotation\n",
    "import matplotlib.font_manager as font_manager\n",
    "\n",
    "# Font settings\n",
    "font_dirs = ['/home/weber/Fonts', ]\n",
    "font_files = font_manager.findSystemFonts(fontpaths=font_dirs)\n",
    "font_list = font_manager.createFontList(font_files)\n",
    "font_manager.fontManager.ttflist.extend(font_list)\n",
    "\n",
    "from matplotlib import rcParams\n",
    "rcParams['font.family'] = 'sans-serif'\n",
    "rcParams['font.sans-serif'] = ['Arial']\n",
    "rcParams['font.weight'] = 'light'\n",
    "\n",
    "## YAML FILES CONFIG\n",
    "files = load_config_file(config_file=\"/home/weber/PycharmProjects/EXOTIC/src/config_clean.yaml\")\n",
    "\n",
    "dicts = json.load(open(\"/home/weber/PycharmProjects/EXOTIC/src/EXOTIC_config.json\"))\n"
   ]
  },
  {
   "cell_type": "markdown",
   "id": "monetary-blend",
   "metadata": {},
   "source": [
    "# Phenotypes"
   ]
  },
  {
   "cell_type": "markdown",
   "id": "fabulous-paradise",
   "metadata": {},
   "source": [
    "## OMIM raw file"
   ]
  },
  {
   "cell_type": "code",
   "execution_count": null,
   "id": "scheduled-phase",
   "metadata": {},
   "outputs": [],
   "source": [
    "omim_raw = pd.read_csv('/gstock/EXOTIC/data/PHENOTYPES/mim2gene.txt', sep='\\t', skiprows=4)\n",
    "omim_raw.columns = ['MIM', 'Type', 'Gene_ID', 'HGNC_symbol', 'ENSG']\n",
    "omim_raw = omim_raw.loc[omim_raw['Type'] == 'gene']\n",
    "omim_raw = omim_raw.drop_duplicates().sort_values(by='HGNC_symbol')\n",
    "omim_raw = omim_raw.dropna(subset=['HGNC_symbol'])\n",
    "omim_raw"
   ]
  },
  {
   "cell_type": "code",
   "execution_count": null,
   "id": "different-voltage",
   "metadata": {},
   "outputs": [],
   "source": [
    "omim_pheno = pd.read_csv('/gstock/EXOTIC/data/PHENOTYPES/genemap2.txt', sep='\\t', skiprows=3)\n",
    "\n",
    "omim_pheno.columns = ['CHR', 'Start', 'End', 'Cyto', 'Computed_cyto', 'MIM', 'Gene_symbol', 'Gene_descr', 'Approved_symbol', 'Gene_ID', 'ENSG', 'Comments', 'Phenotype', 'Mouse_gene_ID']\n",
    "omim_pheno = omim_pheno.loc[(omim_pheno['MIM'].isna() == False) & (omim_pheno['Phenotype'].isna() == False)]\n",
    "omim_pheno['Phenotype'] = omim_pheno['Phenotype'].astype(str)\n",
    "\n",
    "omim_pheno = omim_pheno.loc[(omim_pheno['ENSG'].isna() == False)]\n",
    "omim_pheno['MIM'] = omim_pheno['MIM'].astype(int)\n",
    "# omim_pheno['Gene_symbol'] = omim_pheno['Gene_symbol'].apply(lambda r: r.split(',')[0])\n",
    "# omim_pheno = omim_pheno.loc[omim_pheno['Phenotype'].str.contains('\\[')]\n",
    "# omim_raw = omim_raw.loc[omim_raw['Type'] == 'gene']\n",
    "# omim_raw = omim_raw.drop_duplicates().sort_values(by='HGNC_symbol')\n",
    "# omim_raw = omim_raw.dropna(subset=['HGNC_symbol'])\n",
    "omim_pheno"
   ]
  },
  {
   "cell_type": "code",
   "execution_count": null,
   "id": "heavy-wheel",
   "metadata": {},
   "outputs": [],
   "source": [
    "omim_pheno.ENSG.nunique()"
   ]
  },
  {
   "cell_type": "markdown",
   "id": "previous-graham",
   "metadata": {},
   "source": [
    "## Processed phenotypes through API"
   ]
  },
  {
   "cell_type": "code",
   "execution_count": null,
   "id": "soviet-mexican",
   "metadata": {},
   "outputs": [],
   "source": [
    "from Phenotypes import omim_associations_exotic\n",
    "omim = omim_associations_exotic.load_omim(files[\"EXOTIC\"][\"omim_detailed\"], files[\"BIOMART\"][\"biomart_omim\"])\n",
    "# omim.head()\n",
    "omim"
   ]
  },
  {
   "cell_type": "code",
   "execution_count": null,
   "id": "received-occupation",
   "metadata": {},
   "outputs": [],
   "source": [
    "omim"
   ]
  },
  {
   "cell_type": "code",
   "execution_count": null,
   "id": "norman-melbourne",
   "metadata": {},
   "outputs": [],
   "source": [
    "omim.OMIM.nunique()"
   ]
  },
  {
   "cell_type": "markdown",
   "id": "apart-salon",
   "metadata": {},
   "source": [
    "## OMIM entries with multiple phenotypes & at least one rare"
   ]
  },
  {
   "cell_type": "code",
   "execution_count": null,
   "id": "abroad-henry",
   "metadata": {},
   "outputs": [],
   "source": [
    "def load_omim(omim_path, biomart_omim_path):\n",
    "    omim = pd.read_csv(\n",
    "        omim_path,\n",
    "        compression=\"gzip\",\n",
    "        sep=\"\\t\",\n",
    "    )\n",
    "#     return omim\n",
    "\n",
    "    print(\"Total : \", omim.OMIM.nunique())\n",
    "    omim = omim.dropna(subset=list(omim.columns[6:-2]), how=\"all\")\n",
    "    print(\"Dropna on all cols : \", omim.OMIM.nunique())\n",
    "\n",
    "    biomart_omim = pd.read_csv(biomart_omim_path, sep=\"\\t\", compression=\"gzip\").dropna(subset=[\"MIM gene accession\"])\n",
    "    biomart_omim[\"MIM gene accession\"] = biomart_omim[\"MIM gene accession\"].astype(int)\n",
    "    biomart_omim = biomart_omim.rename({\"MIM gene accession\": \"OMIM\", \"Gene stable ID\": \"ensg\", \"Gene name\": \"Name\"}, axis=1)\n",
    "\n",
    "    ## ADD Gene TO OMIM\n",
    "    omim = pd.merge(biomart_omim[[\"ensg\", \"Name\", \"OMIM\"]], omim, on=\"OMIM\")\n",
    "    print(\"Merge BIOMART : \", omim.OMIM.nunique())\n",
    "\n",
    "\n",
    "    # MELT\n",
    "    omim = omim.melt(id_vars=list(omim.columns)[:7], value_vars=list(omim.columns)[7:], var_name=\"OMIM_BP\", value_name=\"OMIM_BP_phenotypes\").dropna()\n",
    "\n",
    "    return omim\n",
    "omim = load_omim(files[\"EXOTIC\"][\"omim_detailed\"], files[\"BIOMART\"][\"biomart_omim\"])\n",
    "omim"
   ]
  },
  {
   "cell_type": "code",
   "execution_count": null,
   "id": "relevant-watershed",
   "metadata": {},
   "outputs": [],
   "source": [
    "l = list()\n",
    "for gene in tqdm(omim.Name.unique()):\n",
    "\n",
    "    gene_omim = omim.loc[omim['Name'] == gene]\n",
    "    if gene_omim.Pheno_OMIM.nunique() > 1:\n",
    "#         print(gene, gene_omim.shape[0])\n",
    "        gene_omim_bp = gene_omim[['Name', 'Pheno_OMIM', 'OMIM_BP']].groupby(['Name', 'Pheno_OMIM'])['OMIM_BP'].apply(set).reset_index()\n",
    "        counter_pheno = collections.Counter([sub_e for e in gene_omim_bp['OMIM_BP'].values.tolist() for sub_e in e])\n",
    "        counter_pheno_rare = [k for k,v in counter_pheno.items() if v == 1]\n",
    "        l.append(gene_omim.loc[gene_omim['OMIM_BP'].isin(counter_pheno_rare)])\n",
    "        \n",
    "#         for pheno_rare in counter_pheno_rare:\n",
    "#             print(gene_omim.loc[gene_omim['OMIM_BP'] == pheno_rare, ['Pheno_OMIM', 'Pheno_prefered_title', 'OMIM_BP', 'OMIM_BP_phenotypes']].values.tolist())\n",
    "omim_multi_pheno_filterred = pd.concat(l)\n",
    "omim_multi_pheno_filterred"
   ]
  },
  {
   "cell_type": "code",
   "execution_count": null,
   "id": "norman-blues",
   "metadata": {},
   "outputs": [],
   "source": [
    "omim_multi_pheno_filterred.loc[(omim_multi_pheno_filterred['Name'] == 'NF1') & (omim_multi_pheno_filterred['OMIM_BP'] == 'genitourinaryInternalGenitaliaMale'), 'OMIM_BP_phenotypes'].values.tolist()[0]"
   ]
  },
  {
   "cell_type": "code",
   "execution_count": null,
   "id": "guilty-optimum",
   "metadata": {},
   "outputs": [],
   "source": [
    "omim_multi_pheno_filterred.loc[(omim_multi_pheno_filterred['Name'] == 'NF1'), 'OMIM_BP_phenotypes'].values.tolist()[4]"
   ]
  },
  {
   "cell_type": "code",
   "execution_count": null,
   "id": "cooperative-english",
   "metadata": {},
   "outputs": [],
   "source": [
    "omim_multi_pheno_filterred.Name.nunique()"
   ]
  },
  {
   "cell_type": "code",
   "execution_count": null,
   "id": "preceding-digit",
   "metadata": {},
   "outputs": [],
   "source": [
    "for col in ['ensg', 'Name', 'OMIM']:\n",
    "    print(col, omim[col].nunique())"
   ]
  },
  {
   "cell_type": "markdown",
   "id": "enhanced-filename",
   "metadata": {},
   "source": [
    "## EXOTIC imports"
   ]
  },
  {
   "cell_type": "code",
   "execution_count": null,
   "id": "purple-uzbekistan",
   "metadata": {},
   "outputs": [],
   "source": [
    "exotic = pd.read_parquet(files[\"EXOTIC\"][\"exotic_modified_zscore\"])\n",
    "exotic[['Exon_start', 'Exon_stop']] = exotic['Exon'].str.split('-', expand=True)\n",
    "# exotic_up = omim_associations_exotic.load_exotic(files[\"EXOTIC\"][\"exotic_modified_zscore\"], 'up', cutoff=0.5)\n",
    "# exotic_down = omim_associations_exotic.load_exotic(files[\"EXOTIC\"][\"exotic_modified_zscore\"], 'down', cutoff=0.5)"
   ]
  },
  {
   "cell_type": "code",
   "execution_count": null,
   "id": "comparative-record",
   "metadata": {},
   "outputs": [],
   "source": [
    "from matplotlib_venn import venn2\n",
    "import matplotlib.pyplot as plt\n",
    "plt.figure(figsize=(12,12))\n",
    "plt.rcParams.update({\"font.size\" : 17})\n",
    "venn2([set(exotic.symbol.unique().tolist()), set(omim_pheno.Approved_symbol.unique().tolist())], set_labels=['EXOTIC genes', 'OMIM genes with phenotypes'], set_colors=['purple', 'skyblue'], alpha=0.5)\n"
   ]
  },
  {
   "cell_type": "code",
   "execution_count": null,
   "id": "described-playlist",
   "metadata": {},
   "outputs": [],
   "source": [
    "omim"
   ]
  },
  {
   "cell_type": "code",
   "execution_count": null,
   "id": "broken-edward",
   "metadata": {},
   "outputs": [],
   "source": [
    "def compare_to_omim_basic_exon_level(exotic, min_max, omim, omim_detailed=True):\n",
    "    print(min_max)\n",
    "    print(exotic.symbol.nunique())\n",
    "    print(exotic.MAP.nunique())\n",
    "\n",
    "    mapping_omim_gtex = dicts[\"mapping_omim_gtex_detailed\"]\n",
    "\n",
    "    omim = omim.where(pd.notnull(omim), None)\n",
    "\n",
    "    omim = omim.loc[~omim.duplicated(keep=\"last\", subset=[\"OMIM\", \"Pheno_OMIM\", \"Pheno_prefered_title\"])]\n",
    "\n",
    "#     print(omim)\n",
    "\n",
    "#     print(exotic)\n",
    "\n",
    "    merge = pd.merge(omim, exotic, on=\"ensg\")\n",
    "    merge[\"EXOTIC_tissue_BP\"] = merge[\"EXOTIC_tissues_above_cutoff_{}\".format(min_max)].map(mapping_omim_gtex)\n",
    "    merge = merge.explode(\"EXOTIC_tissue_BP\")\n",
    "    merge = merge[\n",
    "        [\n",
    "            \"ensg\",\n",
    "            \"symbol\",\n",
    "            \"MAP\",\n",
    "            \"OMIM\",\n",
    "            \"OMIM_BP\",\n",
    "            \"OMIM_BP_phenotypes\",\n",
    "            \"EXOTIC_tissues_above_cutoff_{}\".format(min_max),\n",
    "            \"EXOTIC_{}\".format(min_max),\n",
    "            \"EXOTIC_bins_{}\".format(min_max),\n",
    "            \"EXOTIC_tissue_BP\",\n",
    "        ]\n",
    "    ]\n",
    "\n",
    "#     print(merge)\n",
    "    print(merge.loc[merge[\"OMIM_BP\"] == merge[\"EXOTIC_tissue_BP\"], 'symbol'].nunique())\n",
    "    print(merge.loc[merge[\"OMIM_BP\"] == merge[\"EXOTIC_tissue_BP\"], 'MAP'].nunique())"
   ]
  },
  {
   "cell_type": "code",
   "execution_count": null,
   "id": "eight-dispute",
   "metadata": {},
   "outputs": [],
   "source": [
    "compare_to_omim_basic_exon_level(exotic_up, 'up', omim)"
   ]
  },
  {
   "cell_type": "code",
   "execution_count": null,
   "id": "random-editing",
   "metadata": {},
   "outputs": [],
   "source": [
    "compare_to_omim_basic_exon_level(exotic_down, 'down', omim)"
   ]
  },
  {
   "cell_type": "markdown",
   "id": "threatened-military",
   "metadata": {},
   "source": [
    "# Clinvar"
   ]
  },
  {
   "cell_type": "code",
   "execution_count": null,
   "id": "judicial-cargo",
   "metadata": {},
   "outputs": [],
   "source": [
    "clinvar = pd.read_parquet(files['EXOTIC']['clinvar_file_path'])\n",
    "clinvar = clinvar.loc[(clinvar['Status'] == 'Pathogenic') & (clinvar['Real_Status'].str.contains('onflict') == False)]\n",
    "# clinvar = clinvar.loc[clinvar['OMIM_VARIANT_ID'] != \"\"]\n",
    "# clinvar['ALT_Lite'] = clinvar['ALT'].apply(lambda r: eval(r)[0]) \n",
    "# clinvar['VAR_ID_Lite'] = clinvar['CHROM'].astype(str) + '_' + clinvar['POS'].astype(str) + '_' + clinvar['REF'].astype(str) + '_' + clinvar['ALT_Lite'].astype(str)\n",
    "\n",
    "clinvar"
   ]
  },
  {
   "cell_type": "code",
   "execution_count": null,
   "id": "interested-green",
   "metadata": {},
   "outputs": [],
   "source": [
    "from matplotlib_venn import venn2\n",
    "import matplotlib.pyplot as plt\n",
    "plt.figure(figsize=(12,12))\n",
    "plt.rcParams.update({\"font.size\" : 17})\n",
    "venn2([\n",
    "    set(exotic.symbol.unique().tolist()), \n",
    "    set(clinvar.GENE.unique().tolist())\n",
    "], \n",
    "    set_labels=['EXOTIC genes', 'ClinVar Pathogenic (RV)'], \n",
    "    set_colors=['purple', 'green'], alpha=0.5)\n"
   ]
  },
  {
   "cell_type": "code",
   "execution_count": null,
   "id": "prospective-mentor",
   "metadata": {},
   "outputs": [],
   "source": [
    "from matplotlib_venn import venn2\n",
    "import matplotlib.pyplot as plt\n",
    "plt.figure(figsize=(12,12))\n",
    "plt.rcParams.update({\"font.size\" : 17})\n",
    "venn2([\n",
    "    set(omim_pheno.Approved_symbol.unique().tolist()),\n",
    "    set(clinvar.GENE.unique().tolist())\n",
    "], \n",
    "    set_labels=['OMIM genes with phenotypes', 'ClinVar Pathogenic (RV)'], \n",
    "    set_colors=['skyblue', 'green'], alpha=0.5)\n"
   ]
  },
  {
   "cell_type": "code",
   "execution_count": null,
   "id": "dominican-criterion",
   "metadata": {},
   "outputs": [],
   "source": [
    "from matplotlib_venn import venn3\n",
    "import matplotlib.pyplot as plt\n",
    "plt.figure(figsize=(12,12))\n",
    "plt.rcParams.update({\"font.size\" : 17})\n",
    "venn3([\n",
    "    set(exotic.symbol.unique().tolist()), \n",
    "    set(omim_pheno.Approved_symbol.unique().tolist()),\n",
    "    set(clinvar.GENE.unique().tolist())\n",
    "], \n",
    "    set_labels=['EXOTIC genes', 'OMIM genes with phenotypes', 'ClinVar (P/LP with OMIM IDs)'], \n",
    "    set_colors=['purple', 'skyblue', 'green'], alpha=0.5)\n"
   ]
  },
  {
   "cell_type": "code",
   "execution_count": null,
   "id": "answering-collectible",
   "metadata": {},
   "outputs": [],
   "source": [
    "exotic.head()"
   ]
  },
  {
   "cell_type": "code",
   "execution_count": null,
   "id": "alone-belly",
   "metadata": {},
   "outputs": [],
   "source": [
    "clinvar.tail()"
   ]
  },
  {
   "cell_type": "code",
   "execution_count": null,
   "id": "polish-companion",
   "metadata": {},
   "outputs": [],
   "source": [
    "def mp_variants(gene, exotic, clinvar, l):\n",
    "    exotic_tmp_gene = exotic.loc[exotic['symbol'] == gene]\n",
    "    clinvar_tmp_gene = clinvar.loc[clinvar['GENE'] == gene]\n",
    "    for exon in exotic_tmp_gene.Exon.unique().tolist():\n",
    "        match_variants = clinvar_tmp_gene.POS.between(int(exon.split('-')[0]), int(exon.split('-')[1]))\n",
    "        match_variants = clinvar_tmp_gene.loc[match_variants.loc[match_variants == True].index.tolist(), 'alleleid'].values.tolist()\n",
    "        if match_variants:\n",
    "            l.append({exon : match_variants})\n",
    "        \n",
    "# for gene in tqdm():\n",
    "m = multiprocessing.Manager()\n",
    "l = m.list()\n",
    "genes = exotic.symbol.unique().tolist()\n",
    "parmap.starmap(mp_variants, list(zip(genes)), exotic, clinvar, l, pm_pbar=True)\n",
    "map_d = {k: v for d in l for k, v in d.items()}\n",
    "exotic['AlleleIDs_clinvar'] = exotic['Exon'].map(map_d)\n",
    "# exotic_up['AlleleIDs_clinvar'] = exotic_up['Exon'].map(map_d)\n",
    "# exotic_down['AlleleIDs_clinvar'] = exotic_down['Exon'].map(map_d)\n",
    "\n",
    "\n",
    "# print(l)"
   ]
  },
  {
   "cell_type": "code",
   "execution_count": null,
   "id": "continuing-punishment",
   "metadata": {},
   "outputs": [],
   "source": [
    "exotic.loc[exotic['AlleleIDs_clinvar'].isna() == False, 'symbol'].nunique()"
   ]
  },
  {
   "cell_type": "code",
   "execution_count": null,
   "id": "pressing-lighter",
   "metadata": {},
   "outputs": [],
   "source": [
    "exotic_clinvar = pd.merge(exotic.explode('AlleleIDs_clinvar').rename({'AlleleIDs_clinvar' : 'alleleid'}, axis=1), clinvar, on='alleleid')\n",
    "exotic_clinvar.to_csv('/gstock/EXOTIC/data/VARIATIONS/exotic_clinvar.csv.gz', compression='gzip', sep='\\t')\n",
    "exotic_clinvar"
   ]
  },
  {
   "cell_type": "code",
   "execution_count": null,
   "id": "ranking-treatment",
   "metadata": {},
   "outputs": [],
   "source": [
    "exotic['AlleleIDs_clinvar'] = exotic['Exon'].map(map_d)\n",
    "exotic_up['AlleleIDs_clinvar'] = exotic_up['Exon'].map(map_d)\n",
    "exotic_down['AlleleIDs_clinvar'] = exotic_down['Exon'].map(map_d)\n"
   ]
  },
  {
   "cell_type": "code",
   "execution_count": null,
   "id": "experienced-forge",
   "metadata": {},
   "outputs": [],
   "source": [
    "exotic_clinvar = exotic.loc[exotic['AlleleIDs_clinvar'].isna() == False]\n",
    "print(exotic_clinvar.symbol.nunique())\n",
    "print(exotic_clinvar.MAP.nunique())"
   ]
  },
  {
   "cell_type": "code",
   "execution_count": null,
   "id": "smoking-auckland",
   "metadata": {},
   "outputs": [],
   "source": [
    "from matplotlib_venn import venn3\n",
    "import matplotlib.pyplot as plt\n",
    "plt.figure(figsize=(12,12))\n",
    "plt.rcParams.update({\"font.size\" : 17})\n",
    "venn3([\n",
    "    set(exotic_clinvar.symbol.unique().tolist()), \n",
    "    set(omim_pheno.Approved_symbol.unique().tolist()),\n",
    "    set(clinvar.GENE.unique().tolist())\n",
    "], \n",
    "    set_labels=['EXOTIC genes with\\npathogenic variants\\ninside EXOTIC exon', 'OMIM genes with phenotypes', 'ClinVar Pathogenic (RV)'], \n",
    "    set_colors=['purple', 'skyblue', 'green'], alpha=0.5)\n"
   ]
  },
  {
   "cell_type": "code",
   "execution_count": null,
   "id": "complimentary-berkeley",
   "metadata": {},
   "outputs": [],
   "source": [
    "exotic_up[['symbol', 'EXOTIC_bins_{}'.format(min_max)]].drop_duplicates()['EXOTIC_bins_{}'.format(min_max)].value_counts().sort_index()"
   ]
  },
  {
   "cell_type": "code",
   "execution_count": null,
   "id": "diverse-helmet",
   "metadata": {},
   "outputs": [],
   "source": [
    "exotic_up[['MAP', 'EXOTIC_bins_{}'.format(min_max)]].drop_duplicates()['EXOTIC_bins_{}'.format(min_max)].value_counts().sort_index()"
   ]
  },
  {
   "cell_type": "code",
   "execution_count": null,
   "id": "deluxe-edition",
   "metadata": {},
   "outputs": [],
   "source": [
    "min_max = 'down'\n",
    "concat_up_stats_exotic_clinvar = pd.concat([\n",
    "    exotic_up[['symbol', 'EXOTIC_bins_{}'.format(min_max)]].drop_duplicates()['EXOTIC_bins_{}'.format(min_max)].value_counts().sort_index(),\n",
    "    exotic_up[['MAP', 'EXOTIC_bins_{}'.format(min_max)]].drop_duplicates()['EXOTIC_bins_{}'.format(min_max)].value_counts().sort_index(),\n",
    "    exotic_up.loc[exotic_up['AlleleIDs_clinvar'].isna() == False][['symbol', 'EXOTIC_bins_{}'.format(min_max)]].drop_duplicates()['EXOTIC_bins_{}'.format(min_max)].value_counts().sort_index(),\n",
    "    exotic_up.loc[exotic_up['AlleleIDs_clinvar'].isna() == False][['MAP', 'EXOTIC_bins_{}'.format(min_max)]].drop_duplicates()['EXOTIC_bins_{}'.format(min_max)].value_counts().sort_index(),\n",
    "], axis=1\n",
    ")\n",
    "concat_up_stats_exotic_clinvar.columns = ['EXOTIC genes', 'EXOTIC exons', 'Clinvar X EXOTIC genes', 'Clinvar X EXOTIC exons']\n",
    "cols = concat_up_stats_exotic_clinvar.columns\n",
    "concat_up_stats_exotic_clinvar"
   ]
  },
  {
   "cell_type": "code",
   "execution_count": null,
   "id": "gothic-amazon",
   "metadata": {},
   "outputs": [],
   "source": [
    "def show_values_on_bars(axs, i=0, fontsize=10, rotation=0, color='black', pad=0):\n",
    "    def _show_on_single_plot(ax):\n",
    "        for p in ax.patches:\n",
    "            print(p)\n",
    "            _x = p.get_x() + p.get_width()/2 \n",
    "            _y = p.get_y() + (p.get_height()) + pad\n",
    "            if i == 0:\n",
    "                value = \"{:,.0f}\".format(p.get_height())\n",
    "            if i == 2:\n",
    "                value = \"{:.2f}\".format(p.get_height())\n",
    "\n",
    "            if i == 3:\n",
    "                value = \"{:.3f}\".format(p.get_height())\n",
    "            if p.get_height() > 0:\n",
    "                ax.text(_x, _y, value, ha=\"center\", fontsize=fontsize, rotation=rotation, color=color)\n",
    "\n",
    "    if isinstance(axs, np.ndarray):\n",
    "        for idx, ax in np.ndenumerate(axs):\n",
    "            _show_on_single_plot(ax)\n",
    "    else:\n",
    "        _show_on_single_plot(axs)\n",
    "\n",
    "plt.rcParams.update({\"font.size\" : 20, 'text.color' : 'black', 'axes.labelcolor' : 'black'})\n",
    "min_max = 'down'\n",
    "sns.set_context('paper', font_scale=2)\n",
    "f, ax = plt.subplots(figsize=(15,15))\n",
    "# data = concat_up_stats_exotic_clinvar.reset_index()\n",
    "data = concat_down_stats_exotic_clinvar.reset_index()\n",
    "\n",
    "concat_down_stats_exotic_clinvar\n",
    "data.columns = ['EXOTIC_bins'] + list(cols)\n",
    "data = data.melt(id_vars=['EXOTIC_bins'], value_vars=cols)\n",
    "\n",
    "\n",
    "sns.barplot(data=data, x='EXOTIC_bins', y='value', hue='variable', palette='Reds', ax=ax)\n",
    "plt.yscale('log')\n",
    "plt.legend(title='')\n",
    "ax.set_ylabel('Count', labelpad=0.2)\n",
    "ax.set_xlabel('EXOTIC-{}'.format(min_max), labelpad=3)\n",
    "ax.spines['top'].set_linewidth(0)\n",
    "ax.spines['right'].set_linewidth(0)\n",
    "ax.get_yaxis().set_major_formatter(matplotlib.ticker.ScalarFormatter())\n",
    "ax.ticklabel_format(axis='y', useOffset=False)\n",
    "ax.get_yaxis().set_major_formatter(matplotlib.ticker.FuncFormatter(lambda x, p: format(int(x), ',')))\n",
    "# plt.xlabel('TEST')\n",
    "ax.set_ylim(ymin=2, ymax=1e4)\n",
    "ax.grid(axis='y', alpha=0.4)\n",
    "show_values_on_bars(ax)\n",
    "plt.tight_layout()\n"
   ]
  },
  {
   "cell_type": "code",
   "execution_count": null,
   "id": "warming-pearl",
   "metadata": {},
   "outputs": [],
   "source": [
    "concat_up_stats_exotic_clinvar.reset_index()"
   ]
  },
  {
   "cell_type": "code",
   "execution_count": null,
   "id": "aggregate-spring",
   "metadata": {},
   "outputs": [],
   "source": [
    "concat_up_stats_exotic_clinvar_tmp = concat_up_stats_exotic_clinvar.reset_index()\n",
    "concat_up_stats_exotic_clinvar_tmp.columns = ['EXOTIC_bins'] + list(cols)\n",
    "concat_up_stats_exotic_clinvar_tmp['EXOTIC_bin_start'] = concat_up_stats_exotic_clinvar_tmp['EXOTIC_bins'].apply(lambda r: r.split(' - ')[0])\n",
    "concat_up_stats_exotic_clinvar_tmp = concat_up_stats_exotic_clinvar_tmp.melt(id_vars=['EXOTIC_bin_start'], value_vars=cols)\n",
    "\n",
    "\n",
    "sns.set_context('paper', font_scale=2)\n",
    "f, ax = plt.subplots(figsize=(10,10))\n",
    "data = concat_up_stats_exotic_clinvar_tmp.reset_index()\n",
    "ax1_ = ax.bar(data.EXOTIC_bin_start.values, data.snpId_total.values,\n",
    "#        yerr=error,\n",
    "       align='edge',\n",
    "       \n",
    "       color='#8491B4FF',\n",
    "       width=-0.020\n",
    "      )\n",
    "ax2 = ax.twinx()\n",
    "ax2_ = ax2.bar(data.EXOTIC_bin_start.values, data.snpId.values, color='#91D1C2FF', align='edge', width=0.02)\n",
    "ax.yaxis.label.set_color('#8491B4FF')\n",
    "ax2.yaxis.label.set_color('#91D1C2FF')\n",
    "\n",
    "ax.set_xticks(np.arange(min(data.EXOTIC_bin_start), max(data.EXOTIC_bin_start)+0.05, 0.05))\n",
    "\n",
    "\n",
    "tkw = dict(size=4, width=1.5)\n",
    "ax.tick_params(axis='y', colors='#8491B4FF', **tkw)\n",
    "ax2.tick_params(axis='y', colors='#91D1C2FF', **tkw)\n",
    "ax.set_ylabel('All sQTLs')\n",
    "ax.set_xlabel('EXOTIC-max score')\n",
    "ax2.set_ylabel('Tissue-specific sQTLs')\n",
    "ax.spines['top'].set_linewidth(0)\n",
    "ax2.spines['top'].set_linewidth(0)\n",
    "# plt.title('Up')"
   ]
  },
  {
   "cell_type": "code",
   "execution_count": null,
   "id": "authentic-origin",
   "metadata": {},
   "outputs": [],
   "source": [
    "min_max = 'down'\n",
    "concat_down_stats_exotic_clinvar = pd.concat([\n",
    "    exotic_down[['symbol', 'EXOTIC_bins_{}'.format(min_max)]].drop_duplicates()['EXOTIC_bins_{}'.format(min_max)].value_counts().sort_index(),\n",
    "    exotic_down[['MAP', 'EXOTIC_bins_{}'.format(min_max)]].drop_duplicates()['EXOTIC_bins_{}'.format(min_max)].value_counts().sort_index(),\n",
    "    exotic_down.loc[exotic_down['AlleleIDs_clinvar'].isna() == False][['symbol', 'EXOTIC_bins_{}'.format(min_max)]].drop_duplicates()['EXOTIC_bins_{}'.format(min_max)].value_counts().sort_index(),\n",
    "    exotic_down.loc[exotic_down['AlleleIDs_clinvar'].isna() == False][['MAP', 'EXOTIC_bins_{}'.format(min_max)]].drop_duplicates()['EXOTIC_bins_{}'.format(min_max)].value_counts().sort_index(),\n",
    "], axis=1\n",
    ")\n",
    "concat_down_stats_exotic_clinvar.columns = ['EXOTIC genes', 'EXOTIC exons', 'Clinvar X EXOTIC genes', 'Clinvar X EXOTIC exons']\n",
    "concat_down_stats_exotic_clinvar"
   ]
  },
  {
   "cell_type": "code",
   "execution_count": null,
   "id": "going-works",
   "metadata": {},
   "outputs": [],
   "source": [
    "f, ax = plt.subplots(figsize=(15,15))\n",
    "data = concat_down_stats_exotic_clinvar.reset_index()\n",
    "data.columns = ['EXOTIC_bins'] + list(cols)\n",
    "data = data.melt(id_vars=['EXOTIC_bins'], value_vars=cols)\n",
    "palette = ['#DC0000', '#E64B35',\"#fab1a0\", \"#fd79a8\"]\n",
    "min_max = 'down'\n",
    "\n",
    "sns.barplot(data=data, x='EXOTIC_bins', y='value', hue='variable', palette='Reds')\n",
    "plt.legend(title='')\n",
    "plt.yscale('log')\n",
    "ax.spines['top'].set_linewidth(0)\n",
    "ax.spines['right'].set_linewidth(0)\n",
    "import matplotlib\n",
    "ax.get_yaxis().set_major_formatter(matplotlib.ticker.ScalarFormatter())\n",
    "ax.ticklabel_format(axis='y', useOffset=False)\n",
    "ax.get_yaxis().set_major_formatter(matplotlib.ticker.FuncFormatter(lambda x, p: format(int(x), ',')))\n",
    "ax.set_ylabel('Count')\n",
    "ax.set_xlabel('EXOTIC-{}'.format(min_max))\n",
    "ax.set_ylim(ymin=2, ymax=1e4)\n",
    "# ax.set_yticks()"
   ]
  },
  {
   "cell_type": "markdown",
   "id": "careful-constitutional",
   "metadata": {},
   "source": [
    "## ClinVar PMID"
   ]
  },
  {
   "cell_type": "code",
   "execution_count": null,
   "id": "moral-sydney",
   "metadata": {},
   "outputs": [],
   "source": [
    "clinvar_pmid = pd.read_csv(files['EXOTIC']['clinvar_pmid_mapping_path'], sep='\\t')\n",
    "clinvar_pmid"
   ]
  },
  {
   "cell_type": "code",
   "execution_count": null,
   "id": "stopped-medicare",
   "metadata": {},
   "outputs": [],
   "source": [
    "clinvar_pmid.loc[clinvar_pmid['#AlleleID'].isin(exotic_clinvar.explode('AlleleIDs_clinvar').AlleleIDs_clinvar.unique().tolist()), 'citation_id'].unique().tolist()"
   ]
  },
  {
   "cell_type": "code",
   "execution_count": null,
   "id": "prepared-current",
   "metadata": {},
   "outputs": [],
   "source": [
    "exotic.symbol.nunique()"
   ]
  },
  {
   "cell_type": "code",
   "execution_count": null,
   "id": "russian-basic",
   "metadata": {},
   "outputs": [],
   "source": [
    "exotic_clinvar.explode('AlleleIDs_clinvar')"
   ]
  },
  {
   "cell_type": "code",
   "execution_count": null,
   "id": "current-agriculture",
   "metadata": {},
   "outputs": [],
   "source": [
    "def return_pmid(r):\n",
    "    l = list()\n",
    "    for e in r:\n",
    "        pmids = clinvar_pmid.loc[clinvar_pmid['#AlleleID'] == e, 'citation_id'].values.tolist()\n",
    "        if pmids :\n",
    "            l.append(pmids[0])\n",
    "    return l \n",
    "\n",
    "exotic_clinvar['citation_id'] = exotic_clinvar.explode('AlleleIDs_clinvar').AlleleIDs_clinvar.apply(lambda r: return_pmid(r))\n",
    "exotic_clinvar"
   ]
  },
  {
   "cell_type": "code",
   "execution_count": null,
   "id": "scenic-parking",
   "metadata": {},
   "outputs": [],
   "source": [
    "exotic.loc[exotic['symbol'] == 'SPRED1']"
   ]
  },
  {
   "cell_type": "code",
   "execution_count": null,
   "id": "quality-picking",
   "metadata": {},
   "outputs": [],
   "source": [
    "exotic_clinvar_exploded_variants = exotic_clinvar.explode('AlleleIDs_clinvar')\n",
    "exotic_clinvar_exploded_variants = pd.merge(exotic_clinvar_exploded_variants.drop('citation_id', axis=1), clinvar_pmid[['#AlleleID', 'citation_id']], left_on='AlleleIDs_clinvar', right_on='#AlleleID').drop('#AlleleID', axis=1)\n",
    "\n",
    "exotic_clinvar_exploded_variants"
   ]
  },
  {
   "cell_type": "code",
   "execution_count": null,
   "id": "challenging-comparison",
   "metadata": {},
   "outputs": [],
   "source": [
    "exotic_clinvar_exploded_pmids = exotic_clinvar.explode('citation_id').dropna(subset=['citation_id'])\n",
    "exotic_clinvar_exploded_pmids"
   ]
  },
  {
   "cell_type": "code",
   "execution_count": null,
   "id": "informational-choice",
   "metadata": {},
   "outputs": [],
   "source": [
    "exotic_clinvar_exploded_pmids.loc[exotic_clinvar_exploded_pmids['symbol'] == 'SPRED1', 'citation_id'].unique()"
   ]
  },
  {
   "cell_type": "code",
   "execution_count": null,
   "id": "structured-youth",
   "metadata": {},
   "outputs": [],
   "source": [
    "exotic_clinvar_exploded_pmids.citation_id.nunique()"
   ]
  },
  {
   "cell_type": "code",
   "execution_count": null,
   "id": "fifteen-toddler",
   "metadata": {},
   "outputs": [],
   "source": [
    "import requests\n",
    "pmid = \"25264593\"\n",
    "pubtator_cat = \"pm\"\n",
    "url = \"https://www.ncbi.nlm.nih.gov/research/pubtator-api/publications/export/biocjson?{}ids={}\".format(pubtator_cat, pmid)\n",
    "r = requests.get(url)\n",
    "j = r.json()\n",
    "title = j['passages'][0]['text']\n",
    "title"
   ]
  },
  {
   "cell_type": "code",
   "execution_count": null,
   "id": "sporting-student",
   "metadata": {},
   "outputs": [],
   "source": [
    "import requests\n",
    "\n",
    "def retrieve_pmid_infos(pmid, l):\n",
    "#     pmid = \"31009165\"\n",
    "    pubtator_cat = \"pm\"\n",
    "    url = \"https://www.ncbi.nlm.nih.gov/research/pubtator-api/publications/export/biocjson?{}ids={}\".format(pubtator_cat, pmid)\n",
    "    try:\n",
    "        r = requests.get(url)\n",
    "        j = r.json()\n",
    "        title = j['passages'][0]['text']\n",
    "        abstract = j['passages'][1]['text']\n",
    "        l.append({\n",
    "            'citation_id' : pmid,\n",
    "            'title' : title,\n",
    "            'abstract' : abstract,\n",
    "            }\n",
    "        )\n",
    "    except:\n",
    "        print(pmid)\n",
    "\n",
    "pmids = clinvar_pmid.loc[clinvar_pmid['#AlleleID'].isin(exotic_clinvar.explode('AlleleIDs_clinvar').AlleleIDs_clinvar.unique().tolist()), 'citation_id'].unique().tolist()\n",
    "pmids = [e for e in pmids if 'NBK' not in e]\n",
    "m = multiprocessing.Manager()\n",
    "l = m.list()\n",
    "\n",
    "parmap.starmap(retrieve_pmid_infos, list(zip(pmids)), l, pm_pbar=True)\n",
    "    \n",
    "pmids_infos = pd.DataFrame(list(l))\n",
    "pmids_infos"
   ]
  },
  {
   "cell_type": "code",
   "execution_count": null,
   "id": "necessary-selection",
   "metadata": {},
   "outputs": [],
   "source": [
    "exotic_clinvar_pmid_lite"
   ]
  },
  {
   "cell_type": "code",
   "execution_count": null,
   "id": "expired-dayton",
   "metadata": {},
   "outputs": [],
   "source": [
    "import requests\n",
    "\n",
    "def retrieve_pmid_infos(pmid, l):\n",
    "#     pmid = \"31009165\"\n",
    "    pubtator_cat = \"pm\"\n",
    "    url = \"https://www.ncbi.nlm.nih.gov/research/pubtator-api/publications/export/biocjson?{}ids={}\".format(pubtator_cat, pmid)\n",
    "    try:\n",
    "        r = requests.get(url)\n",
    "        j = r.json()\n",
    "        title = j['passages'][0]['text']\n",
    "        abstract = j['passages'][1]['text']\n",
    "        l.append({\n",
    "            'citation_id' : pmid,\n",
    "            'title' : title,\n",
    "            'abstract' : abstract,\n",
    "            }\n",
    "        )\n",
    "    except:\n",
    "        print(pmid)\n",
    "\n",
    "pmids = exotic_clinvar_pmid.loc[exotic_clinvar_pmid['title'].isna() == True, 'citation_id'].unique().tolist()\n",
    "pmids = [e for e in pmids if 'NBK' not in e]\n",
    "m = multiprocessing.Manager()\n",
    "l = m.list()\n",
    "\n",
    "parmap.starmap(retrieve_pmid_infos, list(zip(pmids)), l, pm_pbar=True)\n",
    "    \n",
    "pmids_infos_second = pd.DataFrame(list(l))\n",
    "pmids_infos_second"
   ]
  },
  {
   "cell_type": "code",
   "execution_count": null,
   "id": "chubby-generator",
   "metadata": {},
   "outputs": [],
   "source": [
    "pd.concat([pmids_infos, pmids_infos_second])"
   ]
  },
  {
   "cell_type": "code",
   "execution_count": null,
   "id": "prepared-pitch",
   "metadata": {},
   "outputs": [],
   "source": [
    "exotic_clinvar_pmid.columns"
   ]
  },
  {
   "cell_type": "code",
   "execution_count": null,
   "id": "spare-defeat",
   "metadata": {},
   "outputs": [],
   "source": [
    "exotic_clinvar_pmid = pd.merge(exotic_clinvar_exploded_variants, pd.concat([pmids_infos, pmids_infos_second]), how='left', on='citation_id')\n",
    "exotic_clinvar_pmid = exotic_clinvar_pmid.loc[exotic_clinvar_pmid['citation_id'].isin(citation_to_keep)]\n",
    "exotic_clinvar_pmid['AlleleIDs_clinvar'] = exotic_clinvar_pmid['AlleleIDs_clinvar'].astype(str)\n",
    "\n",
    "exotic_clinvar_pmid_lite = exotic_clinvar_pmid[['MAP', 'citation_id', 'AlleleIDs_clinvar']].groupby(['MAP', 'citation_id'])['AlleleIDs_clinvar'].apply(lambda r: ','.join(r))\n",
    "exotic_clinvar_pmid_lite = exotic_clinvar_pmid_lite.reset_index().drop_duplicates()\n",
    "\n",
    "\n",
    "exotic_clinvar_pmid = pd.merge(exotic_clinvar_pmid.drop(['AlleleIDs_clinvar'], axis=1).drop_duplicates(subset=['MAP', 'citation_id']), exotic_clinvar_pmid_lite, on=['MAP', 'citation_id'])\n",
    "\n",
    "# COMPUTE BINS\n",
    "r = np.arange(0.5,1.05,0.1)\n",
    "bins = r\n",
    "labels = bins.copy()\n",
    "labels_ratio = [str(round(labels[j], 3)) + \" - \" + str(round(labels[j + 1], 3)) for j in range(len(labels) - 1)]\n",
    "for min_max in ['up', 'down']:\n",
    "    for j, b in enumerate(labels_ratio):\n",
    "        if j > 0:\n",
    "            b_start = float(b.split(' - ')[0])\n",
    "            b_end = float(b.split(' - ')[1])\n",
    "            print(b_start)\n",
    "#             print(len(exotic_clinvar_pmid[list(exotic_clinvar_pmid.columns)[9:9+53]].columns))\n",
    "#             print(exotic_clinvar_pmid[list(exotic_clinvar_pmid.columns)[9:9+53]].columns)\n",
    "            if min_max == 'up':\n",
    "                exotic_clinvar_pmid['EXOTIC_{}_{}'.format(b, min_max)] = exotic_clinvar_pmid[list(exotic_clinvar_pmid.columns)[9:9+53]].apply(lambda r: [exotic_clinvar_pmid.columns[9:9+53][i] for i, e in enumerate(r) if float(e) >= b_start and float(e) < b_end], axis=1)\n",
    "            elif min_max == 'down':\n",
    "                exotic_clinvar_pmid['EXOTIC_{}_{}'.format(b, min_max)] = exotic_clinvar_pmid[list(exotic_clinvar_pmid.columns)[9:9+53]].apply(lambda r: [exotic_clinvar_pmid.columns[9:9+53][i] for i, e in enumerate(r) if (1-float(e)) >= b_start and (1-float(e)) < b_end], axis=1)\n",
    "\n",
    "                \n",
    "exotic_clinvar_pmid['abstract'] = exotic_clinvar_pmid['abstract'].astype(str)\n",
    "\n",
    "exotic_clinvar_pmid['Isoform_abstract'] = exotic_clinvar_pmid['abstract'].apply(lambda r: \"isoform\" in r.lower())\n",
    "# exotic_clinvar_pmid = exotic_clinvar_pmid.loc[exotic_clinvar_pmid['Isoform_abstract'] == True]\n",
    "exotic_clinvar_pmid = exotic_clinvar_pmid.loc[exotic_clinvar_pmid['symbol'] == 'NF1']\n",
    "\n",
    "\n",
    "exotic_clinvar_pmid = exotic_clinvar_pmid[[\n",
    "    'symbol', 'Exon', 'EXOTIC_0.6 - 0.7_up', 'EXOTIC_0.7 - 0.8_up', 'EXOTIC_0.8 - 0.9_up',\n",
    "       'EXOTIC_0.9 - 1.0_up', 'EXOTIC_0.6 - 0.7_down', 'EXOTIC_0.7 - 0.8_down',\n",
    "       'EXOTIC_0.8 - 0.9_down', 'EXOTIC_0.9 - 1.0_down', 'AlleleIDs_clinvar', 'citation_id', 'title', 'abstract', 'Isoform_abstract'\n",
    "]]\n",
    "exotic_clinvar_pmid.to_excel('/gstock/EXOTIC/data/PMIDS/NF1_EXOTIC_clinvar_PMIDS.xlsx', index=False)\n",
    "exotic_clinvar_pmid\n",
    "\n",
    "\n",
    "# exotic_clinvar_pmid[['symbol', 'citation_id']].drop_duplicates().symbol.value_counts()\n",
    "\n",
    "# exotic_clinvar_pmid[['symbol', 'ensg', 'Exon', 'EXOTIC_bins_up', 'EXOTIC_tissues_up', 'EXOTIC_bins_down', 'EXOTIC_tissues_down', 'AlleleIDs_clinvar', 'citation_id', \"title\", 'abstract']].to_excel('/gstock/EXOTIC/data/PMIDS/EXOTIC_clinvar_PMIDS.xlsx', index=False)\n"
   ]
  },
  {
   "cell_type": "code",
   "execution_count": null,
   "id": "centered-singles",
   "metadata": {},
   "outputs": [],
   "source": [
    "exotic_clinvar_pmid.loc[exotic_clinvar_pmid['title'].isna() == True]"
   ]
  },
  {
   "cell_type": "code",
   "execution_count": null,
   "id": "homeless-scanning",
   "metadata": {},
   "outputs": [],
   "source": [
    "exotic_clinvar_exploded_pmids.loc[exotic_clinvar_exploded_pmids['citation_id'] == \"10835642\"]"
   ]
  },
  {
   "cell_type": "code",
   "execution_count": null,
   "id": "conservative-miami",
   "metadata": {},
   "outputs": [],
   "source": [
    "exotic_clinvar_pmid.loc[exotic_clinvar_pmid['symbol'] == 'NF1', 'citation_id']"
   ]
  },
  {
   "cell_type": "code",
   "execution_count": null,
   "id": "healthy-hudson",
   "metadata": {},
   "outputs": [],
   "source": [
    "exotic_clinvar_pmid.loc[exotic_clinvar_pmid['symbol'] == 'NF1']"
   ]
  },
  {
   "cell_type": "code",
   "execution_count": null,
   "id": "portuguese-method",
   "metadata": {},
   "outputs": [],
   "source": [
    "sorted(list(exotic_clinvar_exploded_pmids.loc[exotic_clinvar_exploded_pmids['symbol'] == 'ABCC6', 'citation_id'].unique()))"
   ]
  },
  {
   "cell_type": "code",
   "execution_count": null,
   "id": "blank-peter",
   "metadata": {},
   "outputs": [],
   "source": [
    "exotic_clinvar_pmid.citation_id.nunique()"
   ]
  },
  {
   "cell_type": "code",
   "execution_count": null,
   "id": "hollywood-princess",
   "metadata": {},
   "outputs": [],
   "source": [
    "exotic_pmids_count = exotic_clinvar_pmid[['symbol', 'citation_id']].drop_duplicates().groupby('symbol').count().sort_values(by='citation_id', ascending=False)\n",
    "exotic_pmids_count.to_excel('/gstock/EXOTIC/data/PMIDS/PMIDS_count_per_gene.xlsx')\n",
    "exotic_pmids_count"
   ]
  },
  {
   "cell_type": "code",
   "execution_count": null,
   "id": "built-investor",
   "metadata": {},
   "outputs": [],
   "source": [
    "exotic_pmids_count = exotic_clinvar_pmid[['symbol', 'citation_id']].drop_duplicates()\n",
    "exotic_pmids_count"
   ]
  },
  {
   "cell_type": "code",
   "execution_count": null,
   "id": "composite-humanitarian",
   "metadata": {},
   "outputs": [],
   "source": [
    "exotic_pmids_count = exotic_clinvar_pmid[['symbol', 'citation_id']].drop_duplicates()\n",
    "d = dict(collections.Counter(exotic_pmids_count.citation_id.values.tolist()))\n",
    "d = {k: d[k] for k in sorted(d, key=d.get, reverse=True)}\n",
    "exotic_pmids_count = pd.DataFrame.from_dict(d, orient='index')\n",
    "exotic_pmids_count.columns = ['count']\n",
    "# exotic_pmids_count.to_excel('/gstock/EXOTIC/data/PMIDS/PMIDS_count_across_genes.xlsx')\n",
    "# citation_to_keep = exotic_pmids_count.loc[exotic_pmids_count['count'] < 10].index.tolist()\n",
    "exotic_pmids_count.head(15)\n",
    "\n",
    "\n"
   ]
  },
  {
   "cell_type": "code",
   "execution_count": null,
   "id": "joined-voltage",
   "metadata": {},
   "outputs": [],
   "source": [
    "nf1_publis = [\"10076878\", \"10090487\", \"10336779\", \"10494088\", \"10534774\", \"10543400\", \"10607834\", \"10677298\", \"10678181\", \"10712197\", \"1071297\", \"10721668\", \"10726756\", \"10862084\", \"10980545\", \"11137998\", \"11292340\", \"11459867\", \"11476066\", \"11735023\", \"11857752\", \"12112660\", \"12483293\", \"12522551\", \"125305868\", \"12552569\", \"12707950\", \"12746402\", \"12787671\", \"12807981\", \"12822827\", \"12872266\", \"14517963\", \"14569132\", \"14722917\", \"15060124\", \"15146469\", \"15221447\", \"15627836\", \"1568246\", \"1568247\", \"15863657\", \"15948193\", \"16005615\", \"16138229\", \"16199547\", \"16380919\", \"16479075\", \"16513807\", \"16542390\", \"16544997\", \"16773574\", \"16786042\", \"16786508\", \"16835897\", \"16870183\", \"16941471\", \"16944272\", \"16961930\", \"17103458\", \"17105749\", \"17114577\", \"17160901\", \"17209131\", \"17311297\", \"17353900\", \"17369502\", \"17426081\", \"17551851\", \"1757093\", \"1770531\", \"17712740\", \"17726231\", \"1783401\", \"17914445\", \"17960768\", \"18041031\", \"18172006\", \"18183640\", \"18484666\", \"18503770\", \"18546366\", \"190611\", \"19061981\", \"19117870\", \"19120036\", \"19142971\", \"19221814\", \"19292874\", \"19539839\", \"19665063\", \"19738042\", \"19845691\", \"19863548\", \"19920235\", \"20142468\", \"20602485\", \"20605257\", \"21031597\", \"21089071\", \"2114220\", \"21271658\", \"21354044\", \"21362601\", \"21532985\", \"21567923\", \"21618341\", \"22034633\", \"22041710\", \"22108604\", \"22155606\", \"22190595\", \"22207399\", \"22222937\", \"22429592\", \"22604720\", \"22664660\", \"22807134\", \"22925204\", \"22965773\", \"23010473\", \"23047742\", \"23165953\", \"23222849\", \"23244495\", \"23354915\", \"23404336\", \"23460398\", \"23583981\", \"23624750\", \"23656349\", \"23668869\", \"23758643\", \"23812910\", \"23906300\", \"23913538\", \"23954459\", \"24219125\", \"24232412\", \"24357598\", \"24413922\", \"24676424\", \"24694336\", \"24711935\", \"24789688\", \"24803665\", \"24922668\", \"24932921\", \"24951259\", \"25074460\", \"25156439\", \"25211147\", \"25240281\", \"25293717\", \"25324428\", \"25324867\", \"25325900\", \"25356970\", \"25370043\", \"25403449\", \"25480383\", \"25541118\", \"25624686\", \"25810463\", \"25877329\", \"25951773\", \"25966637\", \"26056819\", \"26076063\", \"26178382\", \"26331193\", \"26345759\", \"26458495\", \"26478990\", \"26635368\", \"26659639\", \"26706011\", \"26740943\", \"26758488\", \"26840085\", \"26908603\", \"26962827\", \"26969325\", \"26973730\", \"27069254\", \"27074763\", \"27170677\", \"27171602\", \"27322474\", \"27482814\", \"27716896\", \"27838393\", \"27862945\", \"27980226\", \"27999334\", \"28068329\", \"28213670\", \"28422438\", \"28529006\", \"28706617\", \"28891274\", \"28924536\", \"28955729\", \"28961165\", \"29100083\", \"29290338\", \"29415745\", \"29449315\", \"29483232\", \"2948975\", \"29522274\", \"29566708\", \"29618358\", \"29620724\", \"29673180\", \"29685074\", \"29872168\", \"29914388\", \"29952103\", \"29957862\", \"30014477\", \"30087692\", \"30104415\", \"30190611\", \"30290804\", \"30291346\", \"30308447\", \"30530636\", \"31347283\", \"31370276\", \"31371350\", \"31533797\", \"31595648\", \"31717729\", \"31730495\", \"32860008\", \"6025371\", \"7586657\", \"7607663\", \"7649559\", \"7655472\", \"7874161\", \"7903661\", \"7904209\", \"7981679\", \"8069310\", \"8081387\", \"8242079\", \"8264648\", \"8385067\", \"8437860\", \"8544190\", \"8628317\", \"8807336\", \"8834249\", \"8837715\", \"8845843\", \"9003501\", \"9042399\", \"9101300\", \"9109662\", \"9150739\", \"9180088\", \"9195229\", \"9219684\", \"9298829\", \"9302992\", \"9375928\", \"9385374\", \"9452037\", \"9463322\", \"9475595\", \"9545275\", \"9668168\", \"9687500\", \"9783703\", ]\n",
    "for pmid in nf1_publis:\n",
    "    print(pmid)\n",
    "    url = \"https://www.ncbi.nlm.nih.gov/pmc/utils/idconv/v1.0/?tool=my_tool&email=my_email@example.com&ids={}&format=json\".format(pmid)\n",
    "    r = requests.get(url)\n",
    "    j = r.json()\n",
    "    pubmed_id = j[\"records\"][0][\"pmid\"]\n",
    "    pmc_id = \"\"\n",
    "    if \"pmcid\" in j[\"records\"][0]:\n",
    "        pmc_id= j[\"records\"][0][\"pmcid\"]\n",
    "    pubtator_cat = \"pmc\" if pmc_id else \"pm\"\n",
    "    check = False\n",
    "    if pubtator_cat == \"pmc\":\n",
    "        try:\n",
    "            print(pmc_id)\n",
    "            pubtator_url = \"https://www.ncbi.nlm.nih.gov/research/pubtator-api/publications/export/biocjson?{}ids={}\".format(\"pmc\", pmc_id)\n",
    "            print(pubtator_url)\n",
    "            r = requests.get(pubtator_url)\n",
    "            j = r.json()\n",
    "            check_pheno = False\n",
    "            crypto_mesh = \"D003456\"\n",
    "            for passage in j['passages']:\n",
    "                mesh_terms = [annot['infons']['identifier'] for annot in passage['annotations']]\n",
    "                check_pheno = True if 'MESH:{}'.format(crypto_mesh) in mesh_terms else False\n",
    "                if check_pheno:\n",
    "                    print(passage)\n",
    "            \n",
    "            check = True if j else False\n",
    "        except:\n",
    "            print('PMC {} BUT NO TEXT ONLINE AVAILABLE FOR PMID : {}'.format(pmc_id, pubmed_id))\n",
    "\n",
    "            pass\n",
    "    if check is False:\n",
    "        try: \n",
    "            pubtator_url = \"https://www.ncbi.nlm.nih.gov/research/pubtator-api/publications/export/biocjson?{}ids={}\".format(\"pm\", pubmed_id)\n",
    "            r = requests.get(pubtator_url)\n",
    "            j = r.json()\n",
    "            print(pubtator_url)\n",
    "            check_pheno = False\n",
    "            crypto_mesh = \"D003456\"\n",
    "            for passage in j['passages']:\n",
    "                mesh_terms = [annot['infons']['identifier'] for annot in passage['annotations']]\n",
    "                check_pheno = True if 'MESH:{}'.format(crypto_mesh) in mesh_terms else False\n",
    "                if check_pheno:\n",
    "                    print(passage)\n",
    "        except:\n",
    "            print('ERROR WITH {}'.format(pubmed_id))\n"
   ]
  },
  {
   "cell_type": "code",
   "execution_count": null,
   "id": "optional-repository",
   "metadata": {},
   "outputs": [],
   "source": [
    "pubtator_cat = 'pmc'\n",
    "pubmed_id = 'PMC1288164'\n",
    "pubtator_url = \"https://www.ncbi.nlm.nih.gov/research/pubtator-api/publications/export/biocjson?{}ids={}\".format(pubtator_cat, pubmed_id)\n",
    "print(pubtator_url)\n",
    "r = requests.get(pubtator_url)\n",
    "j = r.json()\n",
    "j\n"
   ]
  },
  {
   "cell_type": "markdown",
   "id": "drawn-latest",
   "metadata": {},
   "source": [
    "## OMIM entries with multiple phenotypes & at least one rare"
   ]
  },
  {
   "cell_type": "markdown",
   "id": "modern-enzyme",
   "metadata": {},
   "source": [
    "## Processed phenotypes through API"
   ]
  },
  {
   "cell_type": "code",
   "execution_count": null,
   "id": "historic-treat",
   "metadata": {},
   "outputs": [],
   "source": [
    "from Phenotypes import omim_associations_exotic\n",
    "omim = omim_associations_exotic.load_omim(files[\"EXOTIC\"][\"omim_detailed\"], files[\"BIOMART\"][\"biomart_omim\"])\n",
    "# omim.head()\n",
    "omim"
   ]
  },
  {
   "cell_type": "code",
   "execution_count": null,
   "id": "metric-mechanics",
   "metadata": {},
   "outputs": [],
   "source": [
    "l = list()\n",
    "import math\n",
    "\n",
    "for gene in tqdm(omim.Name.unique()):\n",
    "\n",
    "    gene_omim = omim.loc[omim['Name'] == gene]\n",
    "    if gene_omim.Pheno_OMIM.nunique() > 1:\n",
    "#         print(gene, gene_omim.shape[0])\n",
    "        gene_omim_bp = gene_omim[['Name', 'Pheno_OMIM', 'OMIM_BP']].groupby(['Name', 'Pheno_OMIM'])['OMIM_BP'].apply(set).reset_index()\n",
    "        nb_pheno = gene_omim_bp.Pheno_OMIM.nunique()\n",
    "        counter_pheno = collections.Counter([sub_e for e in gene_omim_bp['OMIM_BP'].values.tolist() for sub_e in e])\n",
    "        cutoff = 1 if nb_pheno < 4 else math.floor(nb_pheno/2)\n",
    "        counter_pheno_rare = [k for k,v in counter_pheno.items() if v <= cutoff]\n",
    "#         print(nb_pheno, cutoff)\n",
    "#         print(counter_pheno_rare)\n",
    "        l.append(gene_omim.loc[gene_omim['OMIM_BP'].isin(counter_pheno_rare)])\n",
    "        \n",
    "#         for pheno_rare in counter_pheno_rare:\n",
    "#             print(gene_omim.loc[gene_omim['OMIM_BP'] == pheno_rare, ['Pheno_OMIM', 'Pheno_prefered_title', 'OMIM_BP', 'OMIM_BP_phenotypes']].values.tolist())\n",
    "omim_multi_pheno_filterred = pd.concat(l)\n",
    "omim_multi_pheno_filterred"
   ]
  },
  {
   "cell_type": "code",
   "execution_count": null,
   "id": "breathing-young",
   "metadata": {},
   "outputs": [],
   "source": [
    "omim_multi_pheno_filterred[['Name', 'Pheno_OMIM', 'OMIM_BP', 'OMIM_BP_phenotypes']]"
   ]
  },
  {
   "cell_type": "code",
   "execution_count": null,
   "id": "improved-cruise",
   "metadata": {},
   "outputs": [],
   "source": [
    "omim_multi_pheno_filterred[['Name', 'Pheno_OMIM']].drop_duplicates().groupby(['Name'])['Pheno_OMIM'].apply(set).reset_index()"
   ]
  },
  {
   "cell_type": "code",
   "execution_count": null,
   "id": "opposed-parish",
   "metadata": {},
   "outputs": [],
   "source": [
    "omim_multi_pheno_filterred.OMIM.nunique()"
   ]
  },
  {
   "cell_type": "markdown",
   "id": "statistical-mission",
   "metadata": {},
   "source": [
    "## EXOTIC imports & Filter with multi pheno OMIM genes"
   ]
  },
  {
   "cell_type": "code",
   "execution_count": null,
   "id": "coated-above",
   "metadata": {},
   "outputs": [],
   "source": [
    "exotic = pd.read_parquet(files[\"EXOTIC\"][\"exotic_modified_zscore_mean_prop_corrected\"])\n",
    "# exotic[['Exon_start', 'Exon_stop']] = exotic['Exon'].str.split('-', expand=True)\n",
    "# exotic_up = omim_associations_exotic.load_exotic(files[\"EXOTIC\"][\"exotic_modified_zscore\"], 'up', cutoff=0.5)\n",
    "# exotic_down = omim_associations_exotic.load_exotic(files[\"EXOTIC\"][\"exotic_modified_zscore\"], 'down', cutoff=0.5)\n",
    "exotic = exotic.loc[exotic['symbol'].isin(omim_multi_pheno_filterred.Name.unique().tolist())]\n",
    "\n",
    "# COMPUTE BINS\n",
    "r = np.arange(0.5,1.05,0.1)\n",
    "bins = r\n",
    "labels = bins.copy()\n",
    "labels_ratio = [str(round(labels[j], 3)) + \" - \" + str(round(labels[j + 1], 3)) for j in range(len(labels) - 1)]\n",
    "for min_max in ['up', 'down']:\n",
    "    for j, b in enumerate(labels_ratio):\n",
    "        if j > 0:\n",
    "            b_start = float(b.split(' - ')[0])\n",
    "            b_end = float(b.split(' - ')[1])\n",
    "            print(b_start)\n",
    "#             print(len(exotic_clinvar_pmid[list(exotic_clinvar_pmid.columns)[9:9+53]].columns))\n",
    "#             print(exotic_clinvar_pmid[list(exotic_clinvar_pmid.columns)[9:9+53]].columns)\n",
    "            if min_max == 'up':\n",
    "                exotic['EXOTIC_{}_{}'.format(b, min_max)] = exotic[list(exotic.columns)[9:9+53]].apply(lambda r: [exotic.columns[9:9+53][i] for i, e in enumerate(r) if float(e) >= b_start and float(e) < b_end], axis=1)\n",
    "            elif min_max == 'down':\n",
    "                exotic['EXOTIC_{}_{}'.format(b, min_max)] = exotic[list(exotic.columns)[9:9+53]].apply(lambda r: [exotic.columns[9:9+53][i] for i, e in enumerate(r) if (1-float(e)) >= b_start and (1-float(e)) < b_end], axis=1)\n",
    "exotic\n"
   ]
  },
  {
   "cell_type": "code",
   "execution_count": null,
   "id": "upset-diploma",
   "metadata": {},
   "outputs": [],
   "source": [
    "print(exotic.symbol.nunique())"
   ]
  },
  {
   "cell_type": "markdown",
   "id": "reserved-hobby",
   "metadata": {},
   "source": [
    "# Clinvar"
   ]
  },
  {
   "cell_type": "code",
   "execution_count": null,
   "id": "straight-ceremony",
   "metadata": {},
   "outputs": [],
   "source": [
    "clinvar = pd.read_parquet(files['EXOTIC']['clinvar_file_path'])\n",
    "clinvar = clinvar.loc[(clinvar['Status'] == 'Pathogenic') & (clinvar['Real_Status'].str.contains('onflict') == False)]\n",
    "clinvar = clinvar.loc[clinvar['OMIM_VARIANT_ID'] != \"\"]\n",
    "clinvar"
   ]
  },
  {
   "cell_type": "code",
   "execution_count": null,
   "id": "double-soviet",
   "metadata": {},
   "outputs": [],
   "source": [
    "exotic"
   ]
  },
  {
   "cell_type": "code",
   "execution_count": null,
   "id": "alternative-pleasure",
   "metadata": {},
   "outputs": [],
   "source": [
    "def mp_variants(gene, exotic, clinvar, l):\n",
    "    exotic_tmp_gene = exotic.loc[exotic['symbol'] == gene]\n",
    "    clinvar_tmp_gene = clinvar.loc[clinvar['GENE'] == gene]\n",
    "    for exon in exotic_tmp_gene.Exon.unique().tolist():\n",
    "        match_variants = clinvar_tmp_gene.POS.between(-10 + int(exon.split('-')[0]), int(exon.split('-')[1]) + 10)\n",
    "        match_variants = clinvar_tmp_gene.loc[match_variants.loc[match_variants == True].index.tolist(), 'OMIM_VARIANT_ID'].values.tolist()\n",
    "        if match_variants:\n",
    "            l.append({exon : match_variants})\n",
    "        \n",
    "# for gene in tqdm():\n",
    "m = multiprocessing.Manager()\n",
    "l = m.list()\n",
    "genes = exotic.symbol.unique().tolist()\n",
    "parmap.starmap(mp_variants, list(zip(genes)), exotic, clinvar, l, pm_pbar=True)\n",
    "map_d = {k: v for d in l for k, v in d.items()}\n",
    "exotic['OMIM_variants'] = exotic['Exon'].map(map_d)\n",
    "exotic.head()\n",
    "\n",
    "# print(l)"
   ]
  },
  {
   "cell_type": "code",
   "execution_count": null,
   "id": "starting-cloud",
   "metadata": {},
   "outputs": [],
   "source": [
    "list(exotic_omim_variants_exploded.Pheno_OMIM.values.tolist()[0])[0]"
   ]
  },
  {
   "cell_type": "code",
   "execution_count": null,
   "id": "maritime-jason",
   "metadata": {},
   "outputs": [],
   "source": [
    "dicts_omim_gtex = pd.DataFrame.from_dict(dicts['mapping_omim_gtex_neurologic'], orient='index')\n",
    "dicts_omim_gtex['Pheno'] = dicts_omim_gtex.apply(lambda r: [e for e in r if e], axis=1)\n",
    "dicts_omim_gtex = dicts_omim_gtex['Pheno']\n",
    "dicts_omim_gtex = dicts_omim_gtex.reset_index()\n",
    "dicts_omim_gtex.columns = ['value', 'Pheno']\n",
    "dicts_omim_gtex = dicts_omim_gtex.explode('Pheno')\n"
   ]
  },
  {
   "cell_type": "code",
   "execution_count": null,
   "id": "robust-garbage",
   "metadata": {},
   "outputs": [],
   "source": []
  },
  {
   "cell_type": "code",
   "execution_count": null,
   "id": "august-malpractice",
   "metadata": {},
   "outputs": [],
   "source": [
    "exotic_omim_variants = exotic.loc[exotic['OMIM_variants'].isna() == False]\n",
    "exotic_omim_variants_exploded = exotic_omim_variants.explode('OMIM_variants')\n",
    "exotic_omim_variants_exploded['OMIM'] = exotic_omim_variants_exploded['OMIM_variants'].apply(lambda r: r.split('.')[0])\n",
    "exotic_omim_variants_exploded['OMIM_variants'] = exotic_omim_variants_exploded['OMIM_variants'].astype(str)\n",
    "exotic_omim_variants_exploded['OMIM_variant_nb'] = exotic_omim_variants_exploded['OMIM_variants'].apply(lambda r : int(r.split('.')[1]))\n",
    "exotic_omim_variants_exploded = pd.merge(exotic_omim_variants_exploded, omim_multi_pheno_filterred[['Name', 'Pheno_OMIM', 'OMIM_BP', 'OMIM_BP_phenotypes']], left_on='symbol', right_on='Name')\n",
    "exotic_omim_variants_exploded = exotic_omim_variants_exploded.melt(id_vars=['symbol', 'ensg', 'HGNC', 'Exon', 'Ratio_num', 'mRNA_nb', 'mRNA_nb_total', 'MAP', 'OMIM_variants', 'OMIM', 'OMIM_variant_nb', 'Name', 'Pheno_OMIM', 'OMIM_BP', 'OMIM_BP_phenotypes'],\n",
    "                                  value_vars=['EXOTIC_0.6 - 0.7_up', 'EXOTIC_0.7 - 0.8_up', 'EXOTIC_0.8 - 0.9_up', 'EXOTIC_0.9 - 1.0_up', 'EXOTIC_0.6 - 0.7_down', 'EXOTIC_0.7 - 0.8_down', 'EXOTIC_0.8 - 0.9_down', 'EXOTIC_0.9 - 1.0_down']).explode('value').dropna(subset=['value'])\n",
    "print(exotic_omim_variants_exploded.shape)\n",
    "exotic_omim_variants_exploded.head()\n",
    "exotic_omim_variants_exploded = pd.merge(exotic_omim_variants_exploded, dicts_omim_gtex, on='value')\n",
    "exotic_omim_variants_exploded = exotic_omim_variants_exploded.loc[exotic_omim_variants_exploded['OMIM_BP'] == exotic_omim_variants_exploded['Pheno']]\n",
    "exotic_omim_variants_exploded = pd.merge(exotic_omim_variants_exploded.rename({'OMIM_variants' : 'OMIM_VARIANT_ID'}, axis=1), clinvar[['VAR_ID', 'MC', 'Real_Status', 'RS_STARS', 'CLNREVSTAT', 'alleleid', 'OMIM_VARIANT_ID']], on='OMIM_VARIANT_ID')\n",
    "exotic_omim_variants_exploded"
   ]
  },
  {
   "cell_type": "code",
   "execution_count": null,
   "id": "going-adoption",
   "metadata": {},
   "outputs": [],
   "source": [
    "import _pickle\n",
    "import re\n",
    "# for gene in exotic_omim_variants_exploded['OMIM'].unique()[:1]:\n",
    "def retrieve_omim_variants_info(r):\n",
    "#     print(r)\n",
    "#     print(r['Pheno_OMIM'])\n",
    "    omim_gene_json = _pickle.load(open('/gstock/biolo_datasets/variation/benchmark/Databases/OMIM/JSON_API/{}.pkl'.format(str(r['OMIM'])), 'rb'))\n",
    "    variant_json = omim_gene_json['omim']['entryList'][0]['entry']['allelicVariantList'][r['OMIM_variant_nb'] - 1]['allelicVariant']\n",
    "#     print(variant_json)\n",
    "    if variant_json['text'].startswith('See {') is False:\n",
    "\n",
    "        pheno_id = [publi for publi in re.findall('\\{.*?\\}', variant_json['text']) if ':' not in publi and  '.' not in publi]\n",
    "        if pheno_id:\n",
    "            pheno_id = pheno_id[0]\n",
    "            pheno_id = int(pheno_id.replace('{', '').replace('}', ''))\n",
    "            publi_ids = [publi for publi in re.findall('\\{.*?\\}', variant_json['text']) if ':' in publi]\n",
    "            publi_ids = [sub_publi for publi in publi_ids for sub_publi in publi.split(':')[0].replace('{', '').split(',')]\n",
    "\n",
    "            \n",
    "            if pheno_id == r['Pheno_OMIM']:\n",
    "                pmids = []\n",
    "                try:\n",
    "                    pmids = [omim_gene_json['omim']['entryList'][0]['entry']['referenceList'][int(publi.split(':')[0].replace('{', '')) - 1]['reference']['pubmedID'] for publi in publi_ids]\n",
    "                except:\n",
    "#                     pprint([omim_gene_json['omim']['entryList'][0]['entry']['referenceList'][int(publi.split(':')[0].replace('{', '')) - 1]['reference'] for publi in publi_ids])\n",
    "                    pass\n",
    "                return pmids\n",
    "# exotic_omim_variants_exploded.loc[exotic_omim_variants_exploded['symbol'] == 'TP63'].apply(lambda r: retrieve_omim_variants_info(r), axis=1)   \n",
    "exotic_omim_variants_exploded['PMIDS_OMIM'] = exotic_omim_variants_exploded.apply(lambda r: retrieve_omim_variants_info(r), axis=1)    \n",
    "exotic_omim_variants_exploded\n",
    "\n",
    "    \n"
   ]
  },
  {
   "cell_type": "code",
   "execution_count": null,
   "id": "inappropriate-functionality",
   "metadata": {},
   "outputs": [],
   "source": [
    "exotic_omim_variants_exploded.symbol.nunique()"
   ]
  },
  {
   "cell_type": "code",
   "execution_count": null,
   "id": "reliable-bloom",
   "metadata": {},
   "outputs": [],
   "source": [
    "sorted(exotic_omim_variants_exploded.symbol.unique().tolist())"
   ]
  },
  {
   "cell_type": "code",
   "execution_count": null,
   "id": "divided-disorder",
   "metadata": {},
   "outputs": [],
   "source": [
    "pd.options.display.max_rows = 515\n",
    "exotic_omim_variants_exploded = exotic_omim_variants_exploded.loc[exotic_omim_variants_exploded['PMIDS_OMIM'].isna() == False]\n",
    "exotic_omim_variants_exploded.loc[exotic_omim_variants_exploded['symbol'] != 'PTEN'].sort_values(by='symbol', ascending=True).to_excel('/gstock/EXOTIC/data/PHENOTYPES/exotic_omim_variants_filtered.xlsx', index=False)"
   ]
  },
  {
   "cell_type": "code",
   "execution_count": null,
   "id": "serious-sellers",
   "metadata": {},
   "outputs": [],
   "source": [
    "exotic.loc[exotic['symbol'] == 'LRP5']"
   ]
  },
  {
   "cell_type": "code",
   "execution_count": null,
   "id": "hindu-discussion",
   "metadata": {},
   "outputs": [],
   "source": [
    "exotic_omim_variants_exploded.symbol.nunique()"
   ]
  },
  {
   "cell_type": "code",
   "execution_count": null,
   "id": "cubic-shape",
   "metadata": {},
   "outputs": [],
   "source": [
    "pd.options.display.max_rows = 400\n",
    "exotic_omim_variants_exploded[[\n",
    "    'symbol', 'Exon', 'EXOTIC_0.6 - 0.7_up', 'EXOTIC_0.7 - 0.8_up', 'EXOTIC_0.8 - 0.9_up',\n",
    "       'EXOTIC_0.9 - 1.0_up', 'EXOTIC_0.6 - 0.7_down', 'EXOTIC_0.7 - 0.8_down',\n",
    "       'EXOTIC_0.8 - 0.9_down', 'EXOTIC_0.9 - 1.0_down', 'PMIDS_OMIM', 'Pheno_OMIM', 'OMIM_variants'\n",
    "]]"
   ]
  },
  {
   "cell_type": "markdown",
   "id": "lovely-islam",
   "metadata": {},
   "source": [
    "# Complete table to build inverted pyramid"
   ]
  },
  {
   "cell_type": "markdown",
   "id": "human-floor",
   "metadata": {},
   "source": [
    "## EXOTIC imports"
   ]
  },
  {
   "cell_type": "code",
   "execution_count": null,
   "id": "metropolitan-scope",
   "metadata": {},
   "outputs": [],
   "source": [
    "exotic = pd.read_parquet(files[\"EXOTIC\"][\"exotic_modified_zscore\"])\n",
    "exotic[['Exon_start', 'Exon_stop']] = exotic['Exon'].str.split('-', expand=True)\n",
    "# exotic_up = omim_associations_exotic.load_exotic(files[\"EXOTIC\"][\"exotic_modified_zscore\"], 'up', cutoff=0.5)\n",
    "# exotic_down = omim_associations_exotic.load_exotic(files[\"EXOTIC\"][\"exotic_modified_zscore\"], 'down', cutoff=0.5)"
   ]
  },
  {
   "cell_type": "markdown",
   "id": "burning-seeker",
   "metadata": {},
   "source": [
    "# Clinvar"
   ]
  },
  {
   "cell_type": "code",
   "execution_count": null,
   "id": "scenic-lancaster",
   "metadata": {},
   "outputs": [],
   "source": [
    "clinvar = pd.read_parquet(files['EXOTIC']['clinvar_file_path'])\n",
    "clinvar = clinvar.loc[(clinvar['Status'] == 'Pathogenic') & (clinvar['Real_Status'].str.contains('onflict') == False)]\n",
    "# clinvar = clinvar.loc[clinvar['OMIM_VARIANT_ID'] != \"\"]\n",
    "# clinvar['ALT_Lite'] = clinvar['ALT'].apply(lambda r: eval(r)[0]) \n",
    "# clinvar['VAR_ID_Lite'] = clinvar['CHROM'].astype(str) + '_' + clinvar['POS'].astype(str) + '_' + clinvar['REF'].astype(str) + '_' + clinvar['ALT_Lite'].astype(str)\n",
    "\n",
    "clinvar"
   ]
  },
  {
   "cell_type": "code",
   "execution_count": null,
   "id": "foreign-research",
   "metadata": {},
   "outputs": [],
   "source": [
    "def mp_variants(gene, exotic, clinvar, l):\n",
    "    exotic_tmp_gene = exotic.loc[exotic['symbol'] == gene]\n",
    "    clinvar_tmp_gene = clinvar.loc[clinvar['GENE'] == gene]\n",
    "    for exon in exotic_tmp_gene.Exon.unique().tolist():\n",
    "        match_variants = clinvar_tmp_gene.POS.between(int(exon.split('-')[0]), int(exon.split('-')[1]))\n",
    "        match_variants = clinvar_tmp_gene.loc[match_variants.loc[match_variants == True].index.tolist(), 'alleleid'].values.tolist()\n",
    "        if match_variants:\n",
    "            l.append({exon : match_variants})\n",
    "        \n",
    "# for gene in tqdm():\n",
    "m = multiprocessing.Manager()\n",
    "l = m.list()\n",
    "genes = exotic.symbol.unique().tolist()\n",
    "parmap.starmap(mp_variants, list(zip(genes)), exotic, clinvar, l, pm_pbar=True)\n",
    "map_d = {k: v for d in l for k, v in d.items()}\n",
    "exotic['AlleleIDs_clinvar'] = exotic['Exon'].map(map_d)\n",
    "# exotic_up['AlleleIDs_clinvar'] = exotic_up['Exon'].map(map_d)\n",
    "# exotic_down['AlleleIDs_clinvar'] = exotic_down['Exon'].map(map_d)\n",
    "\n",
    "\n",
    "# print(l)"
   ]
  },
  {
   "cell_type": "code",
   "execution_count": null,
   "id": "friendly-vanilla",
   "metadata": {},
   "outputs": [],
   "source": [
    "exotic.loc[exotic['AlleleIDs_clinvar'].isna() == False, 'symbol'].nunique()"
   ]
  },
  {
   "cell_type": "code",
   "execution_count": null,
   "id": "cloudy-reducing",
   "metadata": {},
   "outputs": [],
   "source": [
    "exotic_clinvar = pd.merge(exotic.explode('AlleleIDs_clinvar').rename({'AlleleIDs_clinvar' : 'alleleid'}, axis=1), clinvar, on='alleleid')\n",
    "exotic_clinvar['OMIM'] = exotic_clinvar['OMIM_VARIANT_ID'].apply(lambda r: str(r).split('.')[0])\n",
    "exotic_clinvar.loc[exotic_clinvar['OMIM_VARIANT_ID'] != '', 'OMIM_variant_nb'] = exotic_clinvar.loc[exotic_clinvar['OMIM_VARIANT_ID'] != '']['OMIM_VARIANT_ID'].apply(lambda r: int(str(r).split('.')[1]))\n",
    "exotic_clinvar.to_csv('/gstock/EXOTIC/data/VARIATIONS/exotic_clinvar.csv.gz', compression='gzip', sep='\\t', index=False)\n",
    "exotic_clinvar.to_excel('/gstock/EXOTIC/data/VARIATIONS/exotic_clinvar.xlsx', index=False)\n",
    "exotic_clinvar"
   ]
  },
  {
   "cell_type": "code",
   "execution_count": null,
   "id": "spiritual-purpose",
   "metadata": {},
   "outputs": [],
   "source": [
    "exotic_clinvar"
   ]
  },
  {
   "cell_type": "code",
   "execution_count": null,
   "id": "sophisticated-madagascar",
   "metadata": {},
   "outputs": [],
   "source": [
    "exotic_clinvar = pd.read_csv('/gstock/EXOTIC/data/VARIATIONS/exotic_clinvar.csv.gz', compression='gzip', sep='\\t')\n",
    "exotic_clinvar['OMIM'] = exotic_clinvar['OMIM'].astype(int)\n",
    "# exotic_clinvar.loc[exotic_clinvar['OMIM_VARIANT_ID'] != '', 'OMIM_variant_nb'] = exotic_clinvar.loc[exotic_clinvar['OMIM_VARIANT_ID'] != '']['OMIM_VARIANT_ID'].apply(lambda r: int(str(r).split('.')[1]))\n",
    "exotic_clinvar\n"
   ]
  },
  {
   "cell_type": "code",
   "execution_count": null,
   "id": "federal-cutting",
   "metadata": {},
   "outputs": [],
   "source": [
    "exotic_clinvar.columns"
   ]
  },
  {
   "cell_type": "code",
   "execution_count": null,
   "id": "apparent-behavior",
   "metadata": {},
   "outputs": [],
   "source": [
    "import _pickle\n",
    "import re\n",
    "# for gene in exotic_omim_variants_exploded['OMIM'].unique()[:1]:\n",
    "l = list()\n",
    "\n",
    "def forbid(r):\n",
    "    forbidden = [':', '.', 'rs', 'ss', 'dbSNP']\n",
    "    check = True if set([True if e not in r else False for e in forbidden]) == {True} else False\n",
    "    return check \n",
    "\n",
    "def retrieve_omim_variants_info(r):\n",
    "#     print(r)\n",
    "#     print(r['Pheno_OMIM'])\n",
    "#     try:\n",
    "    if r['OMIM']:\n",
    "        omim_gene_json = _pickle.load(open('/gstock/biolo_datasets/variation/benchmark/Databases/OMIM/JSON_API/{}.pkl'.format(str(r['OMIM'])), 'rb'))\n",
    "        if 'allelicVariantList' in  omim_gene_json['omim']['entryList'][0]['entry']:\n",
    "            variant_json = omim_gene_json['omim']['entryList'][0]['entry']['allelicVariantList'][r['OMIM_variant_nb'] - 1]['allelicVariant']\n",
    "#             print(variant_json)\n",
    "        #     print(variant_json)\n",
    "            if variant_json['text'].startswith('See {') is False:\n",
    "                \n",
    "                pheno_ids = [publi for publi in re.findall('\\{.*?\\}', variant_json['text']) if forbid(publi) is True]\n",
    "    #             pheno_id = pheno_id[0]\n",
    "                pheno_ids = [int(pheno.replace('{', '').replace('}', '')) for pheno in pheno_ids]\n",
    "                publi_ids = [publi for publi in re.findall('\\{.*?\\}', variant_json['text']) if ':' in publi]\n",
    "                publi_ids = [sub_publi for publi in publi_ids for sub_publi in publi.split(':')[0].replace('{', '').split(',')]\n",
    "    #             print(r, pheno_ids)\n",
    "\n",
    "\n",
    "    #             if pheno_id == r['Pheno_OMIM']:\n",
    "                pmids = []\n",
    "                try:\n",
    "                    pmids = [omim_gene_json['omim']['entryList'][0]['entry']['referenceList'][int(publi.split(':')[0].replace('{', '')) - 1]['reference']['pubmedID'] for publi in publi_ids]\n",
    "                    \n",
    "                except:\n",
    "    #                     pprint([omim_gene_json['omim']['entryList'][0]['entry']['referenceList'][int(publi.split(':')[0].replace('{', '')) - 1]['reference'] for publi in publi_ids])\n",
    "                    pass\n",
    "                r['PMIDS_OMIM'] = pmids\n",
    "                r['PHENOS_OMIM'] = pheno_ids\n",
    "    return r\n",
    "                \n",
    "#                     l.append(r['OMIM'])\n",
    "#     except:\n",
    "#         l.append(r['OMIM'])\n",
    "            \n",
    "                \n",
    "# exotic_omim_variants_exploded.loc[exotic_omim_variants_exploded['symbol'] == 'TP63'].apply(lambda r: retrieve_omim_variants_info(r), axis=1) \n",
    "exotic_clinvar_tmp  = exotic_clinvar.dropna(subset=['OMIM', 'OMIM_variant_nb'])\n",
    "exotic_clinvar_tmp['OMIM_variant_nb'] = exotic_clinvar_tmp['OMIM_variant_nb'].astype(int)\n",
    "exotic_clinvar_tmp['OMIM'] = exotic_clinvar_tmp['OMIM'].astype(int)\n",
    "\n",
    "exotic_clinvar_tmp = exotic_clinvar_tmp.apply(retrieve_omim_variants_info, axis=1)\n",
    "exotic_clinvar_tmp = exotic_clinvar_tmp[list(exotic_clinvar.columns) + ['PMIDS_OMIM', 'PHENOS_OMIM']]\n",
    "exotic_clinvar_tmp\n",
    "# print(len(l))\n",
    "# print(l)\n",
    "\n",
    "    \n"
   ]
  },
  {
   "cell_type": "code",
   "execution_count": null,
   "id": "direct-reynolds",
   "metadata": {},
   "outputs": [],
   "source": [
    "exotic_clinvar_complete = pd.concat([exotic_clinvar_tmp, exotic_clinvar.loc[exotic_clinvar['OMIM'].isna() == True]], axis=0).sort_values(by='MAP')\n",
    "# test.loc[test['symbol'].isna() == True]\n",
    "print(exotic_clinvar_complete.symbol.nunique())\n",
    "exotic_clinvar_complete"
   ]
  },
  {
   "cell_type": "markdown",
   "id": "southern-pregnancy",
   "metadata": {},
   "source": [
    "## OMIM entries with multiple phenotypes & at least one rare"
   ]
  },
  {
   "cell_type": "code",
   "execution_count": null,
   "id": "flexible-harassment",
   "metadata": {},
   "outputs": [],
   "source": [
    "def load_omim(omim_path, biomart_omim_path):\n",
    "    omim = pd.read_csv(\n",
    "        omim_path,\n",
    "        compression=\"gzip\",\n",
    "        sep=\"\\t\",\n",
    "    )\n",
    "#     return omim\n",
    "\n",
    "    print(\"Total : \", omim.OMIM.nunique())\n",
    "    omim = omim.dropna(subset=list(omim.columns[6:-2]), how=\"all\")\n",
    "    print(\"Dropna on all cols : \", omim.OMIM.nunique())\n",
    "\n",
    "    biomart_omim = pd.read_csv(biomart_omim_path, sep=\"\\t\", compression=\"gzip\").dropna(subset=[\"MIM gene accession\"])\n",
    "    biomart_omim[\"MIM gene accession\"] = biomart_omim[\"MIM gene accession\"].astype(int)\n",
    "    biomart_omim = biomart_omim.rename({\"MIM gene accession\": \"OMIM\", \"Gene stable ID\": \"ensg\", \"Gene name\": \"Name\"}, axis=1)\n",
    "\n",
    "    ## ADD Gene TO OMIM\n",
    "    omim = pd.merge(biomart_omim[[\"ensg\", \"Name\", \"OMIM\"]], omim, on=\"OMIM\")\n",
    "    print(\"Merge BIOMART : \", omim.OMIM.nunique())\n",
    "\n",
    "\n",
    "    # MELT\n",
    "    omim = omim.melt(id_vars=list(omim.columns)[:7], value_vars=list(omim.columns)[7:], var_name=\"OMIM_BP\", value_name=\"OMIM_BP_phenotypes\").dropna()\n",
    "\n",
    "    return omim\n",
    "omim = load_omim(files[\"EXOTIC\"][\"omim_detailed\"], files[\"BIOMART\"][\"biomart_omim\"])\n",
    "omim"
   ]
  },
  {
   "cell_type": "code",
   "execution_count": null,
   "id": "amber-collective",
   "metadata": {},
   "outputs": [],
   "source": [
    "l = list()\n",
    "for gene in tqdm(omim.Name.unique()):\n",
    "\n",
    "    gene_omim = omim.loc[omim['Name'] == gene]\n",
    "    if gene_omim.Pheno_OMIM.nunique() > 1:\n",
    "#         print(gene, gene_omim.shape[0])\n",
    "        gene_omim_bp = gene_omim[['Name', 'Pheno_OMIM', 'OMIM_BP']].groupby(['Name', 'Pheno_OMIM'])['OMIM_BP'].apply(set).reset_index()\n",
    "        counter_pheno = collections.Counter([sub_e for e in gene_omim_bp['OMIM_BP'].values.tolist() for sub_e in e])\n",
    "        counter_pheno_rare = [k for k,v in counter_pheno.items() if v == 1]\n",
    "        l.append(gene_omim.loc[gene_omim['OMIM_BP'].isin(counter_pheno_rare)])\n",
    "        \n",
    "#         for pheno_rare in counter_pheno_rare:\n",
    "#             print(gene_omim.loc[gene_omim['OMIM_BP'] == pheno_rare, ['Pheno_OMIM', 'Pheno_prefered_title', 'OMIM_BP', 'OMIM_BP_phenotypes']].values.tolist())\n",
    "omim_multi_pheno_filterred = pd.concat(l)\n",
    "\n",
    "omim_multi_pheno_filterred"
   ]
  },
  {
   "cell_type": "code",
   "execution_count": null,
   "id": "attended-nothing",
   "metadata": {},
   "outputs": [],
   "source": [
    "list_bp_phenos_diff = omim_multi_pheno_filterred.groupby('Pheno_OMIM')['OMIM_BP'].apply(set).reset_index()\n",
    "list_bp_phenos_diff.columns = ['PHENOS_OMIM', 'BP_DIFF']\n",
    "\n"
   ]
  },
  {
   "cell_type": "code",
   "execution_count": null,
   "id": "reported-vegetable",
   "metadata": {},
   "outputs": [],
   "source": [
    "omim_pheno_diff = omim_multi_pheno_filterred.Pheno_OMIM.unique().tolist()"
   ]
  },
  {
   "cell_type": "code",
   "execution_count": null,
   "id": "becoming-dietary",
   "metadata": {},
   "outputs": [],
   "source": [
    "# aexotic_clinvar_complete.loc[exotic_clinvar_complete['PHENOS_OMIM'].isna() == False]\n",
    "exotic_clinvar_complete = exotic_clinvar_complete.explode('PHENOS_OMIM')\n",
    "exotic_clinvar_complete['PHENOS_DIFF'] = exotic_clinvar_complete['PHENOS_OMIM'].apply(lambda r: r in omim_pheno_diff)\n",
    "exotic_clinvar_complete = pd.merge(exotic_clinvar_complete, list_bp_phenos_diff, on='PHENOS_OMIM', how='left')\n",
    "exotic_clinvar_complete"
   ]
  },
  {
   "cell_type": "code",
   "execution_count": null,
   "id": "martial-aside",
   "metadata": {},
   "outputs": [],
   "source": [
    "dicts = json.load(open(\"/home/weber/PycharmProjects/EXOTIC/src/EXOTIC_config.json\"))\n",
    "mapping_omim_gtex = dicts[\"mapping_omim_gtex_neurologic\"]"
   ]
  },
  {
   "cell_type": "code",
   "execution_count": null,
   "id": "loose-sector",
   "metadata": {},
   "outputs": [],
   "source": [
    "tissues = ['Adipose - Subcutaneous', 'Adipose - Visceral (Omentum)', 'Adrenal Gland', 'Artery - Aorta', 'Artery - Coronary', 'Artery - Tibial', 'Bladder', 'Brain - Amygdala', 'Brain - Anterior cingulate cortex (BA24)', 'Brain - Caudate (basal ganglia)', 'Brain - Cerebellar Hemisphere', 'Brain - Cerebellum', 'Brain - Cortex', 'Brain - Frontal Cortex (BA9)', 'Brain - Hippocampus', 'Brain - Hypothalamus', 'Brain - Nucleus accumbens (basal ganglia)', 'Brain - Putamen (basal ganglia)', 'Brain - Spinal cord (cervical c-1)', 'Brain - Substantia nigra', 'Breast - Mammary Tissue', 'Cells - Cultured fibroblasts', 'Cells - EBV-transformed lymphocytes', 'Cervix - Ectocervix', 'Cervix - Endocervix', 'Colon - Sigmoid', 'Colon - Transverse', 'Esophagus - Gastroesophageal Junction', 'Esophagus - Mucosa', 'Esophagus - Muscularis', 'Fallopian Tube', 'Heart - Atrial Appendage', 'Heart - Left Ventricle', 'Kidney - Cortex', 'Liver', 'Lung', 'Minor Salivary Gland', 'Muscle - Skeletal', 'Nerve - Tibial', 'Ovary', 'Pancreas', 'Pituitary', 'Prostate', 'Skin - Not Sun Exposed (Suprapubic)', 'Skin - Sun Exposed (Lower leg)', 'Small Intestine - Terminal Ileum', 'Spleen', 'Stomach', 'Testis', 'Thyroid', 'Uterus', 'Vagina', 'Whole Blood']\n",
    "exotic_clinvar_complete['Up_above_cutoff'] = exotic_clinvar_complete[tissues].apply(lambda r: [tissues[j] for j, e in enumerate(r) if e > 0.6], axis=1)\n",
    "exotic_clinvar_complete['Up_tissues_EXOTIC_values'] = exotic_clinvar_complete.apply(lambda r: [round(r[e], 3) for e in r['Up_above_cutoff']], axis=1)\n",
    "exotic_clinvar_complete['BP_Up'] = exotic_clinvar_complete['Up_above_cutoff'].apply(lambda r : [bp for e in r if e in mapping_omim_gtex for bp in mapping_omim_gtex[e] ])\n",
    "exotic_clinvar_complete['Down_above_cutoff'] = exotic_clinvar_complete[tissues].apply(lambda r: [tissues[j] for j, e in enumerate(r) if e < 0.4], axis=1)\n",
    "exotic_clinvar_complete['Down_tissues_EXOTIC_values'] = exotic_clinvar_complete.apply(lambda r: [round(float(1 - r[e]), 3) for e in r['Down_above_cutoff']], axis=1)\n",
    "\n",
    "exotic_clinvar_complete['BP_Down'] = exotic_clinvar_complete['Down_above_cutoff'].apply(lambda r : [bp for e in r if e in mapping_omim_gtex for bp in mapping_omim_gtex[e] ])\n",
    "exotic_clinvar_complete.loc[(exotic_clinvar_complete['BP_Up'].isna() == False) & (exotic_clinvar_complete['BP_DIFF'].isna() == False), 'Check_BP_up'] = exotic_clinvar_complete.loc[(exotic_clinvar_complete['BP_Up'].isna() == False) & (exotic_clinvar_complete['BP_DIFF'].isna() == False)].apply(lambda r: [e  for e in r['BP_Up'] if e  and e in  r['BP_DIFF']], axis=1)\n",
    "exotic_clinvar_complete.loc[(exotic_clinvar_complete['BP_Down'].isna() == False) & (exotic_clinvar_complete['BP_DIFF'].isna() == False), 'Check_BP_down'] = exotic_clinvar_complete.loc[(exotic_clinvar_complete['BP_Down'].isna() == False) & (exotic_clinvar_complete['BP_DIFF'].isna() == False)].apply(lambda r: [e  for e in r['BP_Down'] if e  and e in  r['BP_DIFF']], axis=1)\n",
    "\n",
    "exotic_clinvar_complete\n"
   ]
  },
  {
   "cell_type": "code",
   "execution_count": null,
   "id": "administrative-excess",
   "metadata": {},
   "outputs": [],
   "source": [
    "exotic_clinvar_complete.to_csv('/gstock/EXOTIC/data/VARIATIONS/EXOTIC_clinvar_OMIM.csv.gz', compression='gzip', sep='\\t', index=False)\n",
    "exotic_clinvar_complete.to_excel('/gstock/EXOTIC/data/VARIATIONS/EXOTIC_clinvar_OMIM.xlsx', index=False)\n",
    "exotic_clinvar_complete"
   ]
  },
  {
   "cell_type": "code",
   "execution_count": null,
   "id": "emotional-least",
   "metadata": {},
   "outputs": [],
   "source": [
    "exotic_clinvar_complete.columns"
   ]
  },
  {
   "cell_type": "markdown",
   "id": "backed-qualification",
   "metadata": {},
   "source": [
    "## Stats"
   ]
  },
  {
   "cell_type": "code",
   "execution_count": null,
   "id": "federal-pakistan",
   "metadata": {},
   "outputs": [],
   "source": [
    "list_cols = ['OMIM_VARIANT_ID', 'PHENOS_OMIM', 'PHENOS_DIFF', 'PMIDS_OMIM']\n",
    "for j, col in enumerate(list_cols):\n",
    "    included_cols = list_cols[:j+1]\n",
    "    tmp_exotic = exotic_clinvar_complete[['symbol'] + included_cols]\n",
    "    if 'PHENOS_DIFF' in included_cols:\n",
    "        tmp_exotic = tmp_exotic.loc[tmp_exotic['PHENOS_DIFF'] == True]\n",
    "    print(j, col, included_cols, tmp_exotic.dropna()['symbol'].nunique())\n",
    "    \n",
    "    \n",
    "    "
   ]
  },
  {
   "cell_type": "code",
   "execution_count": null,
   "id": "judicial-acceptance",
   "metadata": {},
   "outputs": [],
   "source": [
    "exotic_clinvar_complete.symbol.nunique()"
   ]
  },
  {
   "cell_type": "code",
   "execution_count": null,
   "id": "intelligent-avenue",
   "metadata": {},
   "outputs": [],
   "source": [
    "list_cols = ['OMIM_VARIANT_ID', 'PHENOS_OMIM', 'PHENOS_DIFF', 'PMIDS_OMIM', 'Up_above_cutoff', 'BP_Up', 'Up_tissues_EXOTIC_values', 'Check_BP_up', ]\n",
    "for j, col in enumerate(list_cols):\n",
    "    included_cols = list_cols[:j+1]\n",
    "    tmp_exotic = exotic_clinvar_complete[['symbol'] + included_cols].dropna()\n",
    "    if 'PHENOS_DIFF' in included_cols:\n",
    "        tmp_exotic = tmp_exotic.loc[tmp_exotic['PHENOS_DIFF'] == True]\n",
    "    if 'up' in col.lower():\n",
    "        tmp_exotic = tmp_exotic.loc[tmp_exotic[col].str.len() > 0]\n",
    "\n",
    "    print(j, col, included_cols, tmp_exotic['symbol'].nunique())\n",
    "    \n",
    "tmp_exotic.loc[4552].to_dict()"
   ]
  },
  {
   "cell_type": "code",
   "execution_count": null,
   "id": "administrative-worship",
   "metadata": {},
   "outputs": [],
   "source": [
    "list_cols = ['OMIM_VARIANT_ID', 'PHENOS_OMIM', 'PHENOS_DIFF', 'PMIDS_OMIM', 'Down_above_cutoff', 'BP_Down', 'Down_tissues_EXOTIC_values', 'Check_BP_down', ]\n",
    "for j, col in enumerate(list_cols):\n",
    "    included_cols = list_cols[:j+1]\n",
    "    tmp_exotic = exotic_clinvar_complete[['symbol'] + included_cols].dropna()\n",
    "    if 'PHENOS_DIFF' in included_cols:\n",
    "        tmp_exotic = tmp_exotic.loc[tmp_exotic['PHENOS_DIFF'] == True]\n",
    "    if 'down' in col.lower():\n",
    "        tmp_exotic = tmp_exotic.loc[tmp_exotic[col].str.len() > 0]\n",
    "\n",
    "    print(j, col, included_cols, tmp_exotic['symbol'].nunique())\n",
    "pd.options.display.max_rows = 70\n",
    "tmp_exotic\n",
    "    "
   ]
  },
  {
   "cell_type": "code",
   "execution_count": null,
   "id": "congressional-appeal",
   "metadata": {},
   "outputs": [],
   "source": [
    "list_cols = ['OMIM_VARIANT_ID', 'PHENOS_OMIM', 'PHENOS_DIFF', 'PMIDS_OMIM']\n",
    "\n",
    "for cols in [['Down_above_cutoff', 'Up_above_cutoff'], ['BP_Up', 'BP_Down'], ['Check_BP_up', 'Check_BP_down']]:\n",
    "    tmp_exotic_down = exotic_clinvar_complete[['symbol'] + list_cols + [cols[0]]].dropna()\n",
    "    tmp_exotic_down = tmp_exotic_down.loc[tmp_exotic_down['PHENOS_DIFF'] == True]\n",
    "    tmp_exotic_down = tmp_exotic_down.loc[tmp_exotic_down[cols[0]].str.len() > 0]\n",
    "\n",
    "\n",
    "    tmp_exotic_up = exotic_clinvar_complete[['symbol'] + list_cols + [cols[1]]].dropna()\n",
    "    tmp_exotic_up = tmp_exotic_up.loc[tmp_exotic_up['PHENOS_DIFF'] == True]\n",
    "    tmp_exotic_up = tmp_exotic_up.loc[tmp_exotic_up[cols[1]].str.len() > 0]\n",
    "\n",
    "\n",
    "    print(cols, len(set(tmp_exotic_up.symbol.unique().tolist() + tmp_exotic_down.symbol.unique().tolist())))\n",
    "\n"
   ]
  }
 ],
 "metadata": {
  "kernelspec": {
   "display_name": "Python 3.7.6 64-bit ('ExoCarto': conda)",
   "language": "python",
   "name": "python37664bitexocartoconda47cfe11889aa4008ba405d9d7b40c893"
  },
  "language_info": {
   "codemirror_mode": {
    "name": "ipython",
    "version": 3
   },
   "file_extension": ".py",
   "mimetype": "text/x-python",
   "name": "python",
   "nbconvert_exporter": "python",
   "pygments_lexer": "ipython3",
   "version": "3.7.6"
  }
 },
 "nbformat": 4,
 "nbformat_minor": 5
}
