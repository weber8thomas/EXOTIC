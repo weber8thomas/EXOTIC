{
 "cells": [
  {
   "cell_type": "code",
   "execution_count": 6,
   "id": "intense-touch",
   "metadata": {},
   "outputs": [
    {
     "name": "stderr",
     "output_type": "stream",
     "text": [
      "Bioconductor version 3.12 (BiocManager 1.30.10), R 4.0.3 (2020-10-10)\n",
      "\n",
      "Installing package(s) 'ggbio'\n",
      "\n",
      "also installing the dependencies ‘SummarizedExperiment’, ‘DBI’, ‘pkgconfig’, ‘Rcpp’, ‘crayon’, ‘Rsamtools’, ‘GenomicAlignments’, ‘BiocGenerics’, ‘GenomeInfoDb’, ‘XVector’, ‘AnnotationDbi’, ‘RSQLite’, ‘Biostrings’, ‘rtracklayer’, ‘biovizBase’, ‘S4Vectors’, ‘IRanges’, ‘GenomicRanges’, ‘GenomicFeatures’, ‘rlang’\n",
      "\n",
      "\n",
      "Warning message in install.packages(...):\n",
      "“installation of package ‘BiocGenerics’ had non-zero exit status”\n",
      "Warning message in install.packages(...):\n",
      "“installation of package ‘rlang’ had non-zero exit status”\n",
      "Warning message in install.packages(...):\n",
      "“installation of package ‘RSQLite’ had non-zero exit status”\n",
      "Warning message in install.packages(...):\n",
      "“installation of package ‘S4Vectors’ had non-zero exit status”\n",
      "Warning message in install.packages(...):\n",
      "“installation of package ‘IRanges’ had non-zero exit status”\n",
      "Warning message in install.packages(...):\n",
      "“installation of package ‘GenomeInfoDb’ had non-zero exit status”\n",
      "Warning message in install.packages(...):\n",
      "“installation of package ‘XVector’ had non-zero exit status”\n",
      "Warning message in install.packages(...):\n",
      "“installation of package ‘AnnotationDbi’ had non-zero exit status”\n",
      "Warning message in install.packages(...):\n",
      "“installation of package ‘Biostrings’ had non-zero exit status”\n",
      "Warning message in install.packages(...):\n",
      "“installation of package ‘GenomicRanges’ had non-zero exit status”\n",
      "Warning message in install.packages(...):\n",
      "“installation of package ‘SummarizedExperiment’ had non-zero exit status”\n",
      "Warning message in install.packages(...):\n",
      "“installation of package ‘Rsamtools’ had non-zero exit status”\n",
      "Warning message in install.packages(...):\n",
      "“installation of package ‘GenomicAlignments’ had non-zero exit status”\n",
      "Warning message in install.packages(...):\n",
      "“installation of package ‘rtracklayer’ had non-zero exit status”\n",
      "Warning message in install.packages(...):\n",
      "“installation of package ‘GenomicFeatures’ had non-zero exit status”\n",
      "Warning message in install.packages(...):\n",
      "“installation of package ‘biovizBase’ had non-zero exit status”\n",
      "Warning message in install.packages(...):\n",
      "“installation of package ‘ggbio’ had non-zero exit status”\n",
      "Old packages: 'acepack', 'Biobase', 'BiocParallel', 'biomaRt', 'boot',\n",
      "  'BSgenome', 'class', 'cluster', 'codetools', 'colorspace', 'digest',\n",
      "  'evaluate', 'foreign', 'Formula', 'futile.logger', 'futile.options',\n",
      "  'ggplot2', 'gridExtra', 'gtable', 'Hmisc', 'IRdisplay', 'IRkernel',\n",
      "  'jsonlite', 'KernSmooth', 'labeling', 'lambda.r', 'lattice', 'latticeExtra',\n",
      "  'magrittr', 'MASS', 'Matrix', 'mgcv', 'munsell', 'nlme', 'nnet', 'plyr',\n",
      "  'proto', 'RCurl', 'repr', 'reshape2', 'rpart', 'rzmq', 'scales', 'snow',\n",
      "  'spatial', 'stringi', 'stringr', 'survival', 'uuid', 'VariantAnnotation',\n",
      "  'XML', 'zlibbioc'\n",
      "\n"
     ]
    }
   ],
   "source": [
    "if (!requireNamespace(\"BiocManager\", quietly = TRUE))\n",
    "    install.packages(\"BiocManager\")\n",
    "\n",
    "BiocManager::install(\"ggbio\")"
   ]
  },
  {
   "cell_type": "code",
   "execution_count": 2,
   "id": "given-jackson",
   "metadata": {},
   "outputs": [
    {
     "name": "stderr",
     "output_type": "stream",
     "text": [
      "Bioconductor version 3.12 (BiocManager 1.30.10), R 4.0.3 (2020-10-10)\n",
      "\n",
      "Installing package(s) 'TxDb.Hsapiens.UCSC.hg19.knownGene'\n",
      "\n",
      "also installing the dependencies ‘BiocFileCache’, ‘RSQLite’, ‘biomaRt’, ‘GenomicFeatures’, ‘AnnotationDbi’\n",
      "\n",
      "\n",
      "Old packages: 'data.table', 'gdtools', 'glmnet'\n",
      "\n"
     ]
    }
   ],
   "source": [
    "if (!requireNamespace(\"BiocManager\", quietly = TRUE))\n",
    "    install.packages(\"BiocManager\")\n",
    "\n",
    "BiocManager::install(\"TxDb.Hsapiens.UCSC.hg19.knownGene\")"
   ]
  },
  {
   "cell_type": "code",
   "execution_count": 5,
   "id": "disabled-potential",
   "metadata": {},
   "outputs": [
    {
     "name": "stderr",
     "output_type": "stream",
     "text": [
      "Bioconductor version 3.12 (BiocManager 1.30.10), R 4.0.3 (2020-10-10)\n",
      "\n",
      "Installing package(s) 'biovizBase'\n",
      "\n",
      "also installing the dependencies ‘Hmisc’, ‘VariantAnnotation’, ‘ensembldb’\n",
      "\n",
      "\n",
      "Warning message in install.packages(...):\n",
      "“installation of package ‘Hmisc’ had non-zero exit status”\n",
      "Warning message in install.packages(...):\n",
      "“installation of package ‘biovizBase’ had non-zero exit status”\n",
      "Old packages: 'data.table', 'gdtools', 'glmnet'\n",
      "\n"
     ]
    }
   ],
   "source": [
    "if (!requireNamespace(\"BiocManager\", quietly = TRUE))\n",
    "    install.packages(\"BiocManager\")\n",
    "\n",
    "BiocManager::install(\"biovizBase\")"
   ]
  },
  {
   "cell_type": "code",
   "execution_count": 7,
   "id": "flying-essence",
   "metadata": {},
   "outputs": [
    {
     "name": "stderr",
     "output_type": "stream",
     "text": [
      "Bioconductor version 3.12 (BiocManager 1.30.10), R 4.0.3 (2020-10-10)\n",
      "\n",
      "Installing package(s) 'BSgenome.Hsapiens.NCBI.GRCh38'\n",
      "\n",
      "Old packages: 'data.table', 'gdtools', 'glmnet'\n",
      "\n"
     ]
    }
   ],
   "source": [
    "if (!requireNamespace(\"BiocManager\", quietly = TRUE))\n",
    "    install.packages(\"BiocManager\")\n",
    "\n",
    "BiocManager::install(\"BSgenome.Hsapiens.NCBI.GRCh38\")"
   ]
  },
  {
   "cell_type": "code",
   "execution_count": 1,
   "id": "awful-operation",
   "metadata": {},
   "outputs": [
    {
     "data": {
      "text/plain": [
       "               _                           \n",
       "platform       x86_64-conda-linux-gnu      \n",
       "arch           x86_64                      \n",
       "os             linux-gnu                   \n",
       "system         x86_64, linux-gnu           \n",
       "status                                     \n",
       "major          4                           \n",
       "minor          0.3                         \n",
       "year           2020                        \n",
       "month          10                          \n",
       "day            10                          \n",
       "svn rev        79318                       \n",
       "language       R                           \n",
       "version.string R version 4.0.3 (2020-10-10)\n",
       "nickname       Bunny-Wunnies Freak Out     "
      ]
     },
     "metadata": {},
     "output_type": "display_data"
    }
   ],
   "source": [
    "version"
   ]
  },
  {
   "cell_type": "code",
   "execution_count": 2,
   "id": "hybrid-charter",
   "metadata": {},
   "outputs": [
    {
     "name": "stderr",
     "output_type": "stream",
     "text": [
      "Loading required package: GenomicFeatures\n",
      "\n",
      "Loading required package: BiocGenerics\n",
      "\n",
      "Loading required package: parallel\n",
      "\n",
      "\n",
      "Attaching package: ‘BiocGenerics’\n",
      "\n",
      "\n",
      "The following objects are masked from ‘package:parallel’:\n",
      "\n",
      "    clusterApply, clusterApplyLB, clusterCall, clusterEvalQ,\n",
      "    clusterExport, clusterMap, parApply, parCapply, parLapply,\n",
      "    parLapplyLB, parRapply, parSapply, parSapplyLB\n",
      "\n",
      "\n",
      "The following objects are masked from ‘package:stats’:\n",
      "\n",
      "    IQR, mad, sd, var, xtabs\n",
      "\n",
      "\n",
      "The following objects are masked from ‘package:base’:\n",
      "\n",
      "    anyDuplicated, append, as.data.frame, basename, cbind, colnames,\n",
      "    dirname, do.call, duplicated, eval, evalq, Filter, Find, get, grep,\n",
      "    grepl, intersect, is.unsorted, lapply, Map, mapply, match, mget,\n",
      "    order, paste, pmax, pmax.int, pmin, pmin.int, Position, rank,\n",
      "    rbind, Reduce, rownames, sapply, setdiff, sort, table, tapply,\n",
      "    union, unique, unsplit, which.max, which.min\n",
      "\n",
      "\n",
      "Loading required package: S4Vectors\n",
      "\n",
      "Loading required package: stats4\n",
      "\n",
      "\n",
      "Attaching package: ‘S4Vectors’\n",
      "\n",
      "\n",
      "The following object is masked from ‘package:base’:\n",
      "\n",
      "    expand.grid\n",
      "\n",
      "\n",
      "Loading required package: IRanges\n",
      "\n",
      "Loading required package: GenomeInfoDb\n",
      "\n",
      "Loading required package: GenomicRanges\n",
      "\n",
      "Loading required package: AnnotationDbi\n",
      "\n",
      "Loading required package: Biobase\n",
      "\n",
      "Welcome to Bioconductor\n",
      "\n",
      "    Vignettes contain introductory material; view with\n",
      "    'browseVignettes()'. To cite Bioconductor, see\n",
      "    'citation(\"Biobase\")', and for packages 'citation(\"pkgname\")'.\n",
      "\n",
      "\n"
     ]
    }
   ],
   "source": [
    "library(TxDb.Hsapiens.UCSC.hg19.knownGene)\n",
    "# library(ggbio)\n"
   ]
  },
  {
   "cell_type": "code",
   "execution_count": 2,
   "id": "driven-nashville",
   "metadata": {},
   "outputs": [
    {
     "ename": "ERROR",
     "evalue": "Error in eval(expr, envir, enclos): object '.lib_paths' not found\n",
     "output_type": "error",
     "traceback": [
      "Error in eval(expr, envir, enclos): object '.lib_paths' not found\nTraceback:\n"
     ]
    }
   ],
   "source": []
  },
  {
   "cell_type": "code",
   "execution_count": 3,
   "id": "aggregate-washington",
   "metadata": {},
   "outputs": [
    {
     "ename": "ERROR",
     "evalue": "Error in find.package(package, lib.loc, verbose = verbose): there is no package called ‘biovizBase’\n",
     "output_type": "error",
     "traceback": [
      "Error in find.package(package, lib.loc, verbose = verbose): there is no package called ‘biovizBase’\nTraceback:\n",
      "1. data(genesymbol, package = \"biovizBase\")",
      "2. find.package(package, lib.loc, verbose = verbose)"
     ]
    }
   ],
   "source": [
    "data(genesymbol, package = \"biovizBase\")\n",
    "txdb <- TxDb.Hsapiens.UCSC.hg19.knownGene\n",
    "model <- exonsBy(txdb, by = \"tx\")\n",
    "model17 <- subsetByOverlaps(model, genesymbol[\"RBM17\"])\n",
    "exons <- exons(txdb)\n",
    "exon17 <- subsetByOverlaps(exons, genesymbol[\"RBM17\"])\n",
    "## reduce to make sure there is no overlap\n",
    "## just for example\n",
    "exon.new <- reduce(exon17)\n",
    "## suppose\n",
    "values(exon.new)$sample1 <- rnorm(length(exon.new), 10, 3)\n",
    "values(exon.new)$sample2 <- rnorm(length(exon.new), 10, 10)\n",
    "values(exon.new)$score <- rnorm(length(exon.new))\n",
    "values(exon.new)$significant <- sample(c(TRUE,FALSE), size = length(exon.new),replace = TRUE)\n",
    "## data ready\n",
    "exon.new\n"
   ]
  },
  {
   "cell_type": "code",
   "execution_count": null,
   "id": "hazardous-context",
   "metadata": {},
   "outputs": [],
   "source": []
  }
 ],
 "metadata": {
  "kernelspec": {
   "display_name": "R [conda env:.conda-R_ggbio]",
   "language": "R",
   "name": "conda-env-.conda-R_ggbio-r"
  },
  "language_info": {
   "codemirror_mode": "r",
   "file_extension": ".r",
   "mimetype": "text/x-r-source",
   "name": "R",
   "pygments_lexer": "r",
   "version": "4.0.3"
  }
 },
 "nbformat": 4,
 "nbformat_minor": 5
}
