d = {
    'Total' : (1,2580),
    'Gene' : (880,3000),
    'Regulatory' : (880,2433),
    'mRNA' : (2434,3000),
    'exon' : (2434,2479),
    "5'UTR" : (2434,3000),
    'intron' : (2480,3000),
}

import matplotlib.pyplot as plt
import matplotlib
import seaborn as sns
matplotlib.rcParams.update({'font.size': 22})
f, ax = plt.subplots(figsize=(15,15))

for i, (k, v) in enumerate(d.items()):
    ax.hlines(i, xmin=v[0], xmax=v[1], label=k, lw=55, color=sns.color_palette('Paired')[i])

ax.vlines(2580, ymin=0, ymax=len(list(d.keys())) - 1, color='black', ls='--')
ax.set_yticklabels(['Total'] + list(d.keys()))

