def custom_boxeplot_grid(df, x, y_s, rename_dict):
    # data['Gene_length'] = data['Gene end (bp)'] - data['Gene start (bp)']
    # data['Transcript_length'] = data['Transcript end (bp)'] - data['Transcript start (bp)']
    data = df
    data = data.rename(rename_dict, axis=1)
    sns.set_context('paper', font_scale=1.5)


    x = x
    y_s = y_s

    # if len(x_s) > 3:


    f, ax = plt.subplots(ncols=len(y_s), figsize=(5*len(y_s), 7))

    for i, y in zip(range(len(y_s)), y_s):

        b = sns.boxenplot(data=data, x=x, y=y, ax=ax[i], showfliers=False)
        ymin = 0
        ymax = data[y].quantile(0.98)
        if 'GC'  in y:
            ymin = data[y].min()
            ymax = data[y].max()
        ax[i].set_ylim(ymin,ymax)

        ax[i].spines['right'].set_linewidth(0)
        ax[i].spines['top'].set_linewidth(0)

        medians = data[[x, y]].groupby([x])[y].median().sort_index(ascending=True)
        vertical_offset = data[y].median() * 0.05 # offset from median for display

        if medians[0] > 100:
            ratio = "+{}%".format(round(100 * round((max(medians) - min(medians)) / min(medians), 2), 0))
        else:
            ratio = "+{}".format(round(max(medians) - min(medians), 0))
        b.text(0.5, ymax/2, ratio, horizontalalignment='center',size='medium')


    
#     plt.ylabel('Exon length')
        ax[i].set_xlabel('')

        for j, xtick in enumerate(b.get_xticks()):
            if j <0:
                color='grey'
            else:
                color='w'
            b.text(xtick,medians[xtick] + vertical_offset,medians[xtick], 
                    horizontalalignment='center',size='medium',color=color,weight='semibold')

        add_stat_annotation(b, data=data, x=x, y=y, order= ['Single Isoform', 'Multi Isoform'],
                            box_pairs=[('Single Isoform', 'Multi Isoform')],
                            test='Mann-Whitney', text_format='star', loc='outside', verbose=2)
    #     print(data[[x, y]].drop_duplicates().pivot(columns='Gene_type', values='Length').describe())
    plt.tight_layout()


def custom_boxeplot(df, x, y_s, rename_dict):
    # data['Gene_length'] = data['Gene end (bp)'] - data['Gene start (bp)']
    # data['Transcript_length'] = data['Transcript end (bp)'] - data['Transcript start (bp)']
    data = df
    data = data.rename(rename_dict, axis=1)
    sns.set_context('paper', font_scale=1.5)


    x = x
    y_s = y_s

    # if len(x_s) > 3:


    f, ax = plt.subplots(ncols=len(y_s), figsize=(5*len(y_s), 7))

    for i, y in zip(range(len(y_s)), y_s):

        b = sns.boxenplot(data=data, x=x, y=y, showfliers=False)
        ymin = 0
        ymax = data[y].quantile(0.98)
        if 'GC'  in y:
            ymin = data[y].min()
            ymax = data[y].max()
        ax.set_ylim(ymin,ymax)

        ax.spines['right'].set_linewidth(0)
        ax.spines['top'].set_linewidth(0)

        medians = data[[x, y]].groupby([x])[y].median().sort_index(ascending=True)
        vertical_offset = data[y].median() * 0.05 # offset from median for display

        if medians[0] > 100:
            ratio = "+{}%".format(round(100 * round((max(medians) - min(medians)) / min(medians), 2), 0))
        else:
            ratio = "+{}".format(round(max(medians) - min(medians), 0))
        b.text(0.5, ymax/2, ratio, horizontalalignment='center',size='medium')


    
#     plt.ylabel('Exon length')
        ax.set_xlabel('')

        for j, xtick in enumerate(b.get_xticks()):
            if j <0:
                color='grey'
            else:
                color='w'
            b.text(xtick,medians[xtick] + vertical_offset,medians[xtick], 
                    horizontalalignment='center',size='medium',color=color,weight='semibold')

        add_stat_annotation(b, data=data, x=x, y=y, order= ['Single Isoform', 'Multi Isoform'],
                            box_pairs=[('Single Isoform', 'Multi Isoform')],
                            test='Mann-Whitney', text_format='star', loc='outside', verbose=2)
    #     print(data[[x, y]].drop_duplicates().pivot(columns='Gene_type', values='Length').describe())
    plt.tight_layout()


get_ipython().run_line_magic("config", " Completer.use_jedi = False")


import math
import os
import sys
import pandas as pd
sys.path.append("/home/weber/PycharmProjects/EXOTIC/src")
from statannot import add_stat_annotation

pd.options.mode.chained_assignment = None  # default='warn'
import multiprocessing
import parmap
import numpy as np
import collections
from tqdm import tqdm
import pandarallel
from pandarallel import pandarallel

pandarallel.initialize(nb_workers=20, progress_bar=True)
# tqdm.pandas()
from pprint import pprint
from scipy.stats import zscore
from scipy import stats

import requests
import re
import seaborn as sns
import matplotlib.pyplot as plt
import matplotlib
import matplotlib.colors as mc
from matplotlib.colors import LogNorm
import json
import matplotlib.ticker as mtick
from utils.utils import load_config_file

## YAML FILES CONFIG
yaml = load_config_file(config_file="/home/weber/PycharmProjects/EXOTIC/src/config.yaml")
exotic_files = yaml

import matplotlib.font_manager as font_manager

font_dirs = ['/home/weber/Fonts', ]
font_files = font_manager.findSystemFonts(fontpaths=font_dirs)
font_list = font_manager.createFontList(font_files)
font_manager.fontManager.ttflist.extend(font_list)

from matplotlib import rcParams
rcParams['font.family'] = 'sans-serif'
rcParams['font.sans-serif'] = ['Arial']
rcParams['font.weight'] = 'light'


biomart_path = "/gstock/EXOTIC/data/OTHERS/biomart_all.txt.gz"
biomart = pd.read_csv(biomart_path, compression='gzip', sep='\t', low_memory=False)
biomart = biomart.loc[(biomart['Gene type'] == 'protein_coding') & (biomart['Transcript type'] == 'protein_coding')]
biomart.columns


biomart.head()


biomart_gb_gene.to_csv('/gstock/EXOTIC/data/OTHERS/biomart_mi_si.csv.gz', compression='gzip', sep='\t', index=False)


biomart_gb_gene = biomart.groupby(['Gene stable ID'])['Transcript stable ID'].nunique().reset_index()
biomart_gb_gene.loc[biomart_gb_gene['Transcript stable ID'] == 1, 'Gene_type'] = 'Single Isoform'
biomart_gb_gene.loc[biomart_gb_gene['Transcript stable ID'] > 1, 'Gene_type'] = 'Multi Isoform'
biomart_gb_gene.columns = ['Gene stable ID', 'Transcript_count', 'Gene_type']
biomart_gb_gene['Gene_type'].value_counts()


biomart_gb_gene = biomart.groupby(['Gene name'])['Transcript stable ID'].nunique().reset_index()
biomart_gb_gene.loc[biomart_gb_gene['Transcript stable ID'] == 1, 'Gene_type'] = 'Single Isoform'
biomart_gb_gene.loc[biomart_gb_gene['Transcript stable ID'] > 1, 'Gene_type'] = 'Multi Isoform'
biomart_gb_gene.columns = ['Gene name', 'Transcript_count', 'Gene_type']
biomart_gb_gene['Gene_type'].value_counts()


biomart_gb_gene[['Gene name', 'Gene_type']].to_excel('/gstock/EXOTIC/data/GENOMICS/Ensembl_GRCh38_MI_SI.xlsx')


biomart_gb_transcript = biomart.groupby(['Gene stable ID', 'Transcript stable ID'])['Exon stable ID'].nunique().reset_index()
biomart_gb_transcript.head()


merge = pd.merge(
    pd.merge(biomart_gb_gene, biomart_gb_transcript, on='Gene stable ID'),
    biomart[['Gene stable ID', 'Transcript stable ID', 'Gene start (bp)', 'Gene end (bp)', 'Transcript start (bp)',
       'Transcript end (bp)', 'Transcript length (including UTRs and CDS)', 'Gene % GC content']].drop_duplicates(),
    left_on=['Gene stable ID', 'Transcript stable ID'],
    right_on=['Gene stable ID', 'Transcript stable ID']
)
merge.head()


data = merge.sort_values(by='Gene_type', ascending=True)
data['Gene_length'] = data['Gene end (bp)'] - data['Gene start (bp)']
data['Transcript_length'] = data['Transcript end (bp)'] - data['Transcript start (bp)']

custom_boxeplot_grid(data, 'Gene_type', 
                     ['Gene length', 'Gene % GC content', 'Transcript length (with introns)', 'Transcript length (including UTRs and CDS)',  'Exon count'], 
                    {
            'Gene_length' : 'Gene length',
            'Transcript_length' : 'Transcript length (with introns)',
            'Exon stable ID' : 'Exon count'
        }
                    )



refseq_37 = pd.read_csv('/gstock/EXOTIC/data/GENOMICS/GRCh37_RefSeq_lite_hgnc.csv.gz', compression='gzip', sep='\t')
refseq_37.loc[refseq_37['mRNA_nb'] > 1, 'Gene_type'] = 'Multi Isoform'
refseq_37.loc[refseq_37['mRNA_nb'] == 1, 'Gene_type'] = 'Single Isoform'
refseq_37


refseq_37['Gene_type'].value_counts()


refseq_38 = pd.read_parquet('/gstock/EXOTIC/data/GENOMICS/RefSeq_38_precomputed.parquet')
refseq_38 = refseq_38[[c for c in refseq_38.columns if 'Bin' not in c]]
refseq_38['Exon_length'] = refseq_38['Exon_list'].apply(lambda r: [int(e.split('_')[1]) - int(e.split('_')[0]) for e in r])
refseq_38['Intron_length'] = refseq_38['Intron_list'].apply(lambda r: [int(e.split('_')[1]) - int(e.split('_')[0]) for e in r])
refseq_38['Intron_pct'] = refseq_38['Intron_size_total'].rank(pct=True)
refseq_38 = refseq_38.loc[(refseq_38['Intron_pct'] <= 0.95) & (refseq_38['Intron_size_total'] > 0)]
refseq_38['Exon_count'] = refseq_38['Exon_list'].apply(len)
refseq_38['Intron_count'] = refseq_38['Intron_list'].apply(len)
refseq_38.head()


refseq = pd.merge(refseq_37.set_index('Name')[['Gene_type']], refseq_38, left_index=True, right_index=True)
refseq.head()


data = refseq.sort_values(by='Gene_type', ascending=True)

x_s = 'Gene_type'
y_s = ['Gene length', "5' UTR length", "3' UTR length", 'Exons cumsum', 'Introns cumsum', 'Exons count', 'Introns count']

rename_dict = {
    'Gene_body_size' : 'Gene length',
    '5_prime_UTR_size' : "5' UTR length",
    '3_prime_UTR_size' : "3' UTR length",
    'Exon_size_total' : 'Exons cumsum',
    'Intron_size_total' : 'Introns cumsum',
    'Exon_count' : "Exons count",
    'Intron_count' : "Introns count"
}

custom_boxeplot_grid(data, x_s, y_s, rename_dict)



import numpy as np
data = refseq.sort_values(by='Gene_type', ascending=True)
data = data.reset_index()[['Gene_type', 'index', 'Intron_length']].explode('Intron_length').dropna()
data = data.replace([np.inf, -np.inf], np.nan)

x_s = 'Gene_type'
y_s = ['Intron_length']

custom_boxeplot(data, x_s, y_s, {})



import numpy as np
data = refseq.sort_values(by='Gene_type', ascending=True)
data = data.reset_index()[['Gene_type', 'index', 'Exon_length']].explode('Exon_length').dropna()
data = data.replace([np.inf, -np.inf], np.nan)

x_s = 'Gene_type'
y_s = ['Exon_length']

    
custom_boxeplot(data, x_s, y_s, {})



refseq_38.head()


refseq_corrected_by_gtex = pd.read_parquet('/gstock/EXOTIC/data/GENOMICS/RefSeq_corrected_by_GTEx_lite.parquet')
refseq_corrected_by_gtex.loc[refseq_corrected_by_gtex['new_mRNA_nb_total'] == 1, 'Gene_type'] = 'Single Isoform'
refseq_corrected_by_gtex.loc[refseq_corrected_by_gtex['new_mRNA_nb_total'] > 1, 'Gene_type'] = 'Multi Isoform'
refseq_corrected_by_gtex['Length'] = refseq_corrected_by_gtex['End'] - refseq_corrected_by_gtex['Start']
refseq_corrected_by_gtex.head()


refseq_corrected_full_info = pd.merge(refseq_38.reset_index(), refseq_corrected_by_gtex[['Gene', 'Gene_type']], left_on='index', right_on='Gene')
refseq_corrected_full_info.head()



print(refseq_corrected_by_gtex.Gene.nunique())
print(refseq_corrected_by_gtex.loc[refseq_corrected_by_gtex['new_mRNA_nb_total'] == 1].Gene.nunique())
print(refseq_corrected_by_gtex.loc[refseq_corrected_by_gtex['new_mRNA_nb_total'] > 1].Gene.nunique())


rename_dict = {
    'Gene_body_size' : 'Gene length',
    '5_prime_UTR_size' : "5' UTR length",
    '3_prime_UTR_size' : "3' UTR length",
    'Exon_size_total' : 'Exons cumsum',
    'Intron_size_total' : 'Introns cumsum',
    'Exon_count' : "Exons count",
    'Intron_count' : "Introns count"
}

data = refseq_corrected_full_info.rename(rename_dict, axis=1)

data = data.sort_values(by='Gene_type', ascending=True)[['Gene', 'Gene_type', 'Gene length', "5' UTR length", "3' UTR length", 'Exons cumsum', 'Introns cumsum', 'Exons count', 'Introns count']].drop_duplicates()

x_s = 'Gene_type'
y_s = ['Gene length', "5' UTR length", "3' UTR length", 'Exons cumsum', 'Introns cumsum', 'Exons count', 'Introns count']



custom_boxeplot_grid(data, x_s, y_s, {})



data = refseq_corrected_by_gtex.sort_values(by='Gene_type', ascending=True)[['Gene', 'Gene_type', 'new_CDS_count']].drop_duplicates()
custom_boxeplot(data, 'Gene_type', ['Exon count'], {'new_CDS_count' : 'Exon count'})


data = refseq_corrected_by_gtex.sort_values(by='Gene_type', ascending=True)[['Gene', 'Gene_type', 'Length']]
custom_boxeplot(data, 'Gene_type', ['Exon length'], {'Length' : 'Exon length'})


#data[['Gene_type', 'ranges', 'Length']].drop_duplicates().pivot(columns='Gene_type', values='Length').describe().style.highlight_max(color='#F39B7FFF', axis=1)



refseq_corrected_by_gtex = pd.read_parquet('/gstock/EXOTIC/data/GENOMICS/RefSeq_corrected_by_GTEx_lite.parquet')
refseq_corrected_by_gtex.loc[refseq_corrected_by_gtex['new_mRNA_nb_total'] == 1, 'Gene_type'] = 'Single Isoform'
refseq_corrected_by_gtex.loc[refseq_corrected_by_gtex['new_mRNA_nb_total'] > 1, 'Gene_type'] = 'Multi Isoform'

biomart = pd.read_csv('/gstock/EXOTIC/data/OTHERS/biomart_refseq_ensembl_hgnc.txt.gz', compression='gzip', sep='\t')

merge_biomart = pd.merge(refseq_corrected_by_gtex[['Gene', 'Gene_type']].drop_duplicates(), biomart[['Gene name', 'Gene end (bp)', 'Gene start (bp)', 'Gene type']].drop_duplicates(), left_on='Gene', right_on='Gene name')
merge_biomart.head()


data = merge_biomart.sort_values(by='Gene_type', ascending=True)
data['Gene Length'] = data['Gene end (bp)'] - data['Gene start (bp)']

custom_boxeplot(data, 'Gene_type', ['Gene Length'], {})
