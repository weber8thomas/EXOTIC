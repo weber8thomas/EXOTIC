import pandas as pd


gtex_raw_transcripts = pd.read_csv('/gstock/biolo_datasets/variation/benchmark/Databases/GTEX/V7/GTEx.V7.tx_medians.021820.tsv.bgz', compression='gzip', sep='\t')
gtex_raw_transcripts


gtex_raw_transcripts.gene_id.nunique()


biomart = pd.read_csv('/gstock/EXOTIC/data/OTHERS/biomart_refseq_ensembl_hgnc.txt.gz', compression='gzip', sep='\t')[['Gene name', 'HGNC ID', 'Gene stable ID']].drop_duplicates()
biomart['HGNC ID'] = biomart['HGNC ID'].str.replace('HGNC:', '')
# print(biomart['Gene name'].nunique())
biomart = biomart.dropna(subset=['HGNC ID'])
biomart['HGNC ID'] = biomart['HGNC ID'].astype(int)
print(biomart['Gene name'].nunique())
biomart


refseq_37 = pd.read_csv('/gstock/EXOTIC/data/GENOMICS/GRCh37_RefSeq_lite_hgnc.csv.gz', compression='gzip', sep='\t')
refseq_37


refseq_37.dropna(subset=['HGNC'])
# refseq_37.HGNC = refseq_37.HGNC.astype(int)


merge_biomart_refseq = pd.merge(refseq_37[['Name', 'HGNC', 'Start', 'End']], biomart, left_on='HGNC', right_on='HGNC ID')
print(merge_biomart_refseq.Name.nunique())
print(merge_biomart_refseq['Gene stable ID'].nunique())
print(merge_biomart_refseq['HGNC ID'].nunique())
merge_biomart_refseq


refseq_biomart_gtex = merge_biomart_refseq.loc[merge_biomart_refseq['Gene stable ID'].isin(gtex_raw_transcripts['gene_id'].unique().tolist())]
print(refseq_biomart_gtex['Gene stable ID'].nunique())
print(refseq_biomart_gtex['Gene name'].nunique())
print(refseq_biomart_gtex['HGNC ID'].nunique())
