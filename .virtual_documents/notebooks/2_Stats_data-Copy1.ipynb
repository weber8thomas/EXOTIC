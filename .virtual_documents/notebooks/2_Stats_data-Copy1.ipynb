import math
import os
import sys
import pandas as pd
sys.path.append("/home/weber/PycharmProjects/EXOTIC/src")
from statannot import add_stat_annotation

pd.options.mode.chained_assignment = None  # default='warn'
import multiprocessing
import parmap
import numpy as np
import collections
from tqdm import tqdm
import pandarallel
from pandarallel import pandarallel

pandarallel.initialize(nb_workers=20, progress_bar=True)
# tqdm.pandas()
from pprint import pprint
from scipy.stats import zscore
from scipy import stats

import requests
import re
import seaborn as sns
import matplotlib.pyplot as plt
import matplotlib
import matplotlib.colors as mc
from matplotlib.colors import LogNorm
import json
import matplotlib.ticker as mtick
from utils.utils import load_config_file

## YAML FILES CONFIG
yaml = load_config_file(config_file="/home/weber/PycharmProjects/EXOTIC/src/config.yaml")
exotic_files = yaml


refseq_gene = pd.read_csv(
    '/home/weber/PycharmProjects/ExoCarto/data/2_processed/GRCh37_RefSeq_lite_hgnc.csv.gz',
    compression='gzip', 
    sep='\t'
)
refseq_gene.loc[refseq_gene['mRNA_nb'] == 1]


refseq = pd.read_csv('/home/weber/PycharmProjects/ExoCarto/data/2_processed/DF_transformed.csv.gz', compression='gzip', sep='\t', low_memory=False)
refseq = refseq.loc[refseq['mRNA_nb'] > 1]
refseq['Ratio_num'] = refseq['Ratio'].apply(eval)
refseq.loc[refseq['Ratio_num'] < 1,  'Const_Alt'] = 'Alt'
refseq.loc[refseq['Ratio_num'] == 1,  'Const_Alt'] = 'Const'
bins = [0, 0.2, 0.4, 0.6, 0.8, 1]
labels = bins.copy()
labels_ratio = [str(round(labels[j], 1)) + " - " + str(round(labels[j + 1], 1)) for j in range(len(labels) - 1)]
refseq["Ratio_num_bins"] = pd.cut(refseq["Ratio_num"], bins=bins, labels=labels_ratio, include_lowest=True)
refseq = refseq.drop_duplicates(subset=['Gene', 'ranges'])


refseq_corrected_by_gtex_raw = pd.read_parquet('/gstock/EXOTIC/data/GENOMICS/refseq_old_new.parquet')

print("OLD : Single mRNA", refseq_corrected_by_gtex_raw.loc[refseq_corrected_by_gtex_raw['mRNA_nb_total'] == 1, 'Gene'].nunique())
print("OLD : Multi mRNA", refseq_corrected_by_gtex_raw.loc[refseq_corrected_by_gtex_raw['mRNA_nb_total'] > 1, 'Gene'].nunique())

print("NEW : Single mRNA", refseq_corrected_by_gtex_raw.loc[refseq_corrected_by_gtex_raw['new_mRNA_nb_total'] == 1, 'Gene'].nunique())
print("NEW : Multi RNA", refseq_corrected_by_gtex_raw.loc[refseq_corrected_by_gtex_raw['new_mRNA_nb_total'] > 1, 'Gene'].nunique())
print("OLD & NEW : total", refseq_corrected_by_gtex_raw.Gene.nunique())


t


t = refseq_corrected_by_gtex_raw.groupby(['Gene', 'new_mRNA_nb_total'])['ranges'].agg('nunique').reset_index()

print("Total & Single CDS : ", t.loc[t['ranges'] == 1].shape[0])
print("Total & Multi CDS : ", t.loc[t['ranges'] > 1].shape[0])

print("Single mRNA & Single CDS : ", t.loc[(t['new_mRNA_nb_total'] == 1) & (t['ranges'] == 1)].shape[0])
print("Single mRNA & Multi CDS : ", t.loc[(t['new_mRNA_nb_total'] == 1) & (t['ranges'] > 1)].shape[0])


print("Multi mRNA & Single CDS : ", t.loc[(t['new_mRNA_nb_total'] > 1) & (t['ranges'] == 1)].shape[0])
print("Multi mRNA & Multi CDS : ", t.loc[(t['new_mRNA_nb_total'] > 1) & (t['ranges'] > 1)].shape[0])


t


refseq_corrected_by_gtex = pd.read_parquet('/gstock/EXOTIC/data/GENOMICS/RefSeq_corrected_by_GTEx_lite.parquet')



import plotly.graph_objects as go 
  
  
plot = go.Figure(go.Sankey( 
    node = { 
        "label": ["Geeks", "For", "Geeks", "GFG"], 
        "x": [0.5, 0.2, 0.1, 0.9], 
        "y": [0.6, 0.8, 0.7], 
        "color": "green", 
        'pad':5}, 
    link = { 
        "source": [3, 2, 1], 
        "target": [5, 3, 7], 
        "value": [6, 1, 2]})) 
  
plot.show()


import plotly.graph_objects as go

values = [8363, 10960, 2706, 5657, 1265, 9695]
labels_raw = ["Total", "SI", "MI", "SI not retained (GTEx)", "SI w/ GTEx > cutoff", "MI not retained (GTEx)"] 
# labels = [l + " : {}".format(str(v)) for l, v in zip(labels_raw, values)]

fig = go.Figure(data=[go.Sankey(
    node = dict(

      x = [0, 0.1, 0.1, 0.65, 0.2, 0.2, 0.05],
      y = [0., 0, 0, 0.005, 0, 1.],
      pad = 15,
      thickness = 20,
      line = dict(color = "black", width = 0.5),
      label = labels_raw,
      color = "blue"
    ),
    link = dict(
      source = [0, 0, 1, 1, 2,2,], # indices correspond to labels, eg A1, A2, A1, B1, ...
      target = [1, 2, 3, 4, 5,6],
      value = values,
  ))])

fig.update_layout(title_text="Basic Sankey Diagram", font_size=10)
fig.show()


import plotly.graph_objects as go

values = [8363, 10960, 2706, 5657, 1265, 9695, 1968, 5657, 7727, 406, 7159, 504, 7223]
labels_raw = ["Total", "SI", "MI", "SI not retained (GTEx)", "SI w/ GTEx > cutoff", "MI not retained (GTEx)", "MI w/ GTEx > cutoff", "New SI", "New MI", "SI single CDS", "SI multi CDS", "MI single CDS", "MI multi CDS"] 
# labels = [l + " : {}".format(str(v)) for l, v in zip(labels_raw, values)]

fig = go.Figure(data=[go.Sankey(
    node = dict(
      pad = 15,
      thickness = 20,
      line = dict(color = "black", width = 0.5),
      label = labels_raw,
      color = "blue"
    ),
    link = dict(
      source = [0, 0, 1, 1, 2, 2, 6, 4, 6,  7, 7, 8, 8], # indices correspond to labels, eg A1, A2, A1, B1, ...
      target = [1, 2, 3, 4, 5, 6, 7, 7, 8, 9, 10, 11, 12],
      value = values,
  ))])

fig.update_layout(title_text="Basic Sankey Diagram", font_size=10)
fig.show()


import json, urllib
import plotly.graph_objects as go
import pandas as pd
import numpy as np
l = [
#     {
#         'Source': 0,
#         'Target' : 1,
#         'Value' : refseq_gene.shape[0],
#         'Label' : 'Total',
#         'Color' : "#F27420",
#         "Link color" : "rgba(253, 227, 212, 0.5)",
#     },
    {
        'Source': 1,
        'Target' : 2,
        'Value' : refseq_gene.loc[refseq_gene['mRNA_nb'] == 1].shape[0], #8363
        'Label' : 'SI genes RefSeq',
        'Color' : "#F27420",
        "Link color" : "rgba(253, 227, 212, 0.5)",
    },
    {
        'Source': 1,
        'Target' : 3,
        'Value' : refseq_gene.loc[refseq_gene['mRNA_nb'] > 1].shape[0], #10960,
        'Label' : 'MI genes RefSeq',
        'Color' : "#F27420",
        "Link color" : "rgba(253, 227, 212, 0.5)",
    },
    {
        'Source': 2,
        'Target' : 5,
        'Value' : refseq_corrected_by_gtex_raw.loc[refseq_corrected_by_gtex_raw['mRNA_nb_total'] == 1, 'Gene'].nunique(), #5657,
        'Label' : 'MI2 genes RefSeq',
        'Color' : "#F27420",
        "Link color" : "rgba(253, 227, 212, 0.5)",
    },
    {
        'Source': 2,
        'Target' : 4,
        'Value' : refseq_gene.loc[refseq_gene['mRNA_nb'] == 1].shape[0] - refseq_corrected_by_gtex_raw.loc[refseq_corrected_by_gtex_raw['mRNA_nb_total'] == 1, 'Gene'].nunique(), #2706,
        'Label' : 'MI2 genes RefSeq',
        'Color' : "#F27420",
        "Link color" : "rgba(253, 227, 212, 0.5)",
    },
    {
        'Source': 3,
        'Target' : 6,
        'Value' : refseq_corrected_by_gtex_raw.loc[refseq_corrected_by_gtex_raw['mRNA_nb_total'] > 1, 'Gene'].nunique(), #9695,
        'Label' : 'MI3 genes RefSeq',
        'Color' : "#F27420",
        "Link color" : "rgba(253, 227, 212, 0.5)",
    },
    {
        'Source': 3,
        'Target' : 7,
        'Value' : refseq_gene.loc[refseq_gene['mRNA_nb'] > 1].shape[0] - refseq_corrected_by_gtex_raw.loc[refseq_corrected_by_gtex_raw['mRNA_nb_total'] > 1, 'Gene'].nunique(), #1265,
        'Label' : 'MI2 genes RefSeq',
        'Color' : "#F27420",
        "Link color" : "rgba(253, 227, 212, 0.5)",
    },
#     {
#         'Source': 1,
#         'Target' : 3,
#         'Value' : refseq_gene.loc[refseq_gene['mRNA_nb'] > 1].shape[0],
#         'Label' : 'MI genes RefSeq',
#         'Color' : "#F27420",
#         "Link color" : "rgba(253, 227, 212, 0.5)",
#     },
#     {
#         'Source': 2,
#         'Target' : 4,
#         'Value' : refseq_gene.loc[refseq_gene['mRNA_nb'] > 1].shape[0],
#         'Label' : 'MI genes RefSeq',
#         'Color' : "#F27420",
#         "Link color" : "rgba(253, 227, 212, 0.5)",
#     },
#     {
#         'Source': 2,
#         'Target' : 5,
#         'Value' : refseq_gene.loc[refseq_gene['mRNA_nb'] > 1].shape[0],
#         'Label' : 'MI genes RefSeq',
#         'Color' : "#F27420",
#         "Link color" : "rgba(253, 227, 212, 0.5)",
#     },

    
]
scottish_df  = pd.DataFrame(l)

data_trace = dict(
    type='sankey',
    domain = dict(
      x =  [0,1],
      y =  [0,1]
    ),
    orientation = "h",
    valueformat = ".0f",
    node = dict(
      pad = 10,
      thickness = 30,
      line = dict(
        color = "black",
        width = 0
      ),
      label =  scottish_df['Label'].dropna(axis=0, how='any').values.tolist(),
      color = scottish_df['Color'].values.tolist()
    ),
    link = dict(
      source = scottish_df['Source'].dropna(axis=0, how='any').values.tolist(),
      target = scottish_df['Target'].dropna(axis=0, how='any').values.tolist(),
      value = scottish_df['Value'].dropna(axis=0, how='any').values.tolist(),
      color = scottish_df['Link color'].dropna(axis=0, how='any').values.tolist(),
  )
)

layout =  dict(
    title = "Scottish Referendum Voters who now want Independence",
    height = 772,
    font = dict(
      size = 10
    ),    
)

fig = go.Figure(data=[data_trace], layout=layout)
# fig.update_layout(layout=layout, title_text="Basic Sankey Diagram", font_size=10)

fig.show()



merge_check


refseq.Gene.nunique()


biomart_grch37 = pd.read_csv(
    exotic_files["EXOTIC"]["biomart_ensembl_hgnc_refseq"],
    sep="\t",
)

biomart_grch37 = biomart_grch37[
    [
        "Gene stable ID",
        "Gene name",
        "Transcript stable ID",
        "Gene type",
        "Transcript type",
        "APPRIS annotation",
        "RefSeq mRNA ID",
        "Transcript support level (TSL)",
        "HGNC ID",
    ]
]

biomart_grch37.columns = [
    "gene_id",
    "Gene",
    "transcript_id",
    "gene_biotype",
    "transcript_biotype",
    "APPRIS",
    "RefSeq_mRNAID",
    "TSL",
    "HGNC_ID",
]

biomart_grch37 = biomart_grch37.loc[biomart_grch37['gene_biotype'] == 'protein_coding']

transcript_protein_coding = biomart_grch37.transcript_id.values.tolist()
biomart_grch37.gene_id.nunique()
# print(list(biomart_grch37.columns))
# biomart_grch37


from matplotlib_venn import venn2, venn2_circles, venn2_unweighted
venn2([set(refseq_corrected_by_gtex.Gene.unique().tolist()), set(gtex_check.loc[gtex_check['transcript_id'].isin(transcript_protein_coding) & (gtex_check['check'] == True) , 'gene_symbol'].unique().tolist())], set_labels = ('RefSeq', 'ENSEMBL'))



gtex_check = pd.read_csv('/gstock/biolo_datasets/variation/benchmark/Databases/GTEX/V7/GTEx_Analysis_2016-01-15_v7_RSEMv1.2.22_transcript_final_check.txt.gz', compression='gzip', sep='\t')
gtex_check['transcript_id'] = gtex_check['transcript_id'].apply(lambda r: r.split('.')[0])
gtex_check


gtex_check.loc[gtex_check['transcript_id'].isin(transcript_protein_coding) & (gtex_check['check'] == True) , 'gene_symbol'].nunique()


gtex_check.loc[gtex_check['transcript_id'].isin(transcript_protein_coding), 'gene_symbol'].nunique()


refseq_corrected_by_gtex = pd.read_parquet('/gstock/EXOTIC/data/GENOMICS/RefSeq_corrected_by_GTEx_lite.parquet')

refseq_corrected_by_gtex


refseq_corrected_by_gtex.Const_Alt.value_counts()


refseq_corrected_by_gtex_raw = pd.read_parquet('/gstock/EXOTIC/data/GENOMICS/refseq_old_new.parquet')
t = refseq_corrected_by_gtex_raw.groupby(['Gene', 'new_mRNA_nb_total'])['ranges'].agg('nunique').reset_index()

refseq_corrected_by_gtex = pd.merge(refseq_corrected_by_gtex_raw, t[['Gene', 'ranges']].rename({'ranges' : 'new_CDS_nb'}, axis=1), on='Gene')
refseq_corrected_by_gtex = refseq_corrected_by_gtex.loc[(refseq_corrected_by_gtex['new_mRNA_nb_total'] > 1) & (refseq_corrected_by_gtex['new_CDS_nb'] > 1)]
refseq_corrected_by_gtex['new_Ratio'] = refseq_corrected_by_gtex['new_mRNA_nb'].astype(str) + "/" + refseq_corrected_by_gtex['new_mRNA_nb_total'].astype(str)
refseq_corrected_by_gtex['Ratio_num'] = refseq_corrected_by_gtex['new_Ratio'].apply(eval)
refseq_corrected_by_gtex['Ratio_num'] = refseq_corrected_by_gtex['Ratio_num'].astype(float)
refseq_corrected_by_gtex.loc[refseq_corrected_by_gtex['Ratio_num'] < 1,  'Const_Alt'] = 'Alt'
refseq_corrected_by_gtex.loc[refseq_corrected_by_gtex['Ratio_num'] == 1,  'Const_Alt'] = 'Const'
bins = [0, 0.2, 0.4, 0.6, 0.8, 1]
# bins = [0, 0.25, 0.5, 0.75, 1]
# bins = [0, 0.34, 0.67, 1]
labels = bins.copy()
labels_ratio = [str(round(labels[j], 1)) + " - " + str(round(labels[j + 1], 1)) for j in range(len(labels) - 1)]
refseq_corrected_by_gtex["Ratio_num_bins"] = pd.cut(refseq_corrected_by_gtex["Ratio_num"], bins=bins, labels=labels_ratio, include_lowest=True)
refseq_corrected_by_gtex = refseq_corrected_by_gtex.drop_duplicates(subset=['Gene', 'ranges'])
refseq_corrected_by_gtex['Start'] = refseq_corrected_by_gtex['ranges'].apply(lambda r: r.split('-')[0])
refseq_corrected_by_gtex['Start'] = refseq_corrected_by_gtex['Start'].astype(int)
refseq_corrected_by_gtex['End'] = refseq_corrected_by_gtex['ranges'].apply(lambda r: r.split('-')[1])
refseq_corrected_by_gtex['End'] = refseq_corrected_by_gtex['End'].astype(int)
refseq_corrected_by_gtex['Length'] = refseq_corrected_by_gtex['End'] - refseq_corrected_by_gtex['Start']
refseq_corrected_by_gtex = refseq_corrected_by_gtex.rename({'new_Ratio_num_bins' : 'Ration_num_bins'}, axis=1)

refseq_corrected_by_gtex


refseq_corrected_by_gtex.Const_Alt.value_counts()


t = refseq.groupby('Const_Alt').size().reset_index()
sns.barplot(data=t.sort_values(by='Const_Alt', ascending=False), x='Const_Alt', y=0)


refseq[['Gene', 'ranges', 'Const_Alt', 'Length']]


print(refseq[['Gene', 'ranges', 'Const_Alt', 'Length']].pivot(columns='Const_Alt', values='Length').describe())

sns.boxenplot(data=refseq[['Const_Alt', 'Length']], x='Const_Alt', y='Length')
plt.ylim(0, 1000)
stats.mannwhitneyu(refseq.loc[refseq['Const_Alt'] == 'Const', 'Length'].values, refseq.loc[refseq['Const_Alt'] == 'Alt', 'Length'].values)



from statannot import add_stat_annotation

t = refseq[['Gene', 'Const_Alt']].groupby(['Gene', 'Const_Alt']).size().reset_index()
print(t.pivot(index='Gene', columns='Const_Alt', values=0).describe())

t = t.sort_values(by='Const_Alt', ascending=False)
ax = sns.boxenplot(data=t, x='Const_Alt', y=0)
order = ['Const', 'Alt']

plt.ylim(0, 50)
add_stat_annotation(ax, data=t, x='Const_Alt', y=0, order= ['Const', 'Alt'],
                    box_pairs=[('Const', 'Alt')],
                    test='Mann-Whitney', text_format='simple', loc='outside', verbose=2)
stats.mannwhitneyu(t.loc[t['Const_Alt'] == 'Const', 0].values, t.loc[t['Const_Alt'] == 'Alt', 0].values)


refseq[['Gene', 'Const_Alt']].groupby(['Gene', 'Const_Alt']).size().reset_index().groupby('Const_Alt').describe()


t = refseq.loc[refseq['Const_Alt'] == 'Alt', ['Ratio_num_bins']].groupby('Ratio_num_bins').size().reset_index()
t = t.sort_values(by='Ratio_num_bins', ascending=False)
sns.barplot(data=t, x='Ratio_num_bins', y=0)
# plt.ylim(0, 700)


sns.boxenplot(data=refseq.loc[refseq['Const_Alt'] == 'Alt', ['mRNA_nb']], y='mRNA_nb')
plt.ylim(0, 40)


refseq.loc[refseq['Const_Alt'] == 'Alt', ['Length']].describe()


pd.concat([cs, refseq_lite.groupby('mRNA_nb').size().reset_index()], axis=1)


sns.boxenplot(data=refseq_lite, y='mRNA_nb')
plt.ylim(0,25)


import matplotlib.font_manager as font_manager

font_dirs = ['/home/weber/Fonts', ]
font_files = font_manager.findSystemFonts(fontpaths=font_dirs)
font_list = font_manager.createFontList(font_files)
font_manager.fontManager.ttflist.extend(font_list)

from matplotlib import rcParams
rcParams['font.family'] = 'sans-serif'
rcParams['font.sans-serif'] = ['Arial']
rcParams['font.weight'] = 'light'

refseq_corrected_by_gtex = pd.read_parquet('/gstock/EXOTIC/data/GENOMICS/RefSeq_corrected_by_GTEx_lite.parquet')
refseq_lite = refseq_corrected_by_gtex.loc[(refseq_corrected_by_gtex['new_mRNA_nb_total'] > 1) & (refseq_corrected_by_gtex['new_CDS_count'] > 1), ['Gene', 'new_mRNA_nb_total']].drop_duplicates()
refseq_lite.columns = ['Gene', 'mRNA_nb']
print(refseq_lite)
print(refseq_lite.mRNA_nb.sum())

sns.set_context('paper', font_scale=2)
f, ax = plt.subplots(figsize=(10,10))
data = refseq_lite.groupby('mRNA_nb').size().reset_index()
cs = refseq_lite.groupby('mRNA_nb').size().cumsum() / refseq_lite.groupby('mRNA_nb').size().sum()
cs = cs.reset_index()
# ax.bar(x=[1,2,3], y=[2,3,4], )
ax1_ = ax.bar(data.mRNA_nb.values, data[0].values,
#        yerr=error,
       align='edge',
       alpha=0.8,
       color='#8491B4FF',
       width=-0.4
#        ecolor='black',
#        color=list(reversed(sns.color_palette('mako'))),
#        color=sns.color_palette('YlOrBr'),
#        zorder=3,
#        **hfont
      )
ax2 = ax.twinx()
ax2_ = ax2.bar(cs.mRNA_nb.values, cs[0].values, alpha=0.5, color='#F39B7FFF', align='edge', width=0.4)
ax2.set_xlim(1.5,20.5)
ax.set_xticks(np.arange(2,21))

# ax2.get_xaxis().set_major_formatter(matplotlib.ticker.ScalarFormatter())
ax2.xaxis.set_major_formatter(mtick.FuncFormatter(lambda x,_: round(x, 0)))
ax2.get_xaxis().set_major_formatter(matplotlib.ticker.FormatStrFormatter('%g'))
ax.yaxis.label.set_color('#8491B4FF')
ax2.yaxis.label.set_color('#F39B7FFF')

tkw = dict(size=4, width=1.5)
ax.tick_params(axis='y', colors='#8491B4FF', **tkw)
ax2.tick_params(axis='y', colors='#F39B7FFF', **tkw)
ax.set_ylabel('Count')
ax.set_xlabel('mRNA nb')
ax2.set_ylabel('Cumulative sum ratio')
ax.spines['top'].set_linewidth(0)
ax2.spines['top'].set_linewidth(0)
ax.set_ylim(0,4500)
ax2.set_ylim(0,1)
# ax.text(-0.1, 1.05, 'a', transform=ax.transAxes, size=24, weight='bold')



f, ax = plt.subplots(figsize=(10,10))

# ax.set_xlim(2,10)
data = refseq.loc[(refseq['Const_Alt'] == 'Alt') & (refseq['mRNA_nb'] <= 10), ['mRNA_nb']].groupby('mRNA_nb').size().reset_index()
ax =sns.barplot(data=data, x='mRNA_nb', y=data[0].values,  color='grey', alpha=0.5, ax=ax)
# ax.set_xlim(2,10)
ax2 = ax.twinx()



# ax2.set_xticklabels(ax2.get_xticklabels(),  rotation=90, fontsize=8)
cs = refseq.loc[(refseq['Const_Alt'] == 'Alt') & (refseq['mRNA_nb'] <= 10), ['mRNA_nb']].groupby('mRNA_nb').size().cumsum() / refseq.loc[(refseq['Const_Alt'] == 'Alt') & (refseq['mRNA_nb'] <= 10), ['mRNA_nb']].groupby('mRNA_nb').size().sum()
f1 = sns.lineplot(data=cs.reset_index(), x='mRNA_nb', y=0, ax=ax2)
# ax2.set_xlim(2,10)
ax2.set_ylim(0,1)



t = refseq.loc[refseq['Const_Alt'] == 'Alt', ['Gene', 'Ratio_num_bins', 'Length']]
t = t.sort_values(by='Ratio_num_bins', ascending=False)
sns.boxenplot(data=t, x='Ratio_num_bins', y='Length')
plt.ylim(0, 700)


t = refseq.loc[refseq['Const_Alt'] == 'Alt', ['Gene', 'Ratio_num_bins']].groupby(['Gene', 'Ratio_num_bins']).size().reset_index()
t = t.sort_values(by='Ratio_num_bins', ascending=False)
sns.boxenplot(data=t, x='Ratio_num_bins', y=0)
plt.ylim(0, 25)


refseq.loc[refseq['Const_Alt'] == 'Alt', 'Length'].values


scipy.stats.mannwhitneyu(refseq.loc[refseq['Const_Alt'] == 'Const', 'Length'].values, refseq.loc[refseq['Const_Alt'] == 'Alt', 'Length'].values)


t


refseq_corrected_by_gtex = pd.read_parquet('/gstock/EXOTIC/data/GENOMICS/RefSeq_corrected_by_GTEx_lite.parquet')
refseq_corrected_by_gtex = refseq_corrected_by_gtex.loc[(refseq_corrected_by_gtex['new_mRNA_nb_total'] > 1) & (refseq_corrected_by_gtex['new_CDS_count'] > 1)]
refseq_corrected_by_gtex



import matplotlib.font_manager as font_manager

font_dirs = ['/home/weber/Fonts', ]
font_files = font_manager.findSystemFonts(fontpaths=font_dirs)
font_list = font_manager.createFontList(font_files)
font_manager.fontManager.ttflist.extend(font_list)

from matplotlib import rcParams
rcParams['font.family'] = 'sans-serif'
rcParams['font.sans-serif'] = ['Arial']
rcParams['font.weight'] = 'light'

refseq_corrected_by_gtex = pd.read_parquet('/gstock/EXOTIC/data/GENOMICS/RefSeq_corrected_by_GTEx_lite.parquet')
refseq_corrected_by_gtex = refseq_corrected_by_gtex.loc[(refseq_corrected_by_gtex['new_mRNA_nb_total'] > 1) & (refseq_corrected_by_gtex['new_CDS_count'] > 1)]
refseq_corrected_by_gtex.columns = [c.replace('new_', '') for c in refseq_corrected_by_gtex.columns]

def show_values_on_bars(axs, i=0, fontsize=10, rotation=0, color='black', pad=10):
    def _show_on_single_plot(ax):
        for p in ax.patches:
            print(p)
            _x = p.get_x() + p.get_width()/2 
            _y = p.get_y() + (p.get_height()) + pad
            if i == 0:
                value = "{:,.0f}".format(p.get_height())
            if i == 2:
                value = "{:.2f}".format(p.get_height())

            if i == 3:
                value = "{:.3f}".format(p.get_height())
            ax.text(_x, _y, value, ha="center", fontsize=fontsize, rotation=rotation, color=color)

    if isinstance(axs, np.ndarray):
        for idx, ax in np.ndenumerate(axs):
            _show_on_single_plot(ax)
    else:
        _show_on_single_plot(axs)

        
fontsize_top_row_ticks = 14
fontsize_bottom_row_labels = 16
        
sns.set_context('paper', font_scale=1.5)
f, ax = plt.subplots(nrows=2, ncols=3, figsize=(15,12))
t = refseq_corrected_by_gtex.groupby('Const_Alt').size().reset_index()
f1 = sns.barplot(data=t.sort_values(by='Const_Alt', ascending=False), x='Const_Alt', y=0, ax=ax[0][0], palette=['#3C548899', '#DC000099'] )
widthbars = [0.3, 0.3]
for bar, newwidth in zip(f1.patches, widthbars):
    x = bar.get_x()
    width = bar.get_width()
    centre = x + width/2.
    bar.set_x(centre - newwidth/2.)
    bar.set_width(newwidth)
    
f1.set_ylim(0, 100000)
ax[0][0].spines['bottom'].set_linewidth(0)
ax[0][0].spines['right'].set_linewidth(0)
ax[0][0].spines['top'].set_linewidth(0)
ax[0][0].tick_params(axis = "x", which = "both", bottom = False, top = False)
ax[0][0].set_xlabel('')
ax[0][0].set_ylabel('Exon count')
ax[0][0].set_xticklabels(['Constitutive Exon', 'Alternative Exon'], fontsize=fontsize_top_row_ticks)
ax[0][0].get_yaxis().set_major_formatter(matplotlib.ticker.FuncFormatter(lambda x, p: format(int(x), ',')))
show_values_on_bars(ax[0][0], i=0, pad=1000)

f2 = sns.boxenplot(data=refseq_corrected_by_gtex[['Const_Alt', 'Length']], x='Const_Alt', y='Length', ax=ax[0][2], palette=['#3C548899', '#DC000099'])

medians = refseq_corrected_by_gtex[['Const_Alt', 'Length']].groupby(['Const_Alt'])['Length'].median().sort_index(ascending=False)
vertical_offset = refseq_corrected_by_gtex['Length'].median() * 0.05 # offset from median for display


for xtick in f2.get_xticks():
    f2.text(xtick,medians[xtick] + vertical_offset,medians[xtick], 
            horizontalalignment='center',size='x-small',color='w',weight='semibold')


ax[0][2].spines['bottom'].set_linewidth(0)
ax[0][2].spines['right'].set_linewidth(0)
ax[0][2].spines['top'].set_linewidth(0)
ax[0][2].tick_params(axis = "x", which = "both", bottom = False, top = False)
ax[0][2].set_xlabel('')
ax[0][2].set_ylabel('Exon Length distribution')
ax[0][2].set_xticklabels(['Constitutive Exon', 'Alternative Exon'], fontsize=fontsize_top_row_ticks)
ax[0][2].get_yaxis().set_major_formatter(matplotlib.ticker.FuncFormatter(lambda x, p: format(int(x), ',')))


f2.set_ylim(0, 1000)

t = refseq_corrected_by_gtex[['Gene', 'Const_Alt']].groupby(['Gene', 'Const_Alt']).size().reset_index()
t = t.sort_values(by='Const_Alt', ascending=False)
t

f3 = sns.boxenplot(data=t, x='Const_Alt', y=0, ax=ax[0][1], palette=['#3C5488FF', '#DC000099'])

medians = refseq_corrected_by_gtex[['Const_Alt', 'Gene']].groupby(['Gene', 'Const_Alt']).size().reset_index().pivot(columns='Const_Alt', values=0, index='Gene').median().sort_index(ascending=False)
vertical_offset = refseq_corrected_by_gtex[['Const_Alt', 'Gene']].groupby(['Gene', 'Const_Alt']).size().reset_index().median() * 0.05 # offset from median for display
vertical_offset

for xtick in f3.get_xticks():
    f3.text(xtick,medians[xtick] + vertical_offset,int(medians[xtick]), 
            horizontalalignment='center',size='x-small',color='w',weight='semibold')



ax[0][1].spines['bottom'].set_linewidth(0)
ax[0][1].spines['right'].set_linewidth(0)
ax[0][1].spines['top'].set_linewidth(0)
ax[0][1].tick_params(axis = "x", which = "both", bottom = False, top = False)
ax[0][1].set_xlabel('')
ax[0][1].set_ylabel('Exon distribution / gene')
ax[0][1].set_xticklabels(['Constitutive Exon', 'Alternative Exon'], fontsize=fontsize_top_row_ticks)

f3.set_ylim(0, 50)

t = refseq_corrected_by_gtex.loc[refseq_corrected_by_gtex['Const_Alt'] == 'Alt', ['Ratio_num_bins']].groupby('Ratio_num_bins').size().reset_index()
t = t.sort_values(by='Ratio_num_bins', ascending=False)
f4 = sns.barplot(data=t, x='Ratio_num_bins', y=0, ax=ax[1][0], palette=['#b09c85', '#bc8773', '#c76e5e', '#d24e43', '#dc0000'])
widthbars = [0.5, 0.5, 0.5, 0.5, 0.5]
for bar, newwidth in zip(f4.patches, widthbars):
    x = bar.get_x()
    width = bar.get_width()
    centre = x + width/2.
    bar.set_x(centre - newwidth/2.)
    bar.set_width(newwidth)
    
ax[1][0].spines['bottom'].set_linewidth(0)
ax[1][0].spines['right'].set_linewidth(0)
ax[1][0].spines['top'].set_linewidth(0)
ax[1][0].tick_params(axis = "x", which = "both", bottom = False, top = False)
ax[1][0].set_xlabel('Alt Exon frequency across isoforms', fontsize=fontsize_bottom_row_labels)
ax[1][0].set_ylabel('Exon count')
ax[1][0].set_xticklabels(ax[1][0].get_xticklabels(), fontsize=fontsize_top_row_ticks, rotation=45)
ax[1][0].get_yaxis().set_major_formatter(matplotlib.ticker.FuncFormatter(lambda x, p: format(int(x), ',')))

f4.set_ylim(0, 20000)
show_values_on_bars(ax[1][0], i=0, pad=500)



t = refseq_corrected_by_gtex.loc[refseq_corrected_by_gtex['Const_Alt'] == 'Alt', ['Gene', 'Ratio_num_bins']].groupby(['Gene', 'Ratio_num_bins']).size().reset_index()
t = t.sort_values(by='Ratio_num_bins', ascending=False)
f5 = sns.boxenplot(data=t, x='Ratio_num_bins', y=0, ax=ax[1][1], palette=['#b09c85', '#bc8773', '#c76e5e', '#d24e43', '#dc0000'])

medians = refseq_corrected_by_gtex.loc[refseq_corrected_by_gtex['Const_Alt'] == 'Alt', ['Gene', 'Ratio_num_bins']].groupby(['Gene', 'Ratio_num_bins']).size().reset_index().pivot(columns='Ratio_num_bins', values=0, index='Gene').median().sort_index(ascending=False)
vertical_offset = refseq_corrected_by_gtex.loc[refseq_corrected_by_gtex['Const_Alt'] == 'Alt', ['Gene', 'Ratio_num_bins']].groupby(['Gene', 'Ratio_num_bins']).size().reset_index().median() * 0.05 # offset from median for display
vertical_offset

for j, xtick in enumerate(f5.get_xticks()):
    if j <0:
        color='grey'
    else:
        color='w'
    f5.text(xtick,medians[xtick] + vertical_offset,int(medians[xtick]), 
            horizontalalignment='center',size='x-small',color=color,weight='semibold')



ax[1][1].spines['bottom'].set_linewidth(0)
ax[1][1].spines['right'].set_linewidth(0)
ax[1][1].spines['top'].set_linewidth(0)
ax[1][1].tick_params(axis = "x", which = "both", bottom = False, top = False)
ax[1][1].set_xlabel('Alt Exon frequency across isoforms', fontsize=fontsize_bottom_row_labels)
ax[1][1].set_ylabel('Exon distribution / gene')
ax[1][1].set_xticklabels(ax[1][1].get_xticklabels(), fontsize=fontsize_top_row_ticks, rotation=45)
f5.set_ylim(0, 25)



t = refseq_corrected_by_gtex.loc[refseq_corrected_by_gtex['Const_Alt'] == 'Alt', ['Gene', 'Ratio_num_bins', 'Length']]
t = t.sort_values(by='Ratio_num_bins', ascending=False)
f6 = sns.boxenplot(data=t, x='Ratio_num_bins', y='Length', ax=ax[1][2], palette=['#b09c85', '#bc8773', '#c76e5e', '#d24e43', '#dc0000'])


medians = refseq_corrected_by_gtex.loc[refseq_corrected_by_gtex['Const_Alt'] == 'Alt', ['Gene', 'Ratio_num_bins', 'Length']].groupby(['Ratio_num_bins'])['Length'].median().sort_index(ascending=False)
vertical_offset = refseq_corrected_by_gtex.loc[refseq_corrected_by_gtex['Const_Alt'] == 'Alt', ['Length']].median() * 0.05 # offset from median for display


for j, xtick in enumerate(f6.get_xticks()):
    if j <0:
        color='grey'
    else:
        color='w'
    f6.text(xtick,medians[xtick] + vertical_offset,medians[xtick], 
            horizontalalignment='center',size='x-small',color=color,weight='semibold')

ax[1][2].spines['bottom'].set_linewidth(0)
ax[1][2].spines['right'].set_linewidth(0)
ax[1][2].spines['top'].set_linewidth(0)
ax[1][2].tick_params(axis = "x", which = "both", bottom = False, top = False)
ax[1][2].set_xlabel('Alt Exon frequency across isoforms', fontsize=fontsize_bottom_row_labels)
ax[1][2].set_ylabel('Exon length distribution')
ax[1][2].set_xticklabels(ax[1][2].get_xticklabels(), fontsize=fontsize_top_row_ticks, rotation=45)
f6.set_ylim(0, 700)

axs = ax.flat
import string

for n, a in enumerate(axs):
    a.text(-0.2, 1.05, string.ascii_lowercase[n], transform=a.transAxes, size=24, weight='bold')

plt.tight_layout()
add_stat_annotation(f2, data=refseq_corrected_by_gtex, x='Const_Alt', y='Length', order= ['Const', 'Alt'],
                    box_pairs=[('Const', 'Alt')],
                    test='Mann-Whitney', text_format='star', loc='outside', verbose=2)

t = refseq[['Gene', 'Const_Alt']].groupby(['Gene', 'Const_Alt']).size().reset_index()

add_stat_annotation(f3, data=t, x='Const_Alt', y=0, order= ['Const', 'Alt'],
                    box_pairs=[('Const', 'Alt')],
                    test='Mann-Whitney', text_format='star', loc='outside', verbose=2)

# t = refseq.loc[refseq['Const_Alt'] == 'Alt', ['Gene', 'Ratio_num_bins']].groupby(['Gene', 'Ratio_num_bins']).size().reset_index()
# add_stat_annotation(f6, data=t, x='Ratio_num_bins', y=0, order= t.Ratio_num_bins.cat.categories,
#                     box_pairs=[('0 - 0.2', '0.8 - 1'), ('0 - 0.2', '0.2 - 0.4')],
#                     test='Mann-Whitney', text_format='star', loc='outside', verbose=2)



def show_values_on_bars(axs, i=0, fontsize=10, rotation=0, color='black'):
    def _show_on_single_plot(ax):
        for p in ax.patches:
            print(p)
            _x = p.get_x() + p.get_width() / 2
            _y = (p.get_height() / 2) - 0.01
            if i == 0:
                value = "{:.0f}".format(p.get_height())
            if i == 2:
                value = "{:.2f}".format(p.get_height())

            if i == 3:
                value = "{:.3f}".format(p.get_height())
            ax.text(_x, _y, str(round(float(value) + 1, i)), ha="center", fontsize=fontsize, rotation=rotation, color=color)

    if isinstance(axs, np.ndarray):
        for idx, ax in np.ndenumerate(axs):
            _show_on_single_plot(ax)
    else:
        _show_on_single_plot(axs)


merge_df.columns


# tmp_ccrs_path = '/home/weber/PycharmProjects/ExoCarto/data/2_processed/CCRS_modified.parquet'
tmp_ccrs_path = "/gstock/EXOTIC/data/VARIATIONS/CCRS_modified_refseq_corrected.parquet"
merge_df = pd.read_parquet(tmp_ccrs_path)

merge_df
# merge_df = merge_df.loc[merge_df['CCRS_CCR_percentile'] > 0]


pd.concat(
    [
        merge_df.loc[merge_df['Const_Alt'] == 'Const', ['Const_Alt', 'CCRS_CCR_percentile']].pivot(columns='Const_Alt', values='CCRS_CCR_percentile').reset_index(drop=True)    ,
        merge_df.loc[merge_df['Const_Alt'] == 'Alt', ['Const_Alt', 'CCRS_CCR_percentile']].pivot(columns='Const_Alt', values='CCRS_CCR_percentile').reset_index(drop=True)
    ], axis=1
).to_parquet("/gstock/EXOTIC/data/VARIATIONS/CCRS_hist_Rdata.parquet")
    


# merge_df = merge_df.drop(['CCR_0-20_bool', 'CCR_20-80_bool', 'CCR_80-90_bool', 'CCR_90-95_bool', 'CCR_95-99_bool', 'CCR_99-100_bool'], axis=1)
merge_df = merge_df.drop(['CCR_0_20_bool', 'CCR_20_80_bool', 'CCR_80_90_bool', 'CCR_90_95_bool', 'CCR_95_99_bool', 'CCR_99_100_bool'], axis=1)
bins = [0, 20, 80, 90, 95, 99, 100]
labels = bins.copy()
labels_ratio = [str(round(labels[j], 1)) + " - " + str(round(labels[j + 1], 1)) for j in range(len(labels) - 1)]
merge_df["CCRS_bins"] = pd.cut(merge_df["CCRS_CCR_percentile"], bins=bins, labels=labels_ratio, include_lowest=True)
merge_df[['Start' , 'Stop']] = merge_df.ranges.str.split('-', expand=True)
merge_df['Start'] = merge_df['Start'].astype(int)
merge_df['Stop'] = merge_df['Stop'].astype(int)
merge_df['Length'] = merge_df['Stop'] - merge_df['Start']
merge_df.loc[merge_df['CCRS_bins'] == '0 - 20', 'CCR_0_20_bool'] = True
merge_df.loc[merge_df['CCRS_bins'] == '20 - 80', 'CCR_20_80_bool'] = True
merge_df.loc[merge_df['CCRS_bins'] == '80 - 90', 'CCR_80_90_bool'] = True
merge_df.loc[merge_df['CCRS_bins'] == '90 - 95', 'CCR_90_95_bool'] = True
merge_df.loc[merge_df['CCRS_bins'] == '95 - 99', 'CCR_95_99_bool'] = True
merge_df.loc[merge_df['CCRS_bins'] == '99 - 100', 'CCR_99_100_bool'] = True
merge_df.loc[merge_df['CCRS_bins'].isin(['95 - 99', '99 - 100']), 'CCR_95_100_bool'] = True

merge_df.loc[merge_df['Ratio_num'] == 1, 'Constitutive'] = True
merge_df.loc[merge_df['Ratio_num'] < 1, 'Alternative'] = True
merge_df.loc[merge_df['Ratio_num'] < 1, 'Const_Alt'] = "Alt"
merge_df.loc[merge_df['Ratio_num'] == 1, 'Const_Alt'] = "Const"
merge_df.loc[(merge_df['Ratio_num'] < 1) & (merge_df['Ratio_num'] >= 0.8), 'Cat80100'] = True
merge_df.loc[(merge_df['Ratio_num'] < 0.8) & (merge_df['Ratio_num'] >= 0.6), 'Cat6080'] = True
merge_df.loc[(merge_df['Ratio_num'] < 0.6) & (merge_df['Ratio_num'] >= 0.4), 'Cat4060'] = True
merge_df.loc[(merge_df['Ratio_num'] < 0.4) & (merge_df['Ratio_num'] >= 0.2), 'Cat2040'] = True
merge_df.loc[(merge_df['Ratio_num'] < 0.2) & (merge_df['Ratio_num'] > 0), 'Cat0020'] = True
merge_df[['CCR_0_20_bool', 'CCR_20_80_bool', 'CCR_80_90_bool', 'CCR_90_95_bool', 'CCR_95_99_bool', 'CCR_99_100_bool', 'CCR_95_100_bool', 'Cat0020', 'Cat2040', 'Cat4060', 'Cat6080', 'Cat80100', 'Constitutive', 'Alternative']] = merge_df[['CCR_0_20_bool', 'CCR_20_80_bool', 'CCR_80_90_bool', 'CCR_90_95_bool', 'CCR_95_99_bool', 'CCR_99_100_bool', 'CCR_95_100_bool', 'Cat0020', 'Cat2040', 'Cat4060', 'Cat6080', 'Cat80100', 'Constitutive', 'Alternative']].fillna(False)
merge_df.to_parquet("/gstock/EXOTIC/data/VARIATIONS/CCRS_modified_refseq_corrected_Rdata.parquet")
merge_df





test


test = merge_df[['CCRS_bins', 'Const_Alt', 'Length']].groupby(['CCRS_bins', 'Const_Alt',]).sum().reset_index().pivot(index='CCRS_bins', columns='Const_Alt', values='Length')
test



test = merge_df[['CCRS_bins', 'Const_Alt', 'Length']].groupby(['CCRS_bins', 'Const_Alt',]).sum().reset_index().pivot(index='CCRS_bins', columns='Const_Alt', values='Length').to_dict()
# test
t_l = list()
odr_l = list()
se_l = list()
low_cis = list()
up_cis = list()

for key in test['Alt']:
    print(key)
    sum_others_alt = sum([test['Alt'][k] for k in test['Alt'] if key != k])
    sum_others_const = sum([test['Const'][k] for k in test['Alt'] if key != k])
    odr = ((test['Const'][key]) / (test['Alt'][key])) / ((sum_others_const / sum_others_alt))
    logodr = math.log((test['Const'][key] / sum_others_const) / (test['Alt'][key] / sum_others_alt))
    se = math.sqrt((1/test['Const'][key]) + (1/test['Alt'][key]) + (1/sum_others_const) + (1/sum_others_alt))
    low_ci = math.exp(logodr - (1.96 * se))
    low_cis.append(low_ci)
    up_ci = math.exp(logodr + (1.96 * se))
    ttest2 = stats.mannwhitneyu(list(test['Const'].values()), list(test['Alt'].values()))
    ttest = stats.ttest_ind([test['Const'][key], sum_others_const], [test['Alt'][key], sum_others_alt])
    print(test['Const'][key], test['Alt'][key], sum_others_const, sum_others_alt, odr, low_ci, up_ci, ttest, ttest2)


    up_cis.append(up_ci)
    odr_l.append(odr-1)
    se_l.append(se)    


# Define labels, positions, bar heights and error bar heights
labels = labels_ratio
x_pos = np.arange(len(labels))
CTEs = odr_l
error = se_l

print(labels)
print(x_pos)
print(CTEs)
print(up_cis)
print(low_cis)


def show_values_on_bars(axs, i=0, fontsize=10, rotation=0, color='black', pad=1):
    def _show_on_single_plot(ax):
        for p in ax.patches:
            print(p)
            _x = p.get_x() + p.get_width()/2 
            _y = p.get_y() + (p.get_height() / 2) + pad
            if i == 0:
                value = "{:,.0f}".format(p.get_height())
            if i == 2:
                value = "{:.2f}".format(p.get_height())

            if i == 3:
                value = "{:.3f}".format(p.get_height())
            ax.text(_x, _y, str(round(float(value) + 1, 2)), ha="center", fontsize=fontsize, rotation=rotation, color=color)

    if isinstance(axs, np.ndarray):
        for idx, ax in np.ndenumerate(axs):
            _show_on_single_plot(ax)
    else:
        _show_on_single_plot(axs)

# Build the plot
sns.set_context('paper', font_scale=2.5)
fig, ax = plt.subplots(figsize=(5,10))
ax.set_axisbelow(True)
# ax.yaxis.grid(color='gray', zorder=0, linewidth=0.5)

# plt.rc('axes', axisbelow=True)
ax.set_xticklabels(labels)
ax.bar(x_pos, CTEs,
#        yerr=error,
       align='center',
#        alpha=0.5, 
       ecolor='black',
       capsize=10,
       color=sns.color_palette('flare'),
#        zorder=3,
       bottom=1,
      )

print(CTEs)
print(low_cis, up_cis)

[line.set_zorder(3) for line in ax.lines]
ax.set_xticks(x_pos)
# ax.set_yticks([x_pos])
ax.tick_params(axis='both', which='major', labelsize=14,)
ax.tick_params(axis='x', which='major', labelsize=18, rotation=45)
# plt.gca().yaxis.set_major_formatter(mtick.FuncFormatter(lambda x,_: round(x+1, 2)))
show_values_on_bars(ax, i=2, fontsize=12, color='w', pad=-0.01)
plt.yscale('log')
plt.vlines(x_pos, low_cis, up_cis, lw=3)
ax.set_ylabel('OR (constitutive VS alternative regions)')
ax.set_xlabel('Constraint bins')
# plt.ylim(0.5, 2)
ax.get_yaxis().set_major_formatter(matplotlib.ticker.ScalarFormatter())
ax.get_yaxis().set_major_formatter(matplotlib.ticker.FormatStrFormatter('%g'))

ax.minorticks_off()
ax.set_yticks([0.8, 1, 3])
ax.tick_params(axis='y', which='major', labelsize=18,)

ax.spines['bottom'].set_linewidth(0)
ax.spines['right'].set_linewidth(0)
ax.spines['top'].set_linewidth(0)
plt.tick_params(axis = "x", which = "both", bottom = False, top = False)
ax.axhline(1, color='black')
ax.text(-0.25, 1.05, 'b', transform=ax.transAxes, size=24, weight='bold')



test = merge_df[['CCRS_bins', 'Const_Alt', 'Length']].groupby(['CCRS_bins', 'Const_Alt',]).sum().reset_index().pivot(index='CCRS_bins', columns='Const_Alt', values='Length').to_dict()
# test
for key in test['Alt']:
    print(key)
    sum_others_alt = sum([test['Alt'][k] for k in test['Alt'] if key != k])
    sum_others_const = sum([test['Const'][k] for k in test['Alt'] if key != k])
    logodr = math.log((test['Const'][key] / sum_others_const) / (test['Alt'][key] / sum_others_alt))
    print(logodr)
print(test)



merge_df


from matplotlib.ticker import (AutoMinorLocator, MultipleLocator)

f, ax = plt.subplots(figsize=(15,15))
sns.set_context('poster')
ax.set_axisbelow(True)

# Set axis ranges; by default this will put major ticks every 25.
ax.set_ylim(0, 100)

# Change major ticks to show every 20.
ax.yaxis.set_major_locator(MultipleLocator(20))

# Change minor ticks to show every 5. (20/4 = 5)
ax.yaxis.set_minor_locator(AutoMinorLocator(4))

# Turn grid on for both major and minor ticks and style minor slightly
# differently.
ax.grid(which='major', color='#CCCCCC', linestyle='-')
# ax.grid(which='minor', color='#CCCCCC', linestyle=':')
sns.boxenplot(data=merge_df, x='Const_Alt', y='CCRS_CCR_percentile', ax=ax)
# plt.yscale('log')
# plt.ylim(bottom=0, top=100)
# plt.xlim(left=0, right=100)
ax.spines['bottom'].set_linewidth(0)
ax.spines['right'].set_linewidth(0)
ax.spines['top'].set_linewidth(0)
plt.tick_params(axis = "x", which = "both", bottom = False, top = False)

ax.set_xticklabels(['Constitutive', 'Alternative'])
plt.ylabel('CCR percentile')
plt.xlabel('')
# legend = p.get_legend()
# legend.set_title('')
# legend.texts[0].set_text("Constitutive")
# legend.texts[1].set_text("Alternative")


f, ax = plt.subplots(figsize=(15,15))
sns.set_context('poster',)
ax.set_axisbelow(True)
# Set axis ranges; by default this will put major ticks every 25.
ax.set_ylim(0, 100)

# Change major ticks to show every 20.
ax.yaxis.set_major_locator(MultipleLocator(2000))

# Change minor ticks to show every 5. (20/4 = 5)
ax.yaxis.set_minor_locator(AutoMinorLocator(10))

# Turn grid on for both major and minor ticks and style minor slightly
# differently.
ax.grid(which='major', color='#CCCCCC', linestyle='-')
ax.grid(which='minor', color='#CCCCCC', linestyle=':')

sns.boxenplot(data=merge_df, x='CCRS_bins', y='Length', hue='Const_Alt', ax=ax)
# plt.yscale('log')
plt.ylim(bottom=0, top=10000)


plt.xticks(rotation=45)
plt.xlabel('CCR bins')
legend = p.get_legend()
legend.set_title('')
legend.texts[0].set_text("Constitutive")
legend.texts[1].set_text("Alternative")
# plt.xlim(left=0, right=100)


f, ax = plt.subplots(figsize=(15,15))
sns.set_context('poster')
ax.set_axisbelow(True)
# Set axis ranges; by default this will put major ticks every 25.
ax.set_ylim(0, 100)

# Change major ticks to show every 20.
ax.yaxis.set_major_locator(MultipleLocator(200))

# Change minor ticks to show every 5. (20/4 = 5)
ax.yaxis.set_minor_locator(AutoMinorLocator(10))

# Turn grid on for both major and minor ticks and style minor slightly
# differently.
ax.grid(which='major', color='#CCCCCC', linestyle='-')
# ax.grid(which='minor', color='#CCCCCC', linestyle=':')

p = sns.boxenplot(data=merge_df, x='CCRS_bins', y='Length', hue='Const_Alt', ax=ax)
# plt.yscale('log')
plt.ylim(bottom=0, top=1000)
ax.spines['bottom'].set_linewidth(0)
ax.spines['right'].set_linewidth(0)
ax.spines['top'].set_linewidth(0)
plt.tick_params(axis = "x", which = "both", bottom = False, top = False)

# plt.xticks(rotation=45)
plt.xlabel('CCR bins')
legend = p.get_legend()
legend.set_title('')
legend.texts[0].set_text("Constitutive")
legend.texts[1].set_text("Alternative")
print(p)
# plt.xlim(left=0, right=100)


merge_df


def show_values_on_bars(axs, i=0, fontsize=10, rotation=0, color='black', pad=10):
    def _show_on_single_plot(ax):
        for p in ax.patches:
            print(p)
            _x = p.get_x() + p.get_width()/2 
            _y = p.get_y() + (p.get_height()) + pad
            if i == 0:
                value = "{:,.0f}".format(p.get_height())
            if i == 2:
                value = "{:.2f}".format(p.get_height())

            if i == 3:
                value = "{:.3f}".format(p.get_height())
            ax.text(_x, _y, value, ha="center", fontsize=fontsize, rotation=rotation, color=color)

    if isinstance(axs, np.ndarray):
        for idx, ax in np.ndenumerate(axs):
            _show_on_single_plot(ax)
    else:
        _show_on_single_plot(axs)

        
fontsize_top_row_ticks = 14
fontsize_bottom_row_labels = 16
        
sns.set_context('paper', font_scale=1.5)
f, ax = plt.subplots(nrows=3, ncols=2, figsize=(12,15))
# plt.grid(True, axis='y')
f1 = sns.histplot(data=merge_df.head(100000), x='CCRS_CCR_percentile', hue='Const_Alt', multiple="stack", bins=30, kde=True, ax=ax[0][0])
ax[0][0].set_yscale('log')
ax[0][0].set_xlim(left=0, right=100)
# ax[0][0].set_ylim(bottom=1)
# ax.spines['bottom'].set_linewidth(0)
# plt.tick_params(axis = "x", which = "both", bottom = False, top = False)

# plt.ylabel('CCR count')
legend = f1.get_legend()
legend.set_title('')
legend.texts[0].set_text("Constitutive")
legend.texts[1].set_text("Alternative")



ax[0][0].minorticks_off()
ax[0][0].spines['right'].set_linewidth(0)
ax[0][0].spines['top'].set_linewidth(0)
ax[0][0].tick_params(axis = "x", which = "both", bottom = False, top = False)
ax[0][0].set_xlabel('CCR percentile')
ax[0][0].set_ylabel('CDS count')
ax[0][0].set_xticklabels(['Constitutive CDS', 'Alternative CDS'], )
ax[0][0].get_yaxis().set_major_formatter(matplotlib.ticker.FuncFormatter(lambda x, p: format(int(x), ',')))
# show_values_on_bars(ax[0][0], i=0, pad=1000)



import matplotlib.font_manager as font_manager

font_dirs = ['/home/weber/Fonts', ]
font_files = font_manager.findSystemFonts(fontpaths=font_dirs)
font_list = font_manager.createFontList(font_files)
font_manager.fontManager.ttflist.extend(font_list)

from matplotlib import rcParams
rcParams['font.family'] = 'sans-serif'
rcParams['font.sans-serif'] = ['Arial']
rcParams['font.weight'] = 'light'

sns.set_context('paper', font_scale=2.5)

f, ax = plt.subplots(figsize=(10,10))
ax.set_axisbelow(True)

# plt.grid(True, axis='y')
p = sns.histplot(merge_df, x='CCRS_CCR_percentile', hue='Const_Alt', multiple="stack", bins=30, kde=True, ax=ax, palette=['#3C548899', '#DC000099'])
plt.yscale('log')

plt.ylim(bottom=1)
plt.xlim(left=0, right=100)
# ax.spines['bottom'].set_linewidth(0)
ax.spines['right'].set_linewidth(0)
ax.spines['top'].set_linewidth(0)
ax.minorticks_off()
# ax.yaxis.label.set_size(12)
# plt.tick_params(axis = "x", which = "both", bottom = False, top = False)

# plt.ylabel('CCR count')
plt.xlabel('Constraint percentile')
legend = p.get_legend()
legend.set_title('')
legend.texts[0].set_text("Constitutive")
legend.texts[1].set_text("Alternative")
# ax.text(-0.15, 1.05, 'a', transform=ax.transAxes, size=24, weight='bold')




f, ax = plt.subplots(figsize=(15,15))
sns.set_context('poster')
ax.set_axisbelow(True)

plt.grid(True, axis='y')
sns.histplot(merge_df, x='CCRS_CCR_percentile', hue='Const_Alt', multiple="stack", kde=True, bins=15, ax=ax)
plt.yscale('log')
plt.xlim(left=0, right=100)

plt.xlabel('CCR percentile')
legend = p.get_legend()
legend.set_title('')
legend.texts[0].set_text("Constitutive")
legend.texts[1].set_text("Alternative")



f, ax = plt.subplots(figsize=(15,15))
sns.set_context('poster')
# ax.set_axisbelow(True)

p = sns.histplot(merge_df.loc[merge_df['CCRS_CCR_percentile'] > 92], x='CCRS_CCR_percentile', hue='Const_Alt', multiple="stack", kde=True, bins=50, ax=ax, zorder=3)
ax.grid(True, axis='y', zorder=0)

plt.yscale('log')
plt.ylim(bottom=1)

plt.xlim(left=95, right=100)

plt.xlabel('CCR percentile')
legend = p.get_legend()
legend.set_title('')
legend.texts[0].set_text("Constitutive")
legend.texts[1].set_text("Alternative")



f, ax = plt.subplots(figsize=(15,15))
sns.set_context('poster')
# ax.set_axisbelow(True)

p = sns.histplot(merge_df.loc[merge_df['CCRS_CCR_percentile'] > 98], x='CCRS_CCR_percentile', hue='Const_Alt', multiple="stack", kde=True, bins=50, ax=ax, zorder=3, legend=True)
ax.grid(True, axis='y', zorder=0)

plt.yscale('log')
plt.ylim(bottom=1)

plt.xlim(left=99, right=100)

plt.xlabel('CCR percentile')
legend = p.get_legend()
legend.set_title('')
legend.texts[0].set_text("Constitutive")
legend.texts[1].set_text("Alternative")

# print(legend)


tmp_variants_path = '/home/weber/PycharmProjects/ExoCarto/data/2_processed/ClinVar_modified.parquet'

merge_df_variants = pd.read_parquet(tmp_variants_path)
merge_df_variants = merge_df_variants.loc[merge_df_variants['Status'] != 'Other']
merge_df_variants.loc[merge_df_variants['Status'] == 'Benign' , 'Benign'] = True
merge_df_variants.loc[merge_df_variants['Status'] == 'Pathogenic' , 'Pathogenic'] = True
merge_df_variants[['Benign', 'Pathogenic']] = merge_df_variants[['Benign', 'Pathogenic']].fillna(False)
merge_df_variants
# merge_df = merge_df.loc[merge_df['CCRS_CCR_percentile'] > 0]


tmp_variants_path2 = '/gstock/EXOTIC/data/VARIATIONS/ClinVar_gnomAD.parquet'
tmp_variants_path2 = '/gstock/EXOTIC/data/VARIATIONS/ClinVar_gnomAD_all_2021_refseq_corrected.parquet'
merge_df_variants = pd.read_parquet(tmp_variants_path2)
merge_df_variants = merge_df_variants.loc[merge_df_variants['Status'] != 'Other']
path_genes = list(merge_df_variants.loc[merge_df_variants['Status'] == 'Pathogenic'].Gene.unique())
merge_df_variants = merge_df_variants.loc[merge_df_variants['Gene'].isin(path_genes)]
merge_df_variants.loc[merge_df_variants['Status'] == 'Benign' , 'Benign'] = True
merge_df_variants.loc[merge_df_variants['Status'] == 'Pathogenic' , 'Pathogenic'] = True
merge_df_variants[['Benign', 'Pathogenic']] = merge_df_variants[['Benign', 'Pathogenic']].fillna(False)
merge_df_variants.loc[merge_df_variants['Ratio_num'] == 1, 'Constitutive'] = True
merge_df_variants.loc[merge_df_variants['Ratio_num'] < 1, 'Alternative'] = True
merge_df_variants.loc[merge_df_variants['Ratio_num'] < 1, 'Const_Alt'] = "Alt"
merge_df_variants.loc[merge_df_variants['Ratio_num'] == 1, 'Const_Alt'] = "Const"
merge_df_variants.loc[(merge_df_variants['Ratio_num'] < 1) & (merge_df_variants['Ratio_num'] >= 0.8), 'Cat80100'] = True
merge_df_variants.loc[(merge_df_variants['Ratio_num'] < 0.8) & (merge_df_variants['Ratio_num'] >= 0.6), 'Cat6080'] = True
merge_df_variants.loc[(merge_df_variants['Ratio_num'] < 0.6) & (merge_df_variants['Ratio_num'] >= 0.4), 'Cat4060'] = True
merge_df_variants.loc[(merge_df_variants['Ratio_num'] < 0.4) & (merge_df_variants['Ratio_num'] >= 0.2), 'Cat2040'] = True
merge_df_variants.loc[(merge_df_variants['Ratio_num'] < 0.2) & (merge_df_variants['Ratio_num'] > 0), 'Cat0020'] = True
merge_df_variants[['Cat0020', 'Cat2040', 'Cat4060', 'Cat6080', 'Cat80100', 'Constitutive', 'Alternative']] = merge_df[['Cat0020', 'Cat2040', 'Cat4060', 'Cat6080', 'Cat80100', 'Constitutive', 'Alternative']].fillna(False)

merge_df_variants.to_parquet('/gstock/EXOTIC/data/VARIATIONS/ClinVar_gnomAD_all_2021_refseq_corrected_Rdata.parquet', index=False)
merge_df_variants
# merge_df = merge_df.loc[merge_df['CCRS_CCR_percentile'] > 0]


merge_df_variants[['CHROM', 'POS', 'REF', 'ALT']] = merge_df_variants.VAR_ID.str.split('_', expand=True)
merge_df_variants['ALT'] = merge_df_variants['ALT'].str.replace("\['", "")
merge_df_variants['ALT'] = merge_df_variants['ALT'].str.replace("']", "")
merge_df_variants['ID'] = merge_df_variants['CHROM'].astype(str) + '_' + merge_df_variants['POS'].astype(str) + '_' + merge_df_variants['REF'].astype(str) + '_' + merge_df_variants['ALT'].astype(str)
merge_df_variants


gnomad_clinvar_genes = pd.read_csv('/gstock/biolo_datasets/variation/variation_sets/gnomAD/EXOME_MISTIC/FULL_FILTERING/gnomad_clinvar_genes.csv.gz', compression='gzip', sep='\t')
gnomad_clinvar_genes


merge_df_variants


merge_df_variants = pd.merge(merge_df_variants, gnomad_clinvar_genes, on=['Gene', 'ID'], how="outer", indicator=True).query('_merge=="left_only"')
merge_df_variants


path_genes = list(merge_df_variants.loc[merge_df_variants['Status'] == 'Pathogenic'].Gene.unique())
merge_df_variants = merge_df_variants.loc[merge_df_variants['Gene'].isin(path_genes)]
merge_df_variants


def show_values_on_bars(axs, i=0, fontsize=10, rotation=0):
    def _show_on_single_plot(ax):
        for p in ax.patches:
            print(p)
            _x = p.get_x() + p.get_width() / 2
            _y = p.get_y() + (p.get_height()) + (p.get_height() * 0.07) 
            if i == 0:
                value = "{:,.0f}".format(p.get_height())
            if i == 2:
                value = "{:.2f}".format(p.get_height())

            if i == 3:
                value = "{:.3f}".format(p.get_height())
            ax.text(_x, _y, value, ha="center", fontsize=fontsize, rotation=rotation)

    if isinstance(axs, np.ndarray):
        for idx, ax in np.ndenumerate(axs):
            _show_on_single_plot(ax)
    else:
        _show_on_single_plot(axs)

f, ax = plt.subplots(figsize=(10,10))
sns.set_context('poster')
ax.set_axisbelow(True)
# ax.grid(True, axis='y')
ax.spines['bottom'].set_linewidth(0)
ax.spines['right'].set_linewidth(0)
ax.spines['top'].set_linewidth(0)
t = merge_df_variants.groupby(['Const_Alt', 'Status']).size().reset_index()
rev_t = t.pivot(index='Status', columns='Const_Alt', values=0).to_dict()
ratio_const = str(round(rev_t['Const']['Benign'] / rev_t['Const']['Pathogenic'], 3))
ratio_alt = str(round(rev_t['Alt']['Benign'] / rev_t['Alt']['Pathogenic'], 3))
odr = (rev_t['Alt']['Pathogenic'] / rev_t['Alt']['Benign']) / (rev_t['Const']['Pathogenic'] / rev_t['Const']['Benign'])
logodr = math.log(odr)
se = math.sqrt(1/rev_t['Alt']['Pathogenic'] + 1/rev_t['Alt']['Benign'] + 1/rev_t['Const']['Pathogenic'] + 1/rev_t['Const']['Benign'])
low_ci = math.exp(logodr - 1.96*se)
up_ci = math.exp(logodr + 1.96*se)
# print(list(rev_t['Alt'].values()))
ttest = stats.ttest_ind(list(rev_t['Alt'].values()),list(rev_t['Const'].values()))
print(odr, low_ci, up_ci, ttest)



sns.barplot(data=t.sort_values(by='Const_Alt', ascending=False), y=0, hue='Status', x='Const_Alt', ax=ax, palette=['#7f8c8d', '#c0392b'])
show_values_on_bars(ax, fontsize=13)
ax.set_xticklabels(['Constitutive CDS\n(Ratio B/P = {})'.format(ratio_const), 'Alternative CDS\n(Ratio B/P = {})'.format(ratio_alt), ])
plt.ylabel('Variants count')
plt.xlabel('')
ax.get_yaxis().set_major_formatter(matplotlib.ticker.FuncFormatter(lambda x, p: format(int(x), ',')))
plt.tick_params(axis = "x", which = "both", bottom = False, top = False)
ax.text(-0.25, 1.05, 'a', transform=ax.transAxes, size=24, weight='bold')

# plt.title('ClinVar variants distribution across Constitutive \n& Alternative coding exonic regions')
plt.yscale('log')
ax.set_ylim(bottom=1, top=1006000)
plt.minorticks_off()

ax.legend(loc='upper center', ncol=2, bbox_to_anchor=(0.5, 1.15))
legend = ax.legend()
legend.set_title('')
legend.texts[0].set_text("Benign(population)")
legend.texts[1].set_text("Pathogenic")
ax.legend(loc='upper center', ncol=2, bbox_to_anchor=(0.5, 1.15))



f, ax = plt.subplots(figsize=(10,10))
sns.set_context('paper', font_scale=2.5)
ax.set_axisbelow(True)
ax.grid(True, axis='y')
t = merge_df_variants.groupby(['Const_Alt', 'Status']).size().reset_index().pivot(index='Const_Alt', columns='Status', values=0)
t['Ratio'] = t['Pathogenic'] / t['Benign']
t = t.reset_index()

sns.barplot(data=t.sort_values(by='Const_Alt', ascending=False), y='Ratio', x='Const_Alt', ax=ax)
# plt.yscale('log')
plt.ylim(0, 1)
show_values_on_bars(ax, fontsize=13, i=3)
ax.set_xticklabels(['Constitutive CDS', 'Alternative CDS'])
plt.ylabel('Ratio (ClinVar Pathogenic / ClinVar Benign)')
plt.xlabel('')
legend = ax.legend()
plt.title('ClinVar variants ratio across Constitutive \n& Alternative coding exonic regions')


def show_values_on_bars(axs, i=0, fontsize=10, rotation=0):
    def _show_on_single_plot(ax):
        for p in ax.patches:
            print(p)
            _x = p.get_x() + p.get_width() / 2
            _y = p.get_y() + (p.get_height()) + 0.01
            if i == 0:
                value = "{:.0f}".format(p.get_height())
            if i == 2:
                value = "{:.2f}".format(p.get_height())

            if i == 3:
                value = "{:.3f}".format(p.get_height())
            ax.text(_x, _y, str(round(float(value), 2)), ha="center", fontsize=fontsize, rotation=rotation, color='black')

    if isinstance(axs, np.ndarray):
        for idx, ax in np.ndenumerate(axs):
            _show_on_single_plot(ax)
    else:
        _show_on_single_plot(axs)
f, ax = plt.subplots(figsize=(10,10))
sns.set_context('paper', font_scale=2)
ax.set_axisbelow(True)
# ax.grid(True, axis='y')
t = merge_df_variants.loc[merge_df_variants['Const_Alt'] == 'Alt'].groupby(['Ratio_num_bins', 'Status']).size().reset_index().pivot(index='Ratio_num_bins', columns='Status', values=0)
t['Ratio'] = t['Pathogenic'] / t['Benign']
t = t.reset_index()

sns.barplot(data=t, y='Ratio', x='Ratio_num_bins', ax=ax, color='#FF8652', )
sns.lineplot(data=t, y='Ratio', x='Ratio_num_bins', ax=ax, color='#7f8c8d', alpha=0.5, )

ax.spines['bottom'].set_linewidth(0)
ax.spines['right'].set_linewidth(0)
ax.spines['top'].set_linewidth(0)
plt.tick_params(axis = "x", which = "both", bottom = False, top = False)
             
# plt.yscale('log')
# plt.ylim(0, 1)
show_values_on_bars(ax, fontsize=13, i=3)
plt.ylabel('Ratio (ClinVar Pathogenic / ClinVar Benign)',)
plt.xlabel('Exon frequency ratio across isoforms')
plt.xticks()
# legend = ax.legend()
# plt.title('ClinVar variants ratio across Alternative coding \nexonic regions at various exonic frequency')


t = merge_df_variants.loc[merge_df_variants['Const_Alt'] == 'Alt'].groupby(['Ratio_num_bins', 'Status']).size().reset_index().pivot(index='Status', columns='Ratio_num_bins', values=0).to_dict()
t


merge_df_variants.loc[merge_df_variants['Const_Alt'] == 'Alt']





merge_df_variants2 = merge_df_variants.copy()
bins = [0, 0.2, 0.4, 0.6, 0.8, 1]
# bins = [0, 0.1, 0.2, 0.3, 0.4, 0.5, 0.6, 0.7, 0.8, 0.9, 1]
# bins = [0, 0.25, 0.5, 0.75, 1]
# bins = [0, 0.3, 0.7, 1]
labels = bins.copy()
labels_ratio = [str(round(labels[j], 2)) + " - " + str(round(labels[j + 1], 2)) for j in range(len(labels) - 1)]
merge_df_variants2["Ratio_num_bins"] = pd.cut(merge_df_variants2["Ratio_num"], bins=bins, labels=labels_ratio, include_lowest=True)
merge_df_variants2

t_l = list()
odr_l = list()
se_l = list()
cis = list()
# for key in test['Alt']:
#     print(key)
#     sum_others_alt = sum([test['Alt'][k] for k in test['Alt'] if key != k])
#     sum_others_const = sum([test['Const'][k] for k in test['Alt'] if key != k])
#     odr = ((test['Const'][key]) / (test['Alt'][key])) / ((sum_others_const / sum_others_alt)) - 1 
#     logodr = math.log((test['Const'][key] / sum_others_const) / (test['Alt'][key] / sum_others_alt))
#     print(test['Const'][key], test['Alt'][key], sum_others_const, sum_others_alt, odr+1)
#     se = math.sqrt((1/test['Const'][key]) + (1/test['Alt'][key]) + (1/sum_others_const) + (1/sum_others_alt))
#     low_ci = math.exp(logodr - (1.96 * se))
#     up_ci = math.exp(logodr + (1.96 * se))
    
#     odr_l.append(odr)
#     se_l.append(se)    
    
t = merge_df_variants2.loc[merge_df_variants['Const_Alt'] == 'Alt'].groupby(['Ratio_num_bins', 'Status']).size().reset_index().pivot(index='Status', columns='Ratio_num_bins', values=0).to_dict()
# t['Ratio'] = t['Pathogenic'] / t['Benign']
# t = t.reset_index()
t
# sns.barplot(data=t, y='Ratio', x='Ratio_num_bins', ax=ax)
# # plt.yscale('log')
# plt.ylim(0, 1)

for key in t:
    sum_others_path = sum([t[k]['Pathogenic'] for k in t if key != k])
    sum_others_benign = sum([t[k]['Benign'] for k in t if key != k])
    odr = (t[key]['Pathogenic'] / t[key]['Benign']) / (sum_others_path / sum_others_benign)
    logodr = math.log(odr)
    se = math.sqrt((1/t[key]['Pathogenic']) + (1/t[key]['Benign']) + (1/sum_others_path) + (1/sum_others_benign))
    low_ci = math.exp(logodr - (1.96 * se))
    up_ci = math.exp(logodr + (1.96 * se))
    ttest = stats.ttest_ind([t[key]['Pathogenic'], t[key]['Benign']], [sum_others_path, sum_others_benign])

    print(t[key]['Pathogenic'], t[key]['Benign'], sum_others_path, sum_others_benign, odr, low_ci, up_ci, ttest)
    odr_l.append(odr)
    se_l.append(se)
    cis.append([low_ci + 1 , up_ci + 1])

    # Define labels, positions, bar heights and error bar heights

labels = list(t.keys())
x_pos = np.arange(len(labels))
CTEs = odr_l
error = se_l


def show_values_on_bars(axs, i=0, fontsize=10, rotation=0):
    def _show_on_single_plot(ax):
        for p in ax.patches:
            print(p)
            _x = p.get_x() + p.get_width() / 2
            _y = p.get_y() + (p.get_height() / 2) - 0.01
            if i == 0:
                value = "{:.0f}".format(p.get_height())
            if i == 2:
                value = "{:.2f}".format(p.get_height())

            if i == 3:
                value = "{:.3f}".format(p.get_height())
            ax.text(_x, _y, str(round(float(value) + 1, 2)), ha="center", fontsize=fontsize, rotation=rotation, color='black')

    if isinstance(axs, np.ndarray):
        for idx, ax in np.ndenumerate(axs):
            _show_on_single_plot(ax)
    else:
        _show_on_single_plot(axs)

        
# Say, "the default sans-serif font is COMIC SANS"
matplotlib.rcParams['font.family'] = "sans-serif"

matplotlib.rcParams['font.sans-serif'] = "DejaVu Sans"
# fontProperties = {'family':'sans-serif', 'sans-serif':['Helvetica']}
# Then, "ALWAYS use sans-serif fonts"

# Build the plot
fig, ax = plt.subplots(figsize=(4,10))
ax.set_axisbelow(True)
# ax.yaxis.grid(color='gray', zorder=0)

# plt.rc('axes', axisbelow=True)
palette = [e for j, e in enumerate(sns.color_palette("Paired")) if j%2 == 0]
print(palette)
ax.set_xticklabels(labels)
ax.bar(x_pos, CTEs,
#        yerr=error,
       align='center',
#        alpha=0.5,
#        ecolor='black',
       capsize=10,
#        color=list(reversed(sns.color_palette('mako'))),
       color=sns.color_palette('YlOrBr'),
       alpha=0.9,
#        zorder=3,
       bottom=1,
       
#        **hfont
      )

print(np.array(cis).T)
print(CTEs)
[line.set_zorder(3) for line in ax.lines]
ax.set_xticks(x_pos)
# ax.set_xticklabels(fontsize=14)
# ax.set_yticks([x_pos])
ax.tick_params(axis='both', which='major', labelsize=16)
# plt.gca().yaxis.set_major_formatter(mtick.FuncFormatter(lambda x,_: round(x+2, 2)))
# ax.set_yticks([0.2, 0.4, 0.6, 0.8, 1, 1.2, 1.4])
ax.set_xlabel('Exon frequency', fontsize=20)
ax.set_ylabel('OR (pathogenic VS benign variants)', fontsize=20)
show_values_on_bars(ax, fontsize=14, i=3, )
plt.yscale('log')
ax.set_yticks([0.1, 1, 10], )
plt.vlines(x_pos, np.array(cis).T[0], np.array(cis).T[1])
ax.get_yaxis().set_major_formatter(matplotlib.ticker.ScalarFormatter())
ax.get_yaxis().set_major_formatter(matplotlib.ticker.FormatStrFormatter('%g'))

ax.spines['bottom'].set_linewidth(0)
ax.spines['right'].set_linewidth(0)
ax.spines['top'].set_linewidth(0)
plt.ylim(0.3, 10)
plt.tick_params(axis = "x", which = "both", bottom = False, top = False)
ax.axhline(1, color='black')
plt.xticks(rotation=90)
ax.text(-0.3, 1.05, 'b', transform=ax.transAxes, size=24, weight='bold')
ax.minorticks_off()
# plt.title('TEST')
# plt.title('ODR')
CTEs


tmp_d = t.pivot(index='Status', columns='Const_Alt', values=0).to_dict()
tmp_d


(tmp_d['Const']['Pathogenic'] / tmp_d['Const']['Benign']) / (tmp_d['Alt']['Pathogenic'] / tmp_d['Alt']['Benign'])



tmp_d['Alt']['Ratio'] = tmp_d['Alt']['Benign'] / tmp_d['Alt']['Pathogenic']
tmp_d['Const']['Ratio'] = tmp_d['Const']['Benign'] / tmp_d['Const']['Pathogenic']
tmp_d


test = merge_df_variants[['Const_Alt', 'Status']].groupby(['Const_Alt', 'Status']).size().reset_index().pivot(index='Status', columns='Const_Alt', values=0).to_dict()
test
# t_l = list()
# odr_l = list()
# se_l = list()


odr = ((test['Alt']['Pathogenic'] / test['Alt']['Benign']) / (test['Const']['Pathogenic'] / test['Const']['Benign']))
print(odr)



# for key in test['Alt']:
#     print(key)
#     sum_others_alt = sum([test['Alt'][k] for k in test['Alt'] if key != k])
#     sum_others_const = sum([test['Const'][k] for k in test['Alt'] if key != k])
#     odr = ((test['Const'][key]) / (test['Alt'][key])) / ((sum_others_const / sum_others_alt))
#     logodr = math.log((test['Const'][key] / sum_others_const) / (test['Alt'][key] / sum_others_alt))

#     se = math.sqrt((1/test['Const'][key]) + (1/test['Alt'][key]) + (1/sum_others_const) + (1/sum_others_alt))
#     low_ci = math.exp(logodr - (1.96 * se))
#     up_ci = math.exp(logodr + (1.96 * se))
    
#     odr_l.append(odr)
#     se_l.append(se)   
# print(odr_l)
# print(se_l)


# tmp_clinvar_ccrs_path = '/home/weber/PycharmProjects/ExoCarto/data/2_processed/ClinVar_CCRS_modified.parquet'
tmp_clinvar_ccrs_path = '/gstock/EXOTIC/data/VARIATIONS/ClinVar_CCRS_gnomAD.parquet'
tmp_clinvar_ccrs_path = "/gstock/EXOTIC/data/VARIATIONS/ClinVar_CCRS_gnomAD_2021_refseq_corrected.parquet"
merge_ccrs_variants = pd.read_parquet(tmp_clinvar_ccrs_path)
# merge_ccrs_variants = merge_ccrs_variants.head(10000)

merge_ccrs_variants = merge_ccrs_variants.loc[merge_ccrs_variants['Status'] != 'Other']
path_genes = list(merge_ccrs_variants.loc[merge_ccrs_variants['Status'] == 'Pathogenic'].Gene.unique())
merge_ccrs_variants = merge_ccrs_variants.loc[merge_ccrs_variants['Gene'].isin(path_genes)]
merge_ccrs_variants.loc[merge_ccrs_variants['Status'] == 'Benign' , 'Benign'] = True
merge_ccrs_variants.loc[merge_ccrs_variants['Status'] == 'Pathogenic' , 'Pathogenic'] = True
merge_ccrs_variants[['Benign', 'Pathogenic']] = merge_ccrs_variants[['Benign', 'Pathogenic']].fillna(False)
merge_ccrs_variants.loc[merge_ccrs_variants['Ratio_num'] == 1, 'Constitutive'] = True
merge_ccrs_variants.loc[merge_ccrs_variants['Ratio_num'] < 1, 'Alternative'] = True
merge_ccrs_variants.loc[merge_ccrs_variants['Ratio_num'] < 1, 'Const_Alt'] = "Alt"
merge_ccrs_variants.loc[merge_ccrs_variants['Ratio_num'] == 1, 'Const_Alt'] = "Const"
merge_ccrs_variants.loc[(merge_ccrs_variants['Ratio_num'] < 1) & (merge_ccrs_variants['Ratio_num'] >= 0.8), 'Cat80100'] = True
merge_ccrs_variants.loc[(merge_ccrs_variants['Ratio_num'] < 0.8) & (merge_ccrs_variants['Ratio_num'] >= 0.6), 'Cat6080'] = True
merge_ccrs_variants.loc[(merge_ccrs_variants['Ratio_num'] < 0.6) & (merge_ccrs_variants['Ratio_num'] >= 0.4), 'Cat4060'] = True
merge_ccrs_variants.loc[(merge_ccrs_variants['Ratio_num'] < 0.4) & (merge_ccrs_variants['Ratio_num'] >= 0.2), 'Cat2040'] = True
merge_ccrs_variants.loc[(merge_ccrs_variants['Ratio_num'] < 0.2) & (merge_ccrs_variants['Ratio_num'] > 0), 'Cat0020'] = True
merge_ccrs_variants.loc[merge_ccrs_variants['CCRS_bins'] == '0 - 20', 'CCR_0_20_bool'] = True
merge_ccrs_variants.loc[merge_ccrs_variants['CCRS_bins'] == '20 - 80', 'CCR_20_80_bool'] = True
merge_ccrs_variants.loc[merge_ccrs_variants['CCRS_bins'] == '80 - 90', 'CCR_80_90_bool'] = True
merge_ccrs_variants.loc[merge_ccrs_variants['CCRS_bins'] == '90 - 95', 'CCR_90_95_bool'] = True
merge_ccrs_variants.loc[merge_ccrs_variants['CCRS_bins'] == '95 - 99', 'CCR_95_99_bool'] = True
merge_ccrs_variants.loc[merge_ccrs_variants['CCRS_bins'] == '99 - 100', 'CCR_99_100_bool'] = True

# merge_ccrs_variants['MC'] = merge_ccrs_variants['MC'].apply(lambda r: eval(r) if '[' in r else r)
# merge_ccrs_variants['MC'] = merge_ccrs_variants['MC'].apply(lambda r: list(set(r)))
# merge_ccrs_variants = merge_ccrs_variants.explode('MC')
merge_ccrs_variants[['CCR_0_20_bool', 'CCR_20_80_bool', 'CCR_80_90_bool', 'CCR_90_95_bool', 'CCR_95_99_bool', 'CCR_99_100_bool', 'Cat0020', 'Cat2040', 'Cat4060', 'Cat6080', 'Cat80100', 'Constitutive', 'Alternative']] = merge_ccrs_variants[['CCR_0_20_bool', 'CCR_20_80_bool', 'CCR_80_90_bool', 'CCR_90_95_bool', 'CCR_95_99_bool', 'CCR_99_100_bool', 'Cat0020', 'Cat2040', 'Cat4060', 'Cat6080', 'Cat80100', 'Constitutive', 'Alternative']].fillna(False)
print(list(merge_ccrs_variants.columns))

# merge_ccrs_variants.to_parquet('/gstock/EXOTIC/data/VARIATIONS/Variants_CCRS_Rdata.parquet', index=False)

merge_ccrs_variants



bins = [0, 20, 80, 90, 95, 99, 100]
labels = bins.copy()
labels_ratio = [str(round(labels[j], 1)) + " - " + str(round(labels[j + 1], 1)) for j in range(len(labels) - 1)]
merge_ccrs_variants["CCRS_bins"] = pd.cut(merge_ccrs_variants["CCRS_CCR_percentile"], bins=bins, labels=labels_ratio, include_lowest=True)
merge_ccrs_variants = merge_ccrs_variants.drop('HPO', axis=1)
merge_ccrs_variants = merge_ccrs_variants.drop_duplicates()
merge_ccrs_variants


merge_ccrs_variants.loc[(merge_ccrs_variants['Status'] == 'Pathogenic') & (merge_ccrs_variants['RS_STARS'] > 0)]


d = pd.pivot_table(merge_ccrs_variants.groupby(['Const_Alt', 'Status', 'CCRS_bins']).size().reset_index(), index=['CCRS_bins', 'Const_Alt'], columns='Status', values=0)
d['Ratio'] = d['Pathogenic'] / d['Benign']
d[['Ratio']].plot.bar()
# plt.yscale('log')


merge_ccrs_variants


path_genes = list(merge_ccrs_variants.loc[merge_ccrs_variants['Status'] == 'Pathogenic'].Gene.unique())
merge_ccrs_variants = merge_ccrs_variants.loc[merge_ccrs_variants['Gene'].isin(path_genes)]
merge_ccrs_variants


d


def show_values_on_bars(axs, i=0, fontsize=10, rotation=0):
    def _show_on_single_plot(ax):
        for p in ax.patches:
            print(p)
            _x = p.get_x() + p.get_width() / 2
            print(p.get_height())
            if p.get_height() >= 1:
                _y = p.get_y() + (p.get_height() / 2)
            elif p.get_height() < 1:
                _y = p.get_y() + (p.get_height() / 2) + p.get_height() * 0.005
            if i == 0:
                value = "{:.0f}".format(p.get_height())
            if i == 2:
                value = "{:.2f}".format(p.get_height())

            if i == 3:
                value = "{:.3f}".format(p.get_height())
            ax.text(_x, _y, str(round(float(value) + 1, 2)), ha="center", fontsize=fontsize, rotation=rotation, color='white')

    if isinstance(axs, np.ndarray):
        for idx, ax in np.ndenumerate(axs):
            _show_on_single_plot(ax)
    else:
        _show_on_single_plot(axs)

d = pd.pivot_table(merge_ccrs_variants.groupby(['Const_Alt', 'Status', 'CCRS_bins']).size().reset_index(), index=['CCRS_bins', 'Status'], columns='Const_Alt', values=0)
# d = pd.pivot_table(merge_ccrs_variants.groupby(['Const_Alt', 'Status', 'CCRS_bins']).size().reset_index(), index=['CCRS_bins', 'Const_Alt'], columns='Status', values=0)
d

new_d = collections.defaultdict(dict)
for k in d.to_dict():
    new_d[k] = dict()
    for sub_k, v in d[k].items():
        if sub_k[0] not in new_d[k]:
            new_d[k][sub_k[0]] = dict()
        new_d[k][sub_k[0]][sub_k[1]] = v
odr_alt = list()
odr_const = list()
labels = list(new_d['Alt'].keys())

l = list()



new_d
        
for const_alt in new_d:
    for ccr in new_d[const_alt]:
        b = new_d[const_alt][ccr]['Benign']
        p = new_d[const_alt][ccr]['Pathogenic']
        other_b = sum([new_d[const_alt][e]['Benign'] for e in labels if new_d[const_alt][e]['Benign'] != b])
        other_p= sum([new_d[const_alt][e]['Pathogenic'] for e in labels if new_d[const_alt][e]['Pathogenic'] != p])
        print(b, p, other_b, other_p)
        odr = ((p / b) / (other_p / other_b))
#         print(const_alt, ccr, odr)
        l.append(
            {
                'Const_Alt' : const_alt,
                'CCRS_bins' : ccr,
                'ODR' : odr,
            }        
        )

t = pd.DataFrame(l)
# t['ODR'] = t['ODR'] - 1
# t

f, ax = plt.subplots(figsize=(10,10))
sns.set_context('paper',  font_scale=2)

ax.set_axisbelow(True)
# ax.grid(True, axis='y')
p = sns.barplot(data=t.sort_values(by='Const_Alt', ascending=False), x='CCRS_bins', y='ODR', hue='Const_Alt', bottom=1, zorder=1, palette=['#3C5488FF', '#DC000099'])
plt.yscale('log')
# plt.xticks(rotation=45)
plt.xlabel('Constraint bins')
plt.ylabel('OR (pathogenic VS benign variants)')
ax.legend(loc='upper left')
legend = ax.get_legend()
legend.set_title('')
legend.texts[0].set_text("Constitutive")
legend.texts[1].set_text("Alternative")
print(legend)
# ax.legend(loc='upper left')
show_values_on_bars(ax, i=2, fontsize=12)
plt.tick_params(axis = "x", which = "both", bottom = False, top = False)
ax.set_yticks([0.1, 1, 10, 100, ], )
ax.set_ylim(0.1, 100)
# ax.get_yaxis().set_major_formatter(matplotlib.ticker.ScalarFormatter())
ax.minorticks_off()
plt.axhline(1, lw=2, color='black', zorder=2)
# ax.text(-0.2, 1.05, 'a', transform=ax.transAxes, size=24, weight='bold')
ax.get_yaxis().set_major_formatter(matplotlib.ticker.ScalarFormatter())
ax.get_yaxis().set_major_formatter(matplotlib.ticker.FormatStrFormatter('%g'))
ax.spines['bottom'].set_linewidth(0)
ax.spines['right'].set_linewidth(0)
ax.spines['top'].set_linewidth(0)
# plt.yscale('symlog')
# plt.gca().yaxis.set_major_formatter(mtick.FuncFormatter(lambda x,_: x+1))
# ax.set_yticklabels([1,'', 10])
# yticks = ax.yaxis.get_major_ticks()
# yticks[1].set_visible(False)
# plt.yticks([1, 10])

# plt.ylim(0, )
d


d = pd.pivot_table(merge_ccrs_variants.loc[merge_ccrs_variants['Const_Alt'] == 'Alt'].groupby(['Status', 'CCRS_bins', 'Ratio_num_bins']).size().reset_index(), index=['CCRS_bins', 'Status'], columns='Ratio_num_bins', values=0)
d




def show_values_on_bars(axs, i=0, fontsize=10, rotation=0):
    def _show_on_single_plot(ax):
        for p in ax.patches:
            print(p)
            _x = p.get_x() + p.get_width() / 2 + 0.01
            print(p.get_height())
#             if p.get_height() >= 1:
            _y = p.get_y() + ((p.get_height() / 2))  - (p.get_height() * 0.33)
#             elif p.get_height() < 1:
#                 _y = p.get_y() + (p.get_height() / 2) + p.get_height() * 0.2
            if i == 0:
                value = "{:.0f}".format(p.get_height())
            if i == 2:
                value = "{:.2f}".format(p.get_height())

            if i == 3:
                value = "{:.3f}".format(p.get_height())
            ax.text(_x, _y, str(round(float(value) + 1, 2)), ha="center", fontsize=fontsize, rotation=rotation, color='black')

    if isinstance(axs, np.ndarray):
        for idx, ax in np.ndenumerate(axs):
            _show_on_single_plot(ax)
    else:
        _show_on_single_plot(axs)

        
d = pd.pivot_table(merge_ccrs_variants.loc[merge_ccrs_variants['Const_Alt'] == 'Alt'].groupby(['Status', 'CCRS_bins', 'Ratio_num_bins']).size().reset_index(), index=['CCRS_bins', 'Status'], columns='Ratio_num_bins', values=0).fillna(1).to_dict()
new_d = collections.defaultdict(dict)
for k in d:
    new_d[k] = dict()
    for sub_k, v in d[k].items():
        if sub_k[0] not in new_d[k]:
            new_d[k][sub_k[0]] = dict()
        new_d[k][sub_k[0]][sub_k[1]] = v
labels = list(new_d[list(new_d.keys())[0]].keys())
labels
        # new_d
l = list()

for const_alt in new_d:
    for ccr in new_d[const_alt]:
#         print(const_alt, ccr, new_d[const_alt][ccr])
        b = new_d[const_alt][ccr]['Benign']
        p = new_d[const_alt][ccr]['Pathogenic']
        other_b = sum([new_d[const_alt][e]['Benign'] for e in labels if new_d[const_alt][e]['Benign'] != b])
        other_p= sum([new_d[const_alt][e]['Pathogenic'] for e in labels if new_d[const_alt][e]['Pathogenic'] != p])
#         print(const_alt, ccr, b, p, other_b, other_p)

        odr = ((p / b) / (other_p / other_b))
        l.append(
            {
                'Ratio_num_bins' : const_alt,
                'CCRS_bins' : ccr,
                'ODR' : odr,
            }        
        )

sns.set_context('paper',  font_scale=2)
t = pd.DataFrame(l)


# print(t)
f, ax = plt.subplots(figsize=(10,10))
ax.set_axisbelow(True)
ax.grid(True, axis='y')
# ax.set_yscale('log')
p = sns.barplot(data=t, x='CCRS_bins', y='ODR', hue='Ratio_num_bins', bottom=1, palette='YlOrBr')
# plt.gca().yaxis.set_major_formatter(mtick.FuncFormatter(lambda x,_: x+1))
plt.yscale('log')
ax.get_yaxis().set_major_formatter(matplotlib.ticker.ScalarFormatter())
# ax.spines['bottom'].set_linewidth(0)
ax.spines['right'].set_linewidth(0)
ax.spines['top'].set_linewidth(0)
show_values_on_bars(ax, i=2, fontsize=12, rotation=90)
# plt.ylim(0.1, 100)
plt.tick_params(axis = "x", which = "both", bottom = False, top = False)
# ax.set_yticks([0.1, 1, 10, 100, ], )
# ax.set_ylim(0.1, 100)
ax.get_yaxis().set_major_formatter(matplotlib.ticker.ScalarFormatter())
ax.minorticks_off()
# plt.axhline(1, lw=2, color='black', zorder=2)
ax.text(-0.1, 1.05, 'a', transform=ax.transAxes, size=24, weight='bold')
ax.get_yaxis().set_major_formatter(matplotlib.ticker.ScalarFormatter())
# ax.spines['bottom'].set_linewidth(0)
ax.spines['right'].set_linewidth(0)
ax.spines['top'].set_linewidth(0)
plt.xlabel('Constraint bins')
plt.ylabel('OR (pathogenic VS benign variants)')
legend = p.get_legend()
legend.set_title('Exon frequency')
t




def show_values_on_bars(axs, i=0, fontsize=10, rotation=0):
    def _show_on_single_plot(ax):
        for p in ax.patches:
            print(p)
            _x = p.get_x() + p.get_width() / 2 + 0.01
            print(p.get_height())
#             if p.get_height() >= 1:
            _y = p.get_y() + ((p.get_height() / 2))  - (p.get_height() * 0.33)
#             elif p.get_height() < 1:
#                 _y = p.get_y() + (p.get_height() / 2) + p.get_height() * 0.2
            if i == 0:
                value = "{:.0f}".format(p.get_height())
            if i == 2:
                value = "{:.2f}".format(p.get_height())

            if i == 3:
                value = "{:.3f}".format(p.get_height())
            ax.text(_x, _y, str(round(float(value) + 1, 2)), ha="center", fontsize=fontsize, rotation=rotation, color='black')

    if isinstance(axs, np.ndarray):
        for idx, ax in np.ndenumerate(axs):
            _show_on_single_plot(ax)
    else:
        _show_on_single_plot(axs)

        
d = pd.pivot_table(merge_ccrs_variants.loc[merge_ccrs_variants['Const_Alt'] == 'Alt'].groupby(['Status', 'CCRS_bins', 'Ratio_num_bins']).size().reset_index(), index=['CCRS_bins', 'Status'], columns='Ratio_num_bins', values=0).fillna(1).to_dict()
new_d = collections.defaultdict(dict)
for k in d:
    new_d[k] = dict()
    for sub_k, v in d[k].items():
        if sub_k[0] not in new_d[k]:
            new_d[k][sub_k[0]] = dict()
        new_d[k][sub_k[0]][sub_k[1]] = v
labels = list(new_d[list(new_d.keys())[0]].keys())
labels
        # new_d
l = list()

for const_alt in new_d:
    for ccr in new_d[const_alt]:
#         print(const_alt, ccr, new_d[const_alt][ccr])
        b = new_d[const_alt][ccr]['Benign']
        p = new_d[const_alt][ccr]['Pathogenic']
        other_b = sum([new_d[const_alt][e]['Benign'] for e in labels if new_d[const_alt][e]['Benign'] != b])
        other_p= sum([new_d[const_alt][e]['Pathogenic'] for e in labels if new_d[const_alt][e]['Pathogenic'] != p])
#         print(const_alt, ccr, b, p, other_b, other_p)

        odr = ((p / b) / (other_p / other_b))
        l.append(
            {
                'Ratio_num_bins' : const_alt,
                'CCRS_bins' : ccr,
                'ODR' : odr,
                'Count_pathogenic' : p,
                'Count_benign' : b,
            }        
        )

sns.set_context('paper',  font_scale=2)
t = pd.DataFrame(l)
t
# t = t.melt(id_vars=['Ratio_num_bins', 'CCRS_bins'], value_vars=['Count_pathogenic', 'Count_benign'])

# t = pd.pivot_table(data=t, index='Ratio_num_bins', columns='CCRS_bins', values=['Count_pathogenic', 'Count_benign']).round(2)
# t.columns = t.columns.swaplevel(0, 1)
# t.to_excel('/gstock/EXOTIC/data/VARIATIONS/Exon_freq_CCR_OR_analysis.xlsx')
# t


sns.set_context('paper', font_scale=1)
# g = sns.FacetGrid(data=t, col='Ratio_num_bins', )
# g.map(sns.barplot, 'CCRS_bins', 'value', 'variable', palette='Paired')
# plt.yscale('log')
# plt.ylim(1, 10e5)

# print(t)
f, ax = plt.subplots(figsize=(10,10))
ax.set_axisbelow(True)
ax.grid(True, axis='y')
# ax.set_yscale('log')
p = sns.barplot(data=t, x='CCRS_bins', y='ODR', hue='Ratio_num_bins', bottom=1, palette='YlOrBr')
# plt.gca().yaxis.set_major_formatter(mtick.FuncFormatter(lambda x,_: x+1))
plt.yscale('log')
ax.get_yaxis().set_major_formatter(matplotlib.ticker.ScalarFormatter())
# ax.spines['bottom'].set_linewidth(0)
ax.spines['right'].set_linewidth(0)
ax.spines['top'].set_linewidth(0)
show_values_on_bars(ax, i=2, fontsize=12, rotation=90)
# plt.ylim(0.1, 100)
plt.tick_params(axis = "x", which = "both", bottom = False, top = False)
# ax.set_yticks([0.1, 1, 10, 100, ], )
# ax.set_ylim(0.1, 100)
ax.get_yaxis().set_major_formatter(matplotlib.ticker.ScalarFormatter())
ax.minorticks_off()
# plt.axhline(1, lw=2, color='black', zorder=2)
ax.text(-0.1, 1.05, 'a', transform=ax.transAxes, size=24, weight='bold')
ax.get_yaxis().set_major_formatter(matplotlib.ticker.ScalarFormatter())
# ax.spines['bottom'].set_linewidth(0)
ax.spines['right'].set_linewidth(0)
ax.spines['top'].set_linewidth(0)
plt.xlabel('Constraint bins')
plt.ylabel('OR (pathogenic VS benign variants)')
legend = p.get_legend()
legend.set_title('Exon frequency')
new_d



d = pd.pivot_table(merge_ccrs_variants.loc[merge_ccrs_variants['Const_Alt'] == 'Alt'].groupby(['Status', 'CCRS_bins', 'Ratio_num_bins']).size().reset_index(), index=['Ratio_num_bins', 'Status'], columns='CCRS_bins', values=0).fillna(1).to_dict()
new_d = collections.defaultdict(dict)
for k in d:
    new_d[k] = dict()
    for sub_k, v in d[k].items():
        if sub_k[0] not in new_d[k]:
            new_d[k][sub_k[0]] = dict()
        new_d[k][sub_k[0]][sub_k[1]] = v
labels = list(new_d[list(new_d.keys())[0]].keys())
labels
        # new_d
l = list()

for const_alt in new_d:
    for ccr in new_d[const_alt]:
        print(const_alt, ccr, new_d[const_alt][ccr])
        b = new_d[const_alt][ccr]['Benign']
        p = new_d[const_alt][ccr]['Pathogenic']
        other_b = sum([new_d[const_alt][e]['Benign'] for e in labels if new_d[const_alt][e]['Benign'] != b])
        other_p= sum([new_d[const_alt][e]['Pathogenic'] for e in labels if new_d[const_alt][e]['Pathogenic'] != p])
        print(const_alt, ccr, b, p, other_b, other_p)

        odr = ((p / b) / (other_p / other_b))
        l.append(
            {
                'Ratio_num_bins' : const_alt,
                'CCRS_bins' : ccr,
                'ODR' : odr,
            }        
        )

t = pd.DataFrame(l)
print(t)
f, ax = plt.subplots(figsize=(10,10))
ax.set_axisbelow(True)
ax.grid(True, axis='y')
# ax.set_yscale('log')
sns.barplot(data=t, x='CCRS_bins', y='ODR', hue='Ratio_num_bins', bottom=1)
plt.gca().yaxis.set_major_formatter(mtick.FuncFormatter(lambda x,_: x+1))
plt.yscale('log')
plt.ylim(0.5, 5)


exotic


exotic_ccrs_variants = pd.merge(exotic, merge_ccrs_variants, left_on='Exon', right_on='ranges').drop_duplicates(subset=['MAP', 'CCRS_ranges', 'ID'])
exotic_ccrs_variants 


sns.set_context('paper', font_scale=2)
t = exotic_ccrs_variants[['Type', 'CCRS_bins', 'CCRS_CCR_percentile']].groupby(['Type', 'CCRS_bins']).count().reset_index()
g = sns.FacetGrid(data=t, col='Type', hue='Type', sharey=False, height=10, palette={'No\nthreshold' : "#2d3436", 'bronze' : "#A77044", 'silver' : "#D7D7D7", 'gold': "#FEE101"})
g.map(sns.barplot, 'CCRS_bins', 'CCRS_CCR_percentile', alpha=0.75)
g.map(sns.lineplot, 'CCRS_bins', 'CCRS_CCR_percentile', lw=5, )
for a in g.axes.ravel():
    
    a.set_yscale('log')
    a.set_ylim(ymin=1)



def show_values_on_bars(axs, i=0, fontsize=10, rotation=0):
    def _show_on_single_plot(ax):
        for p in ax.patches:
#             print(p)
            _x = p.get_x() + p.get_width() / 2 + 0.01
#             print(p.get_height())
#             if p.get_height() >= 1:
            _y = p.get_y() + ((p.get_height() / 2))  + (p.get_height() * 0.55)
#             elif p.get_height() < 1:
#                 _y = p.get_y() + (p.get_height() / 2) + p.get_height() * 0.2
            if i == 0:
                value = "{:.0f}".format(p.get_height())
            if i == 2:
                value = "{:.2f}".format(p.get_height())

            if i == 3:
                value = "{:.3f}".format(p.get_height())
            print(value, type(value))
            if value != 'nan':
                ax.text(_x, _y, str(round(int(value) + 1, 2)), ha="center", fontsize=fontsize, rotation=rotation, color='black')

    if isinstance(axs, np.ndarray):
        for idx, ax in np.ndenumerate(axs):
            _show_on_single_plot(ax)
    else:
        _show_on_single_plot(axs)
sns.set_context('paper', font_scale=2)
           
f, ax = plt.subplots(figsize=(10,10))
t = exotic_ccrs_variants[['Type', 'CCRS_bins', 'CCRS_CCR_percentile']].groupby(['Type', 'CCRS_bins']).count().reset_index()
# g = sns.FacetGrid(data=t, col='Type', hue='Type', sharey=False, height=10, palette={'No\nthreshold' : "#2d3436", 'bronze' : "#A77044", 'silver' : "#D7D7D7", 'gold': "#FEE101"})
ax = sns.barplot(data=t, x='CCRS_bins', y='CCRS_CCR_percentile', hue='Type', alpha=0.75, palette={'No\nthreshold' : "#2d3436", 'bronze' : "#A77044", 'silver' : "#D7D7D7", 'gold': "#FEE101"})

sns.lineplot(data=t, x='CCRS_bins', y='CCRS_CCR_percentile', hue='Type', lw=5, legend=False, palette={'No\nthreshold' : "#2d3436", 'bronze' : "#A77044", 'silver' : "#D7D7D7", 'gold': "#FEE101"})
# for a in g.axes.ravel():
show_values_on_bars(ax)    
plt.yscale('log')
plt.ylim(ymin=1)
plt.xlabel('Constraint level')
plt.ylabel('CCR Count')
plt.legend(loc='upper right')




t = exotic_ccrs_variants[['Type', 'Status', 'CCRS_CCR_percentile']].groupby(['Type', 'Status']).count().reset_index()
g = sns.FacetGrid(data=t, col='Type', hue='Type', height=10, palette={'No\nthreshold' : "#2d3436", 'bronze' : "#A77044", 'silver' : "#D7D7D7", 'gold': "#FEE101"})
g.map(sns.barplot, 'Status', 'CCRS_CCR_percentile', alpha=0.75)
g.map(sns.lineplot, 'Status', 'CCRS_CCR_percentile', lw=5, )
for a in g.axes.ravel():
    
    a.set_yscale('log')
    a.set_ylim(ymin=1)


f, ax = plt.subplots(figsize=(10,10))
t = exotic_ccrs_variants[['Type', 'Status', 'CCRS_CCR_percentile']].groupby(['Type', 'Status']).count().reset_index()
# g = sns.FacetGrid(data=t, col='Type', hue='Type', sharey=False, height=10, palette={'No\nthreshold' : "#2d3436", 'bronze' : "#A77044", 'silver' : "#D7D7D7", 'gold': "#FEE101"})
ax = sns.barplot(data=t, x='Status', y='CCRS_CCR_percentile', hue='Type', alpha=0.75, palette={'No\nthreshold' : "#2d3436", 'bronze' : "#A77044", 'silver' : "#D7D7D7", 'gold': "#FEE101"})

# sns.lineplot(data=t, x='Status', y='CCRS_CCR_percentile', hue='Type', lw=5, legend=False, palette={'No\nthreshold' : "#2d3436", 'bronze' : "#A77044", 'silver' : "#D7D7D7", 'gold': "#FEE101"})
# for a in g.axes.ravel():
    
plt.yscale('log')
plt.ylim(ymin=1)
plt.ylabel('Variants count')
plt.xlabel('Variants type')
show_values_on_bars(ax)


def show_values_on_bars(axs, i=0, fontsize=13, rotation=0):
    def _show_on_single_plot(ax):
        for p in ax.patches:
            _x = p.get_x() + p.get_width() / 2 + 0.01
#             if p.get_height() >= 1:
            _y = p.get_y() + ((p.get_height() / 2))  + (p.get_height() * 0.55)
#             elif p.get_height() < 1:
#                 _y = p.get_y() + (p.get_height() / 2) + p.get_height() * 0.2
            if i == 0:
                value = "{:.0f}".format(p.get_height())
            if i == 2:
                value = "{:.2f}".format(p.get_height())

            if i == 3:
                value = "{:.3f}".format(p.get_height())
            if value != 'nan':
                ax.text(_x, _y, str(round(int(value), 2)), ha="center", fontsize=fontsize, rotation=rotation, color='black')

    if isinstance(axs, np.ndarray):
        for idx, ax in np.ndenumerate(axs):
            _show_on_single_plot(ax)
    else:
        _show_on_single_plot(axs)

sns.set_context('paper', font_scale=2)
t = exotic_ccrs_variants[['Type', 'CCRS_bins', 'Ratio_num_bins', 'Status',  'CCRS_CCR_percentile']].groupby(['Type', 'CCRS_bins', 'Ratio_num_bins', 'Status']).count().reset_index()
g = sns.FacetGrid(data=t, row='Type', col='Ratio_num_bins', height=6, margin_titles=True)
g.map(sns.barplot, 'CCRS_bins', 'CCRS_CCR_percentile', 'Status',  alpha=0.75, palette=["#00A087FF", '#DC0000FF'])
# g.map(sns.lineplot, 'Status', 'CCRS_CCR_percentile', lw=5, )
for a in g.axes.ravel():
    
    a.set_yscale('log')
    a.set_ylim(ymin=1)
    show_values_on_bars(a)


t = exotic_ccrs_variants[['Type', 'CCRS_bins', 'Ratio_num_bins', 'Status',  'CCRS_CCR_percentile']].groupby(['CCRS_bins', 'Status',]).count().reset_index()
t = t[['CCRS_bins', 'Status', 'Type',]]
t = t.pivot(index='Status', columns='CCRS_bins', values='Type')
t = t.to_dict()


# t = merge_df_variants2.loc[merge_df_variants['Const_Alt'] == 'Alt'].groupby(['Ratio_num_bins', 'Status']).size().reset_index().pivot(index='Status', columns='Ratio_num_bins', values=0).to_dict()
t = exotic_ccrs_variants[['Type', 'CCRS_bins', 'Ratio_num_bins', 'Status',  'CCRS_CCR_percentile']].groupby(['Type', 'CCRS_bins', 'Status',]).count().reset_index()
# t = t[['CCRS_bins', 'Status', 'Type',]]
d = pd.pivot_table(data=t, index=['Type', 'CCRS_bins'], columns='Status', values='CCRS_CCR_percentile')

d

new_d = collections.defaultdict(dict)
for k in d.to_dict():
    new_d[k] = dict()
    for sub_k, v in d[k].items():
        if sub_k[0] not in new_d[k]:
            new_d[k][sub_k[0]] = dict()
        new_d[k][sub_k[0]][sub_k[1]] = v
new_d

odr_alt = list()
odr_const = list()
labels = list(new_d['Alt'].keys())

l = list()



new_d
        
# for const_alt in new_d:
#     for ccr in new_d[const_alt]:
#         b = new_d[const_alt][ccr]['Benign']
#         p = new_d[const_alt][ccr]['Pathogenic']
#         other_b = sum([new_d[const_alt][e]['Benign'] for e in labels if new_d[const_alt][e]['Benign'] != b])
#         other_p= sum([new_d[const_alt][e]['Pathogenic'] for e in labels if new_d[const_alt][e]['Pathogenic'] != p])
#         print(b, p, other_b, other_p)
#         odr = ((p / b) / (other_p / other_b))
# #         print(const_alt, ccr, odr)
#         l.append(
#             {
#                 'Const_Alt' : const_alt,
#                 'CCRS_bins' : ccr,
#                 'ODR' : odr,
#             }        
#         )

# t = pd.DataFrame(l)
# t
        
# # Say, "the default sans-serif font is COMIC SANS"
# matplotlib.rcParams['font.family'] = "sans-serif"

# matplotlib.rcParams['font.sans-serif'] = "DejaVu Sans"
# # fontProperties = {'family':'sans-serif', 'sans-serif':['Helvetica']}
# # Then, "ALWAYS use sans-serif fonts"

# # Build the plot
# fig, ax = plt.subplots(figsize=(4,10))
# ax.set_axisbelow(True)
# # ax.yaxis.grid(color='gray', zorder=0)

# # plt.rc('axes', axisbelow=True)
# palette = [e for j, e in enumerate(sns.color_palette("Paired")) if j%2 == 0]
# print(palette)
# ax.set_xticklabels(labels)
# ax.bar(x_pos, CTEs,
# #        yerr=error,
#        align='center',
# #        alpha=0.5,
# #        ecolor='black',
#        capsize=10,
# #        color=list(reversed(sns.color_palette('mako'))),
#        color=sns.color_palette('YlOrBr'),
#        alpha=0.9,
# #        zorder=3,
#        bottom=1,
# #        **hfont
#       )

# print(np.array(cis).T)
# print(CTEs)
# [line.set_zorder(3) for line in ax.lines]
# ax.set_xticks(x_pos)
# # ax.set_xticklabels(fontsize=14)
# # ax.set_yticks([x_pos])
# ax.tick_params(axis='both', which='major', labelsize=16)
# # plt.gca().yaxis.set_major_formatter(mtick.FuncFormatter(lambda x,_: round(x+2, 2)))
# # ax.set_yticks([0.2, 0.4, 0.6, 0.8, 1, 1.2, 1.4])
# ax.set_xlabel('Exon frequency', fontsize=20)
# ax.set_ylabel('OR (pathogenic VS benign variants)', fontsize=20)
# show_values_on_bars(ax, fontsize=14, i=3, )
# plt.yscale('log')
# ax.set_yticks([0.1, 1, 10], )
# plt.vlines(x_pos, np.array(cis).T[0], np.array(cis).T[1])
# ax.get_yaxis().set_major_formatter(matplotlib.ticker.ScalarFormatter())
# ax.get_yaxis().set_major_formatter(matplotlib.ticker.FormatStrFormatter('%g'))

# ax.spines['bottom'].set_linewidth(0)
# ax.spines['right'].set_linewidth(0)
# ax.spines['top'].set_linewidth(0)
# plt.ylim(0.5, 12)
# plt.tick_params(axis = "x", which = "both", bottom = False, top = False)
# ax.axhline(1, color='black')
# plt.xticks(rotation=90)
# ax.text(-0.3, 1.05, 'b', transform=ax.transAxes, size=24, weight='bold')
# ax.minorticks_off()
# # plt.title('TEST')
# # plt.title('ODR')
# CTEs


# t = merge_df_variants2.loc[merge_df_variants['Const_Alt'] == 'Alt'].groupby(['Ratio_num_bins', 'Status']).size().reset_index().pivot(index='Status', columns='Ratio_num_bins', values=0).to_dict()
t = exotic_ccrs_variants[['Type', 'CCRS_bins', 'Ratio_num_bins', 'Status',  'CCRS_CCR_percentile']].groupby(['CCRS_bins', 'Status',]).count().reset_index()
t = t[['CCRS_bins', 'Status', 'Type',]]
t = t.pivot(index='Status', columns='CCRS_bins', values='Type')
t = t.to_dict()

# t['Ratio'] = t['Pathogenic'] / t['Benign']
# t = t.reset_index()
t

# sns.barplot(data=t, y='Ratio', x='Ratio_num_bins', ax=ax)
# # plt.yscale('log')
# plt.ylim(0, 1)


t_l = list()
odr_l = list()
se_l = list()
cis = list()

for key in t:
    sum_others_path = sum([t[k]['Pathogenic'] for k in t if key != k])
    sum_others_benign = sum([t[k]['Benign'] for k in t if key != k])
    odr = (t[key]['Pathogenic'] / t[key]['Benign']) / (sum_others_path / sum_others_benign)
    logodr = math.log(odr)
    se = math.sqrt((1/t[key]['Pathogenic']) + (1/t[key]['Benign']) + (1/sum_others_path) + (1/sum_others_benign))
    low_ci = math.exp(logodr - (1.96 * se))
    up_ci = math.exp(logodr + (1.96 * se))
    ttest = stats.ttest_ind([t[key]['Pathogenic'], t[key]['Benign']], [sum_others_path, sum_others_benign])

    print(t[key]['Pathogenic'], t[key]['Benign'], sum_others_path, sum_others_benign, odr, low_ci, up_ci, ttest)
    odr_l.append(odr)
    se_l.append(se)
    cis.append([low_ci, up_ci])

    # Define labels, positions, bar heights and error bar heights

labels = list(t.keys())
x_pos = np.arange(len(labels))
CTEs = odr_l
error = se_l
CTEs

        
# Say, "the default sans-serif font is COMIC SANS"
matplotlib.rcParams['font.family'] = "sans-serif"

matplotlib.rcParams['font.sans-serif'] = "DejaVu Sans"
# fontProperties = {'family':'sans-serif', 'sans-serif':['Helvetica']}
# Then, "ALWAYS use sans-serif fonts"

# Build the plot
fig, ax = plt.subplots(figsize=(4,10))
ax.set_axisbelow(True)
# ax.yaxis.grid(color='gray', zorder=0)

# plt.rc('axes', axisbelow=True)
palette = [e for j, e in enumerate(sns.color_palette("Paired")) if j%2 == 0]
print(palette)
ax.set_xticklabels(labels)
ax.bar(x_pos, CTEs,
#        yerr=error,
       align='center',
#        alpha=0.5,
#        ecolor='black',
       capsize=10,
#        color=list(reversed(sns.color_palette('mako'))),
       color=sns.color_palette('YlOrBr'),
       alpha=0.9,
#        zorder=3,
       bottom=1,
#        **hfont
      )

print(np.array(cis).T)
print(CTEs)
[line.set_zorder(3) for line in ax.lines]
ax.set_xticks(x_pos)
# ax.set_xticklabels(fontsize=14)
# ax.set_yticks([x_pos])
ax.tick_params(axis='both', which='major', labelsize=16)
# plt.gca().yaxis.set_major_formatter(mtick.FuncFormatter(lambda x,_: round(x+2, 2)))
# ax.set_yticks([0.2, 0.4, 0.6, 0.8, 1, 1.2, 1.4])
ax.set_xlabel('Exon frequency', fontsize=20)
ax.set_ylabel('OR (pathogenic VS benign variants)', fontsize=20)
show_values_on_bars(ax, fontsize=14, i=3, )
plt.yscale('log')
ax.set_yticks([0.1, 1, 10], )
plt.vlines(x_pos, np.array(cis).T[0], np.array(cis).T[1])
ax.get_yaxis().set_major_formatter(matplotlib.ticker.ScalarFormatter())
ax.get_yaxis().set_major_formatter(matplotlib.ticker.FormatStrFormatter('%g'))

ax.spines['bottom'].set_linewidth(0)
ax.spines['right'].set_linewidth(0)
ax.spines['top'].set_linewidth(0)
plt.ylim(0.5, 12)
plt.tick_params(axis = "x", which = "both", bottom = False, top = False)
ax.axhline(1, color='black')
plt.xticks(rotation=90)
ax.text(-0.3, 1.05, 'b', transform=ax.transAxes, size=24, weight='bold')
ax.minorticks_off()
# plt.title('TEST')
# plt.title('ODR')
CTEs


def show_values_on_bars(axs, i=0, fontsize=13, rotation=0):
    def _show_on_single_plot(ax):
        for p in ax.patches:
            _x = p.get_x() + p.get_width() / 2 + 0.01
#             if p.get_height() >= 1:
            _y = p.get_y() + ((p.get_height() / 2))  + (p.get_height() * 0.55)
#             elif p.get_height() < 1:
#                 _y = p.get_y() + (p.get_height() / 2) + p.get_height() * 0.2
            if i == 0:
                value = "{:.0f}".format(p.get_height())
            if i == 2:
                value = "{:.2f}".format(p.get_height())

            if i == 3:
                value = "{:.3f}".format(p.get_height())
            if value != np.nan:
                ax.text(_x, _y, str(round(int(value) , 2)), ha="center", fontsize=fontsize, rotation=rotation, color='black')

    if isinstance(axs, np.ndarray):
        for idx, ax in np.ndenumerate(axs):
            _show_on_single_plot(ax)
    else:
        _show_on_single_plot(axs)

t = exotic_ccrs_variants[['Type', 'CCRS_bins', 'Ratio_num_bins', 'Status',  'CCRS_CCR_percentile']].groupby(['CCRS_bins', 'Status']).count().reset_index()
t = t[['CCRS_bins', 'Status', 'Type',]]
t = t.pivot(index='CCRS_bins', columns='Status', values='Type')
t['Ratio'] = t['Pathogenic'] / t['Benign']
t = t.reset_index()
# t = t.melt(id_vars=['CCRS_bins'], value_vars=['Pathogenic', 'Benign', 'Ratio'])
t

f, ax = plt.subplots(figsize=(10,10))
# g = sns.FacetGrid(data=t,  height=10)
# g.map(sns.barplot, 'CCRS_bins', 'CCRS_CCR_percentile', 'Status',  alpha=0.75, palette=["#00A087FF", '#DC0000FF'])
# g.map(sns.lineplot, 'Status', 'CCRS_CCR_percentile', lw=5, )
# sns.barplot(data=t, x='CCRS_bins', y='value', hue='Status')

ax1_ = ax.bar(range(len(t.Ratio.values)), t.Ratio.values,
#        yerr=error,
       align='edge',
       alpha=0.5,
       color='b',
       width=-0.2
#        ecolor='black',
#        color=list(reversed(sns.color_palette('mako'))),
#        color=sns.color_palette('YlOrBr'),
#        zorder=3,
#        **hfont
      )
ax2 = ax.twinx()
ax2_ = ax2.bar(range(len(t.Ratio.values)), t.Pathogenic.values, alpha=0.25, color='r', align='center', width=0.2)
# ax3 = ax.twinx()
ax2_ = ax2.bar(range(len(t.Ratio.values)), t.Benign.values, alpha=0.25, color='g', align='edge', width=0.2)
ax2.set_yscale('log')
# ax3.set_yscale('log')
# ax2.set_xlim(1.5,20.5)
# ax.set_xticks(np.arange(2,21))

# for j, a in enumerate(g.axes.ravel()):
    
#     a.set_yscale('log')
#     a.set_ylim(ymin=1)
#     show_values_on_bars(a)
#     a.set_xlabel('Exon frequency')
#     if j == 0:
#         a.set_ylabel('Variants count')
# t


def show_values_on_bars(axs, i=0, fontsize=13, rotation=0):
    def _show_on_single_plot(ax):
        for p in ax.patches:
            _x = p.get_x() + p.get_width() / 2 + 0.01
#             if p.get_height() >= 1:
            _y = p.get_y() + ((p.get_height() / 2))  + (p.get_height() * 0.55)
#             elif p.get_height() < 1:
#                 _y = p.get_y() + (p.get_height() / 2) + p.get_height() * 0.2
            if i == 0:
                value = "{:.0f}".format(p.get_height())
            if i == 2:
                value = "{:.2f}".format(p.get_height())

            if i == 3:
                value = "{:.3f}".format(p.get_height())
            if value != np.nan:
                ax.text(_x, _y, str(round(int(value) , 2)), ha="center", fontsize=fontsize, rotation=rotation, color='black')

    if isinstance(axs, np.ndarray):
        for idx, ax in np.ndenumerate(axs):
            _show_on_single_plot(ax)
    else:
        _show_on_single_plot(axs)

t = exotic_ccrs_variants[['Type', 'CCRS_bins', 'Ratio_num_bins', 'Status',  'CCRS_CCR_percentile']].groupby(['CCRS_bins', 'Status']).count().reset_index()
g = sns.FacetGrid(data=t,  height=10)
g.map(sns.barplot, 'CCRS_bins', 'CCRS_CCR_percentile', 'Status',  alpha=0.75, palette=["#00A087FF", '#DC0000FF'])
# g.map(sns.lineplot, 'Status', 'CCRS_CCR_percentile', lw=5, )
for j, a in enumerate(g.axes.ravel()):
    
    a.set_yscale('log')
    a.set_ylim(ymin=1)
    show_values_on_bars(a)
    a.set_xlabel('Exon frequency')
    if j == 0:
        a.set_ylabel('Variants count')
t


def show_values_on_bars(axs, i=0, fontsize=13, rotation=0):
    def _show_on_single_plot(ax):
        for p in ax.patches:
            _x = p.get_x() + p.get_width() / 2 + 0.01
#             if p.get_height() >= 1:
            _y = p.get_y() + ((p.get_height() / 2))  + (p.get_height() * 0.55)
#             elif p.get_height() < 1:
#                 _y = p.get_y() + (p.get_height() / 2) + p.get_height() * 0.2
            if i == 0:
                value = "{:.0f}".format(p.get_height())
            if i == 2:
                value = "{:.2f}".format(p.get_height())

            if i == 3:
                value = "{:.3f}".format(p.get_height())
            if value != np.nan:
                ax.text(_x, _y, str(round(int(value) , 2)), ha="center", fontsize=fontsize, rotation=rotation, color='black')

    if isinstance(axs, np.ndarray):
        for idx, ax in np.ndenumerate(axs):
            _show_on_single_plot(ax)
    else:
        _show_on_single_plot(axs)

t = exotic_ccrs_variants[['Type', 'CCRS_bins', 'Ratio_num_bins', 'Status',  'CCRS_CCR_percentile']].groupby(['Ratio_num_bins', 'Status']).count().reset_index()
g = sns.FacetGrid(data=t,  height=10)
g.map(sns.barplot, 'Ratio_num_bins', 'CCRS_CCR_percentile', 'Status',  alpha=0.75, palette=["#00A087FF", '#DC0000FF'])
# g.map(sns.lineplot, 'Status', 'CCRS_CCR_percentile', lw=5, )
for j, a in enumerate(g.axes.ravel()):
    
    a.set_yscale('log')
    a.set_ylim(ymin=1)
    show_values_on_bars(a)
    a.set_xlabel('Exon frequency')
    if j == 0:
        a.set_ylabel('Variants count')


def show_values_on_bars(axs, i=0, fontsize=13, rotation=0):
    def _show_on_single_plot(ax):
        for p in ax.patches:
            _x = p.get_x() + p.get_width() / 2 + 0.01
#             if p.get_height() >= 1:
            _y = p.get_y() + ((p.get_height() / 2))  + (p.get_height() * 0.55)
#             elif p.get_height() < 1:
#                 _y = p.get_y() + (p.get_height() / 2) + p.get_height() * 0.2
            if i == 0:
                value = "{:.0f}".format(p.get_height())
            if i == 2:
                value = "{:.2f}".format(p.get_height())

            if i == 3:
                value = "{:.3f}".format(p.get_height())
            if value != np.nan:
                ax.text(_x, _y, str(round(int(value) , 2)), ha="center", fontsize=fontsize, rotation=rotation, color='black')

    if isinstance(axs, np.ndarray):
        for idx, ax in np.ndenumerate(axs):
            _show_on_single_plot(ax)
    else:
        _show_on_single_plot(axs)

t = exotic_ccrs_variants[['Type', 'CCRS_bins', 'Ratio_num_bins', 'Status',  'CCRS_CCR_percentile']].groupby(['Type', 'Ratio_num_bins', 'Status']).count().reset_index()
g = sns.FacetGrid(data=t, col='Type',  height=10)
g.map(sns.barplot, 'Ratio_num_bins', 'CCRS_CCR_percentile', 'Status',  alpha=0.75, palette=["#00A087FF", '#DC0000FF'])
# g.map(sns.lineplot, 'Status', 'CCRS_CCR_percentile', lw=5, )
for j, a in enumerate(g.axes.ravel()):
    
    a.set_yscale('log')
    a.set_ylim(ymin=1)
    show_values_on_bars(a)
    a.set_xlabel('Exon frequency')
    if j == 0:
        a.set_ylabel('Variants count')


# exotic = pd.read_parquet('/gstock/EXOTIC/data/EXOTIC/EXOTIC_tissues_ok.parquet')
exotic = pd.read_parquet('/gstock/EXOTIC/data/EXOTIC/EXOTIC_tissues_ok_corrected.parquet')
# exotic["Exotic_Max"] = exotic.filter(regex='exotic').apply(lambda r: max(r.dropna()) if r.dropna().shape[0] > 0 else np.nan, axis=1)
# # exotic = exotic.rename({'Exon' : 'ranges'}, axis=1)
exotic = exotic.loc[exotic['OK'].str.len() > 0]
exotic['Exon'] = exotic['MAP'].apply(lambda r: r.split('_')[1])
exotic['Start'] = exotic['Exon'].apply(lambda r: r.split('-')[0])
exotic['Stop'] = exotic['Exon'].apply(lambda r: r.split('-')[1])
exotic['Start'] = exotic['Start'].astype(int)
exotic['Stop'] = exotic['Stop'].astype(int)
exotic['Length'] = exotic['Stop'] - exotic['Start']
exotic['Type'] = exotic[['OK_bronze', 'OK_silver', 'OK_gold']].apply(lambda r: [e for e, a in zip(['bronze', 'silver', 'gold'], r)  if len(a) > 0], axis=1)
exotic = exotic.explode('Type')

exotic['Type'] = exotic['Type'].replace({'bronze' : '0.90 - 0.95', 'silver' : '0.95 - 0.99', 'gold' : '0.99 - 1.00'})
exotic['Type'] = pd.Categorical(exotic['Type'], categories=['0.90 - 0.95', '0.95 - 0.99', '0.99 - 1.00'], ordered=True)

exotic



import matplotlib.font_manager as font_manager

font_dirs = ['/home/weber/Fonts', ]
font_files = font_manager.findSystemFonts(fontpaths=font_dirs)
font_list = font_manager.createFontList(font_files)
font_manager.fontManager.ttflist.extend(font_list)

from matplotlib import rcParams
rcParams['font.family'] = 'sans-serif'
rcParams['font.sans-serif'] = ['Arial']
rcParams['font.weight'] = 'light'

medians = exotic.groupby(['Type'])['Ratio_num'].median()
vertical_offset = exotic['Ratio_num'].median() * 0.05 # offset from median for display
f, ax = plt.subplots()
box_plot = sns.boxenplot(data=exotic, x='Type', y='Ratio_num', palette=["#E64B34", "#4DBBD5", "#11A087"], ax=ax)
plt.ylabel("Exon frequency")
plt.xlabel('')

for xtick in box_plot.get_xticks():
    box_plot.text(xtick,medians[xtick] + vertical_offset,medians[xtick], 
            horizontalalignment='center',size='x-small',color='w',weight='semibold')

add_stat_annotation(box_plot, data=exotic, x='Type', y='Ratio_num', order= ['0.90 - 0.95', '0.95 - 0.99', '0.99 - 1.00'],
                    box_pairs=[('0.90 - 0.95', '0.95 - 0.99'), ('0.95 - 0.99', '0.99 - 1.00'), ('0.90 - 0.95',  '0.99 - 1.00')],
                    test='Mann-Whitney', text_format='star', loc='outside', verbose=2)
ax.spines['right'].set_linewidth(0)
ax.spines['top'].set_linewidth(0)


exotic[['Type', 'Ratio_num']].pivot(columns='Type', values='Ratio_num').describe()



bins = [0, 0.2, 0.4, 0.6, 0.8, 1]
labels = bins.copy()
labels_ratio = [str(round(labels[j], 3)) + " - " + str(round(labels[j + 1], 3)) for j in range(len(labels) - 1)]
exotic["Ratio_num_bins"] = pd.cut(t["Ratio_num"], bins=bins, labels=labels_ratio, include_lowest=True)
exotic




def show_values_on_bars(axs, i=0, fontsize=10, rotation=0):
    def _show_on_single_plot(ax):
        for p in ax.patches:
            print(p)
            _x = p.get_x() + p.get_width() / 2 + 0.01
            print(p.get_height())
#             if p.get_height() >= 1:
            _y = p.get_y() + ((p.get_height() / 2)) + p.get_height() * 0.55
#             elif p.get_height() < 1:
#                 _y = p.get_y() + (p.get_height() / 2) + p.get_height() * 0.2
            if i == 0:
                value = "{:.0f}".format(p.get_height())
            if i == 2:
                value = "{:.2f}".format(p.get_height())

            if i == 3:
                value = "{:.3f}".format(p.get_height())
            ax.text(_x, _y, str(round(int(value) + 1, 0)), ha="center", fontsize=fontsize, rotation=rotation, color='black')

    if isinstance(axs, np.ndarray):
        for idx, ax in np.ndenumerate(axs):
            _show_on_single_plot(ax)
    else:
        _show_on_single_plot(axs)

sns.set_context('paper', font_scale=2)
f, ax = plt.subplots(figsize=(10,10))
t = exotic.copy()
t2 = t[['Type', 'Ratio_num_bins', 'Ratio_num']].groupby(['Type', 'Ratio_num_bins']).count().reset_index()
ax = sns.barplot(data=t2, x='Ratio_num_bins', y='Ratio_num', hue='Type', alpha=0.75, palette=["#E64B34", "#4DBBD5", "#11A087"])
sns.lineplot(data=t2, x='Ratio_num_bins', y='Ratio_num', hue='Type', legend=False, lw=5, palette=["#E64B34", "#4DBBD5", "#11A087"])
ax.legend(bbox_to_anchor=(1.05,0.7,0,0))
# plt.legend(ax.legend())
plt.ylabel("Count")
plt.xlabel('Exon frequency')
# ax.set_xticks(rotation=45)
plt.yscale('log')
plt.ylim(20,5000)
t2
for color, elem in zip(['#E64B34', '#4DBBD5', '#11A087'], t2.Type.unique()):
    ax.axhline(t2.loc[t2['Type'] == elem, 'Ratio_num'].max(), color=color, ls=':', lw=2)
show_values_on_bars(ax)



t2 = t[['Type', 'Ratio_num_bins', 'Ratio_num']].groupby(['Type', 'Ratio_num_bins']).count().reset_index()
# t2['Ratio']= t2['Ratio_num'] / t2['Ratio_num'].groupby(level=0).sum()
t2


exotic[['Type', 'Length']].groupby('Type').describe()


sns.set_context('paper', font_scale=2)
# f, ax = plt.subplots(figsize=(10,10))


medians = exotic.groupby(['Type'])['Length'].median()
vertical_offset = exotic['Length'].median() * 0.1 # offset from median for display

f, ax = plt.subplots()
box_plot = sns.boxenplot(data=exotic, x='Type', y='Length', palette=["#E64B34", "#4DBBD5", "#11A087"], ax=ax)

plt.ylabel("Length")
plt.xlabel('')

for xtick in box_plot.get_xticks():
    box_plot.text(xtick,medians[xtick] + vertical_offset,medians[xtick], 
            horizontalalignment='center',size='x-small',color='w',weight='semibold')

plt.ylim(0,600)
add_stat_annotation(box_plot, data=exotic, x='Type', y='Length', order= ['0.90 - 0.95', '0.95 - 0.99', '0.99 - 1.00'],
                    box_pairs=[('0.90 - 0.95', '0.95 - 0.99'), ('0.95 - 0.99', '0.99 - 1.00'), ('0.90 - 0.95',  '0.99 - 1.00')],
                    test='Mann-Whitney', text_format='star', loc='outside', verbose=2)
ax.spines['right'].set_linewidth(0)
ax.spines['top'].set_linewidth(0)




medians = exotic.groupby(['Ratio_num_bins', 'Type'])['Length'].median()
vertical_offset = exotic['Length'].median() * 0.1 # offset from median for display

sns.set_context('paper', font_scale=4)
g = sns.FacetGrid(data=exotic.rename({'Ratio_num_bins' : 'Exon frequency'},axis=1), col='Exon frequency', height=10)
g.map(sns.boxenplot, 'Type', 'Length', palette=["#E64B34", "#4DBBD5", "#11A087"])
for j, a in enumerate(g.axes.ravel()):
    print(j)
    a.set_ylim(0,500)
    a.set_xlabel('')
# box_plot = sns.boxenplot(data=exotic, x='Type', y='Length')

    for xtick in a.get_xticks():
        a.text(xtick,medians[3*j+xtick] + vertical_offset,medians[3*j+xtick], 
                horizontalalignment='center',size='x-small',color='w',weight='semibold')
medians
# plt.ylim(0,600)
for ax in g.axes.flat:
#     print(ax.title.get_position()[1])
#     ax.title.set_position([0.5,0.5,1,1])
    ax.set_title(ax.get_title(), pad=220)

for ax in g.axes.ravel():
#     ax.title.set_position([.5, 0.8])

    add_stat_annotation(ax, data=exotic, x='Type', y='Length', order= ['0.90 - 0.95', '0.95 - 0.99', '0.99 - 1.00'],
                        box_pairs=[('0.90 - 0.95', '0.95 - 0.99'), ('0.95 - 0.99', '0.99 - 1.00'), ('0.90 - 0.95',  '0.99 - 1.00')],
                        test='Mann-Whitney', text_format='star', loc='outside', verbose=2)



t = pd.pivot_table(exotic, columns='Type', index='Ratio_num_bins', values='Length', aggfunc=[sum, np.median, min, max, np.std, np.mean,]).round(2)
t.to_excel('/gstock/EXOTIC/data/EXOTIC/stats_length_freq_thresholds.xlsx')
t



exotic


exotic.loc[(exotic['Length'] > 1000) & (exotic['Type'] == 'gold')]


ccrs = pd.read_parquet('')





# exotic = pd.read_parquet('/home/weber/PycharmProjects/ExoCarto/data/clean/2_expression/RefSeq_PEXT_pct.parquet')
exotic = pd.read_parquet('/gstock/EXOTIC/data/EXOTIC/EXOTIC_2021_corrected.parquet')
exotic["Exotic_Max"] = exotic.filter(regex='exotic').apply(lambda r: max(r.dropna()) if r.dropna().shape[0] > 0 else np.nan, axis=1)
exotic = exotic.rename({'Exon' : 'ranges'}, axis=1)



exotic



merge_exotic = pd.merge(exotic[['ranges', 'Exotic_Max']], merge_ccrs_variants, on='ranges')
bins = [0, 0.9, 0.95, 0.99, 1]
labels = bins.copy()
labels_ratio = [str(round(labels[j], 3)) + " - " + str(round(labels[j + 1], 3)) for j in range(len(labels) - 1)]
merge_exotic["Exotic_Max_bins"] = pd.cut(merge_exotic["Exotic_Max"], bins=bins, labels=labels_ratio, include_lowest=True)
merge_exotic


merge_exotic.groupby(['Exotic_Max_bins', 'Status']).size().reset_index().pivot(index='Status', columns='Exotic_Max_bins', values=0)


d = merge_exotic.groupby(['Exotic_Max_bins', 'Status']).size().reset_index().pivot(index='Status', columns='Exotic_Max_bins', values=0).to_dict()
# d = tmp_merge_cons_ccrs_variants.groupby(['Const_Alt', 'Status', 'CCRS_bins', 'phyloCSF_score_bins']).size()
new_d = d

# d = pd.pivot_table(merge_ccrs_variants.groupby(['Const_Alt', 'Status', 'CCRS_bins', 'phyloCSF_score_bins']).size().reset_index(), index=['CCRS_bins', 'Status', 'phyloCSF_score_bins'], columns='Const_Alt', values=0).to_dict()
# new_d = collections.defaultdict(dict)
# for k in d:
#     new_d[k] = dict()
#     for sub_k, v in d[k].items():
# #         if sub_k[0] not in new_d[k]:
# #             new_d[k][sub_k[0]] = dict()
#         new_d[k][sub_k] = v
# d

odr_alt = list()
odr_const = list()
labels = list(d.keys())
labels

l = list()


for const_alt in new_d:
    b = new_d[const_alt]['Benign']
    p = new_d[const_alt]['Pathogenic']
    other_b = sum([new_d[e]['Benign'] for e in labels if new_d[e]['Benign'] != b])
    other_p= sum([new_d[e]['Pathogenic'] for e in labels if new_d[e]['Pathogenic'] != p])
    odr = ((p / b) / (other_p / other_b))
    print(const_alt, ccr, odr, b, p, other_b, other_p)
    l.append(
        {
            'Const_Alt' : const_alt,
            'CCRS_bins' : ccr,
            'ODR' : odr,
        }        
    )

t = pd.DataFrame(l)
# t['ODR'] = t['ODR'] -1 
# t

f, ax = plt.subplots(figsize=(10,10))
ax.set_axisbelow(True)
ax.grid(True, axis='y')
sns.barplot(data=t, x='Const_Alt', y='ODR', bottom=1)
plt.gca().yaxis.set_major_formatter(mtick.FuncFormatter(lambda x,_: x+1))
# plt.yscale('log')




tmp = merge_exotic.groupby(['Exotic_Max_bins', 'Status']).size().reset_index().pivot(index='Exotic_Max_bins', columns='Status', values=0)
tmp['Ratio'] = tmp['Pathogenic'] / tmp['Benign']
tmp[['Ratio']].plot.bar()



merge_exotic.groupby(['Exotic_Max_bins', 'CCRS_bins', 'Status']).size()


tmp_phylocsf_path = '/gstock/EXOTIC/data/CONSERVATION/phyloCSF_modified_2021_refseq_corrected.parquet'
df = pd.read_parquet(tmp_phylocsf_path)
df = df[['Gene', 'ranges', 'phyloCSF_score', 'Ratio_num']]

df.loc[(df['phyloCSF_score'] > -100) & (df['phyloCSF_score'] < 1000), 'Standard'] = True
df.loc[df['phyloCSF_score'] < -100, 'Unconserved'] = True
df.loc[df['phyloCSF_score'] > 1000, 'Conserved'] = True
df.loc[df['Ratio_num'] == 1, 'Constitutive'] = True
df.loc[df['Ratio_num'] < 1, 'Alternative'] = True
df.loc[df['Ratio_num'] < 1, 'Const_Alt'] = "Alt"
df.loc[df['Ratio_num'] == 1, 'Const_Alt'] = "Const"
df.loc[(df['Ratio_num'] < 1) & (df['Ratio_num'] >= 0.8), 'Cat80100'] = True
df.loc[(df['Ratio_num'] < 0.8) & (df['Ratio_num'] >= 0.6), 'Cat6080'] = True
df.loc[(df['Ratio_num'] < 0.6) & (df['Ratio_num'] >= 0.4), 'Cat4060'] = True
df.loc[(df['Ratio_num'] < 0.4) & (df['Ratio_num'] >= 0.2), 'Cat2040'] = True
df.loc[(df['Ratio_num'] < 0.2) & (df['Ratio_num'] > 0), 'Cat0020'] = True
# df.loc[df['phyloCSF_score'] < -100, 'phyloCSF_bins'] = "U"
# df.loc[df['phyloCSF_score'] > 1000, 'phyloCSF_bins'] = "C"
df = df.fillna(False)
df.to_parquet('/gstock/EXOTIC/data/CONSERVATION/phyloCSF_bool_Rdata.parquet')
df.columns


tmp_phylocsf_path = '/home/weber/PycharmProjects/ExoCarto/data/2_processed/phyloCSF_modified2.parquet'
tmp_phylocsf_path = '/gstock/EXOTIC/data/CONSERVATION/phyloCSF_modified_2021_refseq_corrected.parquet'
df = pd.read_parquet(tmp_phylocsf_path)
df.to_csv('/gstock/EXOTIC/data/CONSERVATION/phyloCSF_modified_2021_refseq_corrected.csv.gz', compression='gzip', sep='\t')

# bins = [df.phyloCSF_score.min(), -100, 1000, df.phyloCSF_score.max()]
# labels = bins.copy()
# labels_ratio = [str(round(labels[j], 1)) + " - " + str(round(labels[j + 1], 1)) for j in range(len(labels) - 1)]
# # df["phyloCSF_score_bins"] = pd.cut(df["phyloCSF_score"], bins=bins, labels=labels_ratio, include_lowest=True)
# df.loc[df['phyloCSF_score'] < -100, "phyloCSF_score_bins"] = 'Unconserved'
# df.loc[df['phyloCSF_score'] > 1000, "phyloCSF_score_bins"] = 'Conserved'
# df.loc[(df['phyloCSF_score'] > -100) & (df['phyloCSF_score'] < 1000), "phyloCSF_score_bins"] = 'Standard'
# df


# Custom function to draw the diff bars


def show_values_on_bars(axs, i=0, fontsize=10, rotation=0):
    def _show_on_single_plot(ax):
        for p in ax.patches:
            print(p)
            _x = p.get_x() + p.get_width() / 2
            _y = p.get_y() + (p.get_height()) + 0.01
            if i == 0:
                value = "{:.0f}".format(p.get_height())
            if i == 2:
                value = "{:.2f}".format(p.get_height())

            if i == 3:
                value = "{:.3f}".format(p.get_height())
            ax.text(_x, _y, str(round(float(value), 2)), ha="center", fontsize=fontsize, rotation=rotation, color='black')

    if isinstance(axs, np.ndarray):
        for idx, ax in np.ndenumerate(axs):
            _show_on_single_plot(ax)
    else:
        _show_on_single_plot(axs)



def label_diff(i,j,text,X,Y):
    x = (X[i]+X[j])/2
    y = max(Y[i], Y[j])
    dx = abs(X[i]-X[j])

    props = {'connectionstyle':'bar','arrowstyle':'-', 'shrinkA':0.1,'shrinkB':0.1,'linewidth':2}
    ax.annotate(text, xy=(X[i] +0.05,y+0.22), zorder=10, fontsize=13)
    ax.annotate('', xy=(X[i],y+0.1), xytext=(X[j],y+0.1), arrowprops=props)

df22 = df.loc[df['phyloCSF_score_bins'] != 'Standard']
df2 = df22.groupby(['Const_Alt', 'phyloCSF_score_bins']).size().reset_index().pivot(index='Const_Alt', columns='phyloCSF_score_bins')
df2.columns = df2.columns.droplevel(0)
# df2 = df2.T

df2['Ratio'] = df2['Conserved'] / df2['Unconserved']
# df2['Const'] = (df2['Const']-df2['Const'].min())/(df2['Const'].max() - df2['Const'].min())
# df2['Alt'] = (df2['Alt']-df2['Alt'].min())/(df2['Alt'].max() - df2['Alt'].min())
# sns.heatmap(df2, annot=True)
sns.set_context('paper', font_scale=2)
f, ax = plt.subplots(figsize=(3,10))

# df2['Ratio'].plot.bar(ax=ax)
ax.set_axisbelow(True)
plt.axhline(1, color='r', alpha=0.3, lw=3, linestyle=':')

p = sns.barplot(data=df2.reset_index().sort_values(by='Const_Alt', ascending=False), y='Ratio', x='Const_Alt')
# plt.xticks(rotation=45)
plt.xlabel('')
plt.ylabel('Ratio (Length Conserved / Unconserved regions)')
ax.set_xticklabels(['Constitutive', 'Alternative'])

ax.get_yaxis().set_major_formatter(matplotlib.ticker.ScalarFormatter())
ax.spines['bottom'].set_linewidth(0)
ax.spines['right'].set_linewidth(0)
ax.spines['top'].set_linewidth(0)
plt.tick_params(axis = "x", which = "both", bottom = False, top = False, labelsize=13, rotation=90)
legend = p.get_legend()
# label_diff(0,1,'p=0.0370',[0,1],(0.81, 1.05))
show_values_on_bars(ax, i=2, fontsize=13)
plt.ylim(0,4)

ax.text(-0.5, 1.05, 'a', transform=ax.transAxes, size=24, weight='bold')
plt.tight_layout()
# legend.set_title('')
# legend.texts[0].set_text("Constitutive")
# legend.texts[1].set_text("Alternative")
# df2


df2 = df.loc[df['phyloCSF_score_bins'] != 'Standard']
# df2['Ratio_num_bins'] = df2['Ratio_num_bins'].cat.add_categories(['1'])
# df2.loc[df2['Const_Alt'] == 'Const', 'Ratio_num_bins'] = '1'
df2 = df2.loc[df2['Const_Alt'] == 'Alt'].groupby(['Ratio_num_bins', 'phyloCSF_score_bins']).size().reset_index().pivot(index='Ratio_num_bins', columns='phyloCSF_score_bins')
df2.columns = df2.columns.droplevel(0)
# df2 = df2.T
df2['Ratio'] = df2['Conserved'] / df2['Unconserved']
# df2['Const'] = (df2['Const']-df2['Const'].min())/(df2['Const'].max() - df2['Const'].min())
# df2['Alt'] = (df2['Alt']-df2['Alt'].min())/(df2['Alt'].max() - df2['Alt'].min())
# sns.heatmap(df2, annot=True)
# ax = df2[['Conserved', 'Unconserved']].plot.bar()
# ax2 = ax.twinx()
sns.set_context('paper', font_scale=2)

f, ax = plt.subplots(figsize=(5,10))
ax.set_axisbelow(True)
# ax.grid(True, axis='y')
df2 = df2.reset_index()
# df2['Ratio_nu']
p = sns.barplot(data=df2, y='Ratio', x='Ratio_num_bins', palette='YlOrBr')
plt.axhline(1, color='r', alpha=0.3, ls=':', lw=3)
plt.xticks(rotation=45)
plt.ylabel('Ratio (Length Conserved / Unconserved regions)')
plt.xlabel('Exon frequency across isoforms')
# plt.ylim(0,2.5)
ax.get_yaxis().set_major_formatter(matplotlib.ticker.ScalarFormatter())
ax.spines['bottom'].set_linewidth(0)
ax.spines['right'].set_linewidth(0)
ax.spines['top'].set_linewidth(0)
show_values_on_bars(ax, i=2, fontsize=13)
ax.text(-0.25, 1.05, 'b', transform=ax.transAxes, size=24, weight='bold')

# df2[['Ratio']].plot.bar(ax=ax, color=sns.color_palette('Paired'))




f, ax = plt.subplots()


merge_cons_ccrs_variants = pd.merge(merge_ccrs_variants, df[['phyloCSF_score', 'phyloCSF_score_bins', 'ranges']], on='ranges')



tmp_merge_cons_ccrs_variants = merge_cons_ccrs_variants.loc[merge_cons_ccrs_variants['phyloCSF_score_bins'] != 'Standard']
tmp_merge_cons_ccrs_variants


tmp_merge_cons_ccrs_variants = tmp_merge_cons_ccrs_variants.drop('HPO', axis=1).drop_duplicates()
tmp_merge_cons_ccrs_variants


tmp_merge_cons_ccrs_variants


d = tmp_merge_cons_ccrs_variants.groupby(['Const_Alt', 'Status', 'CCRS_bins', 'phyloCSF_score_bins']).size()
d

# d = pd.pivot_table(merge_ccrs_variants.groupby(['Const_Alt', 'Status', 'CCRS_bins', 'phyloCSF_score_bins']).size().reset_index(), index=['CCRS_bins', 'Status', 'phyloCSF_score_bins'], columns='Const_Alt', values=0).to_dict()
# new_d = collections.defaultdict(dict)
# for k in d:
#     new_d[k] = dict()
#     for sub_k, v in d[k].items():
#         if sub_k[0] not in new_d[k]:
#             new_d[k][sub_k[0]] = dict()
#         new_d[k][sub_k[0]][sub_k[1]] = v
# odr_alt = list()
# odr_const = list()
# labels = list(new_d['Alt'].keys())

# l = list()


# for const_alt in new_d:
#     for ccr in new_d[const_alt]:
#         b = new_d[const_alt][ccr]['Benign']
#         p = new_d[const_alt][ccr]['Pathogenic']
#         other_b = sum([new_d[const_alt][e]['Benign'] for e in labels if new_d[const_alt][e]['Benign'] != b])
#         other_p= sum([new_d[const_alt][e]['Pathogenic'] for e in labels if new_d[const_alt][e]['Pathogenic'] != p])
#         odr = ((p / b) / (other_p / other_b)) - 1
# #         print(const_alt, ccr, odr)
#         l.append(
#             {
#                 'Const_Alt' : const_alt,
#                 'CCRS_bins' : ccr,
#                 'ODR' : odr,
#             }        
#         )

# t = pd.DataFrame(l)
# t['ODR'] = t['ODR'] -1 
# # t

# f, ax = plt.subplots(figsize=(10,10))
# ax.set_axisbelow(True)
# ax.grid(True, axis='y')
# sns.barplot(data=t, x='CCRS_bins', y='ODR', hue='Const_Alt')
# plt.gca().yaxis.set_major_formatter(mtick.FuncFormatter(lambda x,_: x+1))
# # plt.yscale('lor')




df2


pd.pivot_table(pd.merge(merge_df_variants, df22[['ranges', 'phyloCSF_score_bins']], on='ranges').drop(['HPO'], axis=1).drop_duplicates().groupby(['Status', 'Const_Alt', 'phyloCSF_score_bins']).size().reset_index(), index=['phyloCSF_score_bins', 'Status'], columns='Const_Alt', values=0)


d = pd.pivot_table(pd.merge(merge_df_variants, df22[['ranges', 'phyloCSF_score_bins']], on='ranges').drop(['HPO'], axis=1).drop_duplicates().groupby(['Status', 'Const_Alt', 'phyloCSF_score_bins']).size().reset_index(), index=['phyloCSF_score_bins', 'Status'], columns='Const_Alt', values=0).to_dict()
new_d = collections.defaultdict(dict)
for k in d:
    new_d[k] = dict()
    for sub_k, v in d[k].items():
        if sub_k[0] not in new_d[k]:
            new_d[k][sub_k[0]] = dict()
        new_d[k][sub_k[0]][sub_k[1]] = v
new_d
odr_alt = list()
odr_const = list()
labels = list(new_d[list(new_d.keys())[0]].keys())

l = list()


for const_alt in new_d:
    for ccr in new_d[const_alt]:
        b = new_d[const_alt][ccr]['Benign']
        p = new_d[const_alt][ccr]['Pathogenic']
        other_b = sum([new_d[const_alt][e]['Benign'] for e in labels if new_d[const_alt][e]['Benign'] != b])
        other_p= sum([new_d[const_alt][e]['Pathogenic'] for e in labels if new_d[const_alt][e]['Pathogenic'] != p])
        odr = ((p / b) / (other_p / other_b))
        print(const_alt, b, p, other_b, other_p, ccr, odr)
        l.append(
            {
                'Const_Alt' : const_alt,
                'phyloCSF' : ccr,
                'ODR' : odr,
            }        
        )
t = pd.DataFrame(l)
# t['ODR'] = t['ODR'] -1 
# t

f, ax = plt.subplots(figsize=(10,10))
ax.set_axisbelow(True)
ax.grid(True, axis='y')
sns.barplot(data=t.sort_values(by='Const_Alt', ascending=False), x='phyloCSF', y='ODR', hue='Const_Alt', bottom=1)
plt.gca().yaxis.set_major_formatter(mtick.FuncFormatter(lambda x,_: round(x+1, 2)))
plt.yscale('log')
plt.ylim(0.5,5)



d = pd.pivot_table(pd.merge(merge_df_variants.loc[merge_df_variants['Const_Alt'] == 'Alt'], df22[['ranges', 'phyloCSF_score_bins']], on='ranges').drop(['HPO'], axis=1).drop_duplicates().groupby(['Status', 'Ratio_num_bins', 'phyloCSF_score_bins']).size().reset_index(), index=['phyloCSF_score_bins', 'Status'], columns='Ratio_num_bins', values=0).to_dict()
new_d = collections.defaultdict(dict)
for k in d:
    new_d[k] = dict()
    for sub_k, v in d[k].items():
        if sub_k[0] not in new_d[k]:
            new_d[k][sub_k[0]] = dict()
        new_d[k][sub_k[0]][sub_k[1]] = v
new_d


pd.pivot_table(pd.merge(merge_df_variants.loc[merge_df_variants['Const_Alt'] == 'Alt'], df22[['ranges', 'phyloCSF_score_bins']], on='ranges').drop(['HPO'], axis=1).drop_duplicates().groupby(['Status', 'Ratio_num_bins', 'phyloCSF_score_bins']).size().reset_index(), index=['phyloCSF_score_bins', 'Status'], columns='Ratio_num_bins', values=0)


merge_df_variants


d = pd.pivot_table(pd.merge(merge_df_variants.loc[merge_df_variants['Const_Alt'] == 'Alt'], df22[['ranges', 'phyloCSF_score_bins']], on='ranges').drop(['HPO'], axis=1).drop_duplicates().groupby(['Status', 'Ratio_num_bins', 'phyloCSF_score_bins']).size().reset_index(), index=['phyloCSF_score_bins', 'Status'], columns='Ratio_num_bins', values=0).to_dict()
new_d = collections.defaultdict(dict)
for k in d:
    new_d[k] = dict()
    for sub_k, v in d[k].items():
        if sub_k[0] not in new_d[k]:
            new_d[k][sub_k[0]] = dict()
        new_d[k][sub_k[0]][sub_k[1]] = v
new_d
# odr_alt = list()
# odr_const = list()
labels = list(new_d[list(new_d.keys())[0]].keys())
labels

l = list()


for const_alt in new_d:
    for ccr in new_d[const_alt]:
        b = new_d[const_alt][ccr]['Benign']
        p = new_d[const_alt][ccr]['Pathogenic']
        other_b = sum([new_d[const_alt][e]['Benign'] for e in labels if new_d[const_alt][e]['Benign'] != b])
        other_p= sum([new_d[const_alt][e]['Pathogenic'] for e in labels if new_d[const_alt][e]['Pathogenic'] != p])
        print(const_alt, b, p, other_b, other_p, ccr)
        odr = ((p / b) / (other_p / other_b))
        l.append(
            {
                'Const_Alt' : const_alt,
                'phyloCSF' : ccr,
                'ODR' : odr,
            }        
        )
t = pd.DataFrame(l)
# # t['ODR'] = t['ODR'] -1 
# # t

f, ax = plt.subplots(figsize=(10,10))
ax.set_axisbelow(True)
ax.grid(True, axis='y')
sns.barplot(data=t, x='phyloCSF', y='ODR', hue='Const_Alt', bottom=1)
plt.gca().yaxis.set_major_formatter(mtick.FuncFormatter(lambda x,_: x+1))
plt.yscale('log')
plt.ylim(0.5,10)


pd.pivot_table(pd.merge(merge_df_variants.loc[merge_df_variants['Const_Alt'] == 'Alt'], df22[['ranges', 'phyloCSF_score_bins']], on='ranges').drop(['HPO'], axis=1).drop_duplicates().groupby(['Status', 'Ratio_num_bins', 'phyloCSF_score_bins']).size().reset_index(), index=['phyloCSF_score_bins', 'Status'], columns='Ratio_num_bins', values=0)


d = pd.pivot_table(pd.merge(merge_df_variants.loc[merge_df_variants['Const_Alt'] == 'Alt'], df22[['ranges', 'phyloCSF_score_bins']], on='ranges').drop(['HPO'], axis=1).drop_duplicates().groupby(['Status', 'Ratio_num_bins', 'phyloCSF_score_bins']).size().reset_index(), index=['Ratio_num_bins', 'Status'], columns='phyloCSF_score_bins', values=0).to_dict()
new_d = collections.defaultdict(dict)
for k in d:
    new_d[k] = dict()
    for sub_k, v in d[k].items():
        if sub_k[0] not in new_d[k]:
            new_d[k][sub_k[0]] = dict()
        new_d[k][sub_k[0]][sub_k[1]] = v
new_d
# odr_alt = list()
# odr_const = list()
labels = list(new_d[list(new_d.keys())[0]].keys())
labels

l = list()


for const_alt in new_d:
    for ccr in new_d[const_alt]:
        b = new_d[const_alt][ccr]['Benign']
        p = new_d[const_alt][ccr]['Pathogenic']
        other_b = sum([new_d[const_alt][e]['Benign'] for e in labels if new_d[const_alt][e]['Benign'] != b])
        other_p= sum([new_d[const_alt][e]['Pathogenic'] for e in labels if new_d[const_alt][e]['Pathogenic'] != p])
        print(const_alt, b, p, other_b, other_p, ccr)
        odr = ((p / b) / (other_p / other_b))
        l.append(
            {
                'phyloCSF' : const_alt,
                'Freq' : ccr,
                'ODR' : odr,
            }        
        )
t = pd.DataFrame(l)
# # t['ODR'] = t['ODR'] -1 
# # t

f, ax = plt.subplots(figsize=(20,10))
ax.set_axisbelow(True)
ax.grid(True, axis='y')
sns.barplot(data=t, x='phyloCSF', y='ODR', hue='Freq', bottom=1)
plt.gca().yaxis.set_major_formatter(mtick.FuncFormatter(lambda x,_: round(x+1, 2)))
plt.yscale('log')
plt.ylim(0.5,5)


pd.pivot_table(pd.merge(merge_df_variants.loc[merge_df_variants['Const_Alt'] == 'Alt'], df22[['ranges', 'phyloCSF_score_bins']], on='ranges').drop(['HPO'], axis=1).drop_duplicates().groupby(['Status', 'phyloCSF_score_bins']).size().reset_index(), index=['Status'], columns='phyloCSF_score_bins', values=0)


# basic ODR
(2699/6743)/(326/1333)


pd.pivot_table(tmp_merge_cons_ccrs_variants.loc[tmp_merge_cons_ccrs_variants['Const_Alt'] == 'Alt'].groupby(['Status', 'phyloCSF_score_bins', 'CCRS_bins']).size().reset_index(), index=['phyloCSF_score_bins', 'Status'], columns='CCRS_bins', values=0)



d = pd.pivot_table(tmp_merge_cons_ccrs_variants.loc[tmp_merge_cons_ccrs_variants['Const_Alt'] == 'Alt'].groupby(['Status', 'phyloCSF_score_bins', 'CCRS_bins']).size().reset_index(), index=['phyloCSF_score_bins', 'Status'], columns='CCRS_bins', values=0).to_dict()
new_d = collections.defaultdict(dict)
for k in d:
    new_d[k] = dict()
    for sub_k, v in d[k].items():
        if sub_k[0] not in new_d[k]:
            new_d[k][sub_k[0]] = dict()
        new_d[k][sub_k[0]][sub_k[1]] = v
new_d
labels = list(new_d[list(new_d.keys())[0]].keys())
labels

l = list()


for const_alt in new_d:
    for ccr in new_d[const_alt]:
        b = new_d[const_alt][ccr]['Benign']
        p = new_d[const_alt][ccr]['Pathogenic']
        other_b = sum([new_d[const_alt][e]['Benign'] for e in labels if new_d[const_alt][e]['Benign'] != b])
        other_p= sum([new_d[const_alt][e]['Pathogenic'] for e in labels if new_d[const_alt][e]['Pathogenic'] != p])
        print(const_alt, b, p, other_b, other_p, ccr)
        odr = ((p / b) / (other_p / other_b))
        l.append(
            {
                'Const_Alt' : const_alt,
                'phyloCSF' : ccr,
                'ODR' : odr,
            }        
        )
t = pd.DataFrame(l)
# # t['ODR'] = t['ODR'] -1 
# # t

f, ax = plt.subplots(figsize=(20,10))
ax.set_axisbelow(True)
ax.grid(True, axis='y')
sns.barplot(data=t, x='phyloCSF', y='ODR', hue='Const_Alt', bottom=1)
plt.gca().yaxis.set_major_formatter(mtick.FuncFormatter(lambda x,_: round(x+1, 2)))
# plt.yscale('lor')



pd.pivot_table(pd.merge(merge_df_variants.loc[merge_df_variants['Const_Alt'] == 'Alt'], df22[['ranges', 'phyloCSF_score_bins']], on='ranges').drop(['HPO'], axis=1).drop_duplicates().groupby(['Status', 'Ratio_num_bins', 'phyloCSF_score_bins', 'CCRS_bins']).size().reset_index(), index=['phyloCSF_score_bins', 'Status'], columns='Ratio_num_bins', values=0)


merge_df_variants


pd.pivot_table(tmp_merge_cons_ccrs_variants.loc[tmp_merge_cons_ccrs_variants['Const_Alt'] == 'Alt'].groupby(['Status', 'phyloCSF_score_bins', 'CCRS_bins']).size().reset_index(), index=['Status', 'phyloCSF_score_bins'], columns='CCRS_bins', values=0).fillna(0).astype(int)



# d = pd.pivot_table(tmp_merge_cons_ccrs_variants.loc[tmp_merge_cons_ccrs_variants['Const_Alt'] == 'Alt'].groupby(['Status', 'phyloCSF_score_bins', 'CCRS_bins']).size().reset_index(), index=['phyloCSF_score_bins', 'Status'], columns='CCRS_bins', values=0).to_dict()
d = tmp_merge_cons_ccrs_variants.loc[tmp_merge_cons_ccrs_variants['Const_Alt'] == 'Alt'].groupby(['Status', 'phyloCSF_score_bins', 'CCRS_bins']).size().reset_index()
d
# sns.set_context('paper')

# g = sns.FacetGrid(d, row='CCRS_bins', size=4, aspect=2)
# g.map_dataframe(sns.barplot, x='phyloCSF_score_bins', y=0, hue='Status', palette=['g', 'r'])
# plt.yscale('log')
# # new_d = collections.defaultdict(dict)
# for k in d:
#     new_d[k] = dict()
#     for sub_k, v in d[k].items():
#         if sub_k[0] not in new_d[k]:
#             new_d[k][sub_k[0]] = dict()
#         new_d[k][sub_k[0]][sub_k[1]] = v
# new_d
#         print(new_d[k][sub_k[0]][sub_k[1]], type(new_d[k][sub_k[0]][sub_k[1]]))
# new_new_d = collections.defaultdict(dict)
# for ccr in new_d:
#     for cons_uncons in new_d[ccr]:
        
#         if np.isnan(new_d[ccr][cons_uncons]['Benign']) or np.isnan(new_d[ccr][cons_uncons]['Pathogenic']):
#             pass
#         else:
#             new_new_d[ccr][cons_uncons] = dict() 
#             new_new_d[ccr][cons_uncons]['Benign'] = 0
#             new_new_d[ccr][cons_uncons]['Pathogenic'] = 0
#             new_new_d[ccr][cons_uncons]['Benign'] = new_d[ccr][cons_uncons]['Benign']
#             new_new_d[ccr][cons_uncons]['Pathogenic'] = new_d[ccr][cons_uncons]['Pathogenic']
# new_d = new_new_d
# labels = list(new_d[list(new_d.keys())[0]].keys())
# labels

# l = list()


# for const_alt in new_d:
#     for ccr in new_d[const_alt]:
#         b = new_d[const_alt][ccr]['Benign']
#         p = new_d[const_alt][ccr]['Pathogenic']
#         other_b = sum([new_d[const_alt][e]['Benign'] for e in labels if e in new_d[const_alt] and new_d[const_alt][e]['Benign'] != b])
#         other_p= sum([new_d[const_alt][e]['Pathogenic'] for e in labels if e in new_d[const_alt] and new_d[const_alt][e]['Pathogenic'] != p])
#         print(const_alt, b, p, other_b, other_p, ccr)
#         try:
            
#             odr = ((p / b) / (other_p / other_b))-1
#             l.append(
#                 {
#                     'Const_Alt' : const_alt,
#                     'phyloCSF' : ccr,
#                     'ODR' : odr,
#                 }        
#             )
#         except ZeroDivisionError:
#             pass
# t = pd.DataFrame(l)
# # # t['ODR'] = t['ODR'] -1 
# # # t

# f, ax = plt.subplots(figsize=(20,10))
# ax.set_axisbelow(True)
# ax.grid(True, axis='y')
# sns.barplot(data=t, x='phyloCSF', y='ODR', hue='Const_Alt')
# plt.gca().yaxis.set_major_formatter(mtick.FuncFormatter(lambda x,_: x+1))
# # plt.yscale('lor')



pd.pivot_table(tmp_merge_cons_ccrs_variants.loc[tmp_merge_cons_ccrs_variants['Const_Alt'] == 'Alt'].groupby(['Status', 'phyloCSF_score_bins', 'CCRS_bins']).size().reset_index(), index=['phyloCSF_score_bins', 'Status'], columns='CCRS_bins', values=0).fillna(0)



d = pd.pivot_table(tmp_merge_cons_ccrs_variants.loc[tmp_merge_cons_ccrs_variants['Const_Alt'] == 'Alt'].groupby(['Status', 'phyloCSF_score_bins', 'CCRS_bins']).size().reset_index(), index=['phyloCSF_score_bins', 'Status'], columns='CCRS_bins', values=0).to_dict()
new_d = collections.defaultdict(dict)
for k in d:
    new_d[k] = dict()
    for sub_k, v in d[k].items():
        if sub_k[0] not in new_d[k]:
            new_d[k][sub_k[0]] = dict()
        new_d[k][sub_k[0]][sub_k[1]] = v
#         print(new_d[k][sub_k[0]][sub_k[1]], type(new_d[k][sub_k[0]][sub_k[1]]))
new_new_d = collections.defaultdict(dict)
for ccr in new_d:
    for cons_uncons in new_d[ccr]:
        
        if np.isnan(new_d[ccr][cons_uncons]['Benign']) or np.isnan(new_d[ccr][cons_uncons]['Pathogenic']):
            pass
        else:
            new_new_d[ccr][cons_uncons] = dict() 
            new_new_d[ccr][cons_uncons]['Benign'] = 0
            new_new_d[ccr][cons_uncons]['Pathogenic'] = 0
            new_new_d[ccr][cons_uncons]['Benign'] = new_d[ccr][cons_uncons]['Benign']
            new_new_d[ccr][cons_uncons]['Pathogenic'] = new_d[ccr][cons_uncons]['Pathogenic']
new_d = new_new_d
labels = list(new_d[list(new_d.keys())[0]].keys())
labels

l = list()


for const_alt in new_d:
    for ccr in new_d[const_alt]:
        b = new_d[const_alt][ccr]['Benign']
        p = new_d[const_alt][ccr]['Pathogenic']
        other_b = sum([new_d[const_alt][e]['Benign'] for e in labels if e in new_d[const_alt] and new_d[const_alt][e]['Benign'] != b])
        other_p= sum([new_d[const_alt][e]['Pathogenic'] for e in labels if e in new_d[const_alt] and new_d[const_alt][e]['Pathogenic'] != p])
        print(const_alt, b, p, other_b, other_p, ccr)
        try:
            
            odr = ((p / b) / (other_p / other_b))-1
            l.append(
                {
                    'Const_Alt' : const_alt,
                    'phyloCSF' : ccr,
                    'ODR' : odr,
                }        
            )
        except ZeroDivisionError:
            pass
t = pd.DataFrame(l)
# # t['ODR'] = t['ODR'] -1 
# # t

f, ax = plt.subplots(figsize=(20,10))
ax.set_axisbelow(True)
ax.grid(True, axis='y')
sns.barplot(data=t, x='phyloCSF', y='ODR', hue='Const_Alt')
plt.gca().yaxis.set_major_formatter(mtick.FuncFormatter(lambda x,_: round(x+1, 2)))
# plt.yscale('lor')

