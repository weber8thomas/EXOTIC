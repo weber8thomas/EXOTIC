get_ipython().run_line_magic("config", " Completer.use_jedi = False")


import math
import os
import sys
import pandas as pd
sys.path.append("/home/weber/PycharmProjects/EXOTIC/src")
from statannot import add_stat_annotation

pd.options.mode.chained_assignment = None  # default='warn'
import multiprocessing
import parmap
import numpy as np
import collections
from tqdm import tqdm
import pandarallel
from pandarallel import pandarallel

pandarallel.initialize(nb_workers=20, progress_bar=True)
# tqdm.pandas()
from pprint import pprint
from scipy.stats import zscore
from scipy import stats

import requests
import re
import seaborn as sns
import matplotlib.pyplot as plt
import matplotlib
import matplotlib.colors as mc
from matplotlib.colors import LogNorm
import json
import matplotlib.ticker as mtick
from utils.utils import load_config_file

## YAML FILES CONFIG
yaml = load_config_file(config_file="/home/weber/PycharmProjects/EXOTIC/src/config.yaml")
exotic_files = yaml

import matplotlib.font_manager as font_manager

font_dirs = ['/home/weber/Fonts', ]
font_files = font_manager.findSystemFonts(fontpaths=font_dirs)
font_list = font_manager.createFontList(font_files)
font_manager.fontManager.ttflist.extend(font_list)

from matplotlib import rcParams
rcParams['font.family'] = 'sans-serif'
rcParams['font.sans-serif'] = ['Arial']
rcParams['font.weight'] = 'light'


exotic_biomart = pd.read_parquet('/gstock/EXOTIC/data/EXOTIC/EXOTIC_corrected_biomart_for_QTL_corrected.parquet')
exotic_biomart['OK_join'] = exotic_biomart['OK'].apply(lambda r : ','.join(r))
exotic_biomart.symbol.nunique()


exotic_biomart[['symbol', 'Gene_ID', 'HGNC_ID', 'Exon', 'Ratio_num', 'mRNA_nb', 'OK_bronze',
       'OK_silver', 'OK_gold', 'OK', 'Exon_start_GRCh37',
       'Exon_end_GRCh37', 'CHROM', 'Gene_start_GRCh38',
       'Gene_end_GRCh38',  'Gene_start_GRCh37',
       'Gene_end_GRCh37']].to_excel('/gstock/EXOTIC/data/EXOTIC/EXOTIC_above_thresholds.xlsx', index=False)


sqtlseeker_dir = '/gstock/biolo_datasets/QTL/sqlseeker-2/sQTLs.GTEx.V8.RSEM/'
sqtlseeker_listdir = sorted([d for d in os.listdir(sqtlseeker_dir) if 'parquet' not in d])

def mp_sqtl(tissue, l_df):
    sqtlseeker_tmp = pd.read_csv(sqtlseeker_dir + tissue + '/sqtls-0.05fdr.permuted.tsv.gz', compression='gzip', sep='\t')
    sqtlseeker_tmp['Tissue'] = tissue
    sqtlseeker_tmp['gene_id'] = sqtlseeker_tmp['geneId'].apply(lambda r: r.split('.')[0])
#     merge = pd.merge(merge_biomart, sqtlseeker_tmp, right_on='gene_id', left_on='Gene stable ID')
    l_df.append(sqtlseeker_tmp)


m = multiprocessing.Manager()
l_df = m.list()
# for tissue in sqtlseeker_listdir:
parmap.starmap(mp_sqtl, list(zip(sqtlseeker_listdir)), l_df, pm_pbar=True)

concat_df_sqtlseeker_dir_complete = pd.concat(list(l_df)).sort_values(by=['gene_id'])
concat_df_sqtlseeker_dir_complete


concat_df_sqtlseeker_dir_complete.snpId.nunique()


sqtlseeker_dir = '/gstock/biolo_datasets/QTL/sqlseeker-2/sQTLs.GTEx.V8.RSEM/'
sqtlseeker_listdir = sorted([d for d in os.listdir(sqtlseeker_dir) if 'parquet' not in d])

def mp_sqtl(tissue, l_df):
    sqtlseeker_tmp = pd.read_csv(sqtlseeker_dir + tissue + '/sqtls-0.05fdr.permuted.tsv.gz', compression='gzip', sep='\t')
    sqtlseeker_tmp['Tissue'] = tissue
    sqtlseeker_tmp['gene_id'] = sqtlseeker_tmp['geneId'].apply(lambda r: r.split('.')[0])
    merge = pd.merge(merge_biomart, sqtlseeker_tmp, right_on='gene_id', left_on='Gene stable ID')
    l_df.append(merge)


m = multiprocessing.Manager()
l_df = m.list()
# for tissue in sqtlseeker_listdir:
parmap.starmap(mp_sqtl, list(zip(sqtlseeker_listdir)), l_df, pm_pbar=True)

concat_df_sqtlseeker_dir_all_genes_corrected = pd.concat(list(l_df)).sort_values(by=['gene_id'])
concat_df_sqtlseeker_dir_all_genes_corrected


biomart = pd.read_csv('/gstock/EXOTIC/data/OTHERS/biomart_refseq_ensembl_hgnc.txt.gz', compression='gzip', sep='\t')

refseq_37 = pd.read_csv('/gstock/EXOTIC/data/GENOMICS/GRCh37_RefSeq_lite_hgnc.csv.gz', compression='gzip', sep='\t')
refseq_37.loc[refseq_37['mRNA_nb'] > 1, 'Gene_type'] = 'Multi Isoform'
refseq_37.loc[refseq_37['mRNA_nb'] == 1, 'Gene_type'] = 'Single Isoform'
refseq = pd.merge(biomart[['Gene stable ID', 'Gene name']].drop_duplicates(), refseq_37, left_on='Gene name', right_on='Name')
refseq.head()


concat_df_sqtlseeker_dir_merge_biomart = pd.merge(concat_df_sqtlseeker_dir_complete, refseq[['Gene stable ID', 'Gene name', 'Gene_type']], left_on='gene_id', right_on='Gene stable ID')
concat_df_sqtlseeker_dir_merge_biomart.head()


tmp_l = list()
for elem in ['Single Isoform', 'Multi Isoform']:
    tmp = refseq.loc[refseq['Gene_type'] == elem, 'Gene name'].unique().tolist()
    sqtl_tmp = concat_df_sqtlseeker_dir_merge_biomart.loc[concat_df_sqtlseeker_dir_merge_biomart['Gene name'].isin(tmp)]
    tmp_l.append({
        'Gene type' : elem,
        'Gene nb' : len(tmp),
        'sGenes' : sqtl_tmp.gene_id.nunique(),
        'Ratio sGenes/Total' : round(sqtl_tmp['Gene name'].nunique() / len(tmp), 2),
        'sQTL' : sqtl_tmp.snpId.nunique(),
        'Ratio sQTL/sGenes' : round(sqtl_tmp.snpId.nunique() / sqtl_tmp['Gene name'].nunique(), 2),
    })
    
    
pd.DataFrame(tmp_l).set_index('Gene type')


from matplotlib_venn import venn2
f = plt.figure(figsize=(15,15))
venn2([
    set(concat_df_sqtlseeker_dir_merge_biomart.loc[concat_df_sqtlseeker_dir_merge_biomart['Gene name'].isin(refseq.loc[refseq['Gene_type'] == 'Multi Isoform', 'Gene name'].unique().tolist())]['snpId'].unique().tolist()),
    set(concat_df_sqtlseeker_dir_merge_biomart.loc[concat_df_sqtlseeker_dir_merge_biomart['Gene name'].isin(refseq.loc[refseq['Gene_type'] == 'Single Isoform', 'Gene name'].unique().tolist())]['snpId'].unique().tolist()),
],
    ('Multi Isoform', 'Single Isoform'),  set_colors=sns.color_palette()
    )


data = concat_df_sqtlseeker_dir_merge_biomart
data = data[['Gene_type', 'Gene name', 'snpId']].drop_duplicates().groupby(['Gene_type', 'Gene name']).count().reset_index()
data

groupby = ""
x = "Gene_type"
y = "snpId"
x_order = ['Single Isoform', 'Multi Isoform']

sns.set_context('paper', font_scale=1.5)
f, ax = plt.subplots(figsize=(5,7))
data = data.sort_values(by=x, ascending=True)
b = sns.boxenplot(data=data, x=x, y=y, ax=ax, showfliers=False)
b.set_ylim(0,400)

ax.spines['right'].set_linewidth(0)
ax.spines['top'].set_linewidth(0)

medians = data[[x, y]].groupby([x])[y].median().sort_index(ascending=True)
vertical_offset = data[y].median() * 0.05 # offset from median for display


for j, xtick in enumerate(b.get_xticks()):
    if j <0:
        color='grey'
    else:
        color='w'
    b.text(xtick,medians[xtick] + vertical_offset,medians[xtick], 
            horizontalalignment='center',size='medium',color=color,weight='semibold')
    
add_stat_annotation(b, data=data, x=x, y=y, order= x_order,
                    box_pairs=[tuple(x_order)],
                    test='Mann-Whitney', text_format='star', loc='outside', verbose=2)
# data.pivot(columns='Gene_type', values='snpId').describe().style.highlight_max(color='#F39B7FFF', axis=1)


biomart_gb_gene = pd.read_csv('/gstock/EXOTIC/data/OTHERS/biomart_mi_si.csv.gz', compression='gzip', sep='\t')
biomart_gb_gene


biomart_si_genes = biomart_gb_gene.loc[biomart_gb_gene['Gene_type'] == 'Single Isoform', 'Gene stable ID'].unique().tolist()
si_sqtl_biomart = concat_df_sqtlseeker_dir_complete.loc[concat_df_sqtlseeker_dir_complete['gene_id'].isin(biomart_si_genes)]
print(si_sqtl_biomart.gene_id.nunique())
print(si_sqtl_biomart.snpId.nunique())


biomart_mi_genes = biomart_gb_gene.loc[biomart_gb_gene['Gene_type'] == 'Multi Isoform', 'Gene stable ID'].unique().tolist()
mi_sqtl_biomart = concat_df_sqtlseeker_dir_complete.loc[concat_df_sqtlseeker_dir_complete['gene_id'].isin(biomart_mi_genes)]
print(mi_sqtl_biomart.gene_id.nunique())
print(mi_sqtl_biomart.snpId.nunique())


tmp_l = list()
concat_df_sqtlseeker_dir_complete_tmp = pd.merge(concat_df_sqtlseeker_dir_complete, 
for elem in ['Single Isoform', 'Multi Isoform']:
    biomart_tmp = biomart_gb_gene.loc[biomart_gb_gene['Gene_type'] == elem, 'Gene stable ID'].unique().tolist()
    sqtl_tmp = concat_df_sqtlseeker_dir_complete.loc[concat_df_sqtlseeker_dir_complete['gene_id'].isin(biomart_tmp)]
    tmp_l.append({
        'Gene type' : elem,
        'Gene nb' : biomart_gb_gene.loc[biomart_gb_gene['Gene_type'] == elem, 'Gene stable ID'].nunique(),
        'sGenes' : sqtl_tmp.gene_id.nunique(),
        'Ratio sGenes/Total' : round(sqtl_tmp.gene_id.nunique() / biomart_gb_gene.loc[biomart_gb_gene['Gene_type'] == elem, 'Gene stable ID'].nunique(), 2),
        'sQTL' : sqtl_tmp.snpId.nunique(),
        'Ratio sQTL/sGenes' : round(sqtl_tmp.snpId.nunique() / sqtl_tmp.gene_id.nunique(), 2),
    })
    
    
pd.DataFrame(tmp_l).set_index('Gene type')


concat_df_sqtlseeker_dir_complete.loc[concat_df_sqtlseeker_dir_complete['gene_id'].isin(biomart_gb_gene.loc[biomart_gb_gene['Gene_type'] == elem, 'Gene stable ID'].unique().tolist())]


from matplotlib_venn import venn2
f = plt.figure(figsize=(15,15))
venn2([
    set(concat_df_sqtlseeker_dir_complete.loc[concat_df_sqtlseeker_dir_complete['gene_id'].isin(biomart_gb_gene.loc[biomart_gb_gene['Gene_type'] == 'Multi Isoform', 'Gene stable ID'].unique().tolist())]['snpId'].unique().tolist()),
    set(concat_df_sqtlseeker_dir_complete.loc[concat_df_sqtlseeker_dir_complete['gene_id'].isin(biomart_gb_gene.loc[biomart_gb_gene['Gene_type'] == 'Single Isoform', 'Gene stable ID'].unique().tolist())]['snpId'].unique().tolist()),
    
],
    ('Multi Isoform', 'Single Isoform'), set_colors=sns.color_palette()
    )


data = pd.merge(concat_df_sqtlseeker_dir_complete, biomart_gb_gene, left_on='gene_id', right_on='Gene stable ID')
data = data[['Gene_type', 'gene_id', 'snpId']].drop_duplicates().groupby(['Gene_type', 'gene_id']).count().reset_index()
data

groupby = ""
x = "Gene_type"
y = "snpId"
x_order = ['Multi Isoform', 'Single Isoform']

sns.set_context('paper', font_scale=1.5)
f, ax = plt.subplots(figsize=(5,7))
data = data.sort_values(by=x, ascending=True)
b = sns.boxenplot(data=data, x=x, y=y, ax=ax, showfliers=False)
b.set_ylim(0,400)

ax.spines['right'].set_linewidth(0)
ax.spines['top'].set_linewidth(0)

medians = data[[x, y]].groupby([x])[y].median().sort_index(ascending=True)
vertical_offset = data[y].median() * 0.05 # offset from median for display


for j, xtick in enumerate(b.get_xticks()):
    if j <0:
        color='grey'
    else:
        color='w'
    b.text(xtick,medians[xtick] + vertical_offset,medians[xtick], 
            horizontalalignment='center',size='medium',color=color,weight='semibold')
    
add_stat_annotation(b, data=data, x=x, y=y, order= x_order,
                    box_pairs=[tuple(x_order)],
                    test='Mann-Whitney', text_format='star', loc='outside', verbose=2)
# data.pivot(columns='Gene_type', values='snpId').describe().style.highlight_max(color='#F39B7FFF', axis=1)


refseq_corrected_by_gtex[['Gene', 'Gene_type']].drop_duplicates().to_csv('/gstock/EXOTIC/data/GENOMICS/single_multi_isoforms.csv', sep='\t', index=False)


refseq_corrected_by_gtex[['Gene', 'Gene_type']].drop_duplicates()['Gene_type'].value_counts()


refseq_corrected_by_gtex = pd.read_parquet('/gstock/EXOTIC/data/GENOMICS/RefSeq_corrected_by_GTEx_lite.parquet')
refseq_corrected_by_gtex.loc[refseq_corrected_by_gtex['new_mRNA_nb_total'] == 1, 'Gene_type'] = 'Single Isoform'
refseq_corrected_by_gtex.loc[refseq_corrected_by_gtex['new_mRNA_nb_total'] > 1, 'Gene_type'] = 'Multi Isoform'

biomart = pd.read_csv('/gstock/EXOTIC/data/OTHERS/biomart_refseq_ensembl_hgnc.txt.gz', compression='gzip', sep='\t')

merge_biomart = pd.merge(refseq_corrected_by_gtex[['Gene', 'Gene_type']].drop_duplicates(), biomart[['Gene stable ID', 'Gene name', 'Gene end (bp)', 'Gene start (bp)', 'Gene type']].drop_duplicates(), left_on='Gene', right_on='Gene name')

merge_biomart


merge_biomart[['Gene', 'Gene_type']].drop_duplicates()['Gene_type'].value_counts()


tmp_l = list()
for elem in ['Single Isoform', 'Multi Isoform']:
    biomart_tmp = merge_biomart.loc[merge_biomart['Gene_type'] == elem, 'Gene name'].unique().tolist()
    sqtl_tmp = concat_df_sqtlseeker_dir_all_genes_corrected.loc[concat_df_sqtlseeker_dir_all_genes_corrected['Gene name'].isin(biomart_tmp)]
    tmp_l.append({
        'Gene type' : elem,
        'Gene nb' : merge_biomart.loc[merge_biomart['Gene_type'] == elem, 'Gene name'].nunique(),
        'sGenes' : sqtl_tmp.gene_id.nunique(),
        'Ratio sGenes/Total' : round(sqtl_tmp.gene_id.nunique() / merge_biomart.loc[merge_biomart['Gene_type'] == elem, 'Gene name'].nunique(), 2),
        'sQTL' : sqtl_tmp.snpId.nunique(),
        'Ratio sQTL/sGenes' : round(sqtl_tmp.snpId.nunique() / sqtl_tmp.gene_id.nunique(), 2),
    })
    
    
pd.DataFrame(tmp_l).set_index('Gene type')


concat_df_sqtlseeker_dir_all_genes_corrected[['Gene name', 'Gene_type']].drop_duplicates()['Gene_type'].value_counts()


concat_df_sqtlseeker_dir_all_genes_corrected[['snpId', 'Gene_type']].drop_duplicates()['Gene_type'].value_counts()


merge_biomart.loc[(merge_biomart['Gene_type'] == 'Single Isoform'), 'Gene'].nunique()



si_genes_sqtl = concat_df_sqtlseeker_dir_all_genes_corrected.loc[concat_df_sqtlseeker_dir_all_genes_corrected['Gene_type'] == 'Single Isoform', 'Gene'].unique().tolist()
si_genes_not_sqtl = merge_biomart.loc[(merge_biomart['Gene_type'] == 'Single Isoform') & (~merge_biomart['Gene'].isin(si_genes_sqtl)), 'Gene'].unique().tolist()
print(len(si_genes_not_sqtl))



f = plt.figure(figsize=(15,15))

from matplotlib_venn import venn2
venn2([
    set(concat_df_sqtlseeker_dir_all_genes_corrected.loc[concat_df_sqtlseeker_dir_all_genes_corrected['Gene_type'] == 'Multi Isoform', 'snpId'].unique().tolist()),
    set(concat_df_sqtlseeker_dir_all_genes_corrected.loc[concat_df_sqtlseeker_dir_all_genes_corrected['Gene_type'] == 'Single Isoform', 'snpId'].unique().tolist()),
],
    ('Multi Isoform', 'Single Isoform'), set_colors=sns.color_palette()
    )


data = concat_df_sqtlseeker_dir_all_genes_corrected
data = data[['Gene_type', 'Gene name', 'snpId']].drop_duplicates().groupby(['Gene_type', 'Gene name']).count().reset_index()
data

groupby = ""
x = "Gene_type"
y = "snpId"
x_order = ['Single Isoform', 'Multi Isoform']

sns.set_context('paper', font_scale=1.5)
f, ax = plt.subplots(figsize=(5,7))
data = data.sort_values(by=x, ascending=True)
b = sns.boxenplot(data=data, x=x, y=y, ax=ax, showfliers=False)
# b.set_ylim(0,500000)

ax.spines['right'].set_linewidth(0)
ax.spines['top'].set_linewidth(0)

medians = data[[x, y]].groupby([x])[y].median().sort_index(ascending=True)
vertical_offset = data[y].median() * 0.05 # offset from median for display


for j, xtick in enumerate(b.get_xticks()):
    if j <0:
        color='grey'
    else:
        color='w'
    b.text(xtick,medians[xtick] + vertical_offset,medians[xtick], 
            horizontalalignment='center',size='medium',color=color,weight='semibold')
    
add_stat_annotation(b, data=data, x=x, y=y, order= x_order,
                    box_pairs=[tuple(x_order)],
                    test='Mann-Whitney', text_format='star', loc='outside', verbose=2)
# data.pivot(columns='Gene_type', values='snpId').describe().style.highlight_max(color='#F39B7FFF', axis=1)


concat_df_sqtlseeker_dir_all_genes_corrected[['snpId']].nunique()


t = concat_df_sqtlseeker_dir_all_genes_corrected[['snpId', 'Gene_type', 'Tissue']].drop_duplicates()[['Gene_type', 'snpId']].value_counts().reset_index()
t


t = concat_df_sqtlseeker_dir_all_genes_corrected[['snpId', 'Gene_type', 'Tissue']].drop_duplicates()[['Gene_type', 'snpId']].value_counts().reset_index()

data = t

groupby = ""
x = "Gene_type"
y = 0
x_order = ['Single Isoform', 'Multi Isoform']

sns.set_context('paper', font_scale=1.5)
f, ax = plt.subplots(figsize=(5,7))
data = data.sort_values(by=x, ascending=False)
b = sns.boxenplot(data=data, x=x, y=y, ax=ax, showfliers=False)
# b.set_ylim(0,500000)

b.set_xlabel('')
b.set_ylabel('Distribution nb tissues / sQTL')

ax.spines['right'].set_linewidth(0)
ax.spines['top'].set_linewidth(0)

medians = data[[x, y]].groupby([x])[y].median().sort_index(ascending=False)
vertical_offset = data[y].median() * 0.05 # offset from median for display


for j, xtick in enumerate(b.get_xticks()):
    if j <0:
        color='grey'
    else:
        color='w'
    b.text(xtick,medians[xtick] + vertical_offset,medians[xtick], 
            horizontalalignment='center',size='medium',color=color,weight='semibold')
    
add_stat_annotation(b, data=data, x=x, y=y, order= x_order,
                    box_pairs=[tuple(x_order)],
                    test='Mann-Whitney', text_format='star', loc='outside', verbose=2)
data.pivot(columns=x, values=y).describe().style.highlight_max(color='#F39B7FFF', axis=1)


t = concat_df_sqtlseeker_dir_all_genes_corrected[['snpId', 'Gene_type', 'Tissue']].drop_duplicates()[['Gene_type', 'Tissue']].value_counts().reset_index()

f, ax = plt.subplots(figsize=(15,10))
s = sns.barplot(data=t, x='Tissue', y=0, hue='Gene_type')
s.set_xticklabels(s.get_xticklabels(), rotation=90)
