from lxml import etree



xml_path = "/gstock/biolo_datasets/DrugBank/full database.xml"

tree = etree.parse(xml_path)



tree.findall('/drugbank')


import xmltodict, json
with open(xml_path) as fd:
    doc = xmltodict.parse(fd.read())
    


list(doc.keys())


doc['drugbank']['drug'][0]['name']


doc['drugbank']['drug'][0].keys()


print([elem for elem in doc['drugbank']['drug'][0]['external-identifiers']['external-identifier'] if elem['resource'] == 'UniProtKB'])


import pandas as pd
l = list()
for i in range(len(doc['drugbank']['drug'])):
    uniprot_id = ""
    drugname = doc['drugbank']['drug'][i]['name']
#     print(doc['drugbank']['drug'][i]['external-identifiers'])
    if 'external-identifiers' in doc['drugbank']['drug'][i]:
        if doc['drugbank']['drug'][i]['external-identifiers']:
#             print(type(doc['drugbank']['drug'][i]['external-identifiers']['external-identifier']), len(doc['drugbank']['drug'][i]['external-identifiers']['external-identifier']))
#         try:
            if type(doc['drugbank']['drug'][i]['external-identifiers']['external-identifier']).__name__ != 'OrderedDict':
#                 print(doc['drugbank']['drug'][i]['external-identifiers']['external-identifier'])
                uniprot_list = [elem for elem in doc['drugbank']['drug'][i]['external-identifiers']['external-identifier'] if elem['resource'] == 'UniProtKB']
                if uniprot_list:
#                     print(uniprot_list)
                    uniprot_id = uniprot_list[0]['identifier']
    else:
        uniprot_id = ""


    l.append({'Drug': drugname, 'Uniprot' :  uniprot_id})
drug_df = pd.DataFrame(l)


drug_df


drug_df.loc[drug_df['Uniprot'] != '']
