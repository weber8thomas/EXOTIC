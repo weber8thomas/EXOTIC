import pandas as pd
pd.set_option('display.width', 1000)
refseq_grch38_gff = "/gstock/biolo_datasets/refseq/2020/GRCh38_latest_genomic.gff.gz"
refseq_38_df = pd.read_csv(refseq_grch38_gff, compression='gzip', sep='\t', skiprows=9, names=['NC', 'RefSeq_validation', 'Region_type', 'Start', 'End', 'Score', 'Strand', 'Phase', 'Attributes'])
refseq_38_df = refseq_38_df.dropna(subset=['Start', 'End'])
refseq_38_df['Start'] = refseq_38_df['Start'].astype(int)
refseq_38_df['End'] = refseq_38_df['End'].astype(int)
# refseq_38_df['Attributes']
refseq_38_df


refseq_38_df_chroms = refseq_38_df.loc[refseq_38_df['Region_type'] == 'region']
index_list = list(refseq_38_df_chroms.index)
index_list

chroms = [(i,index_list[j+1]-1) for j,i in enumerate(index_list) if j < (len(index_list)-1)]
# chroms = [i for i,j in enumerate(index_list)]
refseq_38_df_chroms


pd.options.display.max_colwidth = 200
refseq_38_df_pc_genes = refseq_38_df.loc[(refseq_38_df['Attributes'].str.contains('gene_biotype=protein_coding'))]
refseq_38_df_pc_genes


refseq_38_df_pc_genes.loc[refseq_38_df_pc_genes['Region_type'].str.contains('OR4F5')]


refseq_38_df.loc[43:45]


pd.options.display.max_colwidth = 200
refseq_38_df_mrna = refseq_38_df.loc[(refseq_38_df['Attributes'].str.contains('NM_'))  & (refseq_38_df['Region_type'] == 'mRNA')]
refseq_38_df_mrna


refseq_38_df.loc[(refseq_38_df['Attributes'].str.contains('NM_001005484.2')) & (refseq_38_df['Region_type'] == 'mRNA')]


refseq_38_df.loc[2802]


pd.options.display.max_colwidth = 200
refseq_38_df_cds = refseq_38_df.loc[(refseq_38_df['Attributes'].str.contains('NP_'))  & (refseq_38_df['Region_type'] == 'CDS')]
refseq_38_df_cds


from tqdm import tqdm
l = list()
for j, index in tqdm(enumerate(list(refseq_38_df_pc_genes.index))):
#     if j == 10:
#         break

    if j < len(list(refseq_38_df_pc_genes.index)) - 1 :
        start_index, stop_index = index, list(refseq_38_df_pc_genes.index)[j+1]

        current_gene = [e.replace('Name=', '') for e in refseq_38_df_pc_genes.loc[start_index]['Attributes'].split(';') if 'Name' in e][0]
        for cds in list(refseq_38_df_cds.index):
            if cds > start_index and cds < stop_index:

                current_gene_cds = [e.replace('gene=', '') for e in refseq_38_df_cds.loc[cds]['Attributes'].split(';') if 'gene' in e][0]
                parent_mrna = [e.replace('Parent=rna-', '') for e in refseq_38_df_cds.loc[cds]['Attributes'].split(';') if 'Parent' in e][0].split('.')[0]
                mrna_index = refseq_38_df_mrna.loc[refseq_38_df_mrna['Attributes'].str.contains(parent_mrna)].index[0]
                
                

#                 print(j, start_index, stop_index, cds, current_gene, current_gene_cds)

                if current_gene == current_gene_cds:
                    l.append(
                        {
                            'Gene' : current_gene,
                            'Gene_start' : refseq_38_df_pc_genes.loc[start_index]['Start'],
                            'Gene_stop' : refseq_38_df_pc_genes.loc[start_index]['End'],
                            'Exon_start' : refseq_38_df_cds.loc[cds]['Start'],
                            'Exon_stop' : refseq_38_df_cds.loc[cds]['End'],
                            'mRNA' : parent_mrna,
                            'mRNA_start' : refseq_38_df_mrna.loc[mrna_index]['Start'],
                            'mRNA_stop' : refseq_38_df_mrna.loc[mrna_index]['End'],
                        }
                    )
        
            
pd.options.display.max_rows =200
df = pd.DataFrame(l).sort_values(by=['Gene', 'Exon_start', 'Exon_stop']).drop_duplicates()
df['Length'] = df['Exon_stop'] - df['Exon_start']
df = df.sort_values(by=['Gene', 'Exon_start', 'Exon_stop', 'Length'], ascending=[True, True, True, False])
df = df.drop_duplicates(subset=['Gene', 'Exon_start'], keep='last').drop_duplicates(subset=['Gene', 'Exon_stop'], keep='first')

df







output_json = dict()

for ig, gene in tqdm(enumerate(df.Gene.unique())):
    if ig == 10:
        break

    output_json[gene] = dict()

    tmp_gene_df = df.loc[df['Gene'] == gene]
    for chrom in chroms:
        if chrom[0] <= tmp_gene_df.index[0] < chrom[1]:
            
            output_json[gene]['CHROM'] = [c.replace('chromosome=', '') for c in refseq_38_df_chroms.loc[chrom[0]]['Attributes'].split(';') if 'chromosome=' in c][0]
# tmp_gene_df
    
    tmp_gene_df = tmp_gene_df.reset_index(drop=True)
    output_json[gene]['Gene_start_end'] = str(tmp_gene_df.Gene_start.unique()[0]) + '_' + str(tmp_gene_df.Gene_stop.unique()[0])
    for j, row in tmp_gene_df.iterrows():
        if 'Exon_list' not in output_json[gene]:
            output_json[gene]['Exon_list'] = list()
        if j == 0:
            output_json[gene]['5_prime_UTR'] = str(tmp_gene_df.Gene_start.unique()[0]) + '_' + str(row.Exon_start - 1)
            output_json[gene]['Exon_list'].append(str(row.Exon_start) + '_' + str(row.Exon_stop))
            if j == (tmp_gene_df.shape[0] - 1):
                output_json[gene]['3_prime_UTR'] = str(row.Exon_stop + 1) + '_' + str(tmp_gene_df.Gene_stop.unique()[0])
        elif j > 0 and j < (tmp_gene_df.shape[0] - 1):
            output_json[gene]['Exon_list'].append(str(row.Exon_start) + '_' + str(row.Exon_stop))
        elif j == (tmp_gene_df.shape[0] - 1):
            output_json[gene]['Exon_list'].append(str(row.Exon_start) + '_' + str(row.Exon_stop))
            output_json[gene]['3_prime_UTR'] = str(row.Exon_stop + 1) + '_' + str(tmp_gene_df.Gene_stop.unique()[0])
            
for gene in output_json:
    
    output_json[gene]['Exons_length'] = [int(e.split('_')[1]) - int(e.split('_')[0]) for e in output_json[gene]['Exon_list']]
    output_json[gene]['Intron_list'] = list()
    output_json[gene]['Exon_size_total'] = sum([int(e.split('_')[1]) - int(e.split('_')[0]) for e in output_json[gene]['Exon_list']])
    output_json[gene]['Bin_size_exon'] = round(output_json[gene]['Exon_size_total'] / 20)
    for j, exon in enumerate(output_json[gene]['Exon_list']):
        if j < len(output_json[gene]['Exon_list'])-1:
            intron_start = int(output_json[gene]['Exon_list'][j].split('_')[1]) + 1
            intron_end = int(output_json[gene]['Exon_list'][j+1].split('_')[0]) - 1
            output_json[gene]['Intron_list'].append('{}_{}'.format(str(intron_start), str(intron_end)))
    output_json[gene]['Intron_length'] = [int(e.split('_')[1]) - int(e.split('_')[0]) for e in output_json[gene]['Intron_list']]
    output_json[gene]['Intron_size_total'] = sum([int(e.split('_')[1]) - int(e.split('_')[0]) for e in output_json[gene]['Intron_list']])
    output_json[gene]['Bin_size_intron'] = round(output_json[gene]['Intron_size_total'] / 20)
    output_json[gene]['Gene_body_size'] = int(output_json[gene]['Gene_start_end'].split('_')[1]) - int(output_json[gene]['Gene_start_end'].split('_')[0])
    output_json[gene]['Bin_size_GB'] = round(output_json[gene]['Gene_body_size'] / 20)
    
    init_gene_body_bin = int(output_json[gene]['Gene_start_end'].split('_')[0])
    output_json[gene]['Bin_size_UpDown'] = round(5000 / 20)
    output_json[gene]['5_prime_UTR_size'] = int(output_json[gene]['5_prime_UTR'].split('_')[1]) - int(output_json[gene]['5_prime_UTR'].split('_')[0])
    output_json[gene]['3_prime_UTR_size'] = int(output_json[gene]['3_prime_UTR'].split('_')[1]) - int(output_json[gene]['3_prime_UTR'].split('_')[0])

    output_json[gene]['Bin_size_5_prime_UTR'] = round(int(output_json[gene]['5_prime_UTR_size']) / 20)
    output_json[gene]['Bin_size_3_prime_UTR'] = round(int(output_json[gene]['3_prime_UTR_size']) / 20)
            
refseq_38_df_transformed = pd.DataFrame.from_dict(output_json).T
refseq_38_df_transformed


l = list()
for j, index in tqdm(enumerate(list(refseq_38_df_pc_genes.index))):
#     if j == 10:
#         break

    if j < len(list(refseq_38_df_pc_genes.index)) - 1 :
        start_index, stop_index = index, list(refseq_38_df_pc_genes.index)[j+1]

        current_gene = [e.replace('Name=', '') for e in refseq_38_df_pc_genes.loc[start_index]['Attributes'].split(';') if 'Name' in e][0]
        for cds in list(refseq_38_df_cds.index):
            if cds > start_index and cds < stop_index:

                current_gene_cds = [e.replace('gene=', '') for e in refseq_38_df_cds.loc[cds]['Attributes'].split(';') if 'gene' in e][0]

#                 print(j, start_index, stop_index, cds, current_gene, current_gene_cds)

                if current_gene == current_gene_cds:
                    l.append(
                        {
                            'Gene' : current_gene,
                            'Gene_start' : refseq_38_df_pc_genes.loc[start_index]['Start'],
                            'Gene_stop' : refseq_38_df_pc_genes.loc[start_index]['End'],
                            'Exon_start' : refseq_38_df_cds.loc[cds]['Start'],
                            'Exon_stop' : refseq_38_df_cds.loc[cds]['End'],
                        }
                    )
        
            
pd.options.display.max_rows =200
df = pd.DataFrame(l).sort_values(by=['Gene', 'Exon_start', 'Exon_stop']).drop_duplicates()
df['Length'] = df['Exon_stop'] - df['Exon_start']
df = df.sort_values(by=['Gene', 'Exon_start', 'Exon_stop', 'Length'], ascending=[True, True, True, False])
df = df.drop_duplicates(subset=['Gene', 'Exon_start'], keep='last').drop_duplicates(subset=['Gene', 'Exon_stop'], keep='first')

df

output_json = dict()

for ig, gene in tqdm(enumerate(df.Gene.unique())):
    if ig == 10:
        break

    output_json[gene] = dict()

    tmp_gene_df = df.loc[df['Gene'] == gene]
    for chrom in chroms:
        if chrom[0] <= tmp_gene_df.index[0] < chrom[1]:
            
            output_json[gene]['CHROM'] = [c.replace('chromosome=', '') for c in refseq_38_df_chroms.loc[chrom[0]]['Attributes'].split(';') if 'chromosome=' in c][0]
# tmp_gene_df
    
    tmp_gene_df = tmp_gene_df.reset_index(drop=True)
    output_json[gene]['Gene_start_end'] = str(tmp_gene_df.Gene_start.unique()[0]) + '_' + str(tmp_gene_df.Gene_stop.unique()[0])
    for j, row in tmp_gene_df.iterrows():
        if 'Exon_list' not in output_json[gene]:
            output_json[gene]['Exon_list'] = list()
        if j == 0:
            output_json[gene]['5_prime_UTR'] = str(tmp_gene_df.Gene_start.unique()[0]) + '_' + str(row.Exon_start - 1)
            output_json[gene]['Exon_list'].append(str(row.Exon_start) + '_' + str(row.Exon_stop))
            if j == (tmp_gene_df.shape[0] - 1):
                output_json[gene]['3_prime_UTR'] = str(row.Exon_stop + 1) + '_' + str(tmp_gene_df.Gene_stop.unique()[0])
        elif j > 0 and j < (tmp_gene_df.shape[0] - 1):
            output_json[gene]['Exon_list'].append(str(row.Exon_start) + '_' + str(row.Exon_stop))
        elif j == (tmp_gene_df.shape[0] - 1):
            output_json[gene]['Exon_list'].append(str(row.Exon_start) + '_' + str(row.Exon_stop))
            output_json[gene]['3_prime_UTR'] = str(row.Exon_stop + 1) + '_' + str(tmp_gene_df.Gene_stop.unique()[0])
            
for gene in output_json:
    
    output_json[gene]['Intron_list'] = list()
    output_json[gene]['Exon_size_total'] = sum([int(e.split('_')[1]) - int(e.split('_')[0]) for e in output_json[gene]['Exon_list']])
    output_json[gene]['Bin_size_exon'] = round(output_json[gene]['Exon_size_total'] / 20)
    for j, exon in enumerate(output_json[gene]['Exon_list']):
        if j < len(output_json[gene]['Exon_list'])-1:
            intron_start = int(output_json[gene]['Exon_list'][j].split('_')[1]) + 1
            intron_end = int(output_json[gene]['Exon_list'][j+1].split('_')[0]) - 1
            output_json[gene]['Intron_list'].append('{}_{}'.format(str(intron_start), str(intron_end)))
    output_json[gene]['Intron_size_total'] = sum([int(e.split('_')[1]) - int(e.split('_')[0]) for e in output_json[gene]['Intron_list']])
    output_json[gene]['Bin_size_intron'] = round(output_json[gene]['Intron_size_total'] / 20)
    output_json[gene]['Gene_body_size'] = int(output_json[gene]['Gene_start_end'].split('_')[1]) - int(output_json[gene]['Gene_start_end'].split('_')[0])
    output_json[gene]['Bin_size_GB'] = round(output_json[gene]['Gene_body_size'] / 20)
    
    init_gene_body_bin = int(output_json[gene]['Gene_start_end'].split('_')[0])
    output_json[gene]['Bin_size_UpDown'] = round(5000 / 20)
    output_json[gene]['5_prime_UTR_size'] = int(output_json[gene]['5_prime_UTR'].split('_')[1]) - int(output_json[gene]['5_prime_UTR'].split('_')[0])
    output_json[gene]['3_prime_UTR_size'] = int(output_json[gene]['3_prime_UTR'].split('_')[1]) - int(output_json[gene]['3_prime_UTR'].split('_')[0])

    output_json[gene]['Bin_size_5_prime_UTR'] = round(int(output_json[gene]['5_prime_UTR_size']) / 20)
    output_json[gene]['Bin_size_3_prime_UTR'] = round(int(output_json[gene]['3_prime_UTR_size']) / 20)
    
    output_json[gene]['Gene_body_bins'] = [round((b* output_json[gene]['Bin_size_GB']) + init_gene_body_bin) for b in range(20)]
    output_json[gene]['Gene_body_bins'] = [(e, output_json[gene]['Gene_body_bins'][i+1]) for i, e in enumerate(output_json[gene]['Gene_body_bins']) if i < len(output_json[gene]['Gene_body_bins'])-1]

    output_json[gene]['Upstream_bins'] = sorted([int(output_json[gene]['Gene_start_end'].split('_')[0]) - 1  - round((b* output_json[gene]['Bin_size_UpDown'])) for b in range(20)])
    output_json[gene]['Upstream_bins'] = [(e, output_json[gene]['Upstream_bins'][i+1]) for i, e in enumerate(output_json[gene]['Upstream_bins']) if i < len(output_json[gene]['Upstream_bins'])-1]

    output_json[gene]['Downstream_bins'] = [int(output_json[gene]['Gene_start_end'].split('_')[1]) + 1 + round((b* output_json[gene]['Bin_size_UpDown'])) for b in range(20)]
    output_json[gene]['Downstream_bins'] = [(e, output_json[gene]['Downstream_bins'][i+1]) for i, e in enumerate(output_json[gene]['Downstream_bins']) if i < len(output_json[gene]['Downstream_bins'])-1]


    output_json[gene]['Exon_bins'] = list()
    tmp_bins_list = [sub_pos for exon in output_json[gene]['Exon_list'] for sub_pos in range(int(exon.split('_')[0]), int(exon.split('_')[1]) + 1) ]
    output_json[gene]['Exon_bins'] = [pos for i, pos in enumerate(tmp_bins_list) if (i+1) % output_json[gene]['Bin_size_exon'] == 0]
    output_json[gene]['Exon_bins'] = [output_json[gene]['Exon_list'][0].split('_')[0]] + output_json[gene]['Exon_bins']
    output_json[gene]['Exon_bins'] = [(e, output_json[gene]['Exon_bins'][i+1]) for i, e in enumerate(output_json[gene]['Exon_bins']) if i < len(output_json[gene]['Exon_bins'])-1]
    
    current_size = 0
    previous_size = 0
    exon_bin_counter = 0
    
    for j, exon in enumerate(output_json[gene]['Exon_list']):
                
        if j < len(output_json[gene]['Exon_list'])-1:
            intron_start = int(output_json[gene]['Exon_list'][j].split('_')[1]) + 1
            intron_end = int(output_json[gene]['Exon_list'][j+1].split('_')[0]) - 1
            output_json[gene]['Intron_list'].append('{}_{}'.format(str(intron_start), str(intron_end)))
    
    
    
    output_json[gene]['Intron_bins'] = list()
    if output_json[gene]['Intron_list']:
        tmp_bins_list = [sub_pos for intron in output_json[gene]['Intron_list'] for sub_pos in range(int(intron.split('_')[0]), int(intron.split('_')[1]) + 1) ]
        output_json[gene]['Intron_bins'] = [pos for i, pos in enumerate(tmp_bins_list) if (i+1) % output_json[gene]['Bin_size_intron'] == 0]
        output_json[gene]['Intron_bins'] = [output_json[gene]['Intron_list'][0].split('_')[0]] + output_json[gene]['Intron_bins']
        output_json[gene]['Intron_bins'] = [(e, output_json[gene]['Intron_bins'][i+1]) for i, e in enumerate(output_json[gene]['Intron_bins']) if i < len(output_json[gene]['Intron_bins'])-1]
    
    
    output_json[gene]['BED_boundaries_for_hail_10kbp_added'] = "chr" +  str(output_json[gene]['CHROM']) + ':' + str((int(output_json[gene]['Gene_start_end'].split('_')[0]) - 5000)) + '-' + str((int(output_json[gene]['Gene_start_end'].split('_')[1]) + 5000))

                
                
            





output_json = dict()
bins_position = list()


for ig, gene in tqdm(enumerate(df.Gene.unique())):
    if ig == 10:
        break

    output_json[gene] = dict()

    tmp_gene_df = df.loc[df['Gene'] == gene]
    for chrom in chroms:
        if chrom[0] <= tmp_gene_df.index[0] < chrom[1]:
            
            output_json[gene]['CHROM'] = [c.replace('chromosome=', '') for c in refseq_38_df_chroms.loc[chrom[0]]['Attributes'].split(';') if 'chromosome=' in c][0]
# tmp_gene_df
    
    tmp_gene_df = tmp_gene_df.reset_index(drop=True)
    output_json[gene]['Gene_start_end'] = str(tmp_gene_df.Gene_start.unique()[0]) + '_' + str(tmp_gene_df.Gene_stop.unique()[0])
    for j, row in tmp_gene_df.iterrows():
        if 'Exon_list' not in output_json[gene]:
            output_json[gene]['Exon_list'] = list()
        if j == 0:
            output_json[gene]['5_prime_UTR'] = str(tmp_gene_df.Gene_start.unique()[0]) + '_' + str(row.Exon_start - 1)
            output_json[gene]['Exon_list'].append(str(row.Exon_start) + '_' + str(row.Exon_stop))
            if j == (tmp_gene_df.shape[0] - 1):
                output_json[gene]['3_prime_UTR'] = str(row.Exon_stop + 1) + '_' + str(tmp_gene_df.Gene_stop.unique()[0])
        elif j > 0 and j < (tmp_gene_df.shape[0] - 1):
            output_json[gene]['Exon_list'].append(str(row.Exon_start) + '_' + str(row.Exon_stop))
        elif j == (tmp_gene_df.shape[0] - 1):
            output_json[gene]['Exon_list'].append(str(row.Exon_start) + '_' + str(row.Exon_stop))
            output_json[gene]['3_prime_UTR'] = str(row.Exon_stop + 1) + '_' + str(tmp_gene_df.Gene_stop.unique()[0])
for gene in output_json:
    output_json[gene]['Intron_list'] = list()
    output_json[gene]['Exon_size_total'] = sum([int(e.split('_')[1]) - int(e.split('_')[0]) for e in output_json[gene]['Exon_list']])
    output_json[gene]['Bin_size_exon'] = round(output_json[gene]['Exon_size_total'] / 20)
    for j, exon in enumerate(output_json[gene]['Exon_list']):
        if j < len(output_json[gene]['Exon_list'])-1:
            intron_start = int(output_json[gene]['Exon_list'][j].split('_')[1]) + 1
            intron_end = int(output_json[gene]['Exon_list'][j+1].split('_')[0]) - 1
            output_json[gene]['Intron_list'].append('{}_{}'.format(str(intron_start), str(intron_end)))
    output_json[gene]['Intron_size_total'] = sum([int(e.split('_')[1]) - int(e.split('_')[0]) for e in output_json[gene]['Intron_list']])
    output_json[gene]['Bin_size_intron'] = round(output_json[gene]['Intron_size_total'] / 20)
    output_json[gene]['Gene_body_size'] = int(output_json[gene]['Gene_start_end'].split('_')[1]) - int(output_json[gene]['Gene_start_end'].split('_')[0])
    output_json[gene]['Bin_size_GB'] = round(output_json[gene]['Gene_body_size'] / 20)
    
    init_gene_body_bin = int(output_json[gene]['Gene_start_end'].split('_')[0])
    output_json[gene]['Bin_size_UpDown'] = round(5000 / 20)
    output_json[gene]['5_prime_UTR_size'] = int(output_json[gene]['5_prime_UTR'].split('_')[1]) - int(output_json[gene]['5_prime_UTR'].split('_')[0])
    output_json[gene]['3_prime_UTR_size'] = int(output_json[gene]['3_prime_UTR'].split('_')[1]) - int(output_json[gene]['3_prime_UTR'].split('_')[0])

    output_json[gene]['Bin_size_5_prime_UTR'] = round(int(output_json[gene]['5_prime_UTR_size']) / 20)
    output_json[gene]['Bin_size_3_prime_UTR'] = round(int(output_json[gene]['3_prime_UTR_size']) / 20)
    
    output_json[gene]['Gene_body_bins'] = [round((b* output_json[gene]['Bin_size_GB']) + init_gene_body_bin) for b in range(20)]
    output_json[gene]['Gene_body_bins'] = ["{}_{}".format(str(e), str(output_json[gene]['Gene_body_bins'][i+1])) for i, e in enumerate(output_json[gene]['Gene_body_bins']) if i < len(output_json[gene]['Gene_body_bins'])-1]

    output_json[gene]['Upstream_bins'] = sorted([int(output_json[gene]['Gene_start_end'].split('_')[0]) - 1  - round((b* output_json[gene]['Bin_size_UpDown'])) for b in range(20)])
    output_json[gene]['Upstream_bins'] = ["{}_{}".format(str(e), str(output_json[gene]['Upstream_bins'][i+1])) for i, e in enumerate(output_json[gene]['Upstream_bins']) if i < len(output_json[gene]['Upstream_bins'])-1]

    output_json[gene]['Downstream_bins'] = [int(output_json[gene]['Gene_start_end'].split('_')[1]) + 1 + round((b* output_json[gene]['Bin_size_UpDown'])) for b in range(20)]
    output_json[gene]['Downstream_bins'] = ["{}_{}".format(str(e), str(output_json[gene]['Downstream_bins'][i+1])) for i, e in enumerate(output_json[gene]['Downstream_bins']) if i < len(output_json[gene]['Downstream_bins'])-1]


    output_json[gene]['Exon_bins'] = list()
    tmp_bins_list = [sub_pos for exon in output_json[gene]['Exon_list'] for sub_pos in range(int(exon.split('_')[0]), int(exon.split('_')[1]) + 1) ]
    output_json[gene]['Exon_bins'] = [pos for i, pos in enumerate(tmp_bins_list) if (i+1) % output_json[gene]['Bin_size_exon'] == 0]
    output_json[gene]['Exon_bins'] = [output_json[gene]['Exon_list'][0].split('_')[0]] + output_json[gene]['Exon_bins']
    output_json[gene]['Exon_bins'] = ["{}_{}".format(str(e), str(output_json[gene]['Exon_bins'][i+1])) for i, e in enumerate(output_json[gene]['Exon_bins']) if i < len(output_json[gene]['Exon_bins'])-1]
    
    current_size = 0
    previous_size = 0
    exon_bin_counter = 0
    
    for j, exon in enumerate(output_json[gene]['Exon_list']):
                
        if j < len(output_json[gene]['Exon_list'])-1:
            intron_start = int(output_json[gene]['Exon_list'][j].split('_')[1]) + 1
            intron_end = int(output_json[gene]['Exon_list'][j+1].split('_')[0]) - 1
            output_json[gene]['Intron_list'].append('{}_{}'.format(str(intron_start), str(intron_end)))
    
    for elem in ['Gene_body_bins', 'Upstream_bins', 'Downstream_bins', 'Exon_bins']:
        bins_position.extend([{'CHR' :  'chr' +  output_json[gene]['CHROM'], 'Start' : e.split('_')[0], 'End' : e.split('_')[1], 'Region_type' : elem.replace('_bins', ''), 'Num' : i,  'Gene': gene} for i,e in zip(list(range(1,21)), output_json[gene][elem])])
    
    output_json[gene]['Intron_bins'] = list()
    if output_json[gene]['Intron_list']:
        tmp_bins_list = [sub_pos for intron in output_json[gene]['Intron_list'] for sub_pos in range(int(intron.split('_')[0]), int(intron.split('_')[1]) + 1) ]
        output_json[gene]['Intron_bins'] = [pos for i, pos in enumerate(tmp_bins_list) if (i+1) % output_json[gene]['Bin_size_intron'] == 0]
        output_json[gene]['Intron_bins'] = [output_json[gene]['Intron_list'][0].split('_')[0]] + output_json[gene]['Intron_bins']
        output_json[gene]['Intron_bins'] = ["{}_{}".format(str(e), str(output_json[gene]['Intron_bins'][i+1])) for i, e in enumerate(output_json[gene]['Intron_bins']) if i < len(output_json[gene]['Intron_bins'])-1]
        bins_position.extend([{'CHR' :  'chr' +  output_json[gene]['CHROM'],  'Start' : e.split('_')[0], 'End' : e.split('_')[1], 'Region_type' : elem.replace('_bins', ''), 'Num' : i, 'Gene' :  gene} for i,e in zip(list(range(1,21)), output_json[gene]['Intron_bins'])])
#         bins_position.extend([{'Num' : i, 'CHR' :  'chr' +  output_json[gene]['CHROM'], 'Region' : e, 'Region_type' : elem.replace('_bins', '')} for i,e in zip(list(range(1,21)), output_json[gene][elem])])

    
   

    
    
    output_json[gene]['BED_boundaries_for_hail_10kbp_added'] = "chr" +  str(output_json[gene]['CHROM']) + ':' + str((int(output_json[gene]['Gene_start_end'].split('_')[0]) - 5000)) + '-' + str((int(output_json[gene]['Gene_start_end'].split('_')[1]) + 5000))

            
refseq_38_df_transformed = pd.DataFrame.from_dict(output_json).T
refseq_38_df_transformed



bed = pd.DataFrame(bins_position)
bed['Start'] = bed['Start'].astype(int)
bed['End'] = bed['End'].astype(int)
bed = bed.loc[(bed['Start'] > 0 ) & (bed['End'] > 0 )]
bed.to_csv('/gstock/EXOTIC/data/GENOMICS/BED_test_h.txt', sep='\t', index=False)
bed


refseq_38_df_transformed.to_parquet('/gstock/EXOTIC/data/GENOMICS/RefSeq_38_precomputed.parquet')


biomart_raw = pd.read_csv('/gstock/EXOTIC/data/OTHERS/biomart_refseq_ensembl_hgnc.txt.gz', compression='gzip', sep='\t')
# biomart_raw['Gene_start_end_ENS'] = biomart_raw['Gene start (bp)'].astype(str) + '_' + biomart_raw['Gene end (bp)'].astype(str)
biomart_raw


merge_biomart_refseq_38 = pd.merge(biomart_raw.loc[biomart_raw['Gene stable ID'].isin(exotic_genes_not_sqtl), ['Gene stable ID', 'Gene name']].drop_duplicates().sort_values(by='Gene name'), refseq_38_df_transformed.reset_index(), left_on='Gene name', right_on='index')
merge_biomart_refseq_38['Gene_start'] = merge_biomart_refseq_38.Gene_start_end.apply(lambda r: r.split('_')[0])
merge_biomart_refseq_38['Gene_start'] = merge_biomart_refseq_38['Gene_start'].astype(int)
merge_biomart_refseq_38['Gene_end'] = merge_biomart_refseq_38.Gene_start_end.apply(lambda r: r.split('_')[1])
merge_biomart_refseq_38['Gene_end'] = merge_biomart_refseq_38['Gene_end'].astype(int)
merge_biomart_refseq_38



