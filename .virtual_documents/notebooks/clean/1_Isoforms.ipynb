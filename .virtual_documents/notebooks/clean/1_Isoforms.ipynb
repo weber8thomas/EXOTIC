import math
import os
import sys
import pandas as pd
sys.path.append("/home/weber/PycharmProjects/EXOTIC/src")
from statannot import add_stat_annotation

pd.options.mode.chained_assignment = None  # default='warn'
import multiprocessing
import parmap
import numpy as np
import collections
from tqdm import tqdm
import pandarallel
from pandarallel import pandarallel

pandarallel.initialize(nb_workers=20, progress_bar=True)
# tqdm.pandas()
from pprint import pprint
from scipy.stats import zscore
from scipy import stats

import requests
import re
import seaborn as sns
import matplotlib.pyplot as plt
import matplotlib
import matplotlib.colors as mc
from matplotlib.colors import LogNorm
import json
import matplotlib.ticker as mtick
from utils.utils import load_config_file

## YAML FILES CONFIG
yaml = load_config_file(config_file="/home/weber/PycharmProjects/EXOTIC/src/config.yaml")
exotic_files = yaml





import matplotlib.font_manager as font_manager

font_dirs = ['/home/weber/Fonts', ]
font_files = font_manager.findSystemFonts(fontpaths=font_dirs)
font_list = font_manager.createFontList(font_files)
font_manager.fontManager.ttflist.extend(font_list)

from matplotlib import rcParams
rcParams['font.family'] = 'sans-serif'
rcParams['font.sans-serif'] = ['Arial']
rcParams['font.weight'] = 'light'

refseq_corrected_by_gtex = pd.read_parquet('/gstock/EXOTIC/data/GENOMICS/RefSeq_corrected_by_GTEx_lite.parquet')
refseq_lite = refseq_corrected_by_gtex.loc[(refseq_corrected_by_gtex['new_mRNA_nb_total'] > 1) & (refseq_corrected_by_gtex['new_CDS_count'] > 1), ['Gene', 'new_mRNA_nb_total']].drop_duplicates()
refseq_lite.columns = ['Gene', 'mRNA_nb']
print(refseq_lite)
print(refseq_lite.mRNA_nb.sum())

sns.set_context('paper', font_scale=2)
f, ax = plt.subplots(figsize=(10,10))
data = refseq_lite.groupby('mRNA_nb').size().reset_index()
cs = refseq_lite.groupby('mRNA_nb').size().cumsum() / refseq_lite.groupby('mRNA_nb').size().sum()
cs = cs.reset_index()
# ax.bar(x=[1,2,3], y=[2,3,4], )
ax1_ = ax.bar(data.mRNA_nb.values, data[0].values,
#        yerr=error,
       align='edge',
       alpha=0.8,
       color='#8491B4FF',
       width=-0.4
#        ecolor='black',
#        color=list(reversed(sns.color_palette('mako'))),
#        color=sns.color_palette('YlOrBr'),
#        zorder=3,
#        **hfont
      )
ax2 = ax.twinx()
ax2_ = ax2.bar(cs.mRNA_nb.values, cs[0].values, alpha=0.5, color='#F39B7FFF', align='edge', width=0.4)
ax2.set_xlim(1.5,20.5)
ax.set_xticks(np.arange(2,21))

# ax2.get_xaxis().set_major_formatter(matplotlib.ticker.ScalarFormatter())
ax2.xaxis.set_major_formatter(mtick.FuncFormatter(lambda x,_: round(x, 0)))
ax2.get_xaxis().set_major_formatter(matplotlib.ticker.FormatStrFormatter('%g'))
ax.yaxis.label.set_color('#8491B4FF')
ax2.yaxis.label.set_color('#F39B7FFF')

tkw = dict(size=4, width=1.5)
ax.tick_params(axis='y', colors='#8491B4FF', **tkw)
ax2.tick_params(axis='y', colors='#F39B7FFF', **tkw)
ax.set_ylabel('Count')
ax.set_xlabel('mRNA nb')
ax2.set_ylabel('Cumulative sum ratio')
ax.spines['top'].set_linewidth(0)
ax2.spines['top'].set_linewidth(0)
ax.set_ylim(0,4500)
ax2.set_ylim(0,1)
# ax.text(-0.1, 1.05, 'a', transform=ax.transAxes, size=24, weight='bold')




import matplotlib.font_manager as font_manager

font_dirs = ['/home/weber/Fonts', ]
font_files = font_manager.findSystemFonts(fontpaths=font_dirs)
font_list = font_manager.createFontList(font_files)
font_manager.fontManager.ttflist.extend(font_list)

from matplotlib import rcParams
rcParams['font.family'] = 'sans-serif'
rcParams['font.sans-serif'] = ['Arial']
rcParams['font.weight'] = 'light'

refseq_corrected_by_gtex = pd.read_parquet('/gstock/EXOTIC/data/GENOMICS/RefSeq_corrected_by_GTEx_lite.parquet')
refseq_corrected_by_gtex = refseq_corrected_by_gtex.loc[(refseq_corrected_by_gtex['new_mRNA_nb_total'] > 1) & (refseq_corrected_by_gtex['new_CDS_count'] > 1)]
refseq_corrected_by_gtex.columns = [c.replace('new_', '') for c in refseq_corrected_by_gtex.columns]

def show_values_on_bars(axs, i=0, fontsize=10, rotation=0, color='black', pad=10):
    def _show_on_single_plot(ax):
        for p in ax.patches:
            print(p)
            _x = p.get_x() + p.get_width()/2 
            _y = p.get_y() + (p.get_height()) + pad
            if i == 0:
                value = "{:,.0f}".format(p.get_height())
            if i == 2:
                value = "{:.2f}".format(p.get_height())

            if i == 3:
                value = "{:.3f}".format(p.get_height())
            ax.text(_x, _y, value, ha="center", fontsize=fontsize, rotation=rotation, color=color)

    if isinstance(axs, np.ndarray):
        for idx, ax in np.ndenumerate(axs):
            _show_on_single_plot(ax)
    else:
        _show_on_single_plot(axs)

        
fontsize_top_row_ticks = 14
fontsize_bottom_row_labels = 16
        
sns.set_context('paper', font_scale=1.5)
f, ax = plt.subplots(nrows=2, ncols=3, figsize=(15,12))
t = refseq_corrected_by_gtex.groupby('Const_Alt').size().reset_index()
f1 = sns.barplot(data=t.sort_values(by='Const_Alt', ascending=False), x='Const_Alt', y=0, ax=ax[0][0], palette=['#3C548899', '#DC000099'] )
widthbars = [0.3, 0.3]
for bar, newwidth in zip(f1.patches, widthbars):
    x = bar.get_x()
    width = bar.get_width()
    centre = x + width/2.
    bar.set_x(centre - newwidth/2.)
    bar.set_width(newwidth)
    
f1.set_ylim(0, 100000)
ax[0][0].spines['bottom'].set_linewidth(0)
ax[0][0].spines['right'].set_linewidth(0)
ax[0][0].spines['top'].set_linewidth(0)
ax[0][0].tick_params(axis = "x", which = "both", bottom = False, top = False)
ax[0][0].set_xlabel('')
ax[0][0].set_ylabel('Exon count')
ax[0][0].set_xticklabels(['Constitutive Exon', 'Alternative Exon'], fontsize=fontsize_top_row_ticks)
ax[0][0].get_yaxis().set_major_formatter(matplotlib.ticker.FuncFormatter(lambda x, p: format(int(x), ',')))
show_values_on_bars(ax[0][0], i=0, pad=1000)

f2 = sns.boxenplot(data=refseq_corrected_by_gtex[['Const_Alt', 'Length']], x='Const_Alt', y='Length', ax=ax[0][2], palette=['#3C548899', '#DC000099'])

medians = refseq_corrected_by_gtex[['Const_Alt', 'Length']].groupby(['Const_Alt'])['Length'].median().sort_index(ascending=False)
vertical_offset = refseq_corrected_by_gtex['Length'].median() * 0.05 # offset from median for display


for xtick in f2.get_xticks():
    f2.text(xtick,medians[xtick] + vertical_offset,medians[xtick], 
            horizontalalignment='center',size='x-small',color='w',weight='semibold')


ax[0][2].spines['bottom'].set_linewidth(0)
ax[0][2].spines['right'].set_linewidth(0)
ax[0][2].spines['top'].set_linewidth(0)
ax[0][2].tick_params(axis = "x", which = "both", bottom = False, top = False)
ax[0][2].set_xlabel('')
ax[0][2].set_ylabel('Exon Length distribution')
ax[0][2].set_xticklabels(['Constitutive Exon', 'Alternative Exon'], fontsize=fontsize_top_row_ticks)
ax[0][2].get_yaxis().set_major_formatter(matplotlib.ticker.FuncFormatter(lambda x, p: format(int(x), ',')))


f2.set_ylim(0, 1000)

t = refseq_corrected_by_gtex[['Gene', 'Const_Alt']].groupby(['Gene', 'Const_Alt']).size().reset_index()
t = t.sort_values(by='Const_Alt', ascending=False)
t

f3 = sns.boxenplot(data=t, x='Const_Alt', y=0, ax=ax[0][1], palette=['#3C5488FF', '#DC000099'])

medians = refseq_corrected_by_gtex[['Const_Alt', 'Gene']].groupby(['Gene', 'Const_Alt']).size().reset_index().pivot(columns='Const_Alt', values=0, index='Gene').median().sort_index(ascending=False)
vertical_offset = refseq_corrected_by_gtex[['Const_Alt', 'Gene']].groupby(['Gene', 'Const_Alt']).size().reset_index().median() * 0.05 # offset from median for display
vertical_offset

for xtick in f3.get_xticks():
    f3.text(xtick,medians[xtick] + vertical_offset,int(medians[xtick]), 
            horizontalalignment='center',size='x-small',color='w',weight='semibold')



ax[0][1].spines['bottom'].set_linewidth(0)
ax[0][1].spines['right'].set_linewidth(0)
ax[0][1].spines['top'].set_linewidth(0)
ax[0][1].tick_params(axis = "x", which = "both", bottom = False, top = False)
ax[0][1].set_xlabel('')
ax[0][1].set_ylabel('Exon distribution / gene')
ax[0][1].set_xticklabels(['Constitutive Exon', 'Alternative Exon'], fontsize=fontsize_top_row_ticks)

f3.set_ylim(0, 50)

t = refseq_corrected_by_gtex.loc[refseq_corrected_by_gtex['Const_Alt'] == 'Alt', ['Ratio_num_bins']].groupby('Ratio_num_bins').size().reset_index()
t = t.sort_values(by='Ratio_num_bins', ascending=False)
f4 = sns.barplot(data=t, x='Ratio_num_bins', y=0, ax=ax[1][0], palette=['#b09c85', '#bc8773', '#c76e5e', '#d24e43', '#dc0000'])
widthbars = [0.5, 0.5, 0.5, 0.5, 0.5]
for bar, newwidth in zip(f4.patches, widthbars):
    x = bar.get_x()
    width = bar.get_width()
    centre = x + width/2.
    bar.set_x(centre - newwidth/2.)
    bar.set_width(newwidth)
    
ax[1][0].spines['bottom'].set_linewidth(0)
ax[1][0].spines['right'].set_linewidth(0)
ax[1][0].spines['top'].set_linewidth(0)
ax[1][0].tick_params(axis = "x", which = "both", bottom = False, top = False)
ax[1][0].set_xlabel('Alt Exon frequency across isoforms', fontsize=fontsize_bottom_row_labels)
ax[1][0].set_ylabel('Exon count')
ax[1][0].set_xticklabels(ax[1][0].get_xticklabels(), fontsize=fontsize_top_row_ticks, rotation=45)
ax[1][0].get_yaxis().set_major_formatter(matplotlib.ticker.FuncFormatter(lambda x, p: format(int(x), ',')))

f4.set_ylim(0, 20000)
show_values_on_bars(ax[1][0], i=0, pad=500)



t = refseq_corrected_by_gtex.loc[refseq_corrected_by_gtex['Const_Alt'] == 'Alt', ['Gene', 'Ratio_num_bins']].groupby(['Gene', 'Ratio_num_bins']).size().reset_index()
t = t.sort_values(by='Ratio_num_bins', ascending=False)
f5 = sns.boxenplot(data=t, x='Ratio_num_bins', y=0, ax=ax[1][1], palette=['#b09c85', '#bc8773', '#c76e5e', '#d24e43', '#dc0000'])

medians = refseq_corrected_by_gtex.loc[refseq_corrected_by_gtex['Const_Alt'] == 'Alt', ['Gene', 'Ratio_num_bins']].groupby(['Gene', 'Ratio_num_bins']).size().reset_index().pivot(columns='Ratio_num_bins', values=0, index='Gene').median().sort_index(ascending=False)
vertical_offset = refseq_corrected_by_gtex.loc[refseq_corrected_by_gtex['Const_Alt'] == 'Alt', ['Gene', 'Ratio_num_bins']].groupby(['Gene', 'Ratio_num_bins']).size().reset_index().median() * 0.05 # offset from median for display
vertical_offset

for j, xtick in enumerate(f5.get_xticks()):
    if j <0:
        color='grey'
    else:
        color='w'
    f5.text(xtick,medians[xtick] + vertical_offset,int(medians[xtick]), 
            horizontalalignment='center',size='x-small',color=color,weight='semibold')



ax[1][1].spines['bottom'].set_linewidth(0)
ax[1][1].spines['right'].set_linewidth(0)
ax[1][1].spines['top'].set_linewidth(0)
ax[1][1].tick_params(axis = "x", which = "both", bottom = False, top = False)
ax[1][1].set_xlabel('Alt Exon frequency across isoforms', fontsize=fontsize_bottom_row_labels)
ax[1][1].set_ylabel('Exon distribution / gene')
ax[1][1].set_xticklabels(ax[1][1].get_xticklabels(), fontsize=fontsize_top_row_ticks, rotation=45)
f5.set_ylim(0, 25)



t = refseq_corrected_by_gtex.loc[refseq_corrected_by_gtex['Const_Alt'] == 'Alt', ['Gene', 'Ratio_num_bins', 'Length']]
t = t.sort_values(by='Ratio_num_bins', ascending=False)
f6 = sns.boxenplot(data=t, x='Ratio_num_bins', y='Length', ax=ax[1][2], palette=['#b09c85', '#bc8773', '#c76e5e', '#d24e43', '#dc0000'])


medians = refseq_corrected_by_gtex.loc[refseq_corrected_by_gtex['Const_Alt'] == 'Alt', ['Gene', 'Ratio_num_bins', 'Length']].groupby(['Ratio_num_bins'])['Length'].median().sort_index(ascending=False)
vertical_offset = refseq_corrected_by_gtex.loc[refseq_corrected_by_gtex['Const_Alt'] == 'Alt', ['Length']].median() * 0.05 # offset from median for display


for j, xtick in enumerate(f6.get_xticks()):
    if j <0:
        color='grey'
    else:
        color='w'
    f6.text(xtick,medians[xtick] + vertical_offset,medians[xtick], 
            horizontalalignment='center',size='x-small',color=color,weight='semibold')

ax[1][2].spines['bottom'].set_linewidth(0)
ax[1][2].spines['right'].set_linewidth(0)
ax[1][2].spines['top'].set_linewidth(0)
ax[1][2].tick_params(axis = "x", which = "both", bottom = False, top = False)
ax[1][2].set_xlabel('Alt Exon frequency across isoforms', fontsize=fontsize_bottom_row_labels)
ax[1][2].set_ylabel('Exon length distribution')
ax[1][2].set_xticklabels(ax[1][2].get_xticklabels(), fontsize=fontsize_top_row_ticks, rotation=45)
f6.set_ylim(0, 700)

axs = ax.flat
import string

for n, a in enumerate(axs):
    a.text(-0.2, 1.05, string.ascii_lowercase[n], transform=a.transAxes, size=24, weight='bold')

plt.tight_layout()
add_stat_annotation(f2, data=refseq_corrected_by_gtex, x='Const_Alt', y='Length', order= ['Const', 'Alt'],
                    box_pairs=[('Const', 'Alt')],
                    test='Mann-Whitney', text_format='star', loc='outside', verbose=2)

t = refseq[['Gene', 'Const_Alt']].groupby(['Gene', 'Const_Alt']).size().reset_index()

add_stat_annotation(f3, data=t, x='Const_Alt', y=0, order= ['Const', 'Alt'],
                    box_pairs=[('Const', 'Alt')],
                    test='Mann-Whitney', text_format='star', loc='outside', verbose=2)

# t = refseq.loc[refseq['Const_Alt'] == 'Alt', ['Gene', 'Ratio_num_bins']].groupby(['Gene', 'Ratio_num_bins']).size().reset_index()
# add_stat_annotation(f6, data=t, x='Ratio_num_bins', y=0, order= t.Ratio_num_bins.cat.categories,
#                     box_pairs=[('0 - 0.2', '0.8 - 1'), ('0 - 0.2', '0.2 - 0.4')],
#                     test='Mann-Whitney', text_format='star', loc='outside', verbose=2)



import matplotlib.font_manager as font_manager

font_dirs = ['/home/weber/Fonts', ]
font_files = font_manager.findSystemFonts(fontpaths=font_dirs)
font_list = font_manager.createFontList(font_files)
font_manager.fontManager.ttflist.extend(font_list)

from matplotlib import rcParams
rcParams['font.family'] = 'sans-serif'
rcParams['font.sans-serif'] = ['Arial']
rcParams['font.weight'] = 'light'

sns.set_context('paper', font_scale=2.5)

f, ax = plt.subplots(figsize=(10,10))
ax.set_axisbelow(True)

# plt.grid(True, axis='y')
p = sns.histplot(merge_df, x='CCRS_CCR_percentile', hue='Const_Alt', multiple="stack", bins=30, kde=True, ax=ax, palette=['#3C548899', '#DC000099'])
plt.yscale('log')

plt.ylim(bottom=1)
plt.xlim(left=0, right=100)
# ax.spines['bottom'].set_linewidth(0)
ax.spines['right'].set_linewidth(0)
ax.spines['top'].set_linewidth(0)
ax.minorticks_off()
# ax.yaxis.label.set_size(12)
# plt.tick_params(axis = "x", which = "both", bottom = False, top = False)

# plt.ylabel('CCR count')
plt.xlabel('Constraint percentile')
legend = p.get_legend()
legend.set_title('')
legend.texts[0].set_text("Constitutive")
legend.texts[1].set_text("Alternative")
# ax.text(-0.15, 1.05, 'a', transform=ax.transAxes, size=24, weight='bold')



# tmp_ccrs_path = '/home/weber/PycharmProjects/ExoCarto/data/2_processed/CCRS_modified.parquet'
tmp_ccrs_path = "/gstock/EXOTIC/data/VARIATIONS/CCRS_modified_refseq_corrected.parquet"
merge_df = pd.read_parquet(tmp_ccrs_path)
# merge_df = merge_df.drop(['CCR_0-20_bool', 'CCR_20-80_bool', 'CCR_80-90_bool', 'CCR_90-95_bool', 'CCR_95-99_bool', 'CCR_99-100_bool'], axis=1)
merge_df = merge_df.drop(['CCR_0_20_bool', 'CCR_20_80_bool', 'CCR_80_90_bool', 'CCR_90_95_bool', 'CCR_95_99_bool', 'CCR_99_100_bool'], axis=1)
bins = [0, 20, 80, 90, 95, 99, 100]
labels = bins.copy()
labels_ratio = [str(round(labels[j], 1)) + " - " + str(round(labels[j + 1], 1)) for j in range(len(labels) - 1)]
merge_df["CCRS_bins"] = pd.cut(merge_df["CCRS_CCR_percentile"], bins=bins, labels=labels_ratio, include_lowest=True)
merge_df[['Start' , 'Stop']] = merge_df.ranges.str.split('-', expand=True)
merge_df['Start'] = merge_df['Start'].astype(int)
merge_df['Stop'] = merge_df['Stop'].astype(int)
merge_df['Length'] = merge_df['Stop'] - merge_df['Start']
merge_df.loc[merge_df['CCRS_bins'] == '0 - 20', 'CCR_0_20_bool'] = True
merge_df.loc[merge_df['CCRS_bins'] == '20 - 80', 'CCR_20_80_bool'] = True
merge_df.loc[merge_df['CCRS_bins'] == '80 - 90', 'CCR_80_90_bool'] = True
merge_df.loc[merge_df['CCRS_bins'] == '90 - 95', 'CCR_90_95_bool'] = True
merge_df.loc[merge_df['CCRS_bins'] == '95 - 99', 'CCR_95_99_bool'] = True
merge_df.loc[merge_df['CCRS_bins'] == '99 - 100', 'CCR_99_100_bool'] = True
merge_df.loc[merge_df['CCRS_bins'].isin(['95 - 99', '99 - 100']), 'CCR_95_100_bool'] = True

merge_df.loc[merge_df['Ratio_num'] == 1, 'Constitutive'] = True
merge_df.loc[merge_df['Ratio_num'] < 1, 'Alternative'] = True
merge_df.loc[merge_df['Ratio_num'] < 1, 'Const_Alt'] = "Alt"
merge_df.loc[merge_df['Ratio_num'] == 1, 'Const_Alt'] = "Const"
merge_df.loc[(merge_df['Ratio_num'] < 1) & (merge_df['Ratio_num'] >= 0.8), 'Cat80100'] = True
merge_df.loc[(merge_df['Ratio_num'] < 0.8) & (merge_df['Ratio_num'] >= 0.6), 'Cat6080'] = True
merge_df.loc[(merge_df['Ratio_num'] < 0.6) & (merge_df['Ratio_num'] >= 0.4), 'Cat4060'] = True
merge_df.loc[(merge_df['Ratio_num'] < 0.4) & (merge_df['Ratio_num'] >= 0.2), 'Cat2040'] = True
merge_df.loc[(merge_df['Ratio_num'] < 0.2) & (merge_df['Ratio_num'] > 0), 'Cat0020'] = True
merge_df[['CCR_0_20_bool', 'CCR_20_80_bool', 'CCR_80_90_bool', 'CCR_90_95_bool', 'CCR_95_99_bool', 'CCR_99_100_bool', 'CCR_95_100_bool', 'Cat0020', 'Cat2040', 'Cat4060', 'Cat6080', 'Cat80100', 'Constitutive', 'Alternative']] = merge_df[['CCR_0_20_bool', 'CCR_20_80_bool', 'CCR_80_90_bool', 'CCR_90_95_bool', 'CCR_95_99_bool', 'CCR_99_100_bool', 'CCR_95_100_bool', 'Cat0020', 'Cat2040', 'Cat4060', 'Cat6080', 'Cat80100', 'Constitutive', 'Alternative']].fillna(False)
merge_df.to_parquet("/gstock/EXOTIC/data/VARIATIONS/CCRS_modified_refseq_corrected_Rdata.parquet")


merge_df
# merge_df = merge_df.loc[merge_df['CCRS_CCR_percentile'] > 0]


# tmp_clinvar_ccrs_path = '/home/weber/PycharmProjects/ExoCarto/data/2_processed/ClinVar_CCRS_modified.parquet'
tmp_clinvar_ccrs_path = '/gstock/EXOTIC/data/VARIATIONS/ClinVar_CCRS_gnomAD.parquet'
tmp_clinvar_ccrs_path = "/gstock/EXOTIC/data/VARIATIONS/ClinVar_CCRS_gnomAD_2021_refseq_corrected.parquet"
merge_ccrs_variants = pd.read_parquet(tmp_clinvar_ccrs_path)
# merge_ccrs_variants = merge_ccrs_variants.head(10000)

merge_ccrs_variants = merge_ccrs_variants.loc[merge_ccrs_variants['Status'] != 'Other']
path_genes = list(merge_ccrs_variants.loc[merge_ccrs_variants['Status'] == 'Pathogenic'].Gene.unique())
merge_ccrs_variants = merge_ccrs_variants.loc[merge_ccrs_variants['Gene'].isin(path_genes)]
merge_ccrs_variants.loc[merge_ccrs_variants['Status'] == 'Benign' , 'Benign'] = True
merge_ccrs_variants.loc[merge_ccrs_variants['Status'] == 'Pathogenic' , 'Pathogenic'] = True
merge_ccrs_variants[['Benign', 'Pathogenic']] = merge_ccrs_variants[['Benign', 'Pathogenic']].fillna(False)
merge_ccrs_variants.loc[merge_ccrs_variants['Ratio_num'] == 1, 'Constitutive'] = True
merge_ccrs_variants.loc[merge_ccrs_variants['Ratio_num'] < 1, 'Alternative'] = True
merge_ccrs_variants.loc[merge_ccrs_variants['Ratio_num'] < 1, 'Const_Alt'] = "Alt"
merge_ccrs_variants.loc[merge_ccrs_variants['Ratio_num'] == 1, 'Const_Alt'] = "Const"
merge_ccrs_variants.loc[(merge_ccrs_variants['Ratio_num'] < 1) & (merge_ccrs_variants['Ratio_num'] >= 0.8), 'Cat80100'] = True
merge_ccrs_variants.loc[(merge_ccrs_variants['Ratio_num'] < 0.8) & (merge_ccrs_variants['Ratio_num'] >= 0.6), 'Cat6080'] = True
merge_ccrs_variants.loc[(merge_ccrs_variants['Ratio_num'] < 0.6) & (merge_ccrs_variants['Ratio_num'] >= 0.4), 'Cat4060'] = True
merge_ccrs_variants.loc[(merge_ccrs_variants['Ratio_num'] < 0.4) & (merge_ccrs_variants['Ratio_num'] >= 0.2), 'Cat2040'] = True
merge_ccrs_variants.loc[(merge_ccrs_variants['Ratio_num'] < 0.2) & (merge_ccrs_variants['Ratio_num'] > 0), 'Cat0020'] = True
merge_ccrs_variants.loc[merge_ccrs_variants['CCRS_bins'] == '0 - 20', 'CCR_0_20_bool'] = True
merge_ccrs_variants.loc[merge_ccrs_variants['CCRS_bins'] == '20 - 80', 'CCR_20_80_bool'] = True
merge_ccrs_variants.loc[merge_ccrs_variants['CCRS_bins'] == '80 - 90', 'CCR_80_90_bool'] = True
merge_ccrs_variants.loc[merge_ccrs_variants['CCRS_bins'] == '90 - 95', 'CCR_90_95_bool'] = True
merge_ccrs_variants.loc[merge_ccrs_variants['CCRS_bins'] == '95 - 99', 'CCR_95_99_bool'] = True
merge_ccrs_variants.loc[merge_ccrs_variants['CCRS_bins'] == '99 - 100', 'CCR_99_100_bool'] = True

# merge_ccrs_variants['MC'] = merge_ccrs_variants['MC'].apply(lambda r: eval(r) if '[' in r else r)
# merge_ccrs_variants['MC'] = merge_ccrs_variants['MC'].apply(lambda r: list(set(r)))
# merge_ccrs_variants = merge_ccrs_variants.explode('MC')
merge_ccrs_variants[['CCR_0_20_bool', 'CCR_20_80_bool', 'CCR_80_90_bool', 'CCR_90_95_bool', 'CCR_95_99_bool', 'CCR_99_100_bool', 'Cat0020', 'Cat2040', 'Cat4060', 'Cat6080', 'Cat80100', 'Constitutive', 'Alternative']] = merge_ccrs_variants[['CCR_0_20_bool', 'CCR_20_80_bool', 'CCR_80_90_bool', 'CCR_90_95_bool', 'CCR_95_99_bool', 'CCR_99_100_bool', 'Cat0020', 'Cat2040', 'Cat4060', 'Cat6080', 'Cat80100', 'Constitutive', 'Alternative']].fillna(False)
print(list(merge_ccrs_variants.columns))

# merge_ccrs_variants.to_parquet('/gstock/EXOTIC/data/VARIATIONS/Variants_CCRS_Rdata.parquet', index=False)
path_genes = list(merge_ccrs_variants.loc[merge_ccrs_variants['Status'] == 'Pathogenic'].Gene.unique())
merge_ccrs_variants = merge_ccrs_variants.loc[merge_ccrs_variants['Gene'].isin(path_genes)]
merge_ccrs_variants






def show_values_on_bars(axs, i=0, fontsize=10, rotation=0):
    def _show_on_single_plot(ax):
        for p in ax.patches:
            print(p)
            _x = p.get_x() + p.get_width() / 2
            print(p.get_height())
            if p.get_height() >= 1:
                _y = p.get_y() + (p.get_height() / 2)
            elif p.get_height() < 1:
                _y = p.get_y() + (p.get_height() / 2) + p.get_height() * 0.005
            if i == 0:
                value = "{:.0f}".format(p.get_height())
            if i == 2:
                value = "{:.2f}".format(p.get_height())

            if i == 3:
                value = "{:.3f}".format(p.get_height())
            ax.text(_x, _y, str(round(float(value) + 1, 2)), ha="center", fontsize=fontsize, rotation=rotation, color='white')

    if isinstance(axs, np.ndarray):
        for idx, ax in np.ndenumerate(axs):
            _show_on_single_plot(ax)
    else:
        _show_on_single_plot(axs)

d = pd.pivot_table(merge_ccrs_variants.groupby(['Const_Alt', 'Status', 'CCRS_bins']).size().reset_index(), index=['CCRS_bins', 'Status'], columns='Const_Alt', values=0)
# d = pd.pivot_table(merge_ccrs_variants.groupby(['Const_Alt', 'Status', 'CCRS_bins']).size().reset_index(), index=['CCRS_bins', 'Const_Alt'], columns='Status', values=0)
d

new_d = collections.defaultdict(dict)
for k in d.to_dict():
    new_d[k] = dict()
    for sub_k, v in d[k].items():
        if sub_k[0] not in new_d[k]:
            new_d[k][sub_k[0]] = dict()
        new_d[k][sub_k[0]][sub_k[1]] = v
odr_alt = list()
odr_const = list()
labels = list(new_d['Alt'].keys())

l = list()



new_d
        
for const_alt in new_d:
    for ccr in new_d[const_alt]:
        b = new_d[const_alt][ccr]['Benign']
        p = new_d[const_alt][ccr]['Pathogenic']
        other_b = sum([new_d[const_alt][e]['Benign'] for e in labels if new_d[const_alt][e]['Benign'] != b])
        other_p= sum([new_d[const_alt][e]['Pathogenic'] for e in labels if new_d[const_alt][e]['Pathogenic'] != p])
        print(b, p, other_b, other_p)
        odr = ((p / b) / (other_p / other_b))
#         print(const_alt, ccr, odr)
        l.append(
            {
                'Const_Alt' : const_alt,
                'CCRS_bins' : ccr,
                'ODR' : odr,
            }        
        )

t = pd.DataFrame(l)
# t['ODR'] = t['ODR'] - 1
# t

f, ax = plt.subplots(figsize=(10,10))
sns.set_context('paper',  font_scale=2)

ax.set_axisbelow(True)
# ax.grid(True, axis='y')
p = sns.barplot(data=t.sort_values(by='Const_Alt', ascending=False), x='CCRS_bins', y='ODR', hue='Const_Alt', bottom=1, zorder=1, palette=['#3C5488FF', '#DC000099'])
plt.yscale('log')
# plt.xticks(rotation=45)
plt.xlabel('Constraint bins')
plt.ylabel('OR (pathogenic VS benign variants)')
ax.legend(loc='upper left')
legend = ax.get_legend()
legend.set_title('')
legend.texts[0].set_text("Constitutive")
legend.texts[1].set_text("Alternative")
print(legend)
# ax.legend(loc='upper left')
show_values_on_bars(ax, i=2, fontsize=12)
plt.tick_params(axis = "x", which = "both", bottom = False, top = False)
ax.set_yticks([0.1, 1, 10, 100, ], )
ax.set_ylim(0.1, 100)
# ax.get_yaxis().set_major_formatter(matplotlib.ticker.ScalarFormatter())
ax.minorticks_off()
plt.axhline(1, lw=2, color='black', zorder=2)
# ax.text(-0.2, 1.05, 'a', transform=ax.transAxes, size=24, weight='bold')
ax.get_yaxis().set_major_formatter(matplotlib.ticker.ScalarFormatter())
ax.get_yaxis().set_major_formatter(matplotlib.ticker.FormatStrFormatter('%g'))
ax.spines['bottom'].set_linewidth(0)
ax.spines['right'].set_linewidth(0)
ax.spines['top'].set_linewidth(0)
# plt.yscale('symlog')
# plt.gca().yaxis.set_major_formatter(mtick.FuncFormatter(lambda x,_: x+1))
# ax.set_yticklabels([1,'', 10])
# yticks = ax.yaxis.get_major_ticks()
# yticks[1].set_visible(False)
# plt.yticks([1, 10])

# plt.ylim(0, )
d
