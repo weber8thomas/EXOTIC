get_ipython().run_line_magic("config", " Completer.use_jedi = False")


import math
import os
import sys
import pandas as pd
sys.path.append("/home/weber/PycharmProjects/EXOTIC/src")
from statannot import add_stat_annotation

pd.options.mode.chained_assignment = None  # default='warn'
import multiprocessing
import parmap
import numpy as np
import collections
from tqdm import tqdm
import pandarallel
from pandarallel import pandarallel

pandarallel.initialize(nb_workers=20, progress_bar=True)
# tqdm.pandas()
from pprint import pprint
from scipy.stats import zscore
from scipy import stats

import requests
import re
import seaborn as sns
import matplotlib.pyplot as plt
import matplotlib
import matplotlib.colors as mc
from matplotlib.colors import LogNorm
import json
import matplotlib.ticker as mtick
from utils.utils import load_config_file

## YAML FILES CONFIG
yaml = load_config_file(config_file="/home/weber/PycharmProjects/EXOTIC/src/config.yaml")
exotic_files = yaml

import matplotlib.font_manager as font_manager

font_dirs = ['/home/weber/Fonts', ]
font_files = font_manager.findSystemFonts(fontpaths=font_dirs)
font_list = font_manager.createFontList(font_files)
font_manager.fontManager.ttflist.extend(font_list)

from matplotlib import rcParams
rcParams['font.family'] = 'sans-serif'
rcParams['font.sans-serif'] = ['Arial']
rcParams['font.weight'] = 'light'


biomart = pd.read_csv('/gstock/EXOTIC/data/OTHERS/biomart_refseq_ensembl_hgnc.txt.gz', compression='gzip', sep='\t')

refseq_37 = pd.read_csv('/gstock/EXOTIC/data/GENOMICS/GRCh37_RefSeq_lite_hgnc.csv.gz', compression='gzip', sep='\t')
refseq_37.loc[refseq_37['mRNA_nb'] > 1, 'Gene_type'] = 'Multi Isoform'
refseq_37.loc[refseq_37['mRNA_nb'] == 1, 'Gene_type'] = 'Single Isoform'
refseq = pd.merge(biomart[['Gene stable ID', 'Gene name']].drop_duplicates(), refseq_37, left_on='Gene name', right_on='Name')
refseq.head()


concat_df_sqtlseeker_dir_merge_biomart = pd.merge(concat_df_sqtlseeker_dir_complete, refseq[['Gene stable ID', 'Gene name', 'Gene_type']], left_on='gene_id', right_on='Gene stable ID')
concat_df_sqtlseeker_dir_merge_biomart


tmp_l = list()
for elem in ['Single Isoform', 'Multi Isoform']:
    tmp = refseq.loc[refseq['Gene_type'] == elem, 'Gene name'].unique().tolist()
    sqtl_tmp = concat_df_sqtlseeker_dir_merge_biomart.loc[concat_df_sqtlseeker_dir_merge_biomart['Gene name'].isin(tmp)]
    tmp_l.append({
        'Gene type' : elem,
        'Gene nb' : len(tmp),
        'sGenes' : sqtl_tmp.gene_id.nunique(),
        'Ratio sGenes/Total' : round(sqtl_tmp['Gene name'].nunique() / len(tmp), 2),
        'sQTL' : sqtl_tmp.snpId.nunique(),
        'Ratio sQTL/sGenes' : round(sqtl_tmp.snpId.nunique() / sqtl_tmp['Gene name'].nunique(), 2),
    })
    
    
pd.DataFrame(tmp_l).set_index('Gene type')


from matplotlib_venn import venn2
f = plt.figure(figsize=(15,15))
venn2([
    set(concat_df_sqtlseeker_dir_merge_biomart.loc[concat_df_sqtlseeker_dir_merge_biomart['Gene name'].isin(refseq.loc[refseq['Gene_type'] == 'Multi Isoform', 'Gene name'].unique().tolist())]['snpId'].unique().tolist()),
    set(concat_df_sqtlseeker_dir_merge_biomart.loc[concat_df_sqtlseeker_dir_merge_biomart['Gene name'].isin(refseq.loc[refseq['Gene_type'] == 'Single Isoform', 'Gene name'].unique().tolist())]['snpId'].unique().tolist()),
],
    ('Multi Isoform', 'Single Isoform'),  set_colors=sns.color_palette()
    )


data = concat_df_sqtlseeker_dir_merge_biomart
data = data[['Gene_type', 'Gene name', 'snpId']].drop_duplicates().groupby(['Gene_type', 'Gene name']).count().reset_index()
data

groupby = ""
x = "Gene_type"
y = "snpId"
x_order = ['Single Isoform', 'Multi Isoform']

sns.set_context('paper', font_scale=1.5)
f, ax = plt.subplots(figsize=(5,7))
data = data.sort_values(by=x, ascending=True)
b = sns.boxenplot(data=data, x=x, y=y, ax=ax, showfliers=False)
b.set_ylim(0,400)

ax.spines['right'].set_linewidth(0)
ax.spines['top'].set_linewidth(0)

medians = data[[x, y]].groupby([x])[y].median().sort_index(ascending=True)
vertical_offset = data[y].median() * 0.05 # offset from median for display


for j, xtick in enumerate(b.get_xticks()):
    if j <0:
        color='grey'
    else:
        color='w'
    b.text(xtick,medians[xtick] + vertical_offset,medians[xtick], 
            horizontalalignment='center',size='medium',color=color,weight='semibold')
    
add_stat_annotation(b, data=data, x=x, y=y, order= x_order,
                    box_pairs=[tuple(x_order)],
                    test='Mann-Whitney', text_format='star', loc='outside', verbose=2)
# data.pivot(columns='Gene_type', values='snpId').describe().style.highlight_max(color='#F39B7FFF', axis=1)


biomart_gb_gene = pd.read_csv('/gstock/EXOTIC/data/OTHERS/biomart_mi_si.csv.gz', compression='gzip', sep='\t')
biomart_gb_gene


biomart_si_genes = biomart_gb_gene.loc[biomart_gb_gene['Gene_type'] == 'Single Isoform', 'Gene stable ID'].unique().tolist()
si_sqtl_biomart = concat_df_sqtlseeker_dir_complete.loc[concat_df_sqtlseeker_dir_complete['gene_id'].isin(biomart_si_genes)]
print(si_sqtl_biomart.gene_id.nunique())
print(si_sqtl_biomart.snpId.nunique())


biomart_mi_genes = biomart_gb_gene.loc[biomart_gb_gene['Gene_type'] == 'Multi Isoform', 'Gene stable ID'].unique().tolist()
mi_sqtl_biomart = concat_df_sqtlseeker_dir_complete.loc[concat_df_sqtlseeker_dir_complete['gene_id'].isin(biomart_mi_genes)]
print(mi_sqtl_biomart.gene_id.nunique())
print(mi_sqtl_biomart.snpId.nunique())


tmp_l = list()
concat_df_sqtlseeker_dir_complete_tmp = pd.merge(concat_df_sqtlseeker_dir_complete, 
for elem in ['Single Isoform', 'Multi Isoform']:
    biomart_tmp = biomart_gb_gene.loc[biomart_gb_gene['Gene_type'] == elem, 'Gene stable ID'].unique().tolist()
    sqtl_tmp = concat_df_sqtlseeker_dir_complete.loc[concat_df_sqtlseeker_dir_complete['gene_id'].isin(biomart_tmp)]
    tmp_l.append({
        'Gene type' : elem,
        'Gene nb' : biomart_gb_gene.loc[biomart_gb_gene['Gene_type'] == elem, 'Gene stable ID'].nunique(),
        'sGenes' : sqtl_tmp.gene_id.nunique(),
        'Ratio sGenes/Total' : round(sqtl_tmp.gene_id.nunique() / biomart_gb_gene.loc[biomart_gb_gene['Gene_type'] == elem, 'Gene stable ID'].nunique(), 2),
        'sQTL' : sqtl_tmp.snpId.nunique(),
        'Ratio sQTL/sGenes' : round(sqtl_tmp.snpId.nunique() / sqtl_tmp.gene_id.nunique(), 2),
    })
    
    
pd.DataFrame(tmp_l).set_index('Gene type')


concat_df_sqtlseeker_dir_complete.loc[concat_df_sqtlseeker_dir_complete['gene_id'].isin(biomart_gb_gene.loc[biomart_gb_gene['Gene_type'] == elem, 'Gene stable ID'].unique().tolist())]


from matplotlib_venn import venn2
f = plt.figure(figsize=(15,15))
venn2([
    set(concat_df_sqtlseeker_dir_complete.loc[concat_df_sqtlseeker_dir_complete['gene_id'].isin(biomart_gb_gene.loc[biomart_gb_gene['Gene_type'] == 'Multi Isoform', 'Gene stable ID'].unique().tolist())]['snpId'].unique().tolist()),
    set(concat_df_sqtlseeker_dir_complete.loc[concat_df_sqtlseeker_dir_complete['gene_id'].isin(biomart_gb_gene.loc[biomart_gb_gene['Gene_type'] == 'Single Isoform', 'Gene stable ID'].unique().tolist())]['snpId'].unique().tolist()),
    
],
    ('Multi Isoform', 'Single Isoform'), set_colors=sns.color_palette()
    )


data = pd.merge(concat_df_sqtlseeker_dir_complete, biomart_gb_gene, left_on='gene_id', right_on='Gene stable ID')
data = data[['Gene_type', 'gene_id', 'snpId']].drop_duplicates().groupby(['Gene_type', 'gene_id']).count().reset_index()
data

groupby = ""
x = "Gene_type"
y = "snpId"
x_order = ['Multi Isoform', 'Single Isoform']

sns.set_context('paper', font_scale=1.5)
f, ax = plt.subplots(figsize=(5,7))
data = data.sort_values(by=x, ascending=True)
b = sns.boxenplot(data=data, x=x, y=y, ax=ax, showfliers=False)
b.set_ylim(0,400)

ax.spines['right'].set_linewidth(0)
ax.spines['top'].set_linewidth(0)

medians = data[[x, y]].groupby([x])[y].median().sort_index(ascending=True)
vertical_offset = data[y].median() * 0.05 # offset from median for display


for j, xtick in enumerate(b.get_xticks()):
    if j <0:
        color='grey'
    else:
        color='w'
    b.text(xtick,medians[xtick] + vertical_offset,medians[xtick], 
            horizontalalignment='center',size='medium',color=color,weight='semibold')
    
add_stat_annotation(b, data=data, x=x, y=y, order= x_order,
                    box_pairs=[tuple(x_order)],
                    test='Mann-Whitney', text_format='star', loc='outside', verbose=2)
# data.pivot(columns='Gene_type', values='snpId').describe().style.highlight_max(color='#F39B7FFF', axis=1)


refseq_corrected_by_gtex[['Gene', 'Gene_type']].drop_duplicates().to_csv('/gstock/EXOTIC/data/GENOMICS/single_multi_isoforms.csv', sep='\t', index=False)


refseq_corrected_by_gtex[['Gene', 'Gene_type']].drop_duplicates()['Gene_type'].value_counts()


refseq_corrected_by_gtex = pd.read_parquet('/gstock/EXOTIC/data/GENOMICS/RefSeq_corrected_by_GTEx_lite.parquet')
refseq_corrected_by_gtex.loc[refseq_corrected_by_gtex['new_mRNA_nb_total'] == 1, 'Gene_type'] = 'Single Isoform'
refseq_corrected_by_gtex.loc[refseq_corrected_by_gtex['new_mRNA_nb_total'] > 1, 'Gene_type'] = 'Multi Isoform'

biomart = pd.read_csv('/gstock/EXOTIC/data/OTHERS/biomart_refseq_ensembl_hgnc.txt.gz', compression='gzip', sep='\t')

merge_biomart = pd.merge(refseq_corrected_by_gtex[['Gene', 'Gene_type']].drop_duplicates(), biomart[['Gene stable ID', 'Gene name', 'Gene end (bp)', 'Gene start (bp)', 'Gene type']].drop_duplicates(), left_on='Gene', right_on='Gene name')

merge_biomart


merge_biomart[['Gene', 'Gene_type']].drop_duplicates()['Gene_type'].value_counts()


tmp_l = list()
for elem in ['Single Isoform', 'Multi Isoform']:
    biomart_tmp = merge_biomart.loc[merge_biomart['Gene_type'] == elem, 'Gene name'].unique().tolist()
    sqtl_tmp = concat_df_sqtlseeker_dir_all_genes_corrected.loc[concat_df_sqtlseeker_dir_all_genes_corrected['Gene name'].isin(biomart_tmp)]
    tmp_l.append({
        'Gene type' : elem,
        'Gene nb' : merge_biomart.loc[merge_biomart['Gene_type'] == elem, 'Gene name'].nunique(),
        'sGenes' : sqtl_tmp.gene_id.nunique(),
        'Ratio sGenes/Total' : round(sqtl_tmp.gene_id.nunique() / merge_biomart.loc[merge_biomart['Gene_type'] == elem, 'Gene name'].nunique(), 2),
        'sQTL' : sqtl_tmp.snpId.nunique(),
        'Ratio sQTL/sGenes' : round(sqtl_tmp.snpId.nunique() / sqtl_tmp.gene_id.nunique(), 2),
    })
    
    
pd.DataFrame(tmp_l).set_index('Gene type')


concat_df_sqtlseeker_dir_all_genes_corrected[['Gene name', 'Gene_type']].drop_duplicates()['Gene_type'].value_counts()


concat_df_sqtlseeker_dir_all_genes_corrected[['snpId', 'Gene_type']].drop_duplicates()['Gene_type'].value_counts()


merge_biomart.loc[(merge_biomart['Gene_type'] == 'Single Isoform'), 'Gene'].nunique()



si_genes_sqtl = concat_df_sqtlseeker_dir_all_genes_corrected.loc[concat_df_sqtlseeker_dir_all_genes_corrected['Gene_type'] == 'Single Isoform', 'Gene'].unique().tolist()
si_genes_not_sqtl = merge_biomart.loc[(merge_biomart['Gene_type'] == 'Single Isoform') & (~merge_biomart['Gene'].isin(si_genes_sqtl)), 'Gene'].unique().tolist()
print(len(si_genes_not_sqtl))



f = plt.figure(figsize=(15,15))

from matplotlib_venn import venn2
venn2([
    set(concat_df_sqtlseeker_dir_all_genes_corrected.loc[concat_df_sqtlseeker_dir_all_genes_corrected['Gene_type'] == 'Multi Isoform', 'snpId'].unique().tolist()),
    set(concat_df_sqtlseeker_dir_all_genes_corrected.loc[concat_df_sqtlseeker_dir_all_genes_corrected['Gene_type'] == 'Single Isoform', 'snpId'].unique().tolist()),
],
    ('Multi Isoform', 'Single Isoform'), set_colors=sns.color_palette()
    )


data = concat_df_sqtlseeker_dir_all_genes_corrected
data = data[['Gene_type', 'Gene name', 'snpId']].drop_duplicates().groupby(['Gene_type', 'Gene name']).count().reset_index()
data

groupby = ""
x = "Gene_type"
y = "snpId"
x_order = ['Single Isoform', 'Multi Isoform']

sns.set_context('paper', font_scale=1.5)
f, ax = plt.subplots(figsize=(5,7))
data = data.sort_values(by=x, ascending=True)
b = sns.boxenplot(data=data, x=x, y=y, ax=ax, showfliers=False)
# b.set_ylim(0,500000)

ax.spines['right'].set_linewidth(0)
ax.spines['top'].set_linewidth(0)

medians = data[[x, y]].groupby([x])[y].median().sort_index(ascending=True)
vertical_offset = data[y].median() * 0.05 # offset from median for display


for j, xtick in enumerate(b.get_xticks()):
    if j <0:
        color='grey'
    else:
        color='w'
    b.text(xtick,medians[xtick] + vertical_offset,medians[xtick], 
            horizontalalignment='center',size='medium',color=color,weight='semibold')
    
add_stat_annotation(b, data=data, x=x, y=y, order= x_order,
                    box_pairs=[tuple(x_order)],
                    test='Mann-Whitney', text_format='star', loc='outside', verbose=2)
# data.pivot(columns='Gene_type', values='snpId').describe().style.highlight_max(color='#F39B7FFF', axis=1)


concat_df_sqtlseeker_dir_all_genes_corrected[['snpId']].nunique()


t = concat_df_sqtlseeker_dir_all_genes_corrected[['snpId', 'Gene_type', 'Tissue']].drop_duplicates()[['Gene_type', 'snpId']].value_counts().reset_index()
t


t = concat_df_sqtlseeker_dir_all_genes_corrected[['snpId', 'Gene_type', 'Tissue']].drop_duplicates()[['Gene_type', 'snpId']].value_counts().reset_index()

data = t

groupby = ""
x = "Gene_type"
y = 0
x_order = ['Single Isoform', 'Multi Isoform']

sns.set_context('paper', font_scale=1.5)
f, ax = plt.subplots(figsize=(5,7))
data = data.sort_values(by=x, ascending=False)
b = sns.boxenplot(data=data, x=x, y=y, ax=ax, showfliers=False)
# b.set_ylim(0,500000)

b.set_xlabel('')
b.set_ylabel('Distribution nb tissues / sQTL')

ax.spines['right'].set_linewidth(0)
ax.spines['top'].set_linewidth(0)

medians = data[[x, y]].groupby([x])[y].median().sort_index(ascending=False)
vertical_offset = data[y].median() * 0.05 # offset from median for display


for j, xtick in enumerate(b.get_xticks()):
    if j <0:
        color='grey'
    else:
        color='w'
    b.text(xtick,medians[xtick] + vertical_offset,medians[xtick], 
            horizontalalignment='center',size='medium',color=color,weight='semibold')
    
add_stat_annotation(b, data=data, x=x, y=y, order= x_order,
                    box_pairs=[tuple(x_order)],
                    test='Mann-Whitney', text_format='star', loc='outside', verbose=2)
data.pivot(columns=x, values=y).describe().style.highlight_max(color='#F39B7FFF', axis=1)


t = concat_df_sqtlseeker_dir_all_genes_corrected[['snpId', 'Gene_type', 'Tissue']].drop_duplicates()[['Gene_type', 'Tissue']].value_counts().reset_index()

f, ax = plt.subplots(figsize=(15,10))
s = sns.barplot(data=t, x='Tissue', y=0, hue='Gene_type')
s.set_xticklabels(s.get_xticklabels(), rotation=90)


exotic_biomart = pd.read_parquet('/gstock/EXOTIC/data/EXOTIC/EXOTIC_corrected_biomart_for_QTL_corrected.parquet')
exotic_biomart['OK_join'] = exotic_biomart['OK'].apply(lambda r : ','.join(r))
exotic_biomart.symbol.nunique()


exotic_biomart[['symbol', 'Gene_ID', 'HGNC_ID', 'Exon', 'Ratio_num', 'mRNA_nb', 'OK_bronze',
       'OK_silver', 'OK_gold', 'OK', 'Exon_start_GRCh37',
       'Exon_end_GRCh37', 'CHROM', 'Gene_start_GRCh38',
       'Gene_end_GRCh38',  'Gene_start_GRCh37',
       'Gene_end_GRCh37']].to_excel('/gstock/EXOTIC/data/EXOTIC/EXOTIC_above_thresholds.xlsx', index=False)


sqtlseeker_dir = '/gstock/biolo_datasets/QTL/sqlseeker-2/sQTLs.GTEx.V8.RSEM/'
sqtlseeker_listdir = sorted([d for d in os.listdir(sqtlseeker_dir) if 'parquet' not in d])

def mp_sqtl(tissue, l_df):
    sqtlseeker_tmp = pd.read_csv(sqtlseeker_dir + tissue + '/sqtls-0.05fdr.permuted.tsv.gz', compression='gzip', sep='\t')
    sqtlseeker_tmp['Tissue'] = tissue
    sqtlseeker_tmp['gene_id'] = sqtlseeker_tmp['geneId'].apply(lambda r: r.split('.')[0])
#     merge = pd.merge(merge_biomart, sqtlseeker_tmp, right_on='gene_id', left_on='Gene stable ID')
    l_df.append(sqtlseeker_tmp)


m = multiprocessing.Manager()
l_df = m.list()
# for tissue in sqtlseeker_listdir:
parmap.starmap(mp_sqtl, list(zip(sqtlseeker_listdir)), l_df, pm_pbar=True)

concat_df_sqtlseeker_dir_complete = pd.concat(list(l_df)).sort_values(by=['gene_id'])
concat_df_sqtlseeker_dir_complete


concat_df_sqtlseeker_dir_complete.snpId.nunique()


sqtlseeker_dir = '/gstock/biolo_datasets/QTL/sqlseeker-2/sQTLs.GTEx.V8.RSEM/'
sqtlseeker_listdir = sorted([d for d in os.listdir(sqtlseeker_dir) if 'parquet' not in d])

def mp_sqtl(tissue, l_df):
    sqtlseeker_tmp = pd.read_csv(sqtlseeker_dir + tissue + '/sqtls-0.05fdr.permuted.tsv.gz', compression='gzip', sep='\t')
    sqtlseeker_tmp['Tissue'] = tissue
    sqtlseeker_tmp['gene_id'] = sqtlseeker_tmp['geneId'].apply(lambda r: r.split('.')[0])
    merge = pd.merge(merge_biomart, sqtlseeker_tmp, right_on='gene_id', left_on='Gene stable ID')
    l_df.append(merge)


m = multiprocessing.Manager()
l_df = m.list()
# for tissue in sqtlseeker_listdir:
parmap.starmap(mp_sqtl, list(zip(sqtlseeker_listdir)), l_df, pm_pbar=True)

concat_df_sqtlseeker_dir_all_genes_corrected = pd.concat(list(l_df)).sort_values(by=['gene_id'])
concat_df_sqtlseeker_dir_all_genes_corrected


sqtlseeker_dir = '/gstock/biolo_datasets/QTL/sqlseeker-2/sQTLs.GTEx.V8.RSEM/'
sqtlseeker_listdir = sorted([d for d in os.listdir(sqtlseeker_dir) if 'parquet' not in d])

def mp_sqtl(tissue, l_df):
    sqtlseeker_tmp = pd.read_csv(sqtlseeker_dir + tissue + '/sqtls-0.05fdr.permuted.tsv.gz', compression='gzip', sep='\t')
    sqtlseeker_tmp['Tissue'] = tissue
    sqtlseeker_tmp['gene_id'] = sqtlseeker_tmp['geneId'].apply(lambda r: r.split('.')[0])
    merge = pd.merge(exotic_biomart, sqtlseeker_tmp, right_on='gene_id', left_on='Gene_ID')
    l_df.append(merge)


m = multiprocessing.Manager()
l_df = m.list()
# for tissue in sqtlseeker_listdir:
parmap.starmap(mp_sqtl, list(zip(sqtlseeker_listdir)), l_df, pm_pbar=True)

concat_df_sqtlseeker_dir_total = pd.concat(list(l_df)).sort_values(by=['gene_id', 'MAP']).drop_duplicates(subset=['gene_id', 'MAP', 'Tissue', 'snpId'])
concat_df_sqtlseeker_dir_total


sqtlseeker_dir = '/gstock/biolo_datasets/QTL/sqlseeker-2/sQTLs.GTEx.V8.RSEM/'
sqtlseeker_listdir = sorted([d for d in os.listdir(sqtlseeker_dir) if 'parquet' not in d])

def mp_sqtl(tissue, l_df):
    sqtlseeker_tmp = pd.read_csv(sqtlseeker_dir + tissue + '/sqtls-0.05fdr.permuted.tsv.gz', compression='gzip', sep='\t')
    sqtlseeker_tmp['Tissue'] = tissue
    sqtlseeker_tmp['gene_id'] = sqtlseeker_tmp['geneId'].apply(lambda r: r.split('.')[0])
    merge = pd.merge(exotic_biomart.loc[exotic_biomart['OK_join'].str.contains(tissue)], sqtlseeker_tmp, right_on='gene_id', left_on='Gene_ID')
    l_df.append(merge)


m = multiprocessing.Manager()
l_df = m.list()

parmap.starmap(mp_sqtl, list(zip(sqtlseeker_listdir)), l_df, pm_pbar=True)

concat_df_sqtlseeker_dir = pd.concat(l_df).sort_values(by=['gene_id', 'MAP']).drop_duplicates(subset=['gene_id', 'MAP', 'Tissue', 'snpId'])
concat_df_sqtlseeker_dir


concat_df_sqtlseeker_dir.gene_id.nunique()


concat_df_sqtlseeker_dir_all_genes_corrected


cols = ['gene_id', 'snpId']
concat_excel_stats_all_genes_corrected = concat_df_sqtlseeker_dir_all_genes_corrected.loc[concat_df_sqtlseeker_dir_all_genes_corrected['gene_id'].isin(concat_df_sqtlseeker_dir_all_genes_corrected.gene_id.unique())]
concat_excel_stats_all_genes_corrected = pd.concat([concat_excel_stats_all_genes_corrected[['Tissue', col]].drop_duplicates()['Tissue'].value_counts() for col in cols], axis=1).sort_index()
concat_excel_stats_all_genes_corrected.columns = ['All EXsGenes', 'All sQTL']
# concat_excel_stats = pd.merge(concat_excel_stats, gtex_colors['Color'], left_index=True, right_index=True)
# concat_excel_stats['color'] = u"\u2B1B"
concat_excel_stats_all_genes_corrected = concat_excel_stats_all_genes_corrected[['All EXsGenes', 'All sQTL']]
concat_excel_stats_all_genes_corrected.loc['Total'] = [concat_df_sqtlseeker_dir_all_genes_corrected[col].nunique() for col in cols]
concat_excel_stats_all_genes_corrected.loc['Average'] = concat_excel_stats_all_genes_corrected.mean()
concat_excel_stats_all_genes_corrected = concat_excel_stats_all_genes_corrected.round(0).astype(int)
concat_excel_stats_all_genes_corrected



cols = ['gene_id', 'MAP', 'snpId']
# concat_df_sqtlseeker_dir_total_filtered = concat_df_sqtlseeker_dir_total.loc[concat_df_sqtlseeker_dir_total['gene_id'].isin(concat_df_sqtlseeker_dir.gene_id.unique())]
concat_excel_stats_total = pd.concat([concat_df_sqtlseeker_dir_total[['Tissue', col]].drop_duplicates()['Tissue'].value_counts() for col in cols], axis=1).sort_index()
concat_excel_stats_total.columns = ['Total EXsGenes', 'Total EXExons', 'Total sQTL']
# concat_excel_stats = pd.merge(concat_excel_stats, gtex_colors['Color'], left_index=True, right_index=True)
# concat_excel_stats['color'] = u"\u2B1B"
concat_excel_stats_total = concat_excel_stats_total[['Total EXsGenes', 'Total EXExons', 'Total sQTL']]
concat_excel_stats_total.loc['Total'] = [concat_df_sqtlseeker_dir_total[col].nunique() for col in cols]
concat_excel_stats_total.loc['Average'] = concat_excel_stats_total.mean()
concat_excel_stats_total = concat_excel_stats_total.round(0).astype(int)
concat_excel_stats_total



cols = ['gene_id', 'MAP', 'snpId']
concat_df_sqtlseeker_dir_total_filtered = concat_df_sqtlseeker_dir_total.loc[concat_df_sqtlseeker_dir_total['gene_id'].isin(concat_df_sqtlseeker_dir.gene_id.unique())]
concat_excel_stats_total = pd.concat([concat_df_sqtlseeker_dir_total_filtered[['Tissue', col]].drop_duplicates()['Tissue'].value_counts() for col in cols], axis=1).sort_index()
concat_excel_stats_total.columns = ['Total EXsGenes', 'Total EXExons', 'Total sQTL']
# concat_excel_stats = pd.merge(concat_excel_stats, gtex_colors['Color'], left_index=True, right_index=True)
# concat_excel_stats['color'] = u"\u2B1B"
concat_excel_stats_total = concat_excel_stats_total[['Total EXsGenes', 'Total EXExons', 'Total sQTL']]
concat_excel_stats_total.loc['Total'] = [concat_df_sqtlseeker_dir_total_filtered[col].nunique() for col in cols]
concat_excel_stats_total.loc['Average'] = concat_excel_stats_total.mean()
concat_excel_stats_total = concat_excel_stats_total.round(0).astype(int)
concat_excel_stats_total



cols = ['gene_id', 'MAP', 'snpId']
concat_excel_stats = pd.concat([concat_df_sqtlseeker_dir[['Tissue', col]].drop_duplicates()['Tissue'].value_counts() for col in cols], axis=1).sort_index()
concat_excel_stats.columns = ['EXsGenes', 'EXExons', 'sQTL']
# concat_excel_stats = pd.merge(concat_excel_stats, gtex_colors['Color'], left_index=True, right_index=True)
# concat_excel_stats['color'] = u"\u2B1B"
concat_excel_stats = concat_excel_stats[['EXsGenes', 'EXExons', 'sQTL']]
concat_excel_stats.loc['Total'] = [concat_df_sqtlseeker_dir[col].nunique() for col in cols]
concat_excel_stats.loc['Average'] = concat_excel_stats.mean()
concat_excel_stats = concat_excel_stats.round(0).astype(int)
concat_excel_stats



concat_df = pd.concat([concat_excel_stats_total, concat_excel_stats], axis=1).fillna(0).astype(int)
concat_df['Ratio sQTL'] = concat_df['sQTL'] / concat_df['Total sQTL'] 
concat_df['Ratio sQTL/sGenes Total'] = concat_df['Total sQTL'] / concat_df['Total EXsGenes'] 
concat_df['Ratio sQTL/sGenes EXOTIC'] = concat_df['sQTL'] / concat_df['EXsGenes'] 
concat_df = concat_df.fillna(0)
concat_df


concat_df_sqtlseeker_dir[['Tissue', 'MAP']].drop_duplicates()['Tissue'].value_counts()


concat_df_sqtlseeker_dir[['Tissue', 'snpId']].drop_duplicates()['Tissue'].value_counts()


list(concat_df_sqtlseeker_dir.columns)


concat_df_sqtlseeker_dir[['snpId', 'Tissue']].drop_duplicates()


concat_df_sqtlseeker_dir.MAP.nunique()


from liftover import ChainFile
converter = ChainFile("/gstock/biolo_datasets/variation/benchmark/Databases/CrossMap/GRCh38_to_GRCh37.chain.gz", "GRCh38", "GRCh37")

def apply_liftover(r, name):
    # print(r)
    try:
        output = converter[r["CHROM_GRCh38"]][int(r[name])]
        # print(output)
        converted_pos = output[0][1]
    except KeyError:
        converted_pos = np.nan
    except IndexError:
        converted_pos = np.nan
    return converted_pos


tqdm.pandas()
concat_df_sqtlseeker_dir['snpId'] = concat_df_sqtlseeker_dir['snpId'].str.replace('_b38', '')
concat_df_sqtlseeker_dir[['CHROM_GRCh38', 'POS_GRCh38', 'REF', 'ALT']] = concat_df_sqtlseeker_dir['snpId'].str.split('_', expand=True)
concat_df_sqtlseeker_dir['-logpv'] = concat_df_sqtlseeker_dir['pv'].apply(lambda r: -np.log10(r))
# concat_df_sqtlseeker_dir['POS_GRCh37'] = concat_df_sqtlseeker_dir[['CHROM_GRCh38', 'POS_GRCh38']].progress_apply(lambda r: apply_liftover(r, 'POS_GRCh38'), axis=1)
concat_df_sqtlseeker_dir


import seaborn as sns
sns.set_theme(style="white")

kdeplot = sns.JointGrid(data=concat_df_sqtlseeker_dir.loc[concat_df_sqtlseeker_dir['Tissue'] == 'Testis'], x="md", y="-logpv", space=0)
kdeplot.plot_joint(sns.kdeplot,
             fill=True, 
#              clip=((2200, 6800), (10, 25)),
             thresh=0, levels=100, cmap="rocket_r",
            cbar=True)
# kdeplot.ax_marg_x.set_xlim(0,1)
plt.subplots_adjust(left=0.1, right=0.8, top=0.9, bottom=0.1)

kdeplot.plot_marginals(sns.histplot, color="#AAAAAA", alpha=1, bins=25)
pos_joint_ax = kdeplot.ax_joint.get_position()
pos_marg_x_ax = kdeplot.ax_marg_x.get_position()
kdeplot.ax_joint.set_position([pos_joint_ax.x0, pos_joint_ax.y0, pos_marg_x_ax.width, pos_joint_ax.height])
kdeplot.fig.axes[-1].set_position([.83, 0.25, .15, 0.25])




kdeplot = sns.JointGrid(data=concat_df_sqtlseeker_dir.loc[concat_df_sqtlseeker_dir['Tissue'] == 'Brain - Cerebellum'], x="md", y="-logpv", space=0)
kdeplot.plot_joint(sns.kdeplot,
             fill=True, 
#              clip=((2200, 6800), (10, 25)),
             thresh=0, levels=100, cmap="rocket_r",
            cbar=True)
plt.subplots_adjust(left=0.1, right=0.8, top=0.9, bottom=0.1)
# kdeplot.ax_marg_x.set_xlim(0,1)
kdeplot.plot_marginals(sns.histplot, color="#EEEE00", alpha=1, bins=25)
pos_joint_ax = kdeplot.ax_joint.get_position()
pos_marg_x_ax = kdeplot.ax_marg_x.get_position()
kdeplot.ax_joint.set_position([pos_joint_ax.x0, pos_joint_ax.y0, pos_marg_x_ax.width, pos_joint_ax.height])
kdeplot.fig.axes[-1].set_position([.83, 0.25, .15, 0.25])




gwas_associations = pd.read_csv('/gstock/biolo_datasets/GWAS/GWAS_catalog_FTP/Latest/gwas-catalog-associations_ontology-annotated.tsv', sep='\t')
gwas_efo = pd.read_csv('/gstock/biolo_datasets/GWAS/GWAS_catalog_FTP/Latest/gwas-efo-trait-mappings.tsv', sep="\t", low_memory=False)
gwas_efo_lite = gwas_efo[["EFO term", "EFO URI", "Parent term", "Parent URI"]].drop_duplicates()
gwas_return = pd.merge(
            gwas_associations,
            gwas_efo_lite,
            left_on="MAPPED_TRAIT_URI",
            right_on="EFO URI",
        )

gwas_return = gwas_return.dropna(subset=["CHR_POS"])
gwas_return = gwas_return.loc[~gwas_return["CHR_POS"].isin(["nan", "NaN", ""])]
# gwas_return = gwas_return.loc[gwas_return['']]
head(gwas_return)


merge_gwas_qtl = pd.merge(gwas_return, concat_df_sqtlseeker_dir, left_on=['CHR_ID', 'CHR_POS'], right_on=['CHROM', 'POS_GRCh38'])
merge_gwas_qtl[['Tissue', 'DISEASE/TRAIT', 'Parent term']].drop_duplicates().sort_values(by='Tissue')


# list(merge_gwas_qtl.columns)


print(merge_gwas_qtl.MAP.nunique())
print(merge_gwas_qtl.gene_id.nunique())
print(merge_gwas_qtl.snpId.nunique())


merge_gwas_qtl['P-VALUE'] = merge_gwas_qtl['P-VALUE'].astype(float)
merge_gwas_qtl[['Tissue', 'DISEASE/TRAIT', 'Parent term', 'symbol', 'MAP', 'snpId', 'pv', 'md', 'P-VALUE']].drop_duplicates(subset=["Tissue", "DISEASE/TRAIT", "Parent term", "symbol", "MAP", "snpId", ]).sort_values(by='Tissue').to_excel('/gstock/EXOTIC/data/GWAS/EXOTIC_GWAS_sqtlseeker.xlsx', index=False)


merge_gwas_qtl.to_excel('/gstock/EXOTIC/data/GWAS/EXOTIC_GWAS_sqtlseeker.xlsx', index=False)


merge_gwas_qtl[['CHR_ID', 'CHR_POS']].drop_duplicates()


# list(merge_gwas_qtl.columns)


import gzip, subprocess
vcfheader = "##fileformat=VCFv4.1\n##fileDate=20090805\n##source=myImputationProgramV3.1\n##reference=file:///seq/references/\n#CHROM\tPOS\tID\tREF\tALT\tQUAL\tFILTER\tINFO\n"
with open('/gstock/EXOTIC/data/VARIATIONS/sqtlseeker2_exotic_mapping.vcf', 'w') as output_file:
    output_file.write(vcfheader)

concat_df_sqtlseeker_dir['ID'] = '.'
concat_df_sqtlseeker_dir['POS_GRCh38'] = concat_df_sqtlseeker_dir['POS_GRCh38'].astype(int)
concat_df_sqtlseeker_dir[['CHROM', 'POS_GRCh38', 'ID', 'REF', 'ALT', 'ID', 'ID', 'ID']].sort_values(by=['CHROM', 'POS_GRCh38']).drop_duplicates().to_csv('/gstock/EXOTIC/data/VARIATIONS/sqtlseeker2_exotic_mapping.vcf', mode='a', sep='\t', header=False, index=False)
subprocess.run(['rm', '/gstock/EXOTIC/data/VARIATIONS/sqtlseeker2_exotic_mapping.vcf.gz'])
subprocess.run(['bgzip', '/gstock/EXOTIC/data/VARIATIONS/sqtlseeker2_exotic_mapping.vcf'])
subprocess.run(['tabix', '-p', 'vcf', '/gstock/EXOTIC/data/VARIATIONS/sqtlseeker2_exotic_mapping.vcf.gz'])
subprocess.run(['/biolo/ngs/ensembl-vep-38/vep', '-i', '/gstock/EXOTIC/data/VARIATIONS/sqtlseeker2_exotic_mapping.vcf.gz', '-o', '/gstock/EXOTIC/data/VARIATIONS/sqtlseeker2_exotic_mapping_vep.vcf.gz', 
               '--custom', '/data/scratch/gnomAD/v2_liftover/gnomad.genomes.r2.1.1.sites.liftover_grch38.vcf.bgz,gnomAD,vcf,exact,0,AF'])

# concat_df_sqtlseeker_dir[['CHROM', 'POS_GRCh38', 'ID', 'REF', 'ALT', 'ID', 'ID', 'ID']]
# check_df_ok


vep_csq = pd.read_excel('/gstock/EXOTIC/data/OTHERS/vep_csq.xlsx').set_index('SO_term')
vep_csq


sgenes = sorted(concat_df_sqtlseeker_dir.gene_id.unique().tolist())
sgenes[:10]


from cyvcf2 import VCF

def prepare_header(vcf, vep_field, vep_separator):

    index_dict = dict()
    if vep_field:
        for h in vcf.header_iter():
            try:
                if h.info()['ID'] == vep_field:
                    csq_header = h.info()['Description'].split(vep_separator)
                    for elem in csq_header:
                        index_dict[elem] = csq_header.index(elem)
            except:
                pass
    return index_dict



sqtlseeker_exotic = "/gstock/EXOTIC/data/VARIATIONS/sqtlseeker2_exotic_vep.vcf.gz"
vcf = VCF(sqtlseeker_exotic)
index_dict = prepare_header(vcf, "CSQ", '|')
pprint(index_dict)
l = list()
for j, record in tqdm(enumerate(vcf)):
    csq = str(record.INFO.get('CSQ')).split(',')
    previous_id = 0
    d = {}
    for case in csq:
        check = False
#         print(case)
        case = case.split('|')
        case[index_dict['Consequence']] = case[index_dict['Consequence']].split('&')[0] if '&' in case[index_dict['Consequence']] else case[index_dict['Consequence']]
        tmp_id = vep_csq.loc[case[index_dict['Consequence']]]['ID']
        if case[index_dict['Gene']] in sgenes:
            if previous_id > 0:
                if tmp_id < previous_id:
                    check = True
            elif previous_id == 0:
                check = True

            previous_id = tmp_id
        
        if check is True:
            d = {
                'Gene_id' : case[index_dict['Gene']],
                'Transcript_id' : case[index_dict['Feature']],
                'CHROM' : record.CHROM,
                'POS' : record.POS,
                'REF' : record.REF,
                'ALT' : record.ALT[0],
                'variant_id' : str(record.CHROM) + '_' + str(record.POS) + '_' + str(record.REF) + '_' + str(record.ALT[0]),
                'CSQ' : case[index_dict['Consequence']],
                'CSQ_ID' : vep_csq.loc[case[index_dict['Consequence']]]['ID'],
                'Exon' : True if case[index_dict['EXON']] else False,
                'Intron' : True if case[index_dict['INTRON']] else False,
                'Upstream' : True if 'upstream' in case[index_dict['Consequence']]  else False,
                'Downstream' : True if 'downstream' in case[index_dict['Consequence']]  else False,
                '5UTR' : True if '5_prime_UTR' in case[index_dict['Consequence']]  else False,
                '3UTR' : True if '3_prime_UTR' in case[index_dict['Consequence']]  else False,
                'Distance' : case[index_dict['DISTANCE']],
                'MAF' : case[-1],
#                 'CADD_PHRED' : case[index_dict['CADD_PHRED']],
            }
    l.append(d)
    if j == 100:
        break

sqtl_convert = pd.DataFrame(l)
sqtl_convert


len(sgenes)


exotic_biomart.Gene_ID


exotic_genes_not_sqtl = list(set(exotic_biomart.Gene_ID.unique().tolist()).difference(set(sgenes)))
exotic_biomart.loc[exotic_biomart['Gene_ID'].isin(exotic_genes_not_sqtl)]



sqtl_convert.sort_values(by=['Gene_id', 'CSQ_ID'], ascending=[True, True]).groupby('Gene_id').head(10)['CSQ'].value_counts()


sqtl_convert.CSQ.value_counts()
