get_ipython().run_line_magic("config", " Completer.use_jedi = False")


import math
import os
import sys
import pandas as pd
sys.path.append("/home/weber/PycharmProjects/EXOTIC/src")
from statannot import add_stat_annotation

pd.options.mode.chained_assignment = None  # default='warn'
import multiprocessing
import parmap
import numpy as np
import collections
from tqdm import tqdm
import pandarallel
from pandarallel import pandarallel

pandarallel.initialize(nb_workers=20, progress_bar=True)
# tqdm.pandas()
from pprint import pprint
from scipy.stats import zscore
from scipy import stats

import requests
import re
import seaborn as sns
import matplotlib.pyplot as plt
import matplotlib
import matplotlib.colors as mc
from matplotlib.colors import LogNorm
import json
import matplotlib.ticker as mtick
from utils.utils import load_config_file

## YAML FILES CONFIG
yaml = load_config_file(config_file="/home/weber/PycharmProjects/EXOTIC/src/config.yaml")
exotic_files = yaml

import matplotlib.font_manager as font_manager

font_dirs = ['/home/weber/Fonts', ]
font_files = font_manager.findSystemFonts(fontpaths=font_dirs)
font_list = font_manager.createFontList(font_files)
font_manager.fontManager.ttflist.extend(font_list)

from matplotlib import rcParams
rcParams['font.family'] = 'sans-serif'
rcParams['font.sans-serif'] = ['Arial']
rcParams['font.weight'] = 'light'


biomart_path = "/gstock/EXOTIC/data/OTHERS/biomart_all.txt.gz"
biomart = pd.read_csv(biomart_path, compression='gzip', sep='\t', low_memory=False)
biomart = biomart.loc[(biomart['Gene type'] == 'protein_coding') & (biomart['Transcript type'] == 'protein_coding')]
biomart.columns


biomart.head()


biomart_gb_gene.to_csv('/gstock/EXOTIC/data/OTHERS/biomart_mi_si.csv.gz', compression='gzip', sep='\t', index=False)


biomart_gb_gene = biomart.groupby(['Gene stable ID'])['Transcript stable ID'].nunique().reset_index()
biomart_gb_gene.loc[biomart_gb_gene['Transcript stable ID'] == 1, 'Gene_type'] = 'Single Isoform'
biomart_gb_gene.loc[biomart_gb_gene['Transcript stable ID'] > 1, 'Gene_type'] = 'Multi Isoform'
biomart_gb_gene.columns = ['Gene stable ID', 'Transcript_count', 'Gene_type']
biomart_gb_gene['Gene_type'].value_counts()


biomart_gb_transcript = biomart.groupby(['Gene stable ID', 'Transcript stable ID'])['Exon stable ID'].nunique().reset_index()
biomart_gb_transcript.head()


merge = pd.merge(
    pd.merge(biomart_gb_gene, biomart_gb_transcript, on='Gene stable ID'),
    biomart[['Gene stable ID', 'Transcript stable ID', 'Gene start (bp)', 'Gene end (bp)', 'Transcript start (bp)',
       'Transcript end (bp)', 'Transcript length (including UTRs and CDS)', 'Gene % GC content']].drop_duplicates(),
    left_on=['Gene stable ID', 'Transcript stable ID'],
    right_on=['Gene stable ID', 'Transcript stable ID']
)
merge.head()


refseq_corrected_by_gtex = pd.read_parquet('/gstock/EXOTIC/data/GENOMICS/RefSeq_corrected_by_GTEx_lite.parquet')
refseq_corrected_by_gtex.loc[refseq_corrected_by_gtex['new_mRNA_nb_total'] == 1, 'Gene_type'] = 'Single Isoform'
refseq_corrected_by_gtex.loc[refseq_corrected_by_gtex['new_mRNA_nb_total'] > 1, 'Gene_type'] = 'Multi Isoform'
refseq_corrected_by_gtex['Length'] = refseq_corrected_by_gtex['End'] - refseq_corrected_by_gtex['Start']
refseq_corrected_by_gtex.head()


print(refseq_corrected_by_gtex.Gene.nunique())
single_isoforms = refseq_corrected_by_gtex.loc[refseq_corrected_by_gtex['new_mRNA_nb_total'] == 1]
print(single_isoforms.Gene.nunique())
multi_isoforms = refseq_corrected_by_gtex.loc[refseq_corrected_by_gtex['new_mRNA_nb_total'] > 1]
print(multi_isoforms.Gene.nunique())





sns.set_context('paper', font_scale=1.5)
f, ax = plt.subplots()
data = refseq_corrected_by_gtex[['Gene_type', 'Gene', 'new_CDS_count']].drop_duplicates().sort_values(by='Gene_type', ascending=True)
b = sns.boxenplot(data=data, x="Gene_type", y='new_CDS_count', ax=ax, showfliers=False)
b.set_ylim(0,80)

ax.spines['right'].set_linewidth(0)
ax.spines['top'].set_linewidth(0)

medians = data[['Gene_type', 'Gene', 'new_CDS_count']].drop_duplicates().groupby(['Gene_type'])['new_CDS_count'].median().sort_index(ascending=True)
vertical_offset = data['new_CDS_count'].median() * 0.05 # offset from median for display

plt.ylabel('Exon count')
plt.xlabel('')

for j, xtick in enumerate(b.get_xticks()):
    if j <0:
        color='grey'
    else:
        color='w'
    b.text(xtick,medians[xtick] + vertical_offset,medians[xtick], 
            horizontalalignment='center',size='x-small',color=color,weight='semibold')
    
add_stat_annotation(b, data=data, x='Gene_type', y="new_CDS_count", order= ['Single Isoform', 'Multi Isoform'],
                    box_pairs=[('Single Isoform', 'Multi Isoform')],
                    test='Mann-Whitney', text_format='star', loc='outside', verbose=2)

output_data = data[['Gene_type', 'Gene', 'new_CDS_count']].drop_duplicates().pivot(columns='Gene_type', values='new_CDS_count').describe().round(2)
output_data.round(2).style.highlight_max(color='#F39B7FFF', axis=1)


refseq_corrected_by_gtex


sns.set_context('paper', font_scale=1.5)
f, ax = plt.subplots()
data = refseq_corrected_by_gtex.sort_values(by='Gene_type', ascending=True)
b = sns.boxenplot(data=data, x="Gene_type", y='Length', ax=ax, showfliers=False)
b.set_ylim(0,1000)

ax.spines['right'].set_linewidth(0)
ax.spines['top'].set_linewidth(0)

medians = refseq_corrected_by_gtex[['Gene_type', 'Length']].groupby(['Gene_type'])['Length'].median().sort_index(ascending=True)
vertical_offset = refseq_corrected_by_gtex['Length'].median() * 0.05 # offset from median for display


plt.ylabel('Exon length')
plt.xlabel('')

for j, xtick in enumerate(b.get_xticks()):
    if j <0:
        color='grey'
    else:
        color='w'
    b.text(xtick,medians[xtick] + vertical_offset,medians[xtick], 
            horizontalalignment='center',size='x-small',color=color,weight='semibold')
    
add_stat_annotation(b, data=refseq_corrected_by_gtex, x='Gene_type', y="Length", order= ['Single Isoform', 'Multi Isoform'],
                    box_pairs=[('Single Isoform', 'Multi Isoform')],
                    test='Mann-Whitney', text_format='star', loc='outside', verbose=2)
data[['Gene_type', 'ranges', 'Length']].drop_duplicates().pivot(columns='Gene_type', values='Length').describe()


data = merge.sort_values(by='Gene_type', ascending=True)
data['Gene_length'] = data['Gene end (bp)'] - data['Gene start (bp)']
data['Transcript_length'] = data['Transcript end (bp)'] - data['Transcript start (bp)']
data.rename({
    'Gene_length' : 'Gene length',
    'Transcript_length' : 'Transcript length (with introns)',
    'Exon stable ID' : 'Exon count'
}, axis=1, inplace=True)
print(data.columns)
sns.set_context('paper', font_scale=1.5)


x_s = 'Gene_type'
y_s = ['Gene length', 'Gene % GC content', 'Transcript length (with introns)', 'Transcript length (including UTRs and CDS)',  'Exon count']

# if len(x_s) > 3:
    

f, ax = plt.subplots(ncols=len(y_s), figsize=(5*len(y_s), 7))


for i, y in zip(range(len(y_s)), y_s):

    b = sns.boxenplot(data=data, x=x, y=y, ax=ax[i], showfliers=False)
    ymin = 0
    ymax = data[y].quantile(0.98)
    if 'GC'  in y:
        ymin = data[y].min()
        ymax = data[y].max()
    ax[i].set_ylim(ymin,ymax)

    ax[i].spines['right'].set_linewidth(0)
    ax[i].spines['top'].set_linewidth(0)

    medians = data[[x, y]].groupby([x])[y].median().sort_index(ascending=True)
    vertical_offset = data[y].median() * 0.05 # offset from median for display
    
    if 'GC' in y:
        ratio = "+{}%".format(round(max(medians) - min(medians), 0))

    elif medians[0] > 15:
        ratio = "+{}%".format(round(100 * round((max(medians) - min(medians)) / min(medians), 2), 0))
        
    else:
        ratio = "+{}".format(round(max(medians) - min(medians), 0))

    if 'GC' in y:
        b.text(0.5, 70, ratio, horizontalalignment='center',size='medium')
    elif 'GC' not in y:
        b.text(0.5, ymax/2, ratio, horizontalalignment='center',size='medium')


#     plt.ylabel('Exon length')
    ax[i].set_xlabel('')

    for j, xtick in enumerate(b.get_xticks()):
        if j <0:
            color='grey'
        else:
            color='w'
        b.text(xtick,medians[xtick] + vertical_offset,medians[xtick], 
                horizontalalignment='center',size='medium',color=color,weight='semibold')

    add_stat_annotation(b, data=data, x=x, y=y, order= ['Single Isoform', 'Multi Isoform'],
                        box_pairs=[('Single Isoform', 'Multi Isoform')],
                        test='Mann-Whitney', text_format='star', loc='outside', verbose=2)
#     print(data[[x, y]].drop_duplicates().pivot(columns='Gene_type', values='Length').describe())
plt.tight_layout()


data[['Gene_type', 'ranges', 'Length']].drop_duplicates().pivot(columns='Gene_type', values='Length').describe().style.highlight_max(color='#F39B7FFF', axis=1)



biomart = pd.read_csv('/gstock/EXOTIC/data/OTHERS/biomart_refseq_ensembl_hgnc.txt.gz', compression='gzip', sep='\t')
biomart


refseq_corrected_by_gtex = pd.read_parquet('/gstock/EXOTIC/data/GENOMICS/RefSeq_corrected_by_GTEx_lite.parquet')
refseq_corrected_by_gtex.loc[refseq_corrected_by_gtex['new_mRNA_nb_total'] == 1, 'Gene_type'] = 'Single Isoform'
refseq_corrected_by_gtex.loc[refseq_corrected_by_gtex['new_mRNA_nb_total'] > 1, 'Gene_type'] = 'Multi Isoform'

biomart = pd.read_csv('/gstock/EXOTIC/data/OTHERS/biomart_refseq_ensembl_hgnc.txt.gz', compression='gzip', sep='\t')

merge_biomart = pd.merge(refseq_corrected_by_gtex[['Gene', 'Gene_type']].drop_duplicates(), biomart[['Gene name', 'Gene end (bp)', 'Gene start (bp)', 'Gene type']].drop_duplicates(), left_on='Gene', right_on='Gene name')
merge_biomart


merge_biomart = pd.merge(refseq_corrected_by_gtex[['Gene', 'Gene_type']].drop_duplicates(), biomart[['Gene name', 'Gene end (bp)', 'Gene start (bp)', 'Gene type']].drop_duplicates(), left_on='Gene', right_on='Gene name')
merge_biomart


sns.set_context('paper', font_scale=1.5)
f, ax = plt.subplots()
data = merge_biomart.sort_values(by='Gene_type', ascending=True)
data['Gene Length'] = data['Gene end (bp)'] - data['Gene start (bp)']
b = sns.boxenplot(data=data, x="Gene_type", y='Gene Length', ax=ax, showfliers=False)
b.set_ylim(0,500000)

ax.spines['right'].set_linewidth(0)
ax.spines['top'].set_linewidth(0)

medians = data[['Gene_type', 'Gene Length']].groupby(['Gene_type'])['Gene Length'].median().sort_index(ascending=True)
vertical_offset = data['Gene Length'].median() * 0.05 # offset from median for display


for j, xtick in enumerate(b.get_xticks()):
    if j <0:
        color='grey'
    else:
        color='w'
    b.text(xtick,medians[xtick] + vertical_offset,medians[xtick], 
            horizontalalignment='center',size='x-small',color=color,weight='semibold')
    
add_stat_annotation(b, data=data, x='Gene_type', y="Gene Length", order= ['Single Isoform', 'Multi Isoform'],
                    box_pairs=[('Single Isoform', 'Multi Isoform')],
                    test='Mann-Whitney', text_format='star', loc='outside', verbose=2)
data[['Gene_type', 'Gene end (bp)', 'Gene start (bp)', 'Gene Length']].drop_duplicates().pivot(columns='Gene_type', values='Gene Length').describe().round(2).style.highlight_max(color='#F39B7FFF', axis=1)


refseq_37 = pd.read_csv('/gstock/EXOTIC/data/GENOMICS/GRCh37_RefSeq_lite_hgnc.csv.gz', compression='gzip', sep='\t')
refseq_37.loc[refseq_37['mRNA_nb'] > 1, 'Gene_type'] = 'Multi Isoform'
refseq_37.loc[refseq_37['mRNA_nb'] == 1, 'Gene_type'] = 'Single Isoform'
refseq_37


refseq_37['Gene_type'].value_counts()


refseq_38 = pd.read_parquet('/gstock/EXOTIC/data/GENOMICS/RefSeq_38_precomputed.parquet')
refseq_38 = refseq_38[[c for c in refseq_38.columns if 'Bin' not in c]]
refseq_38['Exon_length'] = refseq_38['Exon_list'].apply(lambda r: [int(e.split('_')[1]) - int(e.split('_')[0]) for e in r])
refseq_38['Intron_length'] = refseq_38['Intron_list'].apply(lambda r: [int(e.split('_')[1]) - int(e.split('_')[0]) for e in r])
refseq_38['Intron_pct'] = refseq_38['Intron_size_total'].rank(pct=True)
refseq_38 = refseq_38.loc[(refseq_38['Intron_pct'] <= 0.95) & (refseq_38['Intron_size_total'] > 0)]
refseq_38['Exon_count'] = refseq_38['Exon_list'].apply(len)
refseq_38['Intron_count'] = refseq_38['Intron_list'].apply(len)
refseq_38


refseq_38.loc['ZYX']['Intron_list']


refseq = pd.merge(refseq_37.set_index('Name')[['Gene_type']], refseq_38, left_index=True, right_index=True)

refseq


data = refseq.sort_values(by='Gene_type', ascending=True)
# data = data.loc[data['Intron_pct'] <= 0.95]
# data['Gene_length'] = data['Gene end (bp)'] - data['Gene start (bp)']
# data['Transcript_length'] = data['Transcript end (bp)'] - data['Transcript start (bp)']
data.rename({
    'Gene_body_size' : 'Gene length',
    '5_prime_UTR_size' : "5' UTR length",
    '3_prime_UTR_size' : "3' UTR length",
    'Exon_size_total' : 'Exons cumsum',
    'Intron_size_total' : 'Introns cumsum',
    'Exon_count' : "Exons count",
    'Intron_count' : "Introns count"
}, axis=1, inplace=True)
print(data.columns)
sns.set_context('paper', font_scale=1.5)


x_s = 'Gene_type'
y_s = ['Gene length', "5' UTR length", "3' UTR length", 'Exons cumsum', 'Introns cumsum', 'Exons count', 'Introns count']

# if len(x_s) > 3:
    

f, ax = plt.subplots(ncols=len(y_s), figsize=(5*len(y_s), 7))


for i, y in zip(range(len(y_s)), y_s):

    b = sns.boxenplot(data=data, x=x, y=y, ax=ax[i], showfliers=False)
    ymin = 0
    ymax = data[y].quantile(0.98)
    if 'GC'  in y:
        ymin = data[y].min()
        ymax = data[y].max()
    ax[i].set_ylim(ymin,ymax)

    ax[i].spines['right'].set_linewidth(0)
    ax[i].spines['top'].set_linewidth(0)

    medians = data[[x, y]].groupby([x])[y].median().sort_index(ascending=True)
    if medians[0] > 100:
        ratio = "+{}%".format(round(100 * round((max(medians) - min(medians)) / min(medians), 2), 0))
    else:
        ratio = "+{}".format(round(max(medians) - min(medians), 0))
    b.text(0.5, ymax/2, ratio, horizontalalignment='center',size='medium')

        
    vertical_offset = data[y].median() * 0.05 # offset from median for display


#     plt.ylabel('Exon length')
    ax[i].set_xlabel("")

    for j, xtick in enumerate(b.get_xticks()):
        if j <0:
            color='grey'
        else:
            color='w'
        b.text(xtick,medians[xtick] + vertical_offset,medians[xtick], 
                horizontalalignment='center',size='medium',color=color,weight='semibold')

    add_stat_annotation(b, data=data, x=x, y=y, order= ['Single Isoform', 'Multi Isoform'],
                        box_pairs=[('Single Isoform', 'Multi Isoform')],
                        test='Mann-Whitney', text_format='star', loc='outside', verbose=2)
#     print(data[[x, y]].drop_duplicates().pivot(columns='Gene_type', values='Length').describe())
plt.tight_layout()


import numpy as np
data = refseq.sort_values(by='Gene_type', ascending=True)
data = data.reset_index()[['Gene_type', 'index', 'Intron_length']].explode('Intron_length').dropna()
data = data.replace([np.inf, -np.inf], np.nan)
# data
# data.describe()
# data.rename({
#     'Gene_length' : 'Gene length',
#     'Transcript_length' : 'Transcript length (with introns)',
#     'Exon stable ID' : 'Exon count'
# }, axis=1, inplace=True)
# print(data.columns)
sns.set_context('paper', font_scale=1.5)


x_s = 'Gene_type'
y_s = ['Intron_length']

# if len(x_s) > 3:
    

f, ax = plt.subplots(figsize=(5*len(y_s), 7))


for i, y in zip(range(len(y_s)), y_s):
#     try: 
#         b = sns.boxenplot(data=data, x=x, y=y, ax=ax[i], showfliers=False)
#         ymin = 0
#         ymax = data[y].quantile(0.98)
#         if 'GC'  in y:
#             ymin = data[y].min()
#             ymax = data[y].max()
#         ax[i].set_ylim(ymin,ymax)

#         ax[i].spines['right'].set_linewidth(0)
#         ax[i].spines['top'].set_linewidth(0)
#     except:
    b = sns.boxenplot(data=data, x=x, y=y, showfliers=False)
    ymin = 0
    ymax = data[y].quantile(0.98)
    if 'GC'  in y:
        ymin = data[y].min()
        ymax = data[y].max()
    ax.set_ylim(ymin,ymax)

    ax.spines['right'].set_linewidth(0)
    ax.spines['top'].set_linewidth(0)
        
    medians = data[[x, y]].groupby([x])[y].median().sort_index(ascending=True)
    vertical_offset = data[y].median() * 0.05 # offset from median for display
    
    if medians[0] > 100:
        ratio = "+{}%".format(round(100 * round((max(medians) - min(medians)) / min(medians), 2), 0))
    else:
        ratio = "+{}".format(round(max(medians) - min(medians), 0))
    b.text(0.5, ymax/2, ratio, horizontalalignment='center',size='medium')


    
#     plt.ylabel('Exon length')
    plt.xlabel('')

    for j, xtick in enumerate(b.get_xticks()):
        if j <0:
            color='grey'
        else:
            color='w'
        b.text(xtick,medians[xtick] + vertical_offset,medians[xtick], 
                horizontalalignment='center',size='medium',color=color,weight='semibold')

    add_stat_annotation(b, data=data, x=x, y=y, order= ['Single Isoform', 'Multi Isoform'],
                        box_pairs=[('Single Isoform', 'Multi Isoform')],
                        test='Mann-Whitney', text_format='star', loc='outside', verbose=2)
#     print(data[[x, y]].drop_duplicates().pivot(columns='Gene_type', values='Length').describe())
plt.tight_layout()


import numpy as np
data = refseq.sort_values(by='Gene_type', ascending=True)
data = data.reset_index()[['Gene_type', 'index', 'Exon_length']].explode('Exon_length').dropna()
data = data.replace([np.inf, -np.inf], np.nan)
# data
# data.describe()
# data.rename({
#     'Gene_length' : 'Gene length',
#     'Transcript_length' : 'Transcript length (with introns)',
#     'Exon stable ID' : 'Exon count'
# }, axis=1, inplace=True)
# print(data.columns)
sns.set_context('paper', font_scale=1.5)


x_s = 'Gene_type'
y_s = ['Exon_length']

# if len(x_s) > 3:
    

f, ax = plt.subplots(figsize=(5*len(y_s), 7))


for i, y in zip(range(len(y_s)), y_s):
#     try: 
#         b = sns.boxenplot(data=data, x=x, y=y, ax=ax[i], showfliers=False)
#         ymin = 0
#         ymax = data[y].quantile(0.98)
#         if 'GC'  in y:
#             ymin = data[y].min()
#             ymax = data[y].max()
#         ax[i].set_ylim(ymin,ymax)

#         ax[i].spines['right'].set_linewidth(0)
#         ax[i].spines['top'].set_linewidth(0)
#     except:
    b = sns.boxenplot(data=data, x=x, y=y, showfliers=False)
    ymin = 0
    ymax = data[y].quantile(0.98)
    if 'GC'  in y:
        ymin = data[y].min()
        ymax = data[y].max()
    ax.set_ylim(ymin,ymax)

    ax.spines['right'].set_linewidth(0)
    ax.spines['top'].set_linewidth(0)
        
    medians = data[[x, y]].groupby([x])[y].median().sort_index(ascending=True)
    vertical_offset = data[y].median() * 0.05 # offset from median for display

    
    if medians[0] > 100:
        ratio = "+{}%".format(round(100 * round((max(medians) - min(medians)) / min(medians), 2), 0))
    else:
        ratio = "+{}".format(round(max(medians) - min(medians), 0))
    b.text(0.5, ymax/2, ratio, horizontalalignment='center',size='medium')

#     plt.ylabel('Exon length')
    plt.xlabel('')

    for j, xtick in enumerate(b.get_xticks()):
        if j <0:
            color='grey'
        else:
            color='w'
        b.text(xtick,medians[xtick] + vertical_offset,medians[xtick], 
                horizontalalignment='center',size='medium',color=color,weight='semibold')

    add_stat_annotation(b, data=data, x=x, y=y, order= ['Single Isoform', 'Multi Isoform'],
                        box_pairs=[('Single Isoform', 'Multi Isoform')],
                        test='Mann-Whitney', text_format='star', loc='outside', verbose=2)
#     print(data[[x, y]].drop_duplicates().pivot(columns='Gene_type', values='Length').describe())
plt.tight_layout()
